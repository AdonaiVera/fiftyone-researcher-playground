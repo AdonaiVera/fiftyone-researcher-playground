{
 "cells": [
  {
   "cell_type": "markdown",
   "metadata": {},
   "source": [
    "# 🧠 FiftyOne Researcher Playground\n",
    "\n",
    "👋 *By researchers, for researchers.*\n",
    "\n",
    "This notebook demonstrates how to:\n",
    "\n",
    "- Load diverse datasets (images, video, point clouds)\n",
    "- Perform classification and detection tasks\n",
    "- Use community and research plugins for advanced workflows\n",
    "- Evaluate models and data quality"
   ]
  },
  {
   "cell_type": "markdown",
   "metadata": {},
   "source": [
    "## 1️⃣ Install FiftyOne and Dependencies"
   ]
  },
  {
   "cell_type": "code",
   "metadata": {},
   "source": [
    "!pip install fiftyone\n",
    "!pip install fiftyone[3d]\n",
    "!git clone https://github.com/voxel51/fiftyone-plugins\n",
    "!git clone https://github.com/voxel51/fiftyone-plugins-contrib"
   ],
   "execution_count": null,
   "outputs": []
  },
  {
   "cell_type": "markdown",
   "metadata": {},
   "source": [
    "## 2️⃣ Load Datasets"
   ]
  },
  {
   "cell_type": "code",
   "metadata": {},
   "source": [
    "import fiftyone as fo\n",
    "import fiftyone.zoo as foz"
   ],
   "execution_count": null,
   "outputs": []
  },
  {
   "cell_type": "markdown",
   "metadata": {},
   "source": [
    "### Images"
   ]
  },
  {
   "cell_type": "code",
   "metadata": {},
   "source": [
    "dataset = foz.load_zoo_dataset(\"mnist\", split=\"test\", max_samples=100)\n",
    "session = fo.launch_app(dataset)"
   ],
   "execution_count": null,
   "outputs": []
  },
  {
   "cell_type": "markdown",
   "metadata": {},
   "source": [
    "### Video"
   ]
  },
  {
   "cell_type": "code",
   "metadata": {},
   "source": [
    "video_dataset = foz.load_zoo_dataset(\"quickstart-video\")\n",
    "session = fo.launch_app(video_dataset)"
   ],
   "execution_count": null,
   "outputs": []
  },
  {
   "cell_type": "markdown",
   "metadata": {},
   "source": [
    "### Point Cloud"
   ]
  },
  {
   "cell_type": "code",
   "metadata": {},
   "source": [
    "pc_dataset = foz.load_zoo_dataset(\"quickstart-groups\")\n",
    "session = fo.launch_app(pc_dataset)"
   ],
   "execution_count": null,
   "outputs": []
  },
  {
   "cell_type": "markdown",
   "metadata": {},
   "source": [
    "## 3️⃣ Perform Tasks"
   ]
  },
  {
   "cell_type": "markdown",
   "metadata": {},
   "source": [
    "### Classification"
   ]
  },
  {
   "cell_type": "code",
   "metadata": {},
   "source": [
    "for sample in dataset:\n",
    "    sample[\"predictions\"] = fo.Classification(label=\"example_label\")\n",
    "    sample.save()\n",
    "session.refresh()"
   ],
   "execution_count": null,
   "outputs": []
  },
  {
   "cell_type": "markdown",
   "metadata": {},
   "source": [
    "### Object Detection"
   ]
  },
  {
   "cell_type": "code",
   "metadata": {},
   "source": [
    "coco_dataset = foz.load_zoo_dataset(\"coco-2017\", split=\"validation\", max_samples=50)\n",
    "session = fo.launch_app(coco_dataset)"
   ],
   "execution_count": null,
   "outputs": []
  },
  {
   "cell_type": "markdown",
   "metadata": {},
   "source": [
    "## 4️⃣ Plugin Integrations"
   ]
  },
  {
   "cell_type": "markdown",
   "metadata": {},
   "source": [
    "Below are plugins you can activate in the App sidebar:\n",
    "\n",
    "- **Image Quality Issues** (detect blur/noise)\n",
    "- **Image Deduplication**\n",
    "- **Semantic Document Search**\n",
    "- **Visual Question Answering about your data**\n",
    "- **Outlier Detection**\n",
    "- **Sparse Concepts (Find Bias)** *(by Adonai)*\n",
    "- **Validate VLM Efficiency** *(by Adonai)*\n",
    "- **VoxelGPT** *(by Adonai)*"
   ]
  },
  {
   "cell_type": "markdown",
   "metadata": {},
   "source": [
    "Example:\n",
    "\n",
    "👉 **Activate Image Deduplication**:\n",
    "- Open the FiftyOne App\n",
    "- Click `Plugins` > `Image Deduplication`\n",
    "- Run deduplication and view results"
   ]
  },
  {
   "cell_type": "markdown",
   "metadata": {},
   "source": [
    "## 5️⃣ Evaluation Metrics"
   ]
  },
  {
   "cell_type": "markdown",
   "metadata": {},
   "source": [
    "### Classification Metrics"
   ]
  },
  {
   "cell_type": "code",
   "metadata": {},
   "source": [
    "results = dataset.evaluate_classifications(\n",
    "    \"predictions\",\n",
    "    gt_field=\"ground_truth\",\n",
    "    eval_key=\"eval\"\n",
    ")\n",
    "print(\"Accuracy:\", results.accuracy())"
   ],
   "execution_count": null,
   "outputs": []
  },
  {
   "cell_type": "markdown",
   "metadata": {},
   "source": [
    "### Detection Metrics"
   ]
  },
  {
   "cell_type": "code",
   "metadata": {},
   "source": [
    "det_results = coco_dataset.evaluate_detections(\n",
    "    \"predictions\",\n",
    "    gt_field=\"ground_truth\",\n",
    "    eval_key=\"eval\"\n",
    ")\n",
    "print(\"mAP:\", det_results.mAP())"
   ],
   "execution_count": null,
   "outputs": []
  },
  {
   "cell_type": "markdown",
   "metadata": {},
   "source": [
    "## ✅ Conclusion\n",
    "\n",
    "You now have a workflow to:\n",
    "- Load datasets\n",
    "- Visualize and explore data\n",
    "- Perform ML tasks\n",
    "- Integrate plugins to improve and analyze your data\n",
    "- Evaluate models with metrics\n",
    "\n",
    "🎓 *Built for researchers who want transparency, reproducibility, and flexibility.*"
   ]
  }
 ],
 "metadata": {
  "kernelspec": {
   "display_name": "Python 3",
   "language": "python",
   "name": "python3"
  },
  "language_info": {
   "name": "python",
   "version": ""
  }
 },
 "nbformat": 4,
 "nbformat_minor": 5
}

