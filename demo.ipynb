{
 "cells": [
  {
   "cell_type": "markdown",
   "metadata": {},
   "source": [
    "# 🧠 FiftyOne Researcher Playground\n",
    "\n",
    "👋 *By researchers, for researchers.*\n",
    "\n",
    "This notebook demonstrates how to:\n",
    "\n",
    "- Load diverse datasets (images, video, point clouds)\n",
    "- Perform classification and detection tasks\n",
    "- Use community and research plugins for advanced workflows\n",
    "- Evaluate models and data quality"
   ]
  },
  {
   "cell_type": "markdown",
   "metadata": {},
   "source": [
    "## 1️⃣ Install FiftyOne and Dependencies"
   ]
  },
  {
   "cell_type": "code",
   "execution_count": null,
   "metadata": {},
   "outputs": [
    {
     "name": "stdout",
     "output_type": "stream",
     "text": [
      "Requirement already satisfied: fiftyone in ./env/lib/python3.9/site-packages (1.7.0)\n",
      "Requirement already satisfied: aiofiles in ./env/lib/python3.9/site-packages (from fiftyone) (24.1.0)\n",
      "Requirement already satisfied: argcomplete in ./env/lib/python3.9/site-packages (from fiftyone) (3.6.2)\n",
      "Requirement already satisfied: async_lru>=2 in ./env/lib/python3.9/site-packages (from fiftyone) (2.0.5)\n",
      "Requirement already satisfied: beautifulsoup4 in ./env/lib/python3.9/site-packages (from fiftyone) (4.13.4)\n",
      "Requirement already satisfied: boto3 in ./env/lib/python3.9/site-packages (from fiftyone) (1.39.3)\n",
      "Requirement already satisfied: cachetools in ./env/lib/python3.9/site-packages (from fiftyone) (6.1.0)\n",
      "Requirement already satisfied: dacite<1.8.0,>=1.6.0 in ./env/lib/python3.9/site-packages (from fiftyone) (1.7.0)\n",
      "Requirement already satisfied: dill in ./env/lib/python3.9/site-packages (from fiftyone) (0.4.0)\n",
      "Requirement already satisfied: Deprecated in ./env/lib/python3.9/site-packages (from fiftyone) (1.2.18)\n",
      "Requirement already satisfied: ftfy in ./env/lib/python3.9/site-packages (from fiftyone) (6.3.1)\n",
      "Requirement already satisfied: humanize in ./env/lib/python3.9/site-packages (from fiftyone) (4.12.3)\n",
      "Requirement already satisfied: hypercorn>=0.13.2 in ./env/lib/python3.9/site-packages (from fiftyone) (0.17.3)\n",
      "Requirement already satisfied: Jinja2>=3 in ./env/lib/python3.9/site-packages (from fiftyone) (3.1.6)\n",
      "Requirement already satisfied: kaleido!=0.2.1.post1 in ./env/lib/python3.9/site-packages (from fiftyone) (1.0.0)\n",
      "Requirement already satisfied: matplotlib in ./env/lib/python3.9/site-packages (from fiftyone) (3.9.4)\n",
      "Requirement already satisfied: mongoengine~=0.29.1 in ./env/lib/python3.9/site-packages (from fiftyone) (0.29.1)\n",
      "Requirement already satisfied: motor~=3.6.0 in ./env/lib/python3.9/site-packages (from fiftyone) (3.6.1)\n",
      "Requirement already satisfied: numpy in ./env/lib/python3.9/site-packages (from fiftyone) (2.0.2)\n",
      "Requirement already satisfied: packaging in ./env/lib/python3.9/site-packages (from fiftyone) (25.0)\n",
      "Requirement already satisfied: pandas in ./env/lib/python3.9/site-packages (from fiftyone) (2.3.0)\n",
      "Requirement already satisfied: Pillow>=6.2 in ./env/lib/python3.9/site-packages (from fiftyone) (11.3.0)\n",
      "Requirement already satisfied: plotly>=4.14 in ./env/lib/python3.9/site-packages (from fiftyone) (6.2.0)\n",
      "Requirement already satisfied: pprintpp in ./env/lib/python3.9/site-packages (from fiftyone) (0.4.0)\n",
      "Requirement already satisfied: psutil in ./env/lib/python3.9/site-packages (from fiftyone) (7.0.0)\n",
      "Requirement already satisfied: pymongo~=4.9.2 in ./env/lib/python3.9/site-packages (from fiftyone) (4.9.2)\n",
      "Requirement already satisfied: pytz in ./env/lib/python3.9/site-packages (from fiftyone) (2025.2)\n",
      "Requirement already satisfied: PyYAML in ./env/lib/python3.9/site-packages (from fiftyone) (6.0.2)\n",
      "Requirement already satisfied: regex in ./env/lib/python3.9/site-packages (from fiftyone) (2024.11.6)\n",
      "Requirement already satisfied: retrying in ./env/lib/python3.9/site-packages (from fiftyone) (1.4.0)\n",
      "Requirement already satisfied: rtree in ./env/lib/python3.9/site-packages (from fiftyone) (1.4.0)\n",
      "Requirement already satisfied: scikit-learn in ./env/lib/python3.9/site-packages (from fiftyone) (1.6.1)\n",
      "Requirement already satisfied: scikit-image in ./env/lib/python3.9/site-packages (from fiftyone) (0.24.0)\n",
      "Requirement already satisfied: scipy in ./env/lib/python3.9/site-packages (from fiftyone) (1.13.1)\n",
      "Requirement already satisfied: setuptools in ./env/lib/python3.9/site-packages (from fiftyone) (80.9.0)\n",
      "Requirement already satisfied: sseclient-py<2,>=1.7.2 in ./env/lib/python3.9/site-packages (from fiftyone) (1.8.0)\n",
      "Requirement already satisfied: sse-starlette<1,>=0.10.3 in ./env/lib/python3.9/site-packages (from fiftyone) (0.10.3)\n",
      "Requirement already satisfied: starlette>=0.24.0 in ./env/lib/python3.9/site-packages (from fiftyone) (0.47.1)\n",
      "Requirement already satisfied: strawberry-graphql>=0.262.4 in ./env/lib/python3.9/site-packages (from fiftyone) (0.275.5)\n",
      "Requirement already satisfied: tabulate in ./env/lib/python3.9/site-packages (from fiftyone) (0.9.0)\n",
      "Requirement already satisfied: tqdm in ./env/lib/python3.9/site-packages (from fiftyone) (4.67.1)\n",
      "Requirement already satisfied: xmltodict in ./env/lib/python3.9/site-packages (from fiftyone) (0.14.2)\n",
      "Requirement already satisfied: universal-analytics-python3<2,>=1.0.1 in ./env/lib/python3.9/site-packages (from fiftyone) (1.1.1)\n",
      "Requirement already satisfied: pydash in ./env/lib/python3.9/site-packages (from fiftyone) (8.0.5)\n",
      "Requirement already satisfied: fiftyone-brain<0.22,>=0.21.2 in ./env/lib/python3.9/site-packages (from fiftyone) (0.21.2)\n",
      "Requirement already satisfied: fiftyone-db<2.0,>=0.4 in ./env/lib/python3.9/site-packages (from fiftyone) (1.3.0)\n",
      "Requirement already satisfied: voxel51-eta<0.15,>=0.14.2 in ./env/lib/python3.9/site-packages (from fiftyone) (0.14.2)\n",
      "Requirement already satisfied: opencv-python-headless in ./env/lib/python3.9/site-packages (from fiftyone) (4.11.0.86)\n",
      "Requirement already satisfied: dnspython<3.0.0,>=1.16.0 in ./env/lib/python3.9/site-packages (from pymongo~=4.9.2->fiftyone) (2.7.0)\n",
      "Requirement already satisfied: httpx>=0.10.0 in ./env/lib/python3.9/site-packages (from universal-analytics-python3<2,>=1.0.1->fiftyone) (0.28.1)\n",
      "Requirement already satisfied: future in ./env/lib/python3.9/site-packages (from voxel51-eta<0.15,>=0.14.2->fiftyone) (1.0.0)\n",
      "Requirement already satisfied: glob2 in ./env/lib/python3.9/site-packages (from voxel51-eta<0.15,>=0.14.2->fiftyone) (0.7)\n",
      "Requirement already satisfied: jsonlines in ./env/lib/python3.9/site-packages (from voxel51-eta<0.15,>=0.14.2->fiftyone) (4.0.0)\n",
      "Requirement already satisfied: py7zr in ./env/lib/python3.9/site-packages (from voxel51-eta<0.15,>=0.14.2->fiftyone) (1.0.0)\n",
      "Requirement already satisfied: python-dateutil in ./env/lib/python3.9/site-packages (from voxel51-eta<0.15,>=0.14.2->fiftyone) (2.9.0.post0)\n",
      "Requirement already satisfied: rarfile in ./env/lib/python3.9/site-packages (from voxel51-eta<0.15,>=0.14.2->fiftyone) (4.2)\n",
      "Requirement already satisfied: requests in ./env/lib/python3.9/site-packages (from voxel51-eta<0.15,>=0.14.2->fiftyone) (2.32.4)\n",
      "Requirement already satisfied: six in ./env/lib/python3.9/site-packages (from voxel51-eta<0.15,>=0.14.2->fiftyone) (1.17.0)\n",
      "Requirement already satisfied: sortedcontainers in ./env/lib/python3.9/site-packages (from voxel51-eta<0.15,>=0.14.2->fiftyone) (2.4.0)\n",
      "Requirement already satisfied: tzlocal in ./env/lib/python3.9/site-packages (from voxel51-eta<0.15,>=0.14.2->fiftyone) (5.3.1)\n",
      "Requirement already satisfied: urllib3 in ./env/lib/python3.9/site-packages (from voxel51-eta<0.15,>=0.14.2->fiftyone) (1.26.20)\n",
      "Requirement already satisfied: typing_extensions>=4.0.0 in ./env/lib/python3.9/site-packages (from async_lru>=2->fiftyone) (4.14.1)\n",
      "Requirement already satisfied: anyio in ./env/lib/python3.9/site-packages (from httpx>=0.10.0->universal-analytics-python3<2,>=1.0.1->fiftyone) (4.9.0)\n",
      "Requirement already satisfied: certifi in ./env/lib/python3.9/site-packages (from httpx>=0.10.0->universal-analytics-python3<2,>=1.0.1->fiftyone) (2025.6.15)\n",
      "Requirement already satisfied: httpcore==1.* in ./env/lib/python3.9/site-packages (from httpx>=0.10.0->universal-analytics-python3<2,>=1.0.1->fiftyone) (1.0.9)\n",
      "Requirement already satisfied: idna in ./env/lib/python3.9/site-packages (from httpx>=0.10.0->universal-analytics-python3<2,>=1.0.1->fiftyone) (3.10)\n",
      "Requirement already satisfied: h11>=0.16 in ./env/lib/python3.9/site-packages (from httpcore==1.*->httpx>=0.10.0->universal-analytics-python3<2,>=1.0.1->fiftyone) (0.16.0)\n",
      "Requirement already satisfied: exceptiongroup>=1.1.0 in ./env/lib/python3.9/site-packages (from hypercorn>=0.13.2->fiftyone) (1.3.0)\n",
      "Requirement already satisfied: h2>=3.1.0 in ./env/lib/python3.9/site-packages (from hypercorn>=0.13.2->fiftyone) (4.2.0)\n",
      "Requirement already satisfied: priority in ./env/lib/python3.9/site-packages (from hypercorn>=0.13.2->fiftyone) (2.0.0)\n",
      "Requirement already satisfied: taskgroup in ./env/lib/python3.9/site-packages (from hypercorn>=0.13.2->fiftyone) (0.2.2)\n",
      "Requirement already satisfied: tomli in ./env/lib/python3.9/site-packages (from hypercorn>=0.13.2->fiftyone) (2.2.1)\n",
      "Requirement already satisfied: wsproto>=0.14.0 in ./env/lib/python3.9/site-packages (from hypercorn>=0.13.2->fiftyone) (1.2.0)\n",
      "Requirement already satisfied: hyperframe<7,>=6.1 in ./env/lib/python3.9/site-packages (from h2>=3.1.0->hypercorn>=0.13.2->fiftyone) (6.1.0)\n",
      "Requirement already satisfied: hpack<5,>=4.1 in ./env/lib/python3.9/site-packages (from h2>=3.1.0->hypercorn>=0.13.2->fiftyone) (4.1.0)\n",
      "Requirement already satisfied: MarkupSafe>=2.0 in ./env/lib/python3.9/site-packages (from Jinja2>=3->fiftyone) (3.0.2)\n",
      "Requirement already satisfied: choreographer>=1.0.5 in ./env/lib/python3.9/site-packages (from kaleido!=0.2.1.post1->fiftyone) (1.0.9)\n",
      "Requirement already satisfied: logistro>=1.0.8 in ./env/lib/python3.9/site-packages (from kaleido!=0.2.1.post1->fiftyone) (1.1.0)\n",
      "Requirement already satisfied: orjson>=3.10.15 in ./env/lib/python3.9/site-packages (from kaleido!=0.2.1.post1->fiftyone) (3.10.18)\n",
      "Requirement already satisfied: simplejson>=3.19.3 in ./env/lib/python3.9/site-packages (from choreographer>=1.0.5->kaleido!=0.2.1.post1->fiftyone) (3.20.1)\n",
      "Requirement already satisfied: narwhals>=1.15.1 in ./env/lib/python3.9/site-packages (from plotly>=4.14->fiftyone) (1.45.0)\n",
      "Requirement already satisfied: sniffio>=1.1 in ./env/lib/python3.9/site-packages (from anyio->httpx>=0.10.0->universal-analytics-python3<2,>=1.0.1->fiftyone) (1.3.1)\n",
      "Requirement already satisfied: graphql-core<3.4.0,>=3.2.0 in ./env/lib/python3.9/site-packages (from strawberry-graphql>=0.262.4->fiftyone) (3.2.6)\n",
      "Requirement already satisfied: soupsieve>1.2 in ./env/lib/python3.9/site-packages (from beautifulsoup4->fiftyone) (2.7)\n",
      "Requirement already satisfied: botocore<1.40.0,>=1.39.3 in ./env/lib/python3.9/site-packages (from boto3->fiftyone) (1.39.3)\n",
      "Requirement already satisfied: jmespath<2.0.0,>=0.7.1 in ./env/lib/python3.9/site-packages (from boto3->fiftyone) (1.0.1)\n",
      "Requirement already satisfied: s3transfer<0.14.0,>=0.13.0 in ./env/lib/python3.9/site-packages (from boto3->fiftyone) (0.13.0)\n",
      "Requirement already satisfied: wrapt<2,>=1.10 in ./env/lib/python3.9/site-packages (from Deprecated->fiftyone) (1.17.2)\n",
      "Requirement already satisfied: wcwidth in ./env/lib/python3.9/site-packages (from ftfy->fiftyone) (0.2.13)\n",
      "Requirement already satisfied: attrs>=19.2.0 in ./env/lib/python3.9/site-packages (from jsonlines->voxel51-eta<0.15,>=0.14.2->fiftyone) (25.3.0)\n",
      "Requirement already satisfied: contourpy>=1.0.1 in ./env/lib/python3.9/site-packages (from matplotlib->fiftyone) (1.3.0)\n",
      "Requirement already satisfied: cycler>=0.10 in ./env/lib/python3.9/site-packages (from matplotlib->fiftyone) (0.12.1)\n",
      "Requirement already satisfied: fonttools>=4.22.0 in ./env/lib/python3.9/site-packages (from matplotlib->fiftyone) (4.58.5)\n",
      "Requirement already satisfied: kiwisolver>=1.3.1 in ./env/lib/python3.9/site-packages (from matplotlib->fiftyone) (1.4.7)\n",
      "Requirement already satisfied: pyparsing>=2.3.1 in ./env/lib/python3.9/site-packages (from matplotlib->fiftyone) (3.2.3)\n",
      "Requirement already satisfied: importlib-resources>=3.2.0 in ./env/lib/python3.9/site-packages (from matplotlib->fiftyone) (6.5.2)\n",
      "Requirement already satisfied: zipp>=3.1.0 in ./env/lib/python3.9/site-packages (from importlib-resources>=3.2.0->matplotlib->fiftyone) (3.23.0)\n",
      "Requirement already satisfied: tzdata>=2022.7 in ./env/lib/python3.9/site-packages (from pandas->fiftyone) (2025.2)\n",
      "Requirement already satisfied: texttable in ./env/lib/python3.9/site-packages (from py7zr->voxel51-eta<0.15,>=0.14.2->fiftyone) (1.7.0)\n",
      "Requirement already satisfied: pycryptodomex>=3.20.0 in ./env/lib/python3.9/site-packages (from py7zr->voxel51-eta<0.15,>=0.14.2->fiftyone) (3.23.0)\n",
      "Requirement already satisfied: brotli>=1.1.0 in ./env/lib/python3.9/site-packages (from py7zr->voxel51-eta<0.15,>=0.14.2->fiftyone) (1.1.0)\n",
      "Requirement already satisfied: pyzstd>=0.16.1 in ./env/lib/python3.9/site-packages (from py7zr->voxel51-eta<0.15,>=0.14.2->fiftyone) (0.17.0)\n",
      "Requirement already satisfied: pyppmd<1.3.0,>=1.1.0 in ./env/lib/python3.9/site-packages (from py7zr->voxel51-eta<0.15,>=0.14.2->fiftyone) (1.2.0)\n",
      "Requirement already satisfied: pybcj<1.1.0,>=1.0.0 in ./env/lib/python3.9/site-packages (from py7zr->voxel51-eta<0.15,>=0.14.2->fiftyone) (1.0.6)\n",
      "Requirement already satisfied: multivolumefile>=0.2.3 in ./env/lib/python3.9/site-packages (from py7zr->voxel51-eta<0.15,>=0.14.2->fiftyone) (0.2.3)\n",
      "Requirement already satisfied: inflate64<1.1.0,>=1.0.0 in ./env/lib/python3.9/site-packages (from py7zr->voxel51-eta<0.15,>=0.14.2->fiftyone) (1.0.3)\n",
      "Requirement already satisfied: charset_normalizer<4,>=2 in ./env/lib/python3.9/site-packages (from requests->voxel51-eta<0.15,>=0.14.2->fiftyone) (3.4.2)\n",
      "Requirement already satisfied: networkx>=2.8 in ./env/lib/python3.9/site-packages (from scikit-image->fiftyone) (3.2.1)\n",
      "Requirement already satisfied: imageio>=2.33 in ./env/lib/python3.9/site-packages (from scikit-image->fiftyone) (2.37.0)\n",
      "Requirement already satisfied: tifffile>=2022.8.12 in ./env/lib/python3.9/site-packages (from scikit-image->fiftyone) (2024.8.30)\n",
      "Requirement already satisfied: lazy-loader>=0.4 in ./env/lib/python3.9/site-packages (from scikit-image->fiftyone) (0.4)\n",
      "Requirement already satisfied: joblib>=1.2.0 in ./env/lib/python3.9/site-packages (from scikit-learn->fiftyone) (1.5.1)\n",
      "Requirement already satisfied: threadpoolctl>=3.1.0 in ./env/lib/python3.9/site-packages (from scikit-learn->fiftyone) (3.6.0)\n",
      "Requirement already satisfied: torch in ./env/lib/python3.9/site-packages (2.7.1)\n",
      "Requirement already satisfied: torchvision in ./env/lib/python3.9/site-packages (0.22.1)\n",
      "Requirement already satisfied: torchaudio in ./env/lib/python3.9/site-packages (2.7.1)\n",
      "Requirement already satisfied: filelock in ./env/lib/python3.9/site-packages (from torch) (3.18.0)\n",
      "Requirement already satisfied: typing-extensions>=4.10.0 in ./env/lib/python3.9/site-packages (from torch) (4.14.1)\n",
      "Requirement already satisfied: sympy>=1.13.3 in ./env/lib/python3.9/site-packages (from torch) (1.14.0)\n",
      "Requirement already satisfied: networkx in ./env/lib/python3.9/site-packages (from torch) (3.2.1)\n",
      "Requirement already satisfied: jinja2 in ./env/lib/python3.9/site-packages (from torch) (3.1.6)\n",
      "Requirement already satisfied: fsspec in ./env/lib/python3.9/site-packages (from torch) (2025.5.1)\n",
      "Requirement already satisfied: numpy in ./env/lib/python3.9/site-packages (from torchvision) (2.0.2)\n",
      "Requirement already satisfied: pillow!=8.3.*,>=5.3.0 in ./env/lib/python3.9/site-packages (from torchvision) (11.3.0)\n",
      "Requirement already satisfied: mpmath<1.4,>=1.1.0 in ./env/lib/python3.9/site-packages (from sympy>=1.13.3->torch) (1.3.0)\n",
      "Requirement already satisfied: MarkupSafe>=2.0 in ./env/lib/python3.9/site-packages (from jinja2->torch) (3.0.2)\n",
      "Requirement already satisfied: huggingface_hub in ./env/lib/python3.9/site-packages (0.33.2)\n",
      "Requirement already satisfied: filelock in ./env/lib/python3.9/site-packages (from huggingface_hub) (3.18.0)\n",
      "Requirement already satisfied: fsspec>=2023.5.0 in ./env/lib/python3.9/site-packages (from huggingface_hub) (2025.5.1)\n",
      "Requirement already satisfied: packaging>=20.9 in ./env/lib/python3.9/site-packages (from huggingface_hub) (25.0)\n",
      "Requirement already satisfied: pyyaml>=5.1 in ./env/lib/python3.9/site-packages (from huggingface_hub) (6.0.2)\n",
      "Requirement already satisfied: requests in ./env/lib/python3.9/site-packages (from huggingface_hub) (2.32.4)\n",
      "Requirement already satisfied: tqdm>=4.42.1 in ./env/lib/python3.9/site-packages (from huggingface_hub) (4.67.1)\n",
      "Requirement already satisfied: typing-extensions>=3.7.4.3 in ./env/lib/python3.9/site-packages (from huggingface_hub) (4.14.1)\n",
      "Requirement already satisfied: hf-xet<2.0.0,>=1.1.2 in ./env/lib/python3.9/site-packages (from huggingface_hub) (1.1.5)\n",
      "Requirement already satisfied: charset_normalizer<4,>=2 in ./env/lib/python3.9/site-packages (from requests->huggingface_hub) (3.4.2)\n",
      "Requirement already satisfied: idna<4,>=2.5 in ./env/lib/python3.9/site-packages (from requests->huggingface_hub) (3.10)\n",
      "Requirement already satisfied: urllib3<3,>=1.21.1 in ./env/lib/python3.9/site-packages (from requests->huggingface_hub) (1.26.20)\n",
      "Requirement already satisfied: certifi>=2017.4.17 in ./env/lib/python3.9/site-packages (from requests->huggingface_hub) (2025.6.15)\n",
      "Requirement already satisfied: umap-learn in ./env/lib/python3.9/site-packages (0.5.9.post2)\n",
      "Requirement already satisfied: numpy>=1.23 in ./env/lib/python3.9/site-packages (from umap-learn) (2.0.2)\n",
      "Requirement already satisfied: scipy>=1.3.1 in ./env/lib/python3.9/site-packages (from umap-learn) (1.13.1)\n",
      "Requirement already satisfied: scikit-learn>=1.6 in ./env/lib/python3.9/site-packages (from umap-learn) (1.6.1)\n",
      "Requirement already satisfied: numba>=0.51.2 in ./env/lib/python3.9/site-packages (from umap-learn) (0.60.0)\n",
      "Requirement already satisfied: pynndescent>=0.5 in ./env/lib/python3.9/site-packages (from umap-learn) (0.5.13)\n",
      "Requirement already satisfied: tqdm in ./env/lib/python3.9/site-packages (from umap-learn) (4.67.1)\n",
      "Requirement already satisfied: llvmlite<0.44,>=0.43.0dev0 in ./env/lib/python3.9/site-packages (from numba>=0.51.2->umap-learn) (0.43.0)\n",
      "Requirement already satisfied: joblib>=0.11 in ./env/lib/python3.9/site-packages (from pynndescent>=0.5->umap-learn) (1.5.1)\n",
      "Requirement already satisfied: threadpoolctl>=3.1.0 in ./env/lib/python3.9/site-packages (from scikit-learn>=1.6->umap-learn) (3.6.0)\n",
      "Requirement already satisfied: transformers in ./env/lib/python3.9/site-packages (4.53.1)\n",
      "Requirement already satisfied: filelock in ./env/lib/python3.9/site-packages (from transformers) (3.18.0)\n",
      "Requirement already satisfied: huggingface-hub<1.0,>=0.30.0 in ./env/lib/python3.9/site-packages (from transformers) (0.33.2)\n",
      "Requirement already satisfied: numpy>=1.17 in ./env/lib/python3.9/site-packages (from transformers) (2.0.2)\n",
      "Requirement already satisfied: packaging>=20.0 in ./env/lib/python3.9/site-packages (from transformers) (25.0)\n",
      "Requirement already satisfied: pyyaml>=5.1 in ./env/lib/python3.9/site-packages (from transformers) (6.0.2)\n",
      "Requirement already satisfied: regex!=2019.12.17 in ./env/lib/python3.9/site-packages (from transformers) (2024.11.6)\n",
      "Requirement already satisfied: requests in ./env/lib/python3.9/site-packages (from transformers) (2.32.4)\n",
      "Requirement already satisfied: tokenizers<0.22,>=0.21 in ./env/lib/python3.9/site-packages (from transformers) (0.21.2)\n",
      "Requirement already satisfied: safetensors>=0.4.3 in ./env/lib/python3.9/site-packages (from transformers) (0.5.3)\n",
      "Requirement already satisfied: tqdm>=4.27 in ./env/lib/python3.9/site-packages (from transformers) (4.67.1)\n",
      "Requirement already satisfied: fsspec>=2023.5.0 in ./env/lib/python3.9/site-packages (from huggingface-hub<1.0,>=0.30.0->transformers) (2025.5.1)\n",
      "Requirement already satisfied: typing-extensions>=3.7.4.3 in ./env/lib/python3.9/site-packages (from huggingface-hub<1.0,>=0.30.0->transformers) (4.14.1)\n",
      "Requirement already satisfied: hf-xet<2.0.0,>=1.1.2 in ./env/lib/python3.9/site-packages (from huggingface-hub<1.0,>=0.30.0->transformers) (1.1.5)\n",
      "Requirement already satisfied: charset_normalizer<4,>=2 in ./env/lib/python3.9/site-packages (from requests->transformers) (3.4.2)\n",
      "Requirement already satisfied: idna<4,>=2.5 in ./env/lib/python3.9/site-packages (from requests->transformers) (3.10)\n",
      "Requirement already satisfied: urllib3<3,>=1.21.1 in ./env/lib/python3.9/site-packages (from requests->transformers) (1.26.20)\n",
      "Requirement already satisfied: certifi>=2017.4.17 in ./env/lib/python3.9/site-packages (from requests->transformers) (2025.6.15)\n",
      "Collecting super-gradients\n",
      "  Downloading super_gradients-3.7.1-py3-none-any.whl.metadata (41 kB)\n",
      "Requirement already satisfied: torch>=1.9.0 in ./env/lib/python3.9/site-packages (from super-gradients) (2.7.1)\n",
      "Requirement already satisfied: tqdm>=4.57.0 in ./env/lib/python3.9/site-packages (from super-gradients) (4.67.1)\n",
      "Requirement already satisfied: boto3>=1.17.15 in ./env/lib/python3.9/site-packages (from super-gradients) (1.39.3)\n",
      "Collecting jsonschema>=3.2.0 (from super-gradients)\n",
      "  Downloading jsonschema-4.24.0-py3-none-any.whl.metadata (7.8 kB)\n",
      "Requirement already satisfied: Deprecated>=1.2.11 in ./env/lib/python3.9/site-packages (from super-gradients) (1.2.18)\n",
      "Requirement already satisfied: scipy>=1.6.1 in ./env/lib/python3.9/site-packages (from super-gradients) (1.13.1)\n",
      "Requirement already satisfied: matplotlib>=3.3.4 in ./env/lib/python3.9/site-packages (from super-gradients) (3.9.4)\n",
      "Requirement already satisfied: psutil>=5.8.0 in ./env/lib/python3.9/site-packages (from super-gradients) (7.0.0)\n",
      "Collecting tensorboard>=2.4.1 (from super-gradients)\n",
      "  Using cached tensorboard-2.19.0-py3-none-any.whl.metadata (1.8 kB)\n",
      "Requirement already satisfied: setuptools>=65.5.1 in ./env/lib/python3.9/site-packages (from super-gradients) (80.9.0)\n",
      "Collecting coverage~=5.3.1 (from super-gradients)\n",
      "  Downloading coverage-5.3.1.tar.gz (684 kB)\n",
      "\u001b[2K     \u001b[90m━━━━━━━━━━━━━━━━━━━━━━━━━━━━━━━━━━━━━━\u001b[0m \u001b[32m684.5/684.5 kB\u001b[0m \u001b[31m17.5 MB/s\u001b[0m eta \u001b[36m0:00:00\u001b[0m\n",
      "\u001b[?25h  Preparing metadata (setup.py) ... \u001b[?25ldone\n",
      "\u001b[?25hRequirement already satisfied: torchvision>=0.10.0 in ./env/lib/python3.9/site-packages (from super-gradients) (0.22.1)\n",
      "Collecting sphinx~=4.0.2 (from super-gradients)\n",
      "  Downloading Sphinx-4.0.3-py3-none-any.whl.metadata (8.0 kB)\n",
      "Collecting sphinx-rtd-theme (from super-gradients)\n",
      "  Downloading sphinx_rtd_theme-3.0.2-py2.py3-none-any.whl.metadata (4.4 kB)\n",
      "Collecting torchmetrics==0.8 (from super-gradients)\n",
      "  Downloading torchmetrics-0.8.0-py3-none-any.whl.metadata (20 kB)\n",
      "Collecting hydra-core>=1.2.0 (from super-gradients)\n",
      "  Using cached hydra_core-1.3.2-py3-none-any.whl.metadata (5.5 kB)\n",
      "Collecting omegaconf (from super-gradients)\n",
      "  Using cached omegaconf-2.3.0-py3-none-any.whl.metadata (3.9 kB)\n",
      "Collecting onnxruntime==1.15.0 (from super-gradients)\n",
      "  Downloading onnxruntime-1.15.0-cp39-cp39-macosx_11_0_arm64.whl.metadata (3.9 kB)\n",
      "Collecting onnx==1.15.0 (from super-gradients)\n",
      "  Downloading onnx-1.15.0-cp39-cp39-macosx_10_12_universal2.whl.metadata (15 kB)\n",
      "Requirement already satisfied: pillow>=10.2.0 in ./env/lib/python3.9/site-packages (from super-gradients) (11.3.0)\n",
      "Collecting pip-tools>=6.12.1 (from super-gradients)\n",
      "  Downloading pip_tools-7.4.1-py3-none-any.whl.metadata (26 kB)\n",
      "Collecting einops==0.3.2 (from super-gradients)\n",
      "  Downloading einops-0.3.2-py3-none-any.whl.metadata (10 kB)\n",
      "Collecting protobuf==3.20.3 (from super-gradients)\n",
      "  Downloading protobuf-3.20.3-py2.py3-none-any.whl.metadata (720 bytes)\n",
      "Collecting treelib==1.6.1 (from super-gradients)\n",
      "  Downloading treelib-1.6.1.tar.gz (24 kB)\n",
      "  Preparing metadata (setup.py) ... \u001b[?25ldone\n",
      "\u001b[?25hCollecting termcolor==1.1.0 (from super-gradients)\n",
      "  Downloading termcolor-1.1.0.tar.gz (3.9 kB)\n",
      "  Preparing metadata (setup.py) ... \u001b[?25ldone\n",
      "\u001b[?25hRequirement already satisfied: packaging>=20.4 in ./env/lib/python3.9/site-packages (from super-gradients) (25.0)\n",
      "Requirement already satisfied: wheel>=0.38.0 in ./env/lib/python3.9/site-packages (from super-gradients) (0.45.1)\n",
      "Requirement already satisfied: pygments>=2.7.4 in ./env/lib/python3.9/site-packages (from super-gradients) (2.19.2)\n",
      "Collecting stringcase>=1.2.0 (from super-gradients)\n",
      "  Downloading stringcase-1.2.0.tar.gz (3.0 kB)\n",
      "  Preparing metadata (setup.py) ... \u001b[?25ldone\n",
      "\u001b[?25hCollecting numpy<=1.23 (from super-gradients)\n",
      "  Downloading numpy-1.23.0-cp39-cp39-macosx_11_0_arm64.whl.metadata (2.2 kB)\n",
      "Collecting rapidfuzz (from super-gradients)\n",
      "  Downloading rapidfuzz-3.13.0-cp39-cp39-macosx_11_0_arm64.whl.metadata (12 kB)\n",
      "Collecting json-tricks==3.16.1 (from super-gradients)\n",
      "  Downloading json_tricks-3.16.1-py2.py3-none-any.whl.metadata (17 kB)\n",
      "Collecting onnxsim<1.0,>=0.4.3 (from super-gradients)\n",
      "  Using cached onnxsim-0.4.36-cp39-cp39-macosx_10_15_universal2.whl.metadata (4.3 kB)\n",
      "Collecting data-gradients~=0.3.1 (from super-gradients)\n",
      "  Downloading data_gradients-0.3.2-py3-none-any.whl.metadata (21 kB)\n",
      "Collecting albumentations~=1.3 (from super-gradients)\n",
      "  Downloading albumentations-1.4.24-py3-none-any.whl.metadata (37 kB)\n",
      "Requirement already satisfied: fonttools>=4.43.0 in ./env/lib/python3.9/site-packages (from super-gradients) (4.58.5)\n",
      "Collecting werkzeug>=2.3.8 (from super-gradients)\n",
      "  Using cached werkzeug-3.1.3-py3-none-any.whl.metadata (3.7 kB)\n",
      "Collecting coloredlogs (from onnxruntime==1.15.0->super-gradients)\n",
      "  Using cached coloredlogs-15.0.1-py2.py3-none-any.whl.metadata (12 kB)\n",
      "Collecting flatbuffers (from onnxruntime==1.15.0->super-gradients)\n",
      "  Using cached flatbuffers-25.2.10-py2.py3-none-any.whl.metadata (875 bytes)\n",
      "Requirement already satisfied: sympy in ./env/lib/python3.9/site-packages (from onnxruntime==1.15.0->super-gradients) (1.14.0)\n",
      "Collecting pyDeprecate==0.3.* (from torchmetrics==0.8->super-gradients)\n",
      "  Downloading pyDeprecate-0.3.2-py3-none-any.whl.metadata (10 kB)\n",
      "Requirement already satisfied: future in ./env/lib/python3.9/site-packages (from treelib==1.6.1->super-gradients) (1.0.0)\n",
      "INFO: pip is looking at multiple versions of albumentations to determine which version is compatible with other requirements. This could take a while.\n",
      "Collecting albumentations~=1.3 (from super-gradients)\n",
      "  Downloading albumentations-1.4.23-py3-none-any.whl.metadata (36 kB)\n",
      "  Downloading albumentations-1.4.22-py3-none-any.whl.metadata (33 kB)\n",
      "  Downloading albumentations-1.4.21-py3-none-any.whl.metadata (31 kB)\n",
      "  Downloading albumentations-1.4.20-py3-none-any.whl.metadata (32 kB)\n",
      "  Downloading albumentations-1.4.19-py3-none-any.whl.metadata (32 kB)\n",
      "  Downloading albumentations-1.4.18-py3-none-any.whl.metadata (32 kB)\n",
      "  Downloading albumentations-1.4.17-py3-none-any.whl.metadata (38 kB)\n",
      "INFO: pip is still looking at multiple versions of albumentations to determine which version is compatible with other requirements. This could take a while.\n",
      "  Downloading albumentations-1.4.16-py3-none-any.whl.metadata (38 kB)\n",
      "  Downloading albumentations-1.4.15-py3-none-any.whl.metadata (38 kB)\n",
      "  Downloading albumentations-1.4.14-py3-none-any.whl.metadata (38 kB)\n",
      "  Downloading albumentations-1.4.13-py3-none-any.whl.metadata (38 kB)\n",
      "  Downloading albumentations-1.4.12-py3-none-any.whl.metadata (38 kB)\n",
      "INFO: This is taking longer than usual. You might need to provide the dependency resolver with stricter constraints to reduce runtime. See https://pip.pypa.io/warnings/backtracking for guidance. If you want to abort this run, press Ctrl + C.\n",
      "  Downloading albumentations-1.4.11-py3-none-any.whl.metadata (39 kB)\n",
      "  Downloading albumentations-1.4.10-py3-none-any.whl.metadata (38 kB)\n",
      "  Downloading albumentations-1.4.8-py3-none-any.whl.metadata (37 kB)\n",
      "  Downloading albumentations-1.4.7-py3-none-any.whl.metadata (37 kB)\n",
      "  Downloading albumentations-1.4.6-py3-none-any.whl.metadata (37 kB)\n",
      "  Downloading albumentations-1.4.4-py3-none-any.whl.metadata (37 kB)\n",
      "  Downloading albumentations-1.4.3-py3-none-any.whl.metadata (37 kB)\n",
      "  Downloading albumentations-1.4.2-py3-none-any.whl.metadata (36 kB)\n",
      "  Downloading albumentations-1.4.1-py3-none-any.whl.metadata (36 kB)\n",
      "  Downloading albumentations-1.4.0-py3-none-any.whl.metadata (35 kB)\n",
      "  Downloading albumentations-1.3.1-py3-none-any.whl.metadata (34 kB)\n",
      "Requirement already satisfied: scikit-image>=0.16.1 in ./env/lib/python3.9/site-packages (from albumentations~=1.3->super-gradients) (0.24.0)\n",
      "Requirement already satisfied: PyYAML in ./env/lib/python3.9/site-packages (from albumentations~=1.3->super-gradients) (6.0.2)\n",
      "Collecting qudida>=0.0.4 (from albumentations~=1.3->super-gradients)\n",
      "  Downloading qudida-0.0.4-py3-none-any.whl.metadata (1.5 kB)\n",
      "Requirement already satisfied: opencv-python-headless>=4.1.1 in ./env/lib/python3.9/site-packages (from albumentations~=1.3->super-gradients) (4.11.0.86)\n",
      "Requirement already satisfied: platformdirs>=2.5.2 in ./env/lib/python3.9/site-packages (from data-gradients~=0.3.1->super-gradients) (4.3.8)\n",
      "Collecting opencv-python (from data-gradients~=0.3.1->super-gradients)\n",
      "  Downloading opencv_python-4.12.0.88-cp37-abi3-macosx_13_0_arm64.whl.metadata (19 kB)\n",
      "Collecting seaborn (from data-gradients~=0.3.1->super-gradients)\n",
      "  Using cached seaborn-0.13.2-py3-none-any.whl.metadata (5.4 kB)\n",
      "Collecting xhtml2pdf==0.2.11 (from data-gradients~=0.3.1->super-gradients)\n",
      "  Downloading xhtml2pdf-0.2.11.tar.gz (108 kB)\n",
      "  Preparing metadata (setup.py) ... \u001b[?25ldone\n",
      "\u001b[?25hRequirement already satisfied: jinja2 in ./env/lib/python3.9/site-packages (from data-gradients~=0.3.1->super-gradients) (3.1.6)\n",
      "Collecting imagededup (from data-gradients~=0.3.1->super-gradients)\n",
      "  Downloading imagededup-0.3.3.post1-cp39-cp39-macosx_11_0_arm64.whl.metadata (8.0 kB)\n",
      "Collecting arabic-reshaper>=3.0.0 (from xhtml2pdf==0.2.11->data-gradients~=0.3.1->super-gradients)\n",
      "  Downloading arabic_reshaper-3.0.0-py3-none-any.whl.metadata (12 kB)\n",
      "Collecting html5lib>=1.0.1 (from xhtml2pdf==0.2.11->data-gradients~=0.3.1->super-gradients)\n",
      "  Downloading html5lib-1.1-py2.py3-none-any.whl.metadata (16 kB)\n",
      "Collecting pyHanko>=0.12.1 (from xhtml2pdf==0.2.11->data-gradients~=0.3.1->super-gradients)\n",
      "  Downloading pyhanko-0.29.1-py3-none-any.whl.metadata (3.3 kB)\n",
      "Collecting pyhanko-certvalidator>=0.19.5 (from xhtml2pdf==0.2.11->data-gradients~=0.3.1->super-gradients)\n",
      "  Downloading pyhanko_certvalidator-0.27.0-py3-none-any.whl.metadata (5.0 kB)\n",
      "Collecting pypdf>=3.1.0 (from xhtml2pdf==0.2.11->data-gradients~=0.3.1->super-gradients)\n",
      "  Downloading pypdf-5.7.0-py3-none-any.whl.metadata (7.2 kB)\n",
      "Collecting python-bidi>=0.4.2 (from xhtml2pdf==0.2.11->data-gradients~=0.3.1->super-gradients)\n",
      "  Downloading python_bidi-0.6.6-cp39-cp39-macosx_11_0_arm64.whl.metadata (4.9 kB)\n",
      "Collecting reportlab<4,>=3.5.53 (from xhtml2pdf==0.2.11->data-gradients~=0.3.1->super-gradients)\n",
      "  Downloading reportlab-3.6.13-cp39-cp39-macosx_11_0_arm64.whl.metadata (1.2 kB)\n",
      "Collecting svglib>=1.2.1 (from xhtml2pdf==0.2.11->data-gradients~=0.3.1->super-gradients)\n",
      "  Downloading svglib-1.5.1.tar.gz (913 kB)\n",
      "\u001b[2K     \u001b[90m━━━━━━━━━━━━━━━━━━━━━━━━━━━━━━━━━━━━━━\u001b[0m \u001b[32m913.9/913.9 kB\u001b[0m \u001b[31m15.3 MB/s\u001b[0m eta \u001b[36m0:00:00\u001b[0m\n",
      "\u001b[?25h  Preparing metadata (setup.py) ... \u001b[?25ldone\n",
      "\u001b[?25hCollecting rich (from onnxsim<1.0,>=0.4.3->super-gradients)\n",
      "  Using cached rich-14.0.0-py3-none-any.whl.metadata (18 kB)\n",
      "Collecting sphinxcontrib-applehelp (from sphinx~=4.0.2->super-gradients)\n",
      "  Downloading sphinxcontrib_applehelp-2.0.0-py3-none-any.whl.metadata (2.3 kB)\n",
      "Collecting sphinxcontrib-devhelp (from sphinx~=4.0.2->super-gradients)\n",
      "  Downloading sphinxcontrib_devhelp-2.0.0-py3-none-any.whl.metadata (2.3 kB)\n",
      "Collecting sphinxcontrib-jsmath (from sphinx~=4.0.2->super-gradients)\n",
      "  Using cached sphinxcontrib_jsmath-1.0.1-py2.py3-none-any.whl.metadata (1.4 kB)\n",
      "Collecting sphinxcontrib-htmlhelp (from sphinx~=4.0.2->super-gradients)\n",
      "  Downloading sphinxcontrib_htmlhelp-2.1.0-py3-none-any.whl.metadata (2.3 kB)\n",
      "Collecting sphinxcontrib-serializinghtml (from sphinx~=4.0.2->super-gradients)\n",
      "  Downloading sphinxcontrib_serializinghtml-2.0.0-py3-none-any.whl.metadata (2.4 kB)\n",
      "Collecting sphinxcontrib-qthelp (from sphinx~=4.0.2->super-gradients)\n",
      "  Downloading sphinxcontrib_qthelp-2.0.0-py3-none-any.whl.metadata (2.3 kB)\n",
      "Collecting docutils<0.18,>=0.14 (from sphinx~=4.0.2->super-gradients)\n",
      "  Downloading docutils-0.17.1-py2.py3-none-any.whl.metadata (2.9 kB)\n",
      "Collecting snowballstemmer>=1.1 (from sphinx~=4.0.2->super-gradients)\n",
      "  Downloading snowballstemmer-3.0.1-py3-none-any.whl.metadata (7.9 kB)\n",
      "Collecting babel>=1.3 (from sphinx~=4.0.2->super-gradients)\n",
      "  Using cached babel-2.17.0-py3-none-any.whl.metadata (2.0 kB)\n",
      "Collecting alabaster<0.8,>=0.7 (from sphinx~=4.0.2->super-gradients)\n",
      "  Using cached alabaster-0.7.16-py3-none-any.whl.metadata (2.9 kB)\n",
      "Collecting imagesize (from sphinx~=4.0.2->super-gradients)\n",
      "  Using cached imagesize-1.4.1-py2.py3-none-any.whl.metadata (1.5 kB)\n",
      "Requirement already satisfied: requests>=2.5.0 in ./env/lib/python3.9/site-packages (from sphinx~=4.0.2->super-gradients) (2.32.4)\n",
      "Requirement already satisfied: botocore<1.40.0,>=1.39.3 in ./env/lib/python3.9/site-packages (from boto3>=1.17.15->super-gradients) (1.39.3)\n",
      "Requirement already satisfied: jmespath<2.0.0,>=0.7.1 in ./env/lib/python3.9/site-packages (from boto3>=1.17.15->super-gradients) (1.0.1)\n",
      "Requirement already satisfied: s3transfer<0.14.0,>=0.13.0 in ./env/lib/python3.9/site-packages (from boto3>=1.17.15->super-gradients) (0.13.0)\n",
      "Requirement already satisfied: python-dateutil<3.0.0,>=2.1 in ./env/lib/python3.9/site-packages (from botocore<1.40.0,>=1.39.3->boto3>=1.17.15->super-gradients) (2.9.0.post0)\n",
      "Requirement already satisfied: urllib3<1.27,>=1.25.4 in ./env/lib/python3.9/site-packages (from botocore<1.40.0,>=1.39.3->boto3>=1.17.15->super-gradients) (1.26.20)\n",
      "Requirement already satisfied: six>=1.5 in ./env/lib/python3.9/site-packages (from python-dateutil<3.0.0,>=2.1->botocore<1.40.0,>=1.39.3->boto3>=1.17.15->super-gradients) (1.17.0)\n",
      "Requirement already satisfied: wrapt<2,>=1.10 in ./env/lib/python3.9/site-packages (from Deprecated>=1.2.11->super-gradients) (1.17.2)\n",
      "Collecting webencodings (from html5lib>=1.0.1->xhtml2pdf==0.2.11->data-gradients~=0.3.1->super-gradients)\n",
      "  Using cached webencodings-0.5.1-py2.py3-none-any.whl.metadata (2.1 kB)\n",
      "Collecting antlr4-python3-runtime==4.9.* (from hydra-core>=1.2.0->super-gradients)\n",
      "  Using cached antlr4_python3_runtime-4.9.3-py3-none-any.whl\n",
      "Requirement already satisfied: MarkupSafe>=2.0 in ./env/lib/python3.9/site-packages (from jinja2->data-gradients~=0.3.1->super-gradients) (3.0.2)\n",
      "Requirement already satisfied: attrs>=22.2.0 in ./env/lib/python3.9/site-packages (from jsonschema>=3.2.0->super-gradients) (25.3.0)\n",
      "Collecting jsonschema-specifications>=2023.03.6 (from jsonschema>=3.2.0->super-gradients)\n",
      "  Downloading jsonschema_specifications-2025.4.1-py3-none-any.whl.metadata (2.9 kB)\n",
      "Collecting referencing>=0.28.4 (from jsonschema>=3.2.0->super-gradients)\n",
      "  Downloading referencing-0.36.2-py3-none-any.whl.metadata (2.8 kB)\n",
      "Collecting rpds-py>=0.7.1 (from jsonschema>=3.2.0->super-gradients)\n",
      "  Downloading rpds_py-0.26.0-cp39-cp39-macosx_11_0_arm64.whl.metadata (4.2 kB)\n",
      "Requirement already satisfied: contourpy>=1.0.1 in ./env/lib/python3.9/site-packages (from matplotlib>=3.3.4->super-gradients) (1.3.0)\n",
      "Requirement already satisfied: cycler>=0.10 in ./env/lib/python3.9/site-packages (from matplotlib>=3.3.4->super-gradients) (0.12.1)\n",
      "Requirement already satisfied: kiwisolver>=1.3.1 in ./env/lib/python3.9/site-packages (from matplotlib>=3.3.4->super-gradients) (1.4.7)\n",
      "Requirement already satisfied: pyparsing>=2.3.1 in ./env/lib/python3.9/site-packages (from matplotlib>=3.3.4->super-gradients) (3.2.3)\n",
      "Requirement already satisfied: importlib-resources>=3.2.0 in ./env/lib/python3.9/site-packages (from matplotlib>=3.3.4->super-gradients) (6.5.2)\n",
      "Requirement already satisfied: zipp>=3.1.0 in ./env/lib/python3.9/site-packages (from importlib-resources>=3.2.0->matplotlib>=3.3.4->super-gradients) (3.23.0)\n",
      "Collecting build>=1.0.0 (from pip-tools>=6.12.1->super-gradients)\n",
      "  Using cached build-1.2.2.post1-py3-none-any.whl.metadata (6.5 kB)\n",
      "Collecting click>=8 (from pip-tools>=6.12.1->super-gradients)\n",
      "  Using cached click-8.1.8-py3-none-any.whl.metadata (2.3 kB)\n",
      "Requirement already satisfied: pip>=22.2 in ./env/lib/python3.9/site-packages (from pip-tools>=6.12.1->super-gradients) (25.1.1)\n",
      "Collecting pyproject-hooks (from pip-tools>=6.12.1->super-gradients)\n",
      "  Using cached pyproject_hooks-1.2.0-py3-none-any.whl.metadata (1.3 kB)\n",
      "Requirement already satisfied: tomli in ./env/lib/python3.9/site-packages (from pip-tools>=6.12.1->super-gradients) (2.2.1)\n",
      "Requirement already satisfied: importlib-metadata>=4.6 in ./env/lib/python3.9/site-packages (from build>=1.0.0->pip-tools>=6.12.1->super-gradients) (8.7.0)\n",
      "Collecting asn1crypto>=1.5.1 (from pyHanko>=0.12.1->xhtml2pdf==0.2.11->data-gradients~=0.3.1->super-gradients)\n",
      "  Downloading asn1crypto-1.5.1-py2.py3-none-any.whl.metadata (13 kB)\n",
      "Requirement already satisfied: tzlocal>=4.3 in ./env/lib/python3.9/site-packages (from pyHanko>=0.12.1->xhtml2pdf==0.2.11->data-gradients~=0.3.1->super-gradients) (5.3.1)\n",
      "Collecting cryptography>=43.0.3 (from pyHanko>=0.12.1->xhtml2pdf==0.2.11->data-gradients~=0.3.1->super-gradients)\n",
      "  Downloading cryptography-45.0.5-cp37-abi3-macosx_10_9_universal2.whl.metadata (5.7 kB)\n",
      "Collecting lxml>=5.4.0 (from pyHanko>=0.12.1->xhtml2pdf==0.2.11->data-gradients~=0.3.1->super-gradients)\n",
      "  Downloading lxml-6.0.0-cp39-cp39-macosx_10_9_universal2.whl.metadata (6.6 kB)\n",
      "Collecting oscrypto>=1.1.0 (from pyhanko-certvalidator>=0.19.5->xhtml2pdf==0.2.11->data-gradients~=0.3.1->super-gradients)\n",
      "  Downloading oscrypto-1.3.0-py2.py3-none-any.whl.metadata (15 kB)\n",
      "Collecting uritools>=3.0.1 (from pyhanko-certvalidator>=0.19.5->xhtml2pdf==0.2.11->data-gradients~=0.3.1->super-gradients)\n",
      "  Downloading uritools-5.0.0-py3-none-any.whl.metadata (5.0 kB)\n",
      "Collecting cffi>=1.14 (from cryptography>=43.0.3->pyHanko>=0.12.1->xhtml2pdf==0.2.11->data-gradients~=0.3.1->super-gradients)\n",
      "  Using cached cffi-1.17.1-cp39-cp39-macosx_11_0_arm64.whl.metadata (1.5 kB)\n",
      "Collecting pycparser (from cffi>=1.14->cryptography>=43.0.3->pyHanko>=0.12.1->xhtml2pdf==0.2.11->data-gradients~=0.3.1->super-gradients)\n",
      "  Using cached pycparser-2.22-py3-none-any.whl.metadata (943 bytes)\n",
      "Requirement already satisfied: typing_extensions>=4.0 in ./env/lib/python3.9/site-packages (from pypdf>=3.1.0->xhtml2pdf==0.2.11->data-gradients~=0.3.1->super-gradients) (4.14.1)\n",
      "Requirement already satisfied: scikit-learn>=0.19.1 in ./env/lib/python3.9/site-packages (from qudida>=0.0.4->albumentations~=1.3->super-gradients) (1.6.1)\n",
      "Requirement already satisfied: charset_normalizer<4,>=2 in ./env/lib/python3.9/site-packages (from requests>=2.5.0->sphinx~=4.0.2->super-gradients) (3.4.2)\n",
      "Requirement already satisfied: idna<4,>=2.5 in ./env/lib/python3.9/site-packages (from requests>=2.5.0->sphinx~=4.0.2->super-gradients) (3.10)\n",
      "Requirement already satisfied: certifi>=2017.4.17 in ./env/lib/python3.9/site-packages (from requests>=2.5.0->sphinx~=4.0.2->super-gradients) (2025.6.15)\n",
      "Requirement already satisfied: networkx>=2.8 in ./env/lib/python3.9/site-packages (from scikit-image>=0.16.1->albumentations~=1.3->super-gradients) (3.2.1)\n",
      "Requirement already satisfied: imageio>=2.33 in ./env/lib/python3.9/site-packages (from scikit-image>=0.16.1->albumentations~=1.3->super-gradients) (2.37.0)\n",
      "Requirement already satisfied: tifffile>=2022.8.12 in ./env/lib/python3.9/site-packages (from scikit-image>=0.16.1->albumentations~=1.3->super-gradients) (2024.8.30)\n",
      "Requirement already satisfied: lazy-loader>=0.4 in ./env/lib/python3.9/site-packages (from scikit-image>=0.16.1->albumentations~=1.3->super-gradients) (0.4)\n",
      "Requirement already satisfied: joblib>=1.2.0 in ./env/lib/python3.9/site-packages (from scikit-learn>=0.19.1->qudida>=0.0.4->albumentations~=1.3->super-gradients) (1.5.1)\n",
      "Requirement already satisfied: threadpoolctl>=3.1.0 in ./env/lib/python3.9/site-packages (from scikit-learn>=0.19.1->qudida>=0.0.4->albumentations~=1.3->super-gradients) (3.6.0)\n",
      "Collecting tinycss2>=0.6.0 (from svglib>=1.2.1->xhtml2pdf==0.2.11->data-gradients~=0.3.1->super-gradients)\n",
      "  Using cached tinycss2-1.4.0-py3-none-any.whl.metadata (3.0 kB)\n",
      "Collecting cssselect2>=0.2.0 (from svglib>=1.2.1->xhtml2pdf==0.2.11->data-gradients~=0.3.1->super-gradients)\n",
      "  Downloading cssselect2-0.8.0-py3-none-any.whl.metadata (2.9 kB)\n",
      "Collecting absl-py>=0.4 (from tensorboard>=2.4.1->super-gradients)\n",
      "  Downloading absl_py-2.3.1-py3-none-any.whl.metadata (3.3 kB)\n",
      "Collecting grpcio>=1.48.2 (from tensorboard>=2.4.1->super-gradients)\n",
      "  Downloading grpcio-1.73.1-cp39-cp39-macosx_11_0_universal2.whl.metadata (3.8 kB)\n",
      "Collecting markdown>=2.6.8 (from tensorboard>=2.4.1->super-gradients)\n",
      "  Downloading markdown-3.8.2-py3-none-any.whl.metadata (5.1 kB)\n",
      "Collecting tensorboard-data-server<0.8.0,>=0.7.0 (from tensorboard>=2.4.1->super-gradients)\n",
      "  Using cached tensorboard_data_server-0.7.2-py3-none-any.whl.metadata (1.1 kB)\n",
      "Requirement already satisfied: filelock in ./env/lib/python3.9/site-packages (from torch>=1.9.0->super-gradients) (3.18.0)\n",
      "Requirement already satisfied: fsspec in ./env/lib/python3.9/site-packages (from torch>=1.9.0->super-gradients) (2025.5.1)\n",
      "Requirement already satisfied: mpmath<1.4,>=1.1.0 in ./env/lib/python3.9/site-packages (from sympy->onnxruntime==1.15.0->super-gradients) (1.3.0)\n",
      "Collecting humanfriendly>=9.1 (from coloredlogs->onnxruntime==1.15.0->super-gradients)\n",
      "  Using cached humanfriendly-10.0-py2.py3-none-any.whl.metadata (9.2 kB)\n",
      "Collecting PyWavelets (from imagededup->data-gradients~=0.3.1->super-gradients)\n",
      "  Using cached pywavelets-1.6.0-cp39-cp39-macosx_11_0_arm64.whl.metadata (9.0 kB)\n",
      "INFO: pip is looking at multiple versions of opencv-python to determine which version is compatible with other requirements. This could take a while.\n",
      "Collecting opencv-python (from data-gradients~=0.3.1->super-gradients)\n",
      "  Using cached opencv_python-4.11.0.86-cp37-abi3-macosx_13_0_arm64.whl.metadata (20 kB)\n",
      "Collecting markdown-it-py>=2.2.0 (from rich->onnxsim<1.0,>=0.4.3->super-gradients)\n",
      "  Using cached markdown_it_py-3.0.0-py3-none-any.whl.metadata (6.9 kB)\n",
      "Collecting mdurl~=0.1 (from markdown-it-py>=2.2.0->rich->onnxsim<1.0,>=0.4.3->super-gradients)\n",
      "  Using cached mdurl-0.1.2-py3-none-any.whl.metadata (1.6 kB)\n",
      "Requirement already satisfied: pandas>=1.2 in ./env/lib/python3.9/site-packages (from seaborn->data-gradients~=0.3.1->super-gradients) (2.3.0)\n",
      "Requirement already satisfied: pytz>=2020.1 in ./env/lib/python3.9/site-packages (from pandas>=1.2->seaborn->data-gradients~=0.3.1->super-gradients) (2025.2)\n",
      "Requirement already satisfied: tzdata>=2022.7 in ./env/lib/python3.9/site-packages (from pandas>=1.2->seaborn->data-gradients~=0.3.1->super-gradients) (2025.2)\n",
      "INFO: pip is looking at multiple versions of sphinx-rtd-theme to determine which version is compatible with other requirements. This could take a while.\n",
      "Collecting sphinx-rtd-theme (from super-gradients)\n",
      "  Downloading sphinx_rtd_theme-3.0.1-py2.py3-none-any.whl.metadata (4.4 kB)\n",
      "  Downloading sphinx_rtd_theme-3.0.0-py2.py3-none-any.whl.metadata (4.4 kB)\n",
      "  Downloading sphinx_rtd_theme-2.0.0-py2.py3-none-any.whl.metadata (4.4 kB)\n",
      "  Downloading sphinx_rtd_theme-1.3.0-py2.py3-none-any.whl.metadata (4.5 kB)\n",
      "Collecting sphinxcontrib-jquery<5,>=4 (from sphinx-rtd-theme->super-gradients)\n",
      "  Downloading sphinxcontrib_jquery-4.1-py2.py3-none-any.whl.metadata (2.6 kB)\n",
      "Downloading super_gradients-3.7.1-py3-none-any.whl (12.1 MB)\n",
      "\u001b[2K   \u001b[90m━━━━━━━━━━━━━━━━━━━━━━━━━━━━━━━━━━━━━━━━\u001b[0m \u001b[32m12.1/12.1 MB\u001b[0m \u001b[31m19.3 MB/s\u001b[0m eta \u001b[36m0:00:00\u001b[0m \u001b[36m0:00:01\u001b[0m\n",
      "\u001b[?25hDownloading einops-0.3.2-py3-none-any.whl (25 kB)\n",
      "Downloading json_tricks-3.16.1-py2.py3-none-any.whl (27 kB)\n",
      "Downloading onnx-1.15.0-cp39-cp39-macosx_10_12_universal2.whl (16.3 MB)\n",
      "\u001b[2K   \u001b[90m━━━━━━━━━━━━━━━━━━━━━━━━━━━━━━━━━━━━━━━━\u001b[0m \u001b[32m16.3/16.3 MB\u001b[0m \u001b[31m6.3 MB/s\u001b[0m eta \u001b[36m0:00:00\u001b[0m00:01\u001b[0m00:01\u001b[0mm\n",
      "\u001b[?25hDownloading onnxruntime-1.15.0-cp39-cp39-macosx_11_0_arm64.whl (6.1 MB)\n",
      "\u001b[2K   \u001b[90m━━━━━━━━━━━━━━━━━━━━━━━━━━━━━━━━━━━━━━━━\u001b[0m \u001b[32m6.1/6.1 MB\u001b[0m \u001b[31m2.8 MB/s\u001b[0m eta \u001b[36m0:00:00\u001b[0ma \u001b[36m0:00:01\u001b[0m\n",
      "\u001b[?25hDownloading protobuf-3.20.3-py2.py3-none-any.whl (162 kB)\n",
      "Downloading torchmetrics-0.8.0-py3-none-any.whl (408 kB)\n",
      "Downloading albumentations-1.3.1-py3-none-any.whl (125 kB)\n",
      "Downloading data_gradients-0.3.2-py3-none-any.whl (459 kB)\n",
      "Downloading numpy-1.23.0-cp39-cp39-macosx_11_0_arm64.whl (13.3 MB)\n",
      "\u001b[2K   \u001b[90m━━━━━━━━━━━━━━━━━━━━━━━━━━━━━━━━━━━━━━━━\u001b[0m \u001b[32m13.3/13.3 MB\u001b[0m \u001b[31m3.9 MB/s\u001b[0m eta \u001b[36m0:00:00\u001b[0m00:01\u001b[0m00:01\u001b[0m\n",
      "\u001b[?25hUsing cached onnxsim-0.4.36-cp39-cp39-macosx_10_15_universal2.whl (3.5 MB)\n",
      "Downloading pyDeprecate-0.3.2-py3-none-any.whl (10 kB)\n",
      "Downloading reportlab-3.6.13-cp39-cp39-macosx_11_0_arm64.whl (2.4 MB)\n",
      "\u001b[2K   \u001b[90m━━━━━━━━━━━━━━━━━━━━━━━━━━━━━━━━━━━━━━━━\u001b[0m \u001b[32m2.4/2.4 MB\u001b[0m \u001b[31m7.4 MB/s\u001b[0m eta \u001b[36m0:00:00\u001b[0ma \u001b[36m0:00:01\u001b[0m\n",
      "\u001b[?25hDownloading Sphinx-4.0.3-py3-none-any.whl (2.9 MB)\n",
      "\u001b[2K   \u001b[90m━━━━━━━━━━━━━━━━━━━━━━━━━━━━━━━━━━━━━━━━\u001b[0m \u001b[32m2.9/2.9 MB\u001b[0m \u001b[31m6.7 MB/s\u001b[0m eta \u001b[36m0:00:00\u001b[0ma \u001b[36m0:00:01\u001b[0m\n",
      "\u001b[?25hUsing cached alabaster-0.7.16-py3-none-any.whl (13 kB)\n",
      "Downloading docutils-0.17.1-py2.py3-none-any.whl (575 kB)\n",
      "\u001b[2K   \u001b[90m━━━━━━━━━━━━━━━━━━━━━━━━━━━━━━━━━━━━━━━━\u001b[0m \u001b[32m575.5/575.5 kB\u001b[0m \u001b[31m6.9 MB/s\u001b[0m eta \u001b[36m0:00:00\u001b[0m\n",
      "\u001b[?25hDownloading arabic_reshaper-3.0.0-py3-none-any.whl (20 kB)\n",
      "Using cached babel-2.17.0-py3-none-any.whl (10.2 MB)\n",
      "Downloading html5lib-1.1-py2.py3-none-any.whl (112 kB)\n",
      "Using cached hydra_core-1.3.2-py3-none-any.whl (154 kB)\n",
      "Using cached omegaconf-2.3.0-py3-none-any.whl (79 kB)\n",
      "Downloading jsonschema-4.24.0-py3-none-any.whl (88 kB)\n",
      "Downloading jsonschema_specifications-2025.4.1-py3-none-any.whl (18 kB)\n",
      "Downloading pip_tools-7.4.1-py3-none-any.whl (61 kB)\n",
      "Using cached build-1.2.2.post1-py3-none-any.whl (22 kB)\n",
      "Using cached click-8.1.8-py3-none-any.whl (98 kB)\n",
      "Downloading pyhanko-0.29.1-py3-none-any.whl (420 kB)\n",
      "Downloading pyhanko_certvalidator-0.27.0-py3-none-any.whl (110 kB)\n",
      "Downloading asn1crypto-1.5.1-py2.py3-none-any.whl (105 kB)\n",
      "Downloading cryptography-45.0.5-cp37-abi3-macosx_10_9_universal2.whl (7.0 MB)\n",
      "\u001b[2K   \u001b[90m━━━━━━━━━━━━━━━━━━━━━━━━━━━━━━━━━━━━━━━━\u001b[0m \u001b[32m7.0/7.0 MB\u001b[0m \u001b[31m5.9 MB/s\u001b[0m eta \u001b[36m0:00:00\u001b[0ma \u001b[36m0:00:01\u001b[0m\n",
      "\u001b[?25hUsing cached cffi-1.17.1-cp39-cp39-macosx_11_0_arm64.whl (178 kB)\n",
      "Downloading lxml-6.0.0-cp39-cp39-macosx_10_9_universal2.whl (8.4 MB)\n",
      "\u001b[2K   \u001b[90m━━━━━━━━━━━━━━━━━━━━━━━━━━━━━━━━━━━━━━━━\u001b[0m \u001b[32m8.4/8.4 MB\u001b[0m \u001b[31m5.7 MB/s\u001b[0m eta \u001b[36m0:00:00\u001b[0m00:01\u001b[0m00:01\u001b[0m\n",
      "\u001b[?25hDownloading oscrypto-1.3.0-py2.py3-none-any.whl (194 kB)\n",
      "Downloading pypdf-5.7.0-py3-none-any.whl (305 kB)\n",
      "Downloading python_bidi-0.6.6-cp39-cp39-macosx_11_0_arm64.whl (263 kB)\n",
      "Downloading qudida-0.0.4-py3-none-any.whl (3.5 kB)\n",
      "Downloading referencing-0.36.2-py3-none-any.whl (26 kB)\n",
      "Downloading rpds_py-0.26.0-cp39-cp39-macosx_11_0_arm64.whl (358 kB)\n",
      "Downloading snowballstemmer-3.0.1-py3-none-any.whl (103 kB)\n",
      "Downloading cssselect2-0.8.0-py3-none-any.whl (15 kB)\n",
      "Using cached tensorboard-2.19.0-py3-none-any.whl (5.5 MB)\n",
      "Using cached tensorboard_data_server-0.7.2-py3-none-any.whl (2.4 kB)\n",
      "Downloading absl_py-2.3.1-py3-none-any.whl (135 kB)\n",
      "Downloading grpcio-1.73.1-cp39-cp39-macosx_11_0_universal2.whl (10.6 MB)\n",
      "\u001b[2K   \u001b[90m━━━━━━━━━━━━━━━━━━━━━━━━━━━━━━━━━━━━━━━━\u001b[0m \u001b[32m10.6/10.6 MB\u001b[0m \u001b[31m4.5 MB/s\u001b[0m eta \u001b[36m0:00:00\u001b[0m00:01\u001b[0m0:01\u001b[0m\n",
      "\u001b[?25hDownloading markdown-3.8.2-py3-none-any.whl (106 kB)\n",
      "Using cached tinycss2-1.4.0-py3-none-any.whl (26 kB)\n",
      "Downloading uritools-5.0.0-py3-none-any.whl (10 kB)\n",
      "Using cached webencodings-0.5.1-py2.py3-none-any.whl (11 kB)\n",
      "Using cached werkzeug-3.1.3-py3-none-any.whl (224 kB)\n",
      "Using cached coloredlogs-15.0.1-py2.py3-none-any.whl (46 kB)\n",
      "Using cached humanfriendly-10.0-py2.py3-none-any.whl (86 kB)\n",
      "Using cached flatbuffers-25.2.10-py2.py3-none-any.whl (30 kB)\n",
      "Downloading imagededup-0.3.3.post1-cp39-cp39-macosx_11_0_arm64.whl (134 kB)\n",
      "Using cached imagesize-1.4.1-py2.py3-none-any.whl (8.8 kB)\n",
      "Using cached opencv_python-4.11.0.86-cp37-abi3-macosx_13_0_arm64.whl (37.3 MB)\n",
      "Using cached pycparser-2.22-py3-none-any.whl (117 kB)\n",
      "Using cached pyproject_hooks-1.2.0-py3-none-any.whl (10 kB)\n",
      "Using cached pywavelets-1.6.0-cp39-cp39-macosx_11_0_arm64.whl (4.3 MB)\n",
      "Downloading rapidfuzz-3.13.0-cp39-cp39-macosx_11_0_arm64.whl (1.5 MB)\n",
      "\u001b[2K   \u001b[90m━━━━━━━━━━━━━━━━━━━━━━━━━━━━━━━━━━━━━━━━\u001b[0m \u001b[32m1.5/1.5 MB\u001b[0m \u001b[31m2.4 MB/s\u001b[0m eta \u001b[36m0:00:00\u001b[0ma \u001b[36m0:00:01\u001b[0m\n",
      "\u001b[?25hUsing cached rich-14.0.0-py3-none-any.whl (243 kB)\n",
      "Using cached markdown_it_py-3.0.0-py3-none-any.whl (87 kB)\n",
      "Using cached mdurl-0.1.2-py3-none-any.whl (10.0 kB)\n",
      "Using cached seaborn-0.13.2-py3-none-any.whl (294 kB)\n",
      "Downloading sphinx_rtd_theme-1.3.0-py2.py3-none-any.whl (2.8 MB)\n",
      "\u001b[2K   \u001b[90m━━━━━━━━━━━━━━━━━━━━━━━━━━━━━━━━━━━━━━━━\u001b[0m \u001b[32m2.8/2.8 MB\u001b[0m \u001b[31m3.0 MB/s\u001b[0m eta \u001b[36m0:00:00\u001b[0ma \u001b[36m0:00:01\u001b[0m\n",
      "\u001b[?25hDownloading sphinxcontrib_jquery-4.1-py2.py3-none-any.whl (121 kB)\n",
      "Downloading sphinxcontrib_applehelp-2.0.0-py3-none-any.whl (119 kB)\n",
      "Downloading sphinxcontrib_devhelp-2.0.0-py3-none-any.whl (82 kB)\n",
      "Downloading sphinxcontrib_htmlhelp-2.1.0-py3-none-any.whl (98 kB)\n",
      "Using cached sphinxcontrib_jsmath-1.0.1-py2.py3-none-any.whl (5.1 kB)\n",
      "Downloading sphinxcontrib_qthelp-2.0.0-py3-none-any.whl (88 kB)\n",
      "Downloading sphinxcontrib_serializinghtml-2.0.0-py3-none-any.whl (92 kB)\n",
      "Building wheels for collected packages: termcolor, treelib, coverage, xhtml2pdf, stringcase, svglib\n",
      "\u001b[33m  DEPRECATION: Building 'termcolor' using the legacy setup.py bdist_wheel mechanism, which will be removed in a future version. pip 25.3 will enforce this behaviour change. A possible replacement is to use the standardized build interface by setting the `--use-pep517` option, (possibly combined with `--no-build-isolation`), or adding a `pyproject.toml` file to the source tree of 'termcolor'. Discussion can be found at https://github.com/pypa/pip/issues/6334\u001b[0m\u001b[33m\n",
      "\u001b[0m  Building wheel for termcolor (setup.py) ... \u001b[?25ldone\n",
      "\u001b[?25h  Created wheel for termcolor: filename=termcolor-1.1.0-py3-none-any.whl size=4902 sha256=77c59bf4ffc897348974a6f06e51bc7dfbcf18928bcde03a8787a2bc09eed1f2\n",
      "  Stored in directory: /Users/adonaivera/Library/Caches/pip/wheels/b6/0d/90/0d1bbd99855f99cb2f6c2e5ff96f8023fad8ec367695f7d72d\n",
      "\u001b[33m  DEPRECATION: Building 'treelib' using the legacy setup.py bdist_wheel mechanism, which will be removed in a future version. pip 25.3 will enforce this behaviour change. A possible replacement is to use the standardized build interface by setting the `--use-pep517` option, (possibly combined with `--no-build-isolation`), or adding a `pyproject.toml` file to the source tree of 'treelib'. Discussion can be found at https://github.com/pypa/pip/issues/6334\u001b[0m\u001b[33m\n",
      "\u001b[0m  Building wheel for treelib (setup.py) ... \u001b[?25ldone\n",
      "\u001b[?25h  Created wheel for treelib: filename=treelib-1.6.1-py3-none-any.whl size=18455 sha256=7c5219356c23b0b1eda0c58222d0ad3a94b7222a43dbf5a0830eb71a72582994\n",
      "  Stored in directory: /Users/adonaivera/Library/Caches/pip/wheels/43/de/32/fd270cc5f06de2bebcdaa666e9350b95f54d983212a7aba9ad\n",
      "\u001b[33m  DEPRECATION: Building 'coverage' using the legacy setup.py bdist_wheel mechanism, which will be removed in a future version. pip 25.3 will enforce this behaviour change. A possible replacement is to use the standardized build interface by setting the `--use-pep517` option, (possibly combined with `--no-build-isolation`), or adding a `pyproject.toml` file to the source tree of 'coverage'. Discussion can be found at https://github.com/pypa/pip/issues/6334\u001b[0m\u001b[33m\n",
      "\u001b[0m  Building wheel for coverage (setup.py) ... \u001b[?25ldone\n",
      "\u001b[?25h  Created wheel for coverage: filename=coverage-5.3.1-cp39-cp39-macosx_15_0_arm64.whl size=208588 sha256=5c3a078e9e9a593659eb9ed542e101017028587a8ae01c7a34f3107293a920e5\n",
      "  Stored in directory: /Users/adonaivera/Library/Caches/pip/wheels/24/43/57/1303a63419dd16fd282e39d6baa226f29d8c2f788ae7fc0daf\n",
      "\u001b[33m  DEPRECATION: Building 'xhtml2pdf' using the legacy setup.py bdist_wheel mechanism, which will be removed in a future version. pip 25.3 will enforce this behaviour change. A possible replacement is to use the standardized build interface by setting the `--use-pep517` option, (possibly combined with `--no-build-isolation`), or adding a `pyproject.toml` file to the source tree of 'xhtml2pdf'. Discussion can be found at https://github.com/pypa/pip/issues/6334\u001b[0m\u001b[33m\n",
      "\u001b[0m  Building wheel for xhtml2pdf (setup.py) ... \u001b[?25ldone\n",
      "\u001b[?25h  Created wheel for xhtml2pdf: filename=xhtml2pdf-0.2.11-py3-none-any.whl size=259423 sha256=1512b96df1eef0e7ade1878eb937282c3220ab80793d59f497e6c99329444772\n",
      "  Stored in directory: /Users/adonaivera/Library/Caches/pip/wheels/a0/29/73/5db2889fe7a3ab3d4197d5945e14ef75ef50aba8d433905335\n",
      "\u001b[33m  DEPRECATION: Building 'stringcase' using the legacy setup.py bdist_wheel mechanism, which will be removed in a future version. pip 25.3 will enforce this behaviour change. A possible replacement is to use the standardized build interface by setting the `--use-pep517` option, (possibly combined with `--no-build-isolation`), or adding a `pyproject.toml` file to the source tree of 'stringcase'. Discussion can be found at https://github.com/pypa/pip/issues/6334\u001b[0m\u001b[33m\n",
      "\u001b[0m  Building wheel for stringcase (setup.py) ... \u001b[?25ldone\n",
      "\u001b[?25h  Created wheel for stringcase: filename=stringcase-1.2.0-py3-none-any.whl size=3635 sha256=5d2b1f37c8052c8c49d107b0fb048b7b4898d60faadf1e21dd9abb660b8e5b1e\n",
      "  Stored in directory: /Users/adonaivera/Library/Caches/pip/wheels/0a/0d/86/88baa0554de5fdccfc2b2ee060175eec0a85c12cdfd8fef566\n",
      "\u001b[33m  DEPRECATION: Building 'svglib' using the legacy setup.py bdist_wheel mechanism, which will be removed in a future version. pip 25.3 will enforce this behaviour change. A possible replacement is to use the standardized build interface by setting the `--use-pep517` option, (possibly combined with `--no-build-isolation`), or adding a `pyproject.toml` file to the source tree of 'svglib'. Discussion can be found at https://github.com/pypa/pip/issues/6334\u001b[0m\u001b[33m\n",
      "\u001b[0m  Building wheel for svglib (setup.py) ... \u001b[?25ldone\n",
      "\u001b[?25h  Created wheel for svglib: filename=svglib-1.5.1-py3-none-any.whl size=30947 sha256=065cabd3943c3d99e63984144e85f632fad3dc7cea3f515e21f397ee185a9efe\n",
      "  Stored in directory: /Users/adonaivera/Library/Caches/pip/wheels/c7/5f/fa/5f637db9e9fd213064b9c5cb55a4d68235f479078d5c87fefd\n",
      "Successfully built termcolor treelib coverage xhtml2pdf stringcase svglib\n",
      "Installing collected packages: webencodings, termcolor, stringcase, python-bidi, json-tricks, flatbuffers, einops, asn1crypto, arabic-reshaper, antlr4-python3-runtime, werkzeug, uritools, treelib, tinycss2, tensorboard-data-server, sphinxcontrib-serializinghtml, sphinxcontrib-qthelp, sphinxcontrib-jsmath, sphinxcontrib-htmlhelp, sphinxcontrib-devhelp, sphinxcontrib-applehelp, snowballstemmer, rpds-py, reportlab, rapidfuzz, pyproject-hooks, pypdf, pyDeprecate, pycparser, protobuf, oscrypto, omegaconf, numpy, mdurl, lxml, imagesize, humanfriendly, html5lib, grpcio, docutils, coverage, click, babel, alabaster, absl-py, sphinx, referencing, PyWavelets, opencv-python, onnx, markdown-it-py, markdown, hydra-core, cssselect2, coloredlogs, cffi, build, torchmetrics, tensorboard, svglib, sphinxcontrib-jquery, rich, pip-tools, onnxruntime, jsonschema-specifications, cryptography, sphinx-rtd-theme, seaborn, qudida, pyhanko-certvalidator, onnxsim, jsonschema, imagededup, pyHanko, albumentations, xhtml2pdf, data-gradients, super-gradients\n",
      "\u001b[2K  Attempting uninstall: numpy91m╸\u001b[0m\u001b[90m━━━━━━━━━━━━━━━━━━━━━━━━\u001b[0m \u001b[32m31/78\u001b[0m [omegaconf]hooks]math]er]\n",
      "\u001b[2K    Found existing installation: numpy 2.0.2━━━━━━━━━━━━━━━━━━\u001b[0m \u001b[32m31/78\u001b[0m [omegaconf]\n",
      "\u001b[2K    Uninstalling numpy-2.0.2:\u001b[0m\u001b[90m━━━━━━━━━━━━━━━━━━━━━━━━\u001b[0m \u001b[32m31/78\u001b[0m [omegaconf]\n",
      "\u001b[2K      Successfully uninstalled numpy-2.0.2━━━━━━━━━━━━━━━━━━━━\u001b[0m \u001b[32m31/78\u001b[0m [omegaconf]\n",
      "\u001b[2K   \u001b[90m━━━━━━━━━━━━━━━━━━━━━━━━━━━━━━━━━━━━━━━━\u001b[0m \u001b[32m78/78\u001b[0m [super-gradients]radients]adients]\n",
      "\u001b[1A\u001b[2KSuccessfully installed PyWavelets-1.6.0 absl-py-2.3.1 alabaster-0.7.16 albumentations-1.3.1 antlr4-python3-runtime-4.9.3 arabic-reshaper-3.0.0 asn1crypto-1.5.1 babel-2.17.0 build-1.2.2.post1 cffi-1.17.1 click-8.1.8 coloredlogs-15.0.1 coverage-5.3.1 cryptography-45.0.5 cssselect2-0.8.0 data-gradients-0.3.2 docutils-0.17.1 einops-0.3.2 flatbuffers-25.2.10 grpcio-1.73.1 html5lib-1.1 humanfriendly-10.0 hydra-core-1.3.2 imagededup-0.3.3.post1 imagesize-1.4.1 json-tricks-3.16.1 jsonschema-4.24.0 jsonschema-specifications-2025.4.1 lxml-6.0.0 markdown-3.8.2 markdown-it-py-3.0.0 mdurl-0.1.2 numpy-1.23.0 omegaconf-2.3.0 onnx-1.15.0 onnxruntime-1.15.0 onnxsim-0.4.36 opencv-python-4.11.0.86 oscrypto-1.3.0 pip-tools-7.4.1 protobuf-3.20.3 pyDeprecate-0.3.2 pyHanko-0.29.1 pycparser-2.22 pyhanko-certvalidator-0.27.0 pypdf-5.7.0 pyproject-hooks-1.2.0 python-bidi-0.6.6 qudida-0.0.4 rapidfuzz-3.13.0 referencing-0.36.2 reportlab-3.6.13 rich-14.0.0 rpds-py-0.26.0 seaborn-0.13.2 snowballstemmer-3.0.1 sphinx-4.0.3 sphinx-rtd-theme-1.3.0 sphinxcontrib-applehelp-2.0.0 sphinxcontrib-devhelp-2.0.0 sphinxcontrib-htmlhelp-2.1.0 sphinxcontrib-jquery-4.1 sphinxcontrib-jsmath-1.0.1 sphinxcontrib-qthelp-2.0.0 sphinxcontrib-serializinghtml-2.0.0 stringcase-1.2.0 super-gradients-3.7.1 svglib-1.5.1 tensorboard-2.19.0 tensorboard-data-server-0.7.2 termcolor-1.1.0 tinycss2-1.4.0 torchmetrics-0.8.0 treelib-1.6.1 uritools-5.0.0 webencodings-0.5.1 werkzeug-3.1.3 xhtml2pdf-0.2.11\n"
     ]
    }
   ],
   "source": [
    "!pip install fiftyone\n",
    "!pip install torch torchvision torchaudio\n",
    "!pip install huggingface_hub\n",
    "!pip install umap-learn"
   ]
  },
  {
   "cell_type": "markdown",
   "metadata": {},
   "source": [
    "## 2️⃣ Load Datasets"
   ]
  },
  {
   "cell_type": "code",
   "execution_count": 1,
   "metadata": {},
   "outputs": [],
   "source": [
    "import fiftyone as fo\n",
    "import fiftyone.zoo as foz\n",
    "import fiftyone.zoo.models as fozm\n",
    "import fiftyone.utils.huggingface as fouh\n",
    "import fiftyone.brain as fob\n",
    "import fiftyone.operators as foo"
   ]
  },
  {
   "cell_type": "markdown",
   "metadata": {},
   "source": [
    "### Images"
   ]
  },
  {
   "cell_type": "markdown",
   "id": "779963bb",
   "metadata": {},
   "source": [
    "You can open the port 5152 to visualizate directly in the browser"
   ]
  },
  {
   "cell_type": "code",
   "execution_count": 2,
   "metadata": {},
   "outputs": [
    {
     "name": "stdout",
     "output_type": "stream",
     "text": [
      "Downloading config file fiftyone.yml from Voxel51/mvtec-ad\n",
      "Loading dataset\n",
      "Importing samples...\n",
      " 100% |███████████████| 5354/5354 [93.7ms elapsed, 0s remaining, 57.1K samples/s]  \n",
      "Migrating dataset 'Voxel51/mvtec-ad' to v1.7.0\n"
     ]
    },
    {
     "data": {
      "text/html": [
       "\n",
       "        <iframe\n",
       "            width=\"100%\"\n",
       "            height=\"800\"\n",
       "            src=\"http://localhost:5152/?notebook=True&subscription=939399b8-2216-4e01-828b-a12017023630\"\n",
       "            frameborder=\"0\"\n",
       "            allowfullscreen\n",
       "            \n",
       "        ></iframe>\n",
       "        "
      ],
      "text/plain": [
       "<IPython.lib.display.IFrame at 0x3147040d0>"
      ]
     },
     "metadata": {},
     "output_type": "display_data"
    }
   ],
   "source": [
    "dataset_anomaly = fouh.load_from_hub(\"Voxel51/mvtec-ad\", persistent=True, overwrite=True)\n",
    "session = fo.launch_app(dataset_anomaly, port=5152)"
   ]
  },
  {
   "cell_type": "markdown",
   "metadata": {},
   "source": [
    "### Video"
   ]
  },
  {
   "cell_type": "code",
   "execution_count": null,
   "metadata": {},
   "outputs": [
    {
     "name": "stdout",
     "output_type": "stream",
     "text": [
      "Dataset already downloaded\n",
      "Loading existing dataset 'quickstart-video'. To reload from disk, either delete the existing dataset or provide a custom `dataset_name` to use\n"
     ]
    },
    {
     "data": {
      "text/html": [
       "\n",
       "<style>\n",
       "@import url(\"https://fonts.googleapis.com/css2?family=Palanquin&display=swap\");\n",
       "\n",
       "body, html {\n",
       "  margin: 0;\n",
       "  padding: 0;\n",
       "  width: 100%;\n",
       "}\n",
       "\n",
       "#focontainer-915013e3-be08-40ea-b340-6b66fe8f16b3 {\n",
       "  position: relative;\n",
       "  height: 800px;\n",
       "  display: block !important;\n",
       "}\n",
       "#foactivate-915013e3-be08-40ea-b340-6b66fe8f16b3 {\n",
       "  font-weight: bold;\n",
       "  cursor: pointer;\n",
       "  font-size: 24px;\n",
       "  border-radius: 3px;\n",
       "  text-align: center;\n",
       "  padding: 0.5em;\n",
       "  color: rgb(255, 255, 255);\n",
       "  font-family: \"Palanquin\", sans-serif;\n",
       "  position: absolute;\n",
       "  left: 50%;\n",
       "  top: 50%;\n",
       "  width: 160px;\n",
       "  margin-left: -80px;\n",
       "  margin-top: -23px;\n",
       "  background: hsla(210,11%,15%, 0.8);\n",
       "  border: none;\n",
       "}\n",
       "#foactivate-915013e3-be08-40ea-b340-6b66fe8f16b3:focus {\n",
       "  outline: none;\n",
       "}\n",
       "#fooverlay-915013e3-be08-40ea-b340-6b66fe8f16b3 {\n",
       "  width: 100%;\n",
       "  height: 100%;\n",
       "  background: hsla(208, 7%, 46%, 0.7);\n",
       "  position: absolute;\n",
       "  top: 0;\n",
       "  left: 0;\n",
       "  display: none;\n",
       "  cursor: pointer;\n",
       "}\n",
       "</style>\n",
       "\n",
       "<div id=\"focontainer-915013e3-be08-40ea-b340-6b66fe8f16b3\">\n",
       "   <div id=\"fooverlay-915013e3-be08-40ea-b340-6b66fe8f16b3\" style=\"display: none;\">\n",
       "      <button id=\"foactivate-915013e3-be08-40ea-b340-6b66fe8f16b3\" >Activate</button>\n",
       "   </div>\n",
       "   <img src='data:image/jpeg;base64,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' style=\"width: 100%; max-width: 1474px;\"/>\n",
       "</div>\n",
       "\n",
       "<script type=\"text/javascript\">\n",
       "   (function() {\n",
       "     var container = document.getElementById(\"focontainer-915013e3-be08-40ea-b340-6b66fe8f16b3\");\n",
       "     var overlay = document.getElementById(\"fooverlay-915013e3-be08-40ea-b340-6b66fe8f16b3\");\n",
       "     fetch(`http://localhost:5152/fiftyone`)\n",
       "     .then(() => {\n",
       "        overlay.addEventListener(\"click\", () => {\n",
       "          fetch(`http://localhost:5152/event`, {\n",
       "            method: \"POST\",\n",
       "            body: JSON.stringify({\n",
       "              event: \"reactivate_notebook_cell\",\n",
       "              data: { subscription: \"915013e3-be08-40ea-b340-6b66fe8f16b3\" },\n",
       "              subscription: \"915013e3-be08-40ea-b340-6b66fe8f16b3\"\n",
       "            })\n",
       "          })\n",
       "        });\n",
       "        container.addEventListener(\"mouseenter\", () => overlay.style.display = \"block\");\n",
       "        container.addEventListener(\"mouseleave\", () => overlay.style.display = \"none\");\n",
       "     });\n",
       "   })();\n",
       "</script>"
      ],
      "text/plain": [
       "<IPython.core.display.HTML object>"
      ]
     },
     "metadata": {},
     "output_type": "display_data"
    }
   ],
   "source": [
    "video_dataset = foz.load_zoo_dataset(\"quickstart-video\")\n",
    "session = fo.launch_app(video_dataset, port=5152)"
   ]
  },
  {
   "cell_type": "markdown",
   "metadata": {},
   "source": [
    "### Point Cloud"
   ]
  },
  {
   "cell_type": "code",
   "execution_count": null,
   "metadata": {},
   "outputs": [
    {
     "name": "stdout",
     "output_type": "stream",
     "text": [
      "Dataset already downloaded\n",
      "Loading existing dataset 'quickstart-groups'. To reload from disk, either delete the existing dataset or provide a custom `dataset_name` to use\n"
     ]
    },
    {
     "data": {
      "text/html": [
       "\n",
       "<style>\n",
       "@import url(\"https://fonts.googleapis.com/css2?family=Palanquin&display=swap\");\n",
       "\n",
       "body, html {\n",
       "  margin: 0;\n",
       "  padding: 0;\n",
       "  width: 100%;\n",
       "}\n",
       "\n",
       "#focontainer-e4765fd7-577d-4440-9e65-a6550fbc9190 {\n",
       "  position: relative;\n",
       "  height: 800px;\n",
       "  display: block !important;\n",
       "}\n",
       "#foactivate-e4765fd7-577d-4440-9e65-a6550fbc9190 {\n",
       "  font-weight: bold;\n",
       "  cursor: pointer;\n",
       "  font-size: 24px;\n",
       "  border-radius: 3px;\n",
       "  text-align: center;\n",
       "  padding: 0.5em;\n",
       "  color: rgb(255, 255, 255);\n",
       "  font-family: \"Palanquin\", sans-serif;\n",
       "  position: absolute;\n",
       "  left: 50%;\n",
       "  top: 50%;\n",
       "  width: 160px;\n",
       "  margin-left: -80px;\n",
       "  margin-top: -23px;\n",
       "  background: hsla(210,11%,15%, 0.8);\n",
       "  border: none;\n",
       "}\n",
       "#foactivate-e4765fd7-577d-4440-9e65-a6550fbc9190:focus {\n",
       "  outline: none;\n",
       "}\n",
       "#fooverlay-e4765fd7-577d-4440-9e65-a6550fbc9190 {\n",
       "  width: 100%;\n",
       "  height: 100%;\n",
       "  background: hsla(208, 7%, 46%, 0.7);\n",
       "  position: absolute;\n",
       "  top: 0;\n",
       "  left: 0;\n",
       "  display: none;\n",
       "  cursor: pointer;\n",
       "}\n",
       "</style>\n",
       "\n",
       "<div id=\"focontainer-e4765fd7-577d-4440-9e65-a6550fbc9190\">\n",
       "   <div id=\"fooverlay-e4765fd7-577d-4440-9e65-a6550fbc9190\" style=\"display: none;\">\n",
       "      <button id=\"foactivate-e4765fd7-577d-4440-9e65-a6550fbc9190\" >Activate</button>\n",
       "   </div>\n",
       "   <img src='data:image/jpeg;base64,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' style=\"width: 100%; max-width: 1474px;\"/>\n",
       "</div>\n",
       "\n",
       "<script type=\"text/javascript\">\n",
       "   (function() {\n",
       "     var container = document.getElementById(\"focontainer-e4765fd7-577d-4440-9e65-a6550fbc9190\");\n",
       "     var overlay = document.getElementById(\"fooverlay-e4765fd7-577d-4440-9e65-a6550fbc9190\");\n",
       "     fetch(`http://localhost:5152/fiftyone`)\n",
       "     .then(() => {\n",
       "        overlay.addEventListener(\"click\", () => {\n",
       "          fetch(`http://localhost:5152/event`, {\n",
       "            method: \"POST\",\n",
       "            body: JSON.stringify({\n",
       "              event: \"reactivate_notebook_cell\",\n",
       "              data: { subscription: \"e4765fd7-577d-4440-9e65-a6550fbc9190\" },\n",
       "              subscription: \"e4765fd7-577d-4440-9e65-a6550fbc9190\"\n",
       "            })\n",
       "          })\n",
       "        });\n",
       "        container.addEventListener(\"mouseenter\", () => overlay.style.display = \"block\");\n",
       "        container.addEventListener(\"mouseleave\", () => overlay.style.display = \"none\");\n",
       "     });\n",
       "   })();\n",
       "</script>"
      ],
      "text/plain": [
       "<IPython.core.display.HTML object>"
      ]
     },
     "metadata": {},
     "output_type": "display_data"
    }
   ],
   "source": [
    "pc_dataset = foz.load_zoo_dataset(\"quickstart-groups\")\n",
    "session = fo.launch_app(pc_dataset, port=5152)"
   ]
  },
  {
   "cell_type": "markdown",
   "id": "a8ed31ae",
   "metadata": {},
   "source": [
    "#### If you're interested in continuing to explore your data, this read is a must-have: [Link Blog](https://voxel51.com/blog/bias-in-data-what-embeddings-reveal-about-real-vs-synthetic-data-distribution)\n"
   ]
  },
  {
   "cell_type": "markdown",
   "metadata": {},
   "source": [
    "## 3️⃣ Perform Tasks"
   ]
  },
  {
   "cell_type": "markdown",
   "id": "ae1315f7",
   "metadata": {},
   "source": [
    "### Explore and visualizate with embeddings\n",
    "Once embeddings are generated, we can visualize them using dimensionality reduction techniques like:\n",
    "\n",
    "UMAP (Uniform Manifold Approximation and Projection).\n",
    "\n",
    "These methods reduce the high-dimensional feature space into 2D/3D representations for interactive visualization.\n",
    "\n",
    "🔗 **Relevant Documentation:** [Visualizing Embeddings in FiftyOne](https://docs.voxel51.com/brain.html#visualizing-embeddings), [Dimensionality Reduction](https://docs.voxel51.com/brain.html#visualizing-embeddings)"
   ]
  },
  {
   "cell_type": "code",
   "execution_count": 8,
   "id": "ec948eb4",
   "metadata": {},
   "outputs": [
    {
     "name": "stdout",
     "output_type": "stream",
     "text": [
      "Computing embeddings...\n",
      " 100% |███████████████| 5354/5354 [3.6m elapsed, 0s remaining, 4.8 samples/s]       \n",
      "Generating visualization...\n",
      "UMAP( verbose=True)\n",
      "Fri Jul 11 17:09:02 2025 Construct fuzzy simplicial set\n",
      "Fri Jul 11 17:09:02 2025 Finding Nearest Neighbors\n",
      "Fri Jul 11 17:09:02 2025 Building RP forest with 9 trees\n",
      "Fri Jul 11 17:09:04 2025 NN descent for 12 iterations\n",
      "\t 1  /  12\n",
      "\t 2  /  12\n",
      "\t 3  /  12\n",
      "\tStopping threshold met -- exiting after 3 iterations\n",
      "Fri Jul 11 17:09:09 2025 Finished Nearest Neighbor Search\n",
      "Fri Jul 11 17:09:10 2025 Construct embedding\n"
     ]
    },
    {
     "data": {
      "application/vnd.jupyter.widget-view+json": {
       "model_id": "2f03b6c129b14b5fb30d246ed10caa79",
       "version_major": 2,
       "version_minor": 0
      },
      "text/plain": [
       "Epochs completed:   0%|            0/500 [00:00]"
      ]
     },
     "metadata": {},
     "output_type": "display_data"
    },
    {
     "name": "stdout",
     "output_type": "stream",
     "text": [
      "\tcompleted  0  /  500 epochs\n",
      "\tcompleted  50  /  500 epochs\n",
      "\tcompleted  100  /  500 epochs\n",
      "\tcompleted  150  /  500 epochs\n",
      "\tcompleted  200  /  500 epochs\n",
      "\tcompleted  250  /  500 epochs\n",
      "\tcompleted  300  /  500 epochs\n",
      "\tcompleted  350  /  500 epochs\n",
      "\tcompleted  400  /  500 epochs\n",
      "\tcompleted  450  /  500 epochs\n",
      "Fri Jul 11 17:09:13 2025 Finished embedding\n"
     ]
    },
    {
     "data": {
      "text/plain": [
       "<fiftyone.brain.visualization.VisualizationResults at 0x3382771c0>"
      ]
     },
     "execution_count": 8,
     "metadata": {},
     "output_type": "execute_result"
    }
   ],
   "source": [
    "# Load a pre-trained model (e.g., CLIP)\n",
    "model_clip = fozm.load_zoo_model(\"clip-vit-base32-torch\")\n",
    "\n",
    "fob.compute_visualization(\n",
    "    dataset_anomaly,\n",
    "    model=model_clip,\n",
    "    embeddings=\"mvtec_emb\",\n",
    "    brain_key=\"mvtec_embeddings\",\n",
    "    method=\"umap\",  \n",
    "    num_dims=2  \n",
    ")"
   ]
  },
  {
   "cell_type": "code",
   "execution_count": 9,
   "id": "a9ff6657",
   "metadata": {},
   "outputs": [],
   "source": [
    "dataset_anomaly.reload()"
   ]
  },
  {
   "cell_type": "markdown",
   "metadata": {},
   "source": [
    "### Performance Tasks"
   ]
  },
  {
   "cell_type": "markdown",
   "id": "1929385b",
   "metadata": {},
   "source": [
    "#### Load a dataset"
   ]
  },
  {
   "cell_type": "code",
   "execution_count": 10,
   "id": "9a17b505",
   "metadata": {},
   "outputs": [
    {
     "name": "stdout",
     "output_type": "stream",
     "text": [
      "Downloading split 'validation' to '/Users/adonaivera/fiftyone/coco-2017/validation' if necessary\n",
      "Found annotations at '/Users/adonaivera/fiftyone/coco-2017/raw/instances_val2017.json'\n",
      "Sufficient images already downloaded\n",
      "Existing download of split 'validation' is sufficient\n",
      "Loading existing dataset 'coco-2017-validation-50'. To reload from disk, either delete the existing dataset or provide a custom `dataset_name` to use\n"
     ]
    }
   ],
   "source": [
    "coco_dataset = foz.load_zoo_dataset(\"coco-2017\", split=\"validation\", max_samples=50)"
   ]
  },
  {
   "cell_type": "markdown",
   "id": "922053b8",
   "metadata": {},
   "source": [
    "\n",
    "#### Run Faster R-CNN Object Detection\n",
    "We'll now load a pre-trained Faster R-CNN model and apply it to the COCO validation dataset.\n",
    "\n",
    "This will generate object detections for each image, which we can visualize and analyze in FiftyOne."
   ]
  },
  {
   "cell_type": "code",
   "execution_count": 11,
   "id": "05f76728",
   "metadata": {},
   "outputs": [
    {
     "name": "stdout",
     "output_type": "stream",
     "text": [
      " 100% |███████████████████| 50/50 [1.5m elapsed, 0s remaining, 1.0 samples/s]     \n"
     ]
    }
   ],
   "source": [
    "model_faster_rcnn = foz.load_zoo_model(\"faster-rcnn-resnet50-fpn-coco-torch\")\n",
    "coco_dataset.apply_model(model_faster_rcnn, label_field=\"predictions_faster_rcnn\", confidence_thresh=0.5)"
   ]
  },
  {
   "cell_type": "markdown",
   "id": "baccff45",
   "metadata": {},
   "source": [
    "#### Run Detection Transformer (DETR) Object Detection\n",
    "We'll now load a pre-trained Detection Transformer (DETR) model and apply it to the COCO validation dataset."
   ]
  },
  {
   "cell_type": "code",
   "execution_count": 26,
   "id": "65f62d6a",
   "metadata": {},
   "outputs": [
    {
     "name": "stdout",
     "output_type": "stream",
     "text": [
      "Collecting ultralytics\n",
      "  Downloading ultralytics-8.3.163-py3-none-any.whl.metadata (37 kB)\n",
      "Requirement already satisfied: numpy>=1.23.0 in ./env/lib/python3.9/site-packages (from ultralytics) (1.23.0)\n",
      "Requirement already satisfied: matplotlib>=3.3.0 in ./env/lib/python3.9/site-packages (from ultralytics) (3.9.4)\n",
      "Requirement already satisfied: opencv-python>=4.6.0 in ./env/lib/python3.9/site-packages (from ultralytics) (4.11.0.86)\n",
      "Requirement already satisfied: pillow>=7.1.2 in ./env/lib/python3.9/site-packages (from ultralytics) (11.3.0)\n",
      "Requirement already satisfied: pyyaml>=5.3.1 in ./env/lib/python3.9/site-packages (from ultralytics) (6.0.2)\n",
      "Requirement already satisfied: requests>=2.23.0 in ./env/lib/python3.9/site-packages (from ultralytics) (2.32.4)\n",
      "Requirement already satisfied: scipy>=1.4.1 in ./env/lib/python3.9/site-packages (from ultralytics) (1.13.1)\n",
      "Requirement already satisfied: torch>=1.8.0 in ./env/lib/python3.9/site-packages (from ultralytics) (2.7.1)\n",
      "Requirement already satisfied: torchvision>=0.9.0 in ./env/lib/python3.9/site-packages (from ultralytics) (0.22.1)\n",
      "Requirement already satisfied: tqdm>=4.64.0 in ./env/lib/python3.9/site-packages (from ultralytics) (4.67.1)\n",
      "Requirement already satisfied: psutil in ./env/lib/python3.9/site-packages (from ultralytics) (7.0.0)\n",
      "Collecting py-cpuinfo (from ultralytics)\n",
      "  Using cached py_cpuinfo-9.0.0-py3-none-any.whl.metadata (794 bytes)\n",
      "Requirement already satisfied: pandas>=1.1.4 in ./env/lib/python3.9/site-packages (from ultralytics) (2.3.0)\n",
      "Collecting ultralytics-thop>=2.0.0 (from ultralytics)\n",
      "  Using cached ultralytics_thop-2.0.14-py3-none-any.whl.metadata (9.4 kB)\n",
      "Requirement already satisfied: contourpy>=1.0.1 in ./env/lib/python3.9/site-packages (from matplotlib>=3.3.0->ultralytics) (1.3.0)\n",
      "Requirement already satisfied: cycler>=0.10 in ./env/lib/python3.9/site-packages (from matplotlib>=3.3.0->ultralytics) (0.12.1)\n",
      "Requirement already satisfied: fonttools>=4.22.0 in ./env/lib/python3.9/site-packages (from matplotlib>=3.3.0->ultralytics) (4.58.5)\n",
      "Requirement already satisfied: kiwisolver>=1.3.1 in ./env/lib/python3.9/site-packages (from matplotlib>=3.3.0->ultralytics) (1.4.7)\n",
      "Requirement already satisfied: packaging>=20.0 in ./env/lib/python3.9/site-packages (from matplotlib>=3.3.0->ultralytics) (25.0)\n",
      "Requirement already satisfied: pyparsing>=2.3.1 in ./env/lib/python3.9/site-packages (from matplotlib>=3.3.0->ultralytics) (3.2.3)\n",
      "Requirement already satisfied: python-dateutil>=2.7 in ./env/lib/python3.9/site-packages (from matplotlib>=3.3.0->ultralytics) (2.9.0.post0)\n",
      "Requirement already satisfied: importlib-resources>=3.2.0 in ./env/lib/python3.9/site-packages (from matplotlib>=3.3.0->ultralytics) (6.5.2)\n",
      "Requirement already satisfied: zipp>=3.1.0 in ./env/lib/python3.9/site-packages (from importlib-resources>=3.2.0->matplotlib>=3.3.0->ultralytics) (3.23.0)\n",
      "Requirement already satisfied: pytz>=2020.1 in ./env/lib/python3.9/site-packages (from pandas>=1.1.4->ultralytics) (2025.2)\n",
      "Requirement already satisfied: tzdata>=2022.7 in ./env/lib/python3.9/site-packages (from pandas>=1.1.4->ultralytics) (2025.2)\n",
      "Requirement already satisfied: six>=1.5 in ./env/lib/python3.9/site-packages (from python-dateutil>=2.7->matplotlib>=3.3.0->ultralytics) (1.17.0)\n",
      "Requirement already satisfied: charset_normalizer<4,>=2 in ./env/lib/python3.9/site-packages (from requests>=2.23.0->ultralytics) (3.4.2)\n",
      "Requirement already satisfied: idna<4,>=2.5 in ./env/lib/python3.9/site-packages (from requests>=2.23.0->ultralytics) (3.10)\n",
      "Requirement already satisfied: urllib3<3,>=1.21.1 in ./env/lib/python3.9/site-packages (from requests>=2.23.0->ultralytics) (1.26.20)\n",
      "Requirement already satisfied: certifi>=2017.4.17 in ./env/lib/python3.9/site-packages (from requests>=2.23.0->ultralytics) (2025.6.15)\n",
      "Requirement already satisfied: filelock in ./env/lib/python3.9/site-packages (from torch>=1.8.0->ultralytics) (3.18.0)\n",
      "Requirement already satisfied: typing-extensions>=4.10.0 in ./env/lib/python3.9/site-packages (from torch>=1.8.0->ultralytics) (4.14.1)\n",
      "Requirement already satisfied: sympy>=1.13.3 in ./env/lib/python3.9/site-packages (from torch>=1.8.0->ultralytics) (1.14.0)\n",
      "Requirement already satisfied: networkx in ./env/lib/python3.9/site-packages (from torch>=1.8.0->ultralytics) (3.2.1)\n",
      "Requirement already satisfied: jinja2 in ./env/lib/python3.9/site-packages (from torch>=1.8.0->ultralytics) (3.1.6)\n",
      "Requirement already satisfied: fsspec in ./env/lib/python3.9/site-packages (from torch>=1.8.0->ultralytics) (2025.5.1)\n",
      "Requirement already satisfied: mpmath<1.4,>=1.1.0 in ./env/lib/python3.9/site-packages (from sympy>=1.13.3->torch>=1.8.0->ultralytics) (1.3.0)\n",
      "Requirement already satisfied: MarkupSafe>=2.0 in ./env/lib/python3.9/site-packages (from jinja2->torch>=1.8.0->ultralytics) (3.0.2)\n",
      "Downloading ultralytics-8.3.163-py3-none-any.whl (1.0 MB)\n",
      "\u001b[2K   \u001b[90m━━━━━━━━━━━━━━━━━━━━━━━━━━━━━━━━━━━━━━━━\u001b[0m \u001b[32m1.0/1.0 MB\u001b[0m \u001b[31m20.4 MB/s\u001b[0m eta \u001b[36m0:00:00\u001b[0m\n",
      "\u001b[?25hUsing cached ultralytics_thop-2.0.14-py3-none-any.whl (26 kB)\n",
      "Using cached py_cpuinfo-9.0.0-py3-none-any.whl (22 kB)\n",
      "Installing collected packages: py-cpuinfo, ultralytics-thop, ultralytics\n",
      "\u001b[2K   \u001b[90m━━━━━━━━━━━━━━━━━━━━━━━━━━━━━━━━━━━━━━━━\u001b[0m \u001b[32m3/3\u001b[0m [ultralytics]\u001b[0m [ultralytics]\n",
      "\u001b[1A\u001b[2KSuccessfully installed py-cpuinfo-9.0.0 ultralytics-8.3.163 ultralytics-thop-2.0.14\n"
     ]
    }
   ],
   "source": [
    "!pip install ultralytics"
   ]
  },
  {
   "cell_type": "code",
   "execution_count": 12,
   "id": "5e6f71a3",
   "metadata": {},
   "outputs": [
    {
     "name": "stdout",
     "output_type": "stream",
     "text": [
      " 100% |███████████████████| 50/50 [1.4m elapsed, 0s remaining, 0.9 samples/s]     \n"
     ]
    }
   ],
   "source": [
    "model_rtdetr = foz.load_zoo_model(\"rtdetr-x-coco-torch\")\n",
    "coco_dataset.apply_model(model_rtdetr, label_field=\"predictions_rtdetr\")"
   ]
  },
  {
   "cell_type": "markdown",
   "id": "e31731d4",
   "metadata": {},
   "source": [
    "#### Run YOLOv11n Object Detection\n",
    "We'll now load a pre-trained YOLOv11n model and apply it to the COCO validation dataset."
   ]
  },
  {
   "cell_type": "code",
   "execution_count": 13,
   "id": "16d1c17b",
   "metadata": {},
   "outputs": [
    {
     "name": "stdout",
     "output_type": "stream",
     "text": [
      "WARNING ⚠️ Error decoding JSON from /Users/adonaivera/Library/Application Support/Ultralytics/persistent_cache.json. Starting with an empty dictionary.\n",
      " 100% |███████████████████| 50/50 [10.6s elapsed, 0s remaining, 6.7 samples/s]      \n"
     ]
    }
   ],
   "source": [
    "model_yolov11n = foz.load_zoo_model(\"yolo11n-coco-torch\")\n",
    "coco_dataset.apply_model(model_yolov11n, label_field=\"predictions_yolov11n\")"
   ]
  },
  {
   "cell_type": "code",
   "execution_count": null,
   "metadata": {},
   "outputs": [
    {
     "data": {
      "text/html": [
       "\n",
       "<style>\n",
       "@import url(\"https://fonts.googleapis.com/css2?family=Palanquin&display=swap\");\n",
       "\n",
       "body, html {\n",
       "  margin: 0;\n",
       "  padding: 0;\n",
       "  width: 100%;\n",
       "}\n",
       "\n",
       "#focontainer-327b588e-c021-4775-bd35-aa80e87b7a88 {\n",
       "  position: relative;\n",
       "  height: 800px;\n",
       "  display: block !important;\n",
       "}\n",
       "#foactivate-327b588e-c021-4775-bd35-aa80e87b7a88 {\n",
       "  font-weight: bold;\n",
       "  cursor: pointer;\n",
       "  font-size: 24px;\n",
       "  border-radius: 3px;\n",
       "  text-align: center;\n",
       "  padding: 0.5em;\n",
       "  color: rgb(255, 255, 255);\n",
       "  font-family: \"Palanquin\", sans-serif;\n",
       "  position: absolute;\n",
       "  left: 50%;\n",
       "  top: 50%;\n",
       "  width: 160px;\n",
       "  margin-left: -80px;\n",
       "  margin-top: -23px;\n",
       "  background: hsla(210,11%,15%, 0.8);\n",
       "  border: none;\n",
       "}\n",
       "#foactivate-327b588e-c021-4775-bd35-aa80e87b7a88:focus {\n",
       "  outline: none;\n",
       "}\n",
       "#fooverlay-327b588e-c021-4775-bd35-aa80e87b7a88 {\n",
       "  width: 100%;\n",
       "  height: 100%;\n",
       "  background: hsla(208, 7%, 46%, 0.7);\n",
       "  position: absolute;\n",
       "  top: 0;\n",
       "  left: 0;\n",
       "  display: none;\n",
       "  cursor: pointer;\n",
       "}\n",
       "</style>\n",
       "\n",
       "<div id=\"focontainer-327b588e-c021-4775-bd35-aa80e87b7a88\">\n",
       "   <div id=\"fooverlay-327b588e-c021-4775-bd35-aa80e87b7a88\" style=\"display: none;\">\n",
       "      <button id=\"foactivate-327b588e-c021-4775-bd35-aa80e87b7a88\" >Activate</button>\n",
       "   </div>\n",
       "   <img src='data:image/jpeg;base64,/9j/4AAQSkZJRgABAQAAAQABAAD/4gHYSUNDX1BST0ZJTEUAAQEAAAHIAAAAAAQwAABtbnRyUkdCIFhZWiAH4AABAAEAAAAAAABhY3NwAAAAAAAAAAAAAAAAAAAAAAAAAAAAAAAAAAAAAQAA9tYAAQAAAADTLQAAAAAAAAAAAAAAAAAAAAAAAAAAAAAAAAAAAAAAAAAAAAAAAAAAAAAAAAAAAAAAAAAAAAlkZXNjAAAA8AAAACRyWFlaAAABFAAAABRnWFlaAAABKAAAABRiWFlaAAABPAAAABR3dHB0AAABUAAAABRyVFJDAAABZAAAAChnVFJDAAABZAAAAChiVFJDAAABZAAAAChjcHJ0AAABjAAAADxtbHVjAAAAAAAAAAEAAAAMZW5VUwAAAAgAAAAcAHMAUgBHAEJYWVogAAAAAAAAb6IAADj1AAADkFhZWiAAAAAAAABimQAAt4UAABjaWFlaIAAAAAAAACSgAAAPhAAAts9YWVogAAAAAAAA9tYAAQAAAADTLXBhcmEAAAAAAAQAAAACZmYAAPKnAAANWQAAE9AAAApbAAAAAAAAAABtbHVjAAAAAAAAAAEAAAAMZW5VUwAAACAAAAAcAEcAbwBvAGcAbABlACAASQBuAGMALgAgADIAMAAxADb/2wBDACAWGBwYFCAcGhwkIiAmMFA0MCwsMGJGSjpQdGZ6eHJmcG6AkLicgIiuim5woNqirr7EztDOfJri8uDI8LjKzsb/2wBDASIkJDAqMF40NF7GhHCExsbGxsbGxsbGxsbGxsbGxsbGxsbGxsbGxsbGxsbGxsbGxsbGxsbGxsbGxsbGxsbGxsb/wAARCAMgBcIDASIAAhEBAxEB/8QAGgAAAgMBAQAAAAAAAAAAAAAAAAIBAwQFBv/EAEkQAAEEAAQDBQMJBwMCBgICAwEAAgMRBBIhMUFRYRMicYGRBTJSFBUjM0JTobHBVGJyktHh8DRDgiTxBjVEZHOiY5OyJYPS4v/EABkBAQEBAQEBAAAAAAAAAAAAAAABAgMEBf/EADARAQEAAgICAgICAQQABgMBAAABAhESMSFRA0ETMiJhcUJSgfAEFDORocEjsfHR/9oADAMBAAIRAxEAPwDkIQhAIQhAIQhAIQhAIQhAIQhAIQhAIQhAIQhAIQhAIQhAIQhAIQhAIQhAIQhAIQhAIQhAIQhAIQhAIQhAIQhAIQhAIQgmggEJcx6IzHogZCXMeiMx6IGQlzHojMeiBkJcx6IzHogZCXMeiMx6IGQlzHojMeiBkJcx6IzHogZCXMeiMx6IGQlzHojMeiBkJcx6IzHogZCXMeiMx6IGQlzHojMeiBkJcx6IzHogZCXMeiMx6IGQlzHojMeiBkJcx6IzHogZCXMeiMx6IGQlzHojMeiBkJcx6IzHogZCXMeiMx6IGQlzHojMeiBkJcx6IzHogZCXMeiMx6IGQlzHojMeiBkJcx6IzHogZCXMeiMx6IGQlzHojMeiBkJcx6IzHogZCXMeiMx6IGQlzHojMeiBkJcx6IzHogZCXMeiMx6IGQlzHojMeiBkJcx6IzHogZCXMeiMx6IGQlzHojMeiBkJcx6IzHogZCXMeiMx6IGQlzHojMeiBkJcx6IzHogZCXMeiMx6IGQlzHojMeiBkJcx6IzHogZCXMeiMx6IGQlzHojMeiBkJcx6IzHogZCXMeiMx6IGQlzHojMeiBkJcx6IzHogZCXMeiYai0AhCEAhCEAhCEAhCEAhCEAhCEAhCEAhCEAhCEAhCEAhCEAhCEAhCEAhCEAhCEAhCEAhCEAhCEAhCEAhCEAhCeFodMxp1BcAUF2G7sT3AAmwNQrxEyCUDKHPPF2jfAKJAGvlDQAA9ugW1zWvaWuFg8FiTzW7fEZHwRTkgDspeXNY5oJITTxpwI2XQkhLR94z4XHUeBSMlLmHLUzPhd7w/qnLX7HHf6uahPLl7R2UU29Ei2wEIQgEIQgEIQgEIQgEIQgEIQgEIQgEIQgEIQgEIQgEIQgEIQgEITxxulkbGwW5xoBAiFa/DyxsL3MIaHFt9VDIXvifI0WxlZje1oK0IVkcEskgjYwlzhYHNBWhSdDRUIBCEIBCEIBQ7ZSodsggCymyjqobuVKAyjqjKOqEIDKOqMo6qUIIyjqjKOqEIDKOqMo6oQgMo6qCK2UodsECIQhAIQhAIQhAIQhAIQhAIQhAIQhAIQhAIQhAIQhAIQhAIQhAIQhAIQhAIQhAIQhAIQhAIQhAIQhAIQhAIQhAIQhAIQhAIQhAIQhAIQhAIQhAIQhAIQhAIQhAIQhAIQhAIQhAIQhAIQhAIQhAIQhAIQhAIQhAIQhBKEAE7AmtUAEmgLJ4IIUoIo0d0IIQtjPZ78gfLIyIHbMVXicHJhwHGnMOzggzp2+6EidvuhAIQpQCFCEEoUIQShQhBKFCEEoUIQShQhBKFCEEoUIQShQhBKEI4IIQhS0Fzg0CyTQCCEKxrBUgecrmjQHibSljmsa8tIa7Y80CoQtEWDnlZna3u1Ys7oM6FqbgMQQe5VcyNVnc0scWuFEbgoFQrcPA/ESZGeZ5Lez2fhnNvtS7qHBBy0LXisGIgXxPzsBo82rIgELY32dM6MPBZqLAvVJDgZpmlwytANd4oMyFZNE6CUxvqxyVaAQhCAVmH/1Ef8Q/NVp4XBszHHQBwJQbJfrJv42resMoOZ7mjM17mkObqNFse9rG29wA6rM+2renKmxMkpIJpvIKuK+1bRI1GytZh+7nmd2beR3KsY/NTYmBkYIzOcpy34i8deaMSWdmQ8gyB1A8d+KxqyZwfM9w2JtVq446TLLk0+z4WYjGRxSXldd14LTN82RSPjMM5LSRYcFX7H/8yi8/yTe0ZMIZJWxwPbLnNuLtN+S0yrkigOEiMTJe2cdSRoVrxuEw2HiZAyB7p3AHtNatTJK+H2TgpIzlcHmjXirfamNxEOLhZHJTS0GsoOqDm43Avwk4jBL7ANhtLLlIdlo5tqpdr2tjZoccxrXdxuV+WhurThGye1I8WB9C5naE9UHLwWAfiJ3NluJjBmeSKIC1D5oe8QhkoJNCS/7/AKK3DzHE4f2i9vvu1HguKAS4AblBpxmDfhsUYQC+9W0NwqWwSvaXNie5o3IaaC7k5r2vgmn3wzvKpmPxB9sCHOBEHluUAVSDigEmgLPJPJDLEAZI3sB2zNIXbwcLGY7HSjK0xnul2zb4oEjHYaePFY6GYOb3aIsFBwEKVCDozmHCRRR/J45C+MOc913Z5K5sUDJ4MGcO14kYC6Q+9Z5LEzHzshEVtLQKBc0EgKWe0cSyIRh40FB2UZgOVoL3tiwWGjcYWTOkLrL70ANaJmiGCLDXhmSGckuLr0F7BZIcdPBH2bS0tuwHNBo9LTRe0MRCzK1zSLsW0HKeiB8RhIYpZQMSxpY40wtJKvlml+b3DGFtyV2TMoBHXoFze0d2vaE267s66q+bHzzgiTs3WKJ7MX6oOg6Z8OOhwcbW/J3BoLcoOa9yqe63BY6JrGVG8U4DU681lZ7QxMcYY14oCgSASB0KWPGzRQuibkyO3tgNoN2Fxc8eCfNK8GNoyRtLRqfTgqcNBhhMztJ2SiTuloBBBPFZpsS6aKKOg1kYoAfmqQaNhB1PkQg7GExMfO95ccxoZQrhDFnwszBCH9tlPYk5T6rmOxuIdiGzmT6RooGk7/aGIfk1aAx2Zoa0AAoNow0c+UOHvYlwJ6KO1ZLgsYyOBkWUtAy7nXiuecXNQGeqf2gofaVkvtHETRuY4tDXe9laBaDccNH2ErZIsO2SJmYBjiXA9U8nZze08Ox0TQOzBsE8tlzne0sS6NzC5tOFOOQWR1Kj5wxH0ZtuaMU12UXWyDU1sOGiw4dh2SmckuLuAuqCZ8MGEhncYWylk2VuYnQV+Kxw+0MRBHkY5pANjM0HKeiqOIldE6Nzra52c3xKDbisLhzMHCZmHDmNdlIJ3HBaIJWnDQQQYxkctEZTHmzG+fBcmaZ8xaZDZa0NGnALRDjWwhpbhYu0bs/X1q0GjtJcDgWPipsr5HB7qBOnBUe1GtE8bw0NdJGHOAFaquLHTwl2VwIccxDgCL5qmWV80hkkcXOO5QIodspUO2QDdyrYYu1kDMzG9XuoKpu5TbINXtDCtw05DHMLb0AfZHitHzfG6CxmZKMthz2nfoNQufLK+aQyPNuO5V78fO+MsLm0ashoBNbWUG1sEBgnw8PaA9oxjnPI113VczYGez8QyASd2VoJeRrus0mPxEjC1zmiyCSGgEkcSVE2NmmjLHltE2aaASeZQWxYWB+CMozySCy5rXAZfLirZ8Nh34tjI43hojDnU5reG9lZI8XLFEY2ZACCM2QZqPVMMfMC09wlrcurAcw5Hmg0y4HDwmSR7nuia1pAa4Xr12TfN+HDnvLn9m1rSA57WmyOZ0WUe0Ju0L3kOtuXLlFV4Upl9oSPndI1rWhzQ0scA4GulIKcXEyHEOZE8PZwIIP5Kl2wTyPMjy91WeQoJHbBAiEIQCEIQCEIQCEIQCEIQCEIQCEIQCEIQCEIQCEIQCEIQCEIQCEIQCEIQCEIQCEIQCEIQCEIQCEIQCEIQCEIQCEIQCEIQCEIQCEIQCEIQCEIQCEIQCEIQCEIQCEIQCEIQCEIQCEIQCEIQCEIQCEIQCEIQCEIQCEIQWQyPjkDo/e2rn0W2RjYGPlhaO1+0LvsrWKKV0TszKzVQJGyI5XxSZ2nXjfHxQITZs7q/BNDsZEHbWqCbJNAXyUtcWODmmiNQUHexLIw3tZI+0LBQbvv0SCHs/Zzo5K90k8hxVDPaUckWWUvjdxLVTjfaAmjMcQIadyUHPTt90JE7fdCAUqFKCEIQgEIQglWyQtZQzkvIBoN5qla53NlDanYAANCDe3ggzCN5JAY4kaHTZWMgeZWMe1zMxqyFq7ZkskTWu1a8Xp7/VKJGRvAdKH/AEma9e6EGQRPIJaxxaNyAjs30DkdR2NbrVHKz6NxlyiO7br3lDcSxr4e93WtII5HVBmdG9jg17S0nmKTywtjcWB5c8GqDU2IkDsjc0ZDde5f6q2V7HTiTtmFocCBRv8AJBnEEpc1vZuBdtYUdjJnLAxxc3cALQzENBcXPP1ocPBM2Vje0Z2jCS7MHOzUfRBkEbyCQx1DjSHRSMrNG4XtYWiSfO0AOFmSyG2AVZM9scsgdKHFzxpr3aKDJ2LgwkhwIIoFp1UGKQODTG4OOwrUrT24LpD2mpkBaTron7aJkodmbmc0g1ZaD+aDE5rmOyvaWnkQo4K7EyZ3NFsOUVbL/VU8EEJ2NYQ4uflIGml2kTNIDgS3MAdRzQdfCQxOwzXFoeXC3F2pJXPxDIxLK0ykBmjG1fl0UNmNSkSGO9Q1ugKqc8OY0ZQCLsjigiNueRrfiIC7c8vycRhkZc0nLpwXEY4se1w3abC3O9pvLBlZT715FBtknLMRHF2ZIf8Aa5LD7VjDZmvH2hr5IZ7TkLx2gAaN8o1PqqMXinYlwJaGtbsEGr2eC3Bzvbq7XTwC5q0YWcwucCSGu0JG46qMU5rpQWlh0slgoWg1eze9BOx1ZP7LnLp4rFxRxGLDZddy3YLmIPQQfUR/wj8lXgvqP+TvzWaP2lGyNrSx9gAcFEWOjgZkILtSbbtqgz+0v9Y7wH5LKrsVMJ53SNBANbqlAIQhAIQhBqwZIDi2QNdpodiFaJmOmoPBd8btvJYELFx3fLcy1PEaJMrXEyO7V97A6bqp8jpKs6DYDYJELbAQhCDRgsQMLimTOaXBvAKueQSzvkAoOcTSrQg2S4xsmAhw4YQYzZN7ox+MGKnZIxpblaBqsaEHQxuNw+MiDjA5uIoDMDotRmlw3sENktrnktaDvS4wNGxurJ8RLiHB00heRtfBBZgsW/Bz9o0ZgRTmniFtbj/Z8b+1jwTu13FnQFclCDZHjnfOAxcozEG6CVuKaPaPyrKaz5sqyoQb2e0jHjZZmsuOX3mHiES4jAGJwiwjg9w0Jf7qwIQCEKWmjdA+KCEKztP3GeiO0/cZ6Kbq6itCs7T9xnojtP3GeibpqK0KztP3GeiO0/cZ6JumorQrO0/cZ6I7T9xnom6aitCs7T9xnojtP3GeibpqK0KztP3GeiO0/cZ6JumorQrO0/cZ6I7T9xnom6aitCs7T9xnojtP3GeibpqK0KztP3GeiO0/cZ6JumorQrO0/cZ6I7T9xnom6aitCs7T9xnojtP3GeibpqK1DtlKh2yqBu6bzHqq/I+iPI+iCzzHqjzHqq/I+iPI+iCzzHqjzHqq/I+iPI+iCzzHqjzHqq/I+iPI+iCzzHqjzHqq/I+iPI+iCzzHqldsEvkfRHkfRAIR5H0R5H0QCEeR9EeR9EAhHkfRHkfRAIR5H0R5H0QCEeR9EeR9EAhHkfRHkfRAIR5H0R5H0QCEeR9EeR9EAhHkfRHkfRAIR5H0R5H0QCEeR9EeR9EAhHkfRHkfRAIR5H0R5H0QCEeR9EeR9EAhHkfRHkfRAIR5H0R5H0QCEeR9EeR9EAhHkfRHkfRAIR5H0R5H0QCEeR9EeR9EAhHkfRHkfRAIR5H0R5H0QCEeR9EeR9EAhHkfRHkfRAIR5H0R5H0QCEeR9EeR9EAhHkfRHkfRAIR5H0R5H0QCEeR9EeR9EAhHkfRHkfRAIR5H0R5H0QCEeR9EeR9EAhHkfRHkfRAIR5H0R5H0QCEeR9EeR9EAhHkfRHkfRAIR5H0R5H0QCEeR9EeR9EAhHkfRHkfRAIR5H0R5H0QShR5H0R5H0QClR5H0R5H0QCEeR9EeR9EAnb7oSeR9E42CAUqEIJQoQglChCCUKEIJBLSCNCNiEHU2VCEEoUIQShQhBKFCEE7IJLiSdSdyVCEEoUIQShQhAIQhAIQhAIQhAIQhAIQhAIQhAIQhAIQhAIQhAIS2UWUDIS2UWUDIS2UWUDIS2UWUDIS2UWUDIS2UWUDIS2UWUDIS2UWUDIS2UWUDIS2UWUDIS2UWUDIS2UWUDIS2UWUDIS2UWUDIS2UWUDIS2UWUDIS2UWUDIS2UWUDIS2U16WgEJbKLKBkJbKLKBkJbKLKBkJbKLKBkJbKLKBkJbKLKBkJbKZAIQhAIQhAIQhAIQhAIQhAIQhAIQhAIQhAIQhAIQhAIQhAIQhAIQhAIQhAIQhAIQhAIQhAIQhAIQhAIQhAIQhAIQhAIQhAIQhAIQhAIQhAIQhAIQhAIQhAIQhAIQhAIQhAIQhAIQhAIQhAIQhAIQhAIQhAIQhAIQhAIQhAIQhAIQhAIQhAIQhAIQhAIQhAIQhAIQhAIQhAIQhAIQhAIQhAIQhAIQhAIQhAIQhAIQhAIQhAIQhAIQhAIQhAIQhAIQhAIQhAIQhAIQhAikalQpHHwKA05FGnI+qrQgs05H1RpyPqq0ILNOR9Uacj6qtCCzTkfVGnI+qrQgs05H1RpyPqq0ILNOR9Uacj6qtCCzTkfVGnI+qrQgs05H1RpyPqq0ILNOR9Uacj6qtCCzTkfVGnI+qrQgs05H1RpyPqq0ILNOR9Uacj6qtCCzTkfVGnI+qrQgs05H1RpyPqq0ILNOR9Uacj6qtCCzTkfVGnI+qrQgs05H1R1CrTt90+KAU8FCngghb8Lg4pYoXPE9vJByNsaXssC3YbGRRRxNcJyWEk5ZCBry5IKsVAyGOFzBJb22c4oeSzLRiZ2TMiawSAsbRzPJHlyWdBYIZTGZBE8sG7g016qtdNrvlsDY2uliljiqvsPaPyQ/CRDAyFzGNmjY11tc4nWt7048EHMQuvNFhI/ldYUf9O5oHfd3rNapH4fDxHEvGH7QM7MtYXHTMLOyDm5XZC/KcoNE1paVdeTCxjPhxbY3YmMUTq22nT8VE0Xs9k7WuaW5ZC17WZz3aO9jnyQclC1Y6IRStysY1jmBzSxxIcOeuqyoBM3ZKmbsglWQx9rIGXVgm/AWq1ow2JfE4AvdkAOgPT+qDOhPJI+QgvcXVzKRAIQhAIQhAIQhAIQhAIQhAIQhAIQhAIQhAIQhAIQhAIQhAIQhAIQhAIQhAIQhAIQhAIQhAIQhAIQhAIQhAIQhAIQhAIQhAIQhAIQhAIQhAIQhAIQhAIQhAIQhAIQhAIQhAIQhAIQhAIQhAIQhAIQhAIQhAIQhAIQhAIQhAIQhAIQhAIQhAIQhAIQhAIQhAIQhAIQhAIQhAIQhAIQhAIQhAIQhAIQhAIQhAIQhAzGOkeGtFk7BWS4aWFuZ7dOYKbBytinDn7EVfJbMZPF8nc0Oa4u0ABtBy0K3DgOxEYIsFwseaaNoInsDRunTUIKELS/DBoeBJb2NDiMvDx81EuGEb2tzOOY7hmh8OaDOhaXYQggBx7zS5oLaJrhSlmDLhZcdGgkNbZF7BBlQtLsMIy/tZMrWkAENu71SYtobipA0AAHQBBEEbX5y8kNY2zQ13Vxw8LQ55e/IGtcKAvVJhwTHOALOTh4haW2xua5BliZYZvxQYp4xFJlaSRQIvqFWr8YPp/ec6wDbt9lQgEIQgRSOPgVCkcfAoK0IQN0Fow05jziJ2XnSqXoGTxOiDw9ob1NUuFM5rpnuYKaXEjwQIha5oI2PwgaPrI2udruS4hWSezy6aYskiiibM6Judx3B0CDAhaz7PkZG98kkcYa5zKcTqRvsErcE58BlZLE6gC5oJtovc6IMyFr+bp88jKGZjxHV+8TtX5pnezZg+NrHxyZ3llsdoCOeiDEhbcThY4MFG8Pjke6RwL2EkUANFWcDKCbLaEXbZr0Lf68EGZC6Mvs17sRLXZQRtcGjM8kWRdA0q2ey8Q+WOMZczy4b7Fu9/5xQYkK6XDyRRRyPoB5cAOOhoqlAIQhAIQhAIQhAIQhAIQhAIQhAIQhAIQhAJ2+6fEJE7fdPiEAp4KFPBAIQmDCd9ECoT9n1R2fVA3ymfsuy7aTs6rLmNUoOImMXZGaQx1WXMarwSlhG2qVAxlkdnuR5z+9Z97x5q+LGyxRSta9+eQt74dqAL0/FZUwaSgkyPdeZ7jmOY2dzzVhxeJcWk4iUlurSXnRJ2fVHZ9UESSvmfmle57ubjaVMY+RSkUdUAgGlCkAnZBOZGZN2fVHZ9UC5kZk3Z9UhBG6CcyMyVMxjpHBrRZKAzIzLYz2c4jvyAHkBab5uH3h9Fz/AC4e3X8OfphzIzLd83D70+izz4SSEZvebzCT5Mb4lS/FlJuxTmRmSqV0c05kZlpiwEjxbyGdNyrfm4fen0XO/LhPt0nxZ36YcyMy3fNw+8PoqpcA9gthz9Nik+XC/Zfizn0zZkZlChdHM2ZGZXQYSSYZtGt5nitHzcPvT6Lnfkxni10nx5WbkYcyMy3fNw+8Polf7OIFsfZ5EUn5cPa/hz9MeZGZD2OjcWuFEJV0cjZkZlABOyfs+qBcyMybs+qOz6oFzIzKCCN1CBsyMyGMdI4NaLJWxns5xHfkAPIC1nLPHHtrHDLLqMeZGZbvm4feH0R83D7w+ix+bD23+HP0w5kZlu+bh94fRVS4B7BbDn6bFWfLhftL8Wc+mbMjMoULo5mzIzIDSU3Z9UC5kZk3Z9VBj5FBGZGZQRR1UIGzIzJUIGzIzJUIGzIzJUIGzIzJUIGzIzJUIGzIzJUIGzIzJUIGzIzJUIGzIzJUIGzIzJUIGzIzJUIGzIzJUIGzIzJUIGzIzJUIGzIzJUIGzIzJUIGzIzJUIGzIzJUIGzIzJUIGzIzJUIGzIzJUIGzIzJUIGzIzJUIGzIzJUIGzIzJUIGzIzJUIGzIzJUIGzIzJUIGzIzJUIGzIzJUIGzIzJUIGzIzJUIGzIzJUIGzIzJUIGzIzJUIGzIzJUIGzIzJUIGzIzJUIHa8tcHN0INhWvxRe1zQxjc+ri0brOhBecS4ve4gW9uU+Gn9Ewxjm5QxjWhpzUL1NVzWZCDQcU7NGWsa3sz3QLR8qcXSFzWuEm7Tss6EF7cTlDh2bC1xBym6B9Ussxlkc9wFu5KpCCxkrmG2Oc08waTfKJc2btH2eOYqlCB3PLiS4kk8SozJUIGzISoQCkcfAqFKCtCbJ1CMnUIFQmydQjJ1CDXFjYgyHtsP2j4PccH1YuwDokkxjpISxzBmdMZi4HiRtSz5OoRk6hBub7Sa2SeTsnkylxLDJ3DfMVrSk+0wcKYezfZiEf1ndFcQ2t1gydQjJ1CDa72pIfkxawB0JDnG/fNAWfIUmd7T/AOojlYJjlcXFkkxcNRVDTTcrBk6hGTqEGjEYmJ+HZDDC6NrXl3efmu66dFJxzj7OGEyjf371Ld69dVmydQjJ1CDon2sXGYOZIxsjw8dnLlcDVb1rsqme0pI4J42g3I7M15dbm89eOwWPJ1CMnUIL8fjDjZxJkDABQaDfU/iSsybJ1CMnUIFQmydQjJ1CBUJsnUIydQgVCbJ1CMnUIFQmydQjJ1CBUJsnUIydQgVCbJ1CMnUIFQmydQjJ1CBUJsnUIydQgVO33T4hRk6hSBQpAKeChTwQNGNbViSPZOgBqaCaWN0Tg14o1dKzCPYyYGTloeR5pJ2PZK4PNne+fVAirkGtqxJJsgVotytVTD3lag04XDdq0vNHcNbdZitL8JGcoMYjBbq7NseXVHs5zHxhpAzxkkX1VuLxEMf0crC+xdUg5UjDHI5jtwaVbxYvkrJZDLK550LikcaaUFStAoUqgaIVyDdgYy6Fxa1jnZwDnHBap8JHKyg0NdwIC5+DxJw76OrHb9F12uDmhzTYOxQcKSN0Tyx4ohIRYpbfaMzJHhrNS3d36LGgpXTwEQZCH13ncei5hNldfCuz4Zh5CvRcPnt4u/wScl8bDI8NbueabutaLa0kt4HZNhP9S3wP5FQQHNFmiG/Dx5LzyeNvTb50g5XMcQ1oquOqrIBFHUKw5Wse0OBuvsqtZrUcjFRiKdzRtuFf7OiDnukcLy7eKrx782JIH2RS0ezXfRvZyNr1ZW/j28mEn5dNi0OEUFMdHnfXes1Xgs6vMkUgBla8OAq21qvNi9WRZmBha5nuvFi+CqWmVomiD4tmCiziBzWZMpqmN3HP9oxBr2yNFZt/FUYaMSztadtytXtJ/cYziTaowDsuJA+IEL042/j28uUn5dOoAAKGgTtjzZe+wXzdt4pFfG5o7O3sFA3bLr+q82OrfL1Zbk8I+Tn72H+dVvblcW2DXEGwtfaR/exf/qWWUgyEggjmBQWspJPDONtvljx8QfCX13m8ei5i6+LfkwzzzFeq5ANELv8ABbxef55OS0ChSvw2GOIc4BwaGhUrV7PMbZi578pA0vZd3Bo+TQGLsA5na1vxtY8Vhjh3NBdmBG9LX8kaZ/lHajs82e1T7RyGZrmOzEjWjYQYyLFKpXKkmyg6eAiDIQ+u87j0WlV4c3h46+EKxfPzu8ra+jhNYyRLRmcBYFncrZNhYm4cFrxmA3J95Y2tLnBrRZPBbZ4HfJWNaQXR+8B1WsJuXwxndWeWFCELm6uf7RiDXtkaKzb+KyNFuXQ9pEdi0cc36LBH7y9vxXeDw/NJM7pYhCF1cghCECvFi+SqVzvdKqQQhShBCFKEEIUoQQhShBCFKEEIUoQQhShBCFKEEIUoQQhShBCFKEEIUoQQhShBCFKEEIUoQQhShBCFKEEIUoQQhShBCFKEEIVscD5WlzctDQkuAUsw8kl5ctA1ZcALQUoTFjg/JlOa6rim7GXPk7N+besuqCtCsbDK5xDY3kjcAbIdDI1uZ0bwLqyEFaFYYZG1nY5oJqyEz8O8SPYxrnhhokBBShOIpCwvDHFo3NaJUEFCCpQG60yez8VFD2r4S1lWSSNPJZ2OLHteN2m10ZGQe0e1mhe9k+XO6N2oPOig5ildhsOHbio8CcO1wewEy/asi7CrDYMPhsK44dskj3EFxJ4FBy3NLTTgQeRTzQyQlokbRc0OGvArV7YcHe0ZQGBpBokcVvkMUuJw2GkgY4SRNGf7Q0QcJC68GChxDYZGtAbE4tm6ga2uXK5rpXuY0NaToBwCBEKUIIVsUD5tW0BzKqXRa6omAfCFzzyuM8Onx4zK+WSXDSRDMaLeYVK6bHWaOqvEUdfVt9Fz/NZ3HX8MvVcVC7fZR/dt9EdlH9230T/zE9H/AJe+3EQtntCONjmlgAcdwFkXbHLlNuGWPG6QrYIH4h5ZHVgXqVWtGCMYmPayujGXdporTJfkkvZdpQy3l343SWeB+HeGSVZF6FaM0Iw1du/Nn93Maq91XjTGZh2UrpBl3cbKDMhShBCFbhgx2IYH1lviuuGtGzR6Ll8ny8LrTr8fxc5vbhq2KB82raA5ldctHIeizyOo0Fj81vUdPwSd1hlw0kQzGi3mOCpXTY6zR1WXHNY2UZABpqAtYfJbdVjP45JuMyFKF2cVsWGklZnBa1t1bnVaf5G/7yL+cJiWjBwZwS3M7QFVMax4dlY4lrLOvHn4IImgfDlLspDti02FUtM3+iw3i/8AMLOghClCCEIQgEIV3yWb7s+qClCtdh5WtLnMIAVSAQhCAQhCAQhCAQhCAQhCAQhCAQhCAQhCAQhCAQhCAQhCAQhCAQpaC5waBZJoBaMZCIHsYBq1gzHmVLlJdLpmQhaIMKZoy7NWtbKozoXQfDDMMkTmNLd6CxzRmKQsJukFangoU8EEsNFWqhMHEbFBagknc2qs7uaM7uaC1VPdZ6KC4ncqEEqxrwd9CqkILw7KQWuojiCpfK6QgvfmI01KzoQXFwHFVudm8EqEAna+tCkQguscwrGYiRkZY19NKyoQXWOYSOfegSIQC0YXEmB1HVh3HJZ0KWTKaq45XG7jtR4mM05koBHWirvlzv2gfzBefQuP4ddV2/PvuO4/ENe7M+VpPMkLNiMaxgLYzmdz4BcxCT4ZvdL891qJJJJJNk7p4ZXQyB7fMc1WhdrNzTjLZduvFiopAO8GniCrO1j+8b6riIXC/BPbvP8AxF+47YmYNpG/zKqXFxRj3g48m6rkoVnwT7pf/EX6iyaV00he7y6JASCCDRGyhC7SamnC227dODGse2pCGu/ArR2sf3jfVcRC434Jb4dp8+Unl2+1j+8b6pX4iJgsyN8ja4yFPwT2v/mL6aMViTO6hYYNgs6ELvJJNRwtuV3TtfWhT2OYVKFUa/lMnY9ln7nLRVWOYVKEDufegSIQg6GAnGXsnGiPd6rauGrm4udooPvx1Xnz+Hd3Ho+P5tTVduCYw5i1oLiKBPBRHM+OTtAbPG+K4/y2f4h6BHy2f4h6BZ/Fn7b/ADYenXleHyOcGhoPAJCQBZ0C5fy2f4h6BVyTyyinvJHLZT8GVvk/PjJ4WY2cTSAN91u3VZwaNqEL1YyYzUeXLK5XdXA2NFZD2ZmZ2xIjvvVyWYEjYqc7uaqO/wDKPZH3Q/lKx+0ZME9jBhGZXA97StFzM7uaC4nigZ7uAValQgEIQgEIQgEIQgEIQgEIQgEIQgEIQgEIQgEIQgEIQgEIQgEIQgEIQgEIQgEIQgEIQgEIQgEIQgEIQgEIQg1YVzuzLQIS0uBPaEJnGGRpjbIGBryQTeoWNCDSZrxnaMcGi9C4K0ug7W87cxbzdlu/VYUIN2InYRLkfq7LtYuhqofO175u/YcAG/gsSlBvxD2xyTZpQ4vIpuumqn5Swl2VzARIXAvza+i57nFzi5xsnclQg2iVj4HCR7OJaG2CD/RYkIQBQhCCQS0gjcarXJ7SxMkbmFzWh2ji1gBd4rK3LffBPgaTXD8D/wCYf0U2umge0sS2ERh40blDsozAcrVDp5Hxxxl3djvLpsouH4H/AMw/oi4fgf8AzD+ib/o1/Z8TipMU4Oly5gKsNonxVw9qYoMDQ5ujcodkFgeKzXD8D/5h/RFw/A/+Yf0Tf9Gv7aYcSyDASsa9xlmNEVo0LErLh+B/8w/oocY67jXA9Tf6Js0RCEKoFbHOWDKRmHDoqkKWS9rLZ0ufiHObTRlvjaqzHmVCEmMnRcre05jzPqjMeZ9VCFUSoQhAK/C4g4aQva0OJFUVQhBq+Wu7DssgrNmvztJisQcTIHuaGkCqCoQgEIQgE/ayfG71SITRs/ayfG71TsxDmind4dSqUKXGVZlYufiHObTRlvc2qlCEkk6LbewhCFUaI8Q1sIjfE2QAkiyRSn5RD+ys/mKzIQXTT9q1jQwMay6A6qlCEAhCEAhCEArY+zIyujc53QqpSCQbBooLJcg0bG5jhzKuhaPkheBFmDt31tSykkmybKbtD2XZ0KzXaDUxjHGElg7zHE6eKpwjh27WOYxwc4A5haGYhzDGcrTkBFHjajtgJGPZE1hab0vVBewtk7Y9nE0sGlihuogGcTO7OJzhVXQCpjnyF9sa4P3BtQZu69rWNaHVoL4IGxbGsmLWgAgDMBsDxVCsllMpaXAWBV81WgEIQgEIQgEIQgEIQgEIQgEIQgEIQgEIQgEIQgtw83YSiQNDiNrWz2piS7LAOABfXPkuehzi5xc4kk7krFwlymTUy1NIWzBGJsb8zgCdDZ4LGhbZdCGBuHf2j5BWw4LJicvbuyGxe6h80kjQ17rA20VaAU8FCnggFayAujD8w1NUqV0MJkMcYNgkEaDfUrOV1ErO3CucBThqmGDcfthaQBHLbCNdaQdWjJRvhssc6zusnyR9XacYFx3e0De1oYSDRHXVWZraR0U502wjBuIsPaoGFcQ+nA5N1ta5pArY7J8oIIaLTnTdc/5K69HApzgnB5b2jb/NaxGAXAXR2PIqH26RpANAi9FeVN1j+SOBouHooOGIFh4K7QhHZ5aNVdaAlJFg2McXucTmFAbapyrWq47cMXCw4KW4Umu+AL3WyXCPie+SzlB2GqtZGezzUNtAQlyp5YRgSa+kaLV49kSHaVvoVoEVua42XHWuR5LT2jY4A0PBfd6n1TlWo5o9kyUPpGa8Ep9mOF/SsNLoPLnsJbpzCSOUNZdandTnU+3O+QvzVnbatHsqQhpzt73QrdM6MRh494bgKRiA0jLqB+Ctyp0wO9kzNGr2qB7Lkol0jQBpa6Ekpcxx4E2qg57Gk891OdS1jPs1w/3WEc0owDvvGrU6V7mu5Hgq2PJboNQnOpyY2QF5cA7Y0mGFcTWYJ4NQ/nmV3JddtM3yV3xBHyV3xBajob5IHIlTYyfJnV7wQcOR9oLUTulNWrsZjAQLsKOyPxBaH7aFIBZtBUISeKDCRXeCuut1LRWh1QU9geaOwPxBXGgL5KW0QDxpBR8nPxBScOQLzBXt1dRT5QEGX5OeDgp+TH4gtNBFBBl+TOvVwQcOR9oLXpyU+AQYxhnfEEDDO07wWyjyKinHgUGX5K7mFBwzh9oLZkdxaVWSLIQZuwPxBHYH4grgdAoe4hhtWFVdgfiCUR2aDlZ2pqgEnEnmm10DDX2vwSltHUp+0dQBVcp+kpPpP8pyC/eCGszOoEKu9Fdhsof3jw9VA/yVwGrgo+Tn4gtJNqE2MzoC2u8DaV8eQgE7q6i0gHg9JP74QVtZm+1SMvVMwkOocUprYb3sqiKHNFdVIChUSGEkAblBjIAJ2KsMeWIOcdzoFW4klNCMo5orqoU3SgMvVFdUWgc0UBt8VohwTpn5WuA0vVVsaRldp0XXwQJjLnAEk+8OK3jjtm3TH80yfeN9Co+apPvW+hXWQunCM8q5PzVJ9430R81yfeN9F1VCnCHKuV81yfeN9EfNj/vG+i6ighOEOVcXEYV0BYC4HMa0SmGt3j0W32mcr4CeBP6LBIfpDpwH5LPGLN2pEQJ98eisGEcdnhZi6jYAWrD4g9fJWY41rV9oODcPthR8lPxhaXSZuLvAoiYXncrfDBjzvtQMG4/bCb5vk+Nqulm7B9ZidFmlxkj/AHnGvFZswXV9m+QOH+6z1Q3AucabKwnoVR2jjtqFLJnxuzN7pHJTWC6y9tPzbL8TVHzbL8TVfhsbPM/LJiMg50rXy4gOr5TQurpa4Ypd+2P5tl+JqR2Ce3dwWs4nED/1R/lVb55X6OnJ/wCKzrD2ayZBBYsPB8lBiA3f+CuhcQ0tbMRryUyQudqZL8kuOMuljPkb8f4KWxZ5Y42u1eQNtrTdkA4Au3NbJoL+W4ez9tv5qXHHjuL9tnzJL98z0KPmOX75noV20LmrifMcv3zPQo+Y5fvmehXbQg4nzHL98z0KPmOX75noV21KDh/Mcv3zPQo+Y5fvmehXcQg4fzHL98z0KPmOX75noV3EIOH8xy/fM9Cj5jl++Z6FdxCDh/Mcv3zPQo+Y5fvmehXcQg4fzHL98z0Kn5jl++Z6FdtCDifMcv3zPQo+Y5fvmehXcQg4fzHL98z0KPmOX75noV3EIOH8xy/fM9Cj5il++Z6FdxCDh/MUv3zPQo+YpfvmehXcQg4fzFL98z0KPmKX75noV3EIOH8xS/fM9Cj5il++Z6FdxCDh/MUv3zPQo+YpfvmehXcQg4fzFL98z0KPmKX75noV3EIOH8xS/fM9Cj5il++Z6FdxCDh/MUv3zPQo+YpfvmehXcQg4fzFL98z0KPmKX75noV3EIOH8xS/fM9Cj5il++Z6FdxCDh/MUv3zPQo+YpfvmehXcQg4fzFL98z0KPmKX75noV3EIOH8xS/fM9Cj5il++Z6FdxSg4XzFL98z0KPmKX75noV3UIOF8xTffM9Cj5il++Z6Fd1CDy+OwL8Fkzva7Pe3Sv6rKux/4h/9P/y/RcZBKFCEApAs0oTM94IAtIUUndulQRSKUoQRSKUoQRSKUoQRSKUoQRSKUoQRSKUoQRSKUoQRSKUoQRSKUoQRSKUoQRSKUoQRSKUoQRSKUoQRSKUoQRSKUoQRSKUoOyBVPBQp4IIXVwRz4SNooOaTR25rlLp4WNjsA55vM0Hjp0/VSzfhKsLaI0a4jbWkNgBcQb8kkkTW1x19E/Ygt7rjuAATwXPjj7ZQ5gyjpz47JclCi70V5wreyzNeb62lGCMjQWNJ4eBThj7NVSS3IQG6tvXla0QuAoSAXXepVHCSMcM7SL0vVQ3D5bJNE7q8cfZNxa6MxyEWABrqbtNkDXW2g4bgKiFglvOXU3dDmNL8oJ52SnHH2rY8yFuhq22CE0OYOq+HoqIcK6U0C/bqtDPZfxyEeBTjj7a3U2Mjy4nQ3YWGWd5e4BtNaFv+bIwPrX+qrf7LG4eSmsfa3d+mGIucHON0PJEkeUhrcxcdfBWvwnZNIcTmHiAiOJrjVvJ6FXjjPtmbQ4tazJG7vNHLdUSPLcpGo2taTghG0ue8BzhdWs0sGUbA1r4KccfZdrBIbs8d+KZpa8A7XoszQ1xIduFFgEDgeqvHH2su/pryu1p1acEzQ4ZaF1qSVlawG61viCma0OcBn0560pxx9s1cR2mehpd2VWBkJ58aSPFaMJLfFK5oABHEWpxx9s2q8P8Ab/iV9arPhjQeeqvB46rddBWt7gpuiKUb2KQKeoUcOaZ2llIf+yCHbJBpoU7qylIOZ4KiR6lSDVngouhe6nbZBNC7A33UitlH5oHM7oJZqTeivZoy6BPVVN4+C0RC4x/EESmZHI812VeITDDygmsvqFc17mw977W3NS2QhrjQAcVi5aTah0MwFkabaUqstgnMLHBaXSRloyxDe3alJGWh7i5tAnalnnYm1QadideQKZ8L2ixJXTonyDtCGaA62d/BNED2joy6m1pacqbqqSKWOi8gg8Qsp3K6GKsRs1sXa5594rpjd9rvwqIGneAI6qHgvBaCL8Vje8ueSShriHaFbnhdVoyivfafNTlb8TfVZKWl0bXQ3WtgWtzHGzaby9mLWkjvtHmkdFmfYkb6pZoWsLavVWQRtbK4b0FJrpN3WyGPhmZ6p4YyJRqDpzSSD6Q0NLTYf68eBS4zW13WrggoUHZcmk4kD5QANLP6KjEe83wVspudqpxFEtrqr9isFAAvXZKnsLSHaGG96W7BswkrWteC1443uuZauimyuBq65qdDVj8M2BvekJLvdHIcVzz0WuSR+IJfIb1odFndGG5W6571HRW3dIrQn7NxvK00BaUtINEUU0IU6nRRqrYYw/MS4NyixfEoLmYeRrWyOZY5FdLCucKYGUN9VkwuJzVHOSQ3UFdJkjH2WkFdMYzTIKNCpXRgqhNShAqhMikHM9rf7Pn+iySs7xPgtntf/Z8/0SSMtnoueU3f+XTDthfGVbhoTm3pb+xYG6tSBgDgQsay06+NqzCcz+8dCPyUPJibQebWlpFy2OI/ILBiXl0rtNOC6XKzFzv7K3uzHUk+KrrXVWAU2z6KtziSufKro9gCgSkJKOCjim6JBPArU7vOYMxurryWPwV8jyx7CDRyhbl7Z+4MxJ94oAsjvFIXGz1UNcc48Vylu3S9GGhOp3VsTzdFxpUF1EjqnjFuC3nbyqTpqeyiw5ie8PzVUH+tw9/E381e76tt7hzfzVUQrG4Xxb+a1/oS9vSoUKVyAhCEAhCEApUIQShQpQCEIQCEIQCEIQCEIQClQhBKFClAIQhAIQhAIQhAIQhAIQhAIQhAIQhAIQhAIQhAIQhAIQhAIQhAIQhBKhCEHG/8Q/8Ap/8Al+i4y7P/AIh/9P8A8v0XGQCEIQCZvvBKmb7wQM7dacLK9sUoB0ayxoNNVmduhr3MDg0+8KKDbhWF8bnvAJlOWyQKHNI0OghGUhj3PLXPI2pZnPc4NBOjRQTjEyAuJIdm3DmggoLw7snvY6UNkNESBtilmma5srg+i7mOKb5TJmLiGEnm0FVve6R5c42SgVCEIBCEIBCEIBCEIBCEIBCEIBCEIBCEIBCEIBCEIBCEIBCEIBPHFJLfZsLq3oJFIJGxQWOw8zGlzonADckKo7Kcx5lQdkCqVClBC6GHIGCqtaNLnrbD/pqHwk/in3Gb9NEZBlAJrTjw1/snY8hoaAAWirPoqBTm5t63KYh7m6CzxI1pednbqYNomkdeoathlZGcg33pZoz8mwgvVxGp4rkYrF3OKcbB3Wt+nXGeHoS9jxRIIWHFR9iQ/dguq4LL27iwObu7qtuFnzl0ctHbfW02tjE0FzvooyHHVbcJgQA18rRmH9Vta1gNtaAeYCZakjOikho0WaaV1EsogC6WotBUdmyqpSy1qXTCySR5ILCACnjke0hpBPVbA0DYKCxp4BZ41eStzGTsyvCynAmOi0k0d1tEYabBWLFY5sT8l7D1RNGkw8YeZJHaVVcgof7OifGQxxFrCZHyh2dwYHb5lrgmy5S1+YbbqzwtjnYrAy4dwJcL4LKMO/NrbiNdF6d7Y8TFrR5LnNY2OR1c9Fdsa0wNacxaRptVJi0MZlJ1T5XMleSczrtEgD6LeHRZrKoloqtPBQ8gNoG9OCeqbsEUMpyt4bKRllw+zr5q+qFA+qpwuztOKv1tdr26Jq1IHBKBQo/gmPIbppCu8FWTrRrorHmr8FmdX6qqY9EoNGkpOuqAUU400UlwqwkJoJAXOJo1ryRGgVdhTpdLMcw1zarQDpqgZhJJvktUH1Z/iWVvvLREajPirEqYJhkAcbdehWjDQ2yy7c6hYmU1jdNlfFiXR90tDr9QuOU8sb8rnHQsyDxHBK+INIcDnBOh2VsdMkLnuJDtmq0FrSC5wyAWAs6Vmb33/RtGm5Kst3cdQ3sD9E0Ja4Zg0ijZynUhVta1/efwJ0tOhXiZC+T3MutlYSe+V0cRRYHXuaApc131jl2w6Pqua73j4qAaKkiy6uChabTZJWkvqMgbkhZibAHBP2j9sxWplqaNLsRZLSASiMkPJPIbqomTLmLjyQ1j3xF+Y6cFcbN9M61NLHOGv8Vow/8AqB4FIyEuPeJAV8DMmIc3fK1XLxNaN+F4RVkDqgJmC5G+K4tVW/64eaqxHvNVsl/KPBVzaSM4qigoVxa2RryxoBGvvcFStINioUqEF0UuQixbbuihry+UuIF0qVZF73kk7S9LGYg01pHHU1umc/Lq6sxGgpQ4tYwDIA/oqiSTZ3VuVax+OXzYsE/NrT5Ke0aeJb5KlCzyrf48fTUZg+8oC0QRmUMc11k7trQV1XOaS02Dqup7KyyShge5pdu0bFamVYy+OTpqDGsmblFWDauVksA+UxhvFrv0WhsIEeVwFrpc45TFiIUUrXxuZuLWdk8fa0+8o3WuUNHqzQUvYWGnClfFiMO2JrwRZ9VaXxyxBx2ItY5+V4vP+2P9nz/RTKWCHYXY/NHtqrhra3foskrzqPBXflcdr3yhxprQnbQFloWaNkjnblbWM4ELj8mep9u+EqjOO0loUDX5LDKbct0rQyaQDp+S57yCSuuV3hjXK/vUOdwShI46qQVyVawWaTSx5RabCtzG1qmhuMqb8tzHw5t6q7EbsP7oVT20VZPuz+ELtj525XuEBUtd3gkbq6irGjvDxWJrbf0V2rj4p4n5LtKQC4nqmY3vN14reWudZ14bDNG5rA27JHDqqcO4OxuHrg5o/FbpA0YONtgkOb+awYb/AFsOumdv5q73gWayeoQlD2EjvDU0l7WvfY5viuKrUJQ7NttVqTpdoJQkMgA018Ej8TEwgF2vTgguQqBi4S0HNV9EDFwk+9w3pBehYz7QYD7jkfL7PcjJA3tBsUrPFjIZAe9lrgU/ymG67QILUKps8btneqdr2vNNIKBkKLq7GyLQShRuLAJ8AoMjRd2K6IGQhveFjZK6RjSQ5wBG+qBkKC9oF2KS9qzTvDVA6FAc07EKUApUWi0EoUWBxQglCpkxMccgY46n8FYyRjxbXA+CBkKLF1eqgva3cgIGQlDmkXYpTmGuo0QShLnaPtBGdvxBAyEoe07OCkOBF2EEoUWKvglZIyS8jg6t6QOhF0oDgTQKCUKCQNyo7RnxBAyEnas+IKWyMfeVwNckDIUWOalAIQDaEHG/8Q/+n/5fouMuz/4h/wDT/wDL9FxkAhCEAmb7wSpmDM4BFk3dQ7gSdFGU8lJjAO5UZB1SXZljcbqjKeSMp5IyDqjIOqIMp5IynkjIOqMg6oDKeSMp5IyDqjIOqAynkjKeSMg6oyDqgMp5IynkjIOqMg6oDKeSMp5IyDqjIOqAynkjKeSMg6oyDqgMp5IynkjIOqMg6oDKeSMp5IyDqjIOqAynkjKeSMg6oyDqgMp5IynkjIOqMg6oDKeSMp5IyDqjIOqAynkjKeSMg6oyDqgMp5IynkjIOqMg6oDKeSMp5IyDqjIOqAynklcCBqmyDqoc2hYQIpUKUELZC6oK5tP5lY1ti/0zfAp9xnL6W6tAysNfa6boY7s3aOOm6aQnIAx1tdXSiqn23U+C87DqYidskYGzXDRcKcDtazDel0Y8zsPnPujkuViBcjj1Wse3oxvhrjmAjy5uHBXYKYiUOJOVu4/BYMNBLO8MYPNd32Z7NEVySkOdsARstWG2/DOL25uB2V5cGjUqBla3QAAJTTm0Tus70nZs7drRmpJTQ6zVnRQ23OJvQaKcjS20E1ul1CggGrTZpRipjHG46jkVw45GOmPaOOYk6ld3FRGRmTKSOi83jIjFiaO56K4tNMgbCARIHAXQKqZjSXgAEgeSxPkcNLJRBXaC9VribejwE7ti0USs2Mky4x4HFNgWEuZRscBVJMex7MWXOFWdOq5sZkk1Ga6vikeSGt0OqZ7hka0G9eKmgW8jVX0Rz2Rzx7m9BQQRrrsnoA5WZSa1JKXJYNEEeKIzYX7XitAFDVZ8O4NY8n4leyRrhWt+C7tnCFNc0XQsqoy4iSn0OCq1edNlDg6aU5azHhzTBuVuXjxUrUSGgcLTgcglBTA8lDaREX7DXmqpIy2waB581d+SCMwIOqTzTbKT3SDva02ABapJYXFpItWC/iHouvCe2eR2Xn1V7D9EfFZtWm8wWlv1PmnHX2b2dkT3uBDSWgVoERsj+07Kb2HHzVrZaeIqdlG5B5p3xtJLdbAscCV57+zPat5DhnAAyihWvqmYe2Y4EG9wRsPFM+DMywAxnPiVLRG17RG5zXfvbH0UVLqDSQ3hQH6ohaHkkOAdyBStjd2ha8UfiJpHaMAyFgLeDgf8tTQMX7jQ4jMDsua76xy3TEuaCdr0s6hYn++5dcOj6rnN+0UzmjvcxqpiZna/UDXcppIjlJD2noFttnT2CPdUxxlzwDoOZVwgr/cYpqiAAYhpuLTYf/TSKOyNV2rPxTDK2JzC4WeQXSZeYxcTN/UJo/8AVS/wqsOYBZcb6BWwm8RIebQr8llvhJLIsTQi52eKVKZTEQ5vvDZcHSomkY2eS3DSwszpO0cDyVTyXOLibJNkqYgdCeK0LW6Xombk7J4d72halBq1HRAZSQTWigBWuvKRrXHopbmY3tG1Z7orgiKKJ2TwgiQXyUuYY6vc/grAGZzTroaaHVanZelR1OqYRkx570CGxueTlGyuDC3DuBWNO1ulLInPFgaJS0tNEaq0ksiZl0vVEupY7mEJbtUrcPM/DyiRhohTILnAPGkz8mYxloFbFNG3dgxbMQ+GW6Ia4O8dETe0m5CYw6xzGhXJwErYWuc4XYqirZsU3IIg7u7igtOP3WiXHvfFR0dd2slOect953/dIC0tvUUOKtje0OsEM581YAXGczqsj3SNlAxjmtoDcqHODpCS7ba1XK9smgaGq7RX7QmMvZXwJr8Er2jc9FVM6w0Hgmlv8lvCz7TXnw6UT4mjZLLM2+6sccnMBWFodwVyuF+mpyn2jMHyyFwvb8lhnblkcG7cFrYPpJGrO9mjs2hAU+bU1IuM3usxHdtQNinIIYbTMic6PQblcF01YEsa23OAWt0sRaakbtsskbJmsrK3zQ2OQkl1eSy6zYkia9gI5KjEtIc3o0LoNgLsMK3pZZ4S5ws7Cl2+O+a55zzDey8M3EymNzsv71Wu2MLgGv7Mxi2i7K53smIxY3Kfhv8AAroY9rXYfvAkBwNBXK9MY4y3VJDBgXGTMxhqSh6f91gx8MLcZD8nAyPF6bKzDxZjIGtOUSD7XlyS4m2Pwxc0tIadCb5q7u+2ssMZrQxHYMYxjWNEmYagdVzsO4jExHTRw/NOZDJiGk8XBVQGpWH94Ju8PLN1y8PSHGaUGt9EfLC73hXksHajkVHbDkVyV0hihVWK5ZUwxbM92aqqpcztW9Udq20HRbiWBoFi+dIGIhv3W14Ln9o3qjtWoNwmjyU4NJ4nLujtoKrsm0sPaDqjtRyKDd2kBrNG30UtkgAIDAL5LD2oR2gQbc+H0oDTojtISbygf54LH2gUdoKQb+0hojQ3/nJMyeNh7teq53atR2oQdM4prhRA9UmaPMXaaiveXP7UdfRHajr6IOiySMADTQV7yHEE5e0OU6+9sud2oR2o6oOk0tFjtDXAZknZxvkzSBp891g7Ucip7QdUHQGRkdOIoHTW9ERsiz5jWXgLWAPCnMOaDfJHG8kjQVoA5S2NjDYcT4lc/MOaM3VB1O5ewPmsxjkOINub2XQrJmRmQaXRSduO9cfE3qrnMaRpK5o66rDajMg0Pw4MuZrydN6UR4dzLdnOY7AKnMjN1QaGxvLu84iuO6YwNIsyOLuVLLm6ovqg0jDE5g4kDpxS/JXBrgJD58VTndzKM7uJKCRhJjuT/Mg4GSiRJdcFGdw2cVPaP+I+qC6LDER9404cBxQMIXtyueWi9gqRI4faU9s/4j6oGfhJWECKQlvU0lGElBd33NHTijtn/GfVT28nxlBf2bzxcfFR2Thxd5BVdvJ8ZR8ok+MoLeyedy6vFK+BwbYtV9tJd5yp+US/GUAYZCDoQobFIw0MwJ4hT8ol+Mo+US/GUEiNxP278E4Eg0p1Kv5RL8ZR8ol+MoLhnaSO94pBnLNC89UnyiX4ip+Uy/Eg5/thrmiHMT9rfyXMXR9rSuk7LMbq/wBFzkAhCEAni+sCRPH74UvTfx/vP8rXbq5jImQNkka5xcSKBqqVLt1c/wD0cX8TlMemvm/9SjPhvuX/AM6XExtjmLWXloEX4KpX4z6//iPyWnJQhXwYV08b5M7GMaaJde6mLBumY5zJIy4WclmzSDOhbG+znuaPpoQ4tz5STdc9lA9nvLwBLFlLM+ezVeiDIhbWYMMbLnyyDss0bmnQ60kmwEkMTnlzCW1maDq20GVC0/JWnAtn7VocXZcpKk4CT6Ps3xyB7soLToCgyoWwezpHFnZyxPDnFttJ0I8lnmi7F+XO1/VqCtCEIBCEIBCEIBCEIBCEIBCEIBCEIBCEIBCFfDKzJ2UwuM6gjdpQUJJPd81fNKH01oyxt90fqqJPd80FalQpQQt0AacLqdQCfzWFb4C0YQWLJDvJPuM36WMbq4g7j8E+VriwUTsRXE/91DXNJOUZTVD81dhWtlmaBRDeOy87K+OEQYRweRbtjxXNhwHyiQuc7S9ua7ksTDTcunFTEwNA7mXlXBa27TxNK8Lho4Gtyttag7Q1r4KCSN68ErX1eVvlVKbUzXOdqC0t4IJqjROqaqBKpe5xNNItQMXd0lu/VLGXNaLrMdU4bpqehSS2yq9VFWA2NCgOJHApYzbdd+Sh9gdxrUFgkbZaHd4BUYnBx4mPYEnZycUCdCCdSeCsYA1tDQBWVHncb7Nlg91uZu5cFhaOzlF1odV697m7HW+C5k/spjpHPDQ1p/BdNjR7Oe2RocBQHBacdAJoCatzdQsGDYcJIGmwDsea64NhTH0mUee94d6r4aJf4hdha8fC6OZzgKa7XZYcwLsuxCx05HD2tdbm3SpkcSHUBpuFccuRzSLs6pwIy1wDKFKwjnRnRw6q6NVwR5g43sVZDb7LRdLtW2ncJJSeydW6kXsdESC2Fa+mWGLMyUPq1dOPpXEcT6JHOyxt01BJCqjkqw6yCd1lpbfPZN1CXYXw5oDwSBmFqIuBtqOahnupcwbpd31XTFjJkOmJFa2VsboS0AOrjsue428nZbYA4gDpXUrOTaXDdao9Y6/eWZ+hIWmHVrh+8FufrGb2iZ+aRwoW00rY8QW5AGN7nGqUxsc4PpoILz4omaYwBlAvz/FefLtGlpJJDXuc06ltUszhbxR466UlaeBdlIG2qsY5rg7TIRo3p0WTezvN1mcLHEGqQy2AMy6e9mtKQx4Y1xOYb1t+KaIub3hfLNyVCSFrmEs2zLE73yuhiy0PIbpZB2GqwH3yumHS/VYotGSpm7e87YndNlDWPocFWx3eGnRevHf4/B9phD3yhuZxsHirDFJbe8aePRQx+WIkA5hZTF/aZGNvu9d1Pj3YmWgMI8/7hTsh7J4D3B96aqC4A12Mnk5VvcA4HI9vKyrcLq6rON8+UYppiAF3Z3VsH1z/AOAJcRIyZg0N862U4c1O8H4QFyz3426fVXLPinUQFoWPEG5FyjSl5102VjBWW1WQXOobkq+u8wKifFBBsG/NTYHXmEEdwa6Hgg2Mw78SxzoXNsA20Gr5nVX+xIY3ySSSgEsoAEc+KwQSPY622PBdD2O9kcUznuDRY3ViW6P8ignx8tvJjZq7TW1mxEEc0pmwbfoWgNN8/NXYcSzyztwdNie8Eu4hb8QyOHAtijblaHD81ZPKW+HBi2e0bnZOGubA4O3SzxhkhLHBzeBBSZ3VV6LLtrfmJcM0TSOGiJRWRvIIa9zNjooznNmNE9VF1RLfaAjekxAkbyk/NQ5+Ye6L5qe0FXl7/NVPJoQDFrzUObqOiG6RD+JSHAt2Vc/umcXZQSdwUrnDIK3B9UoI2JUirv8AAoHe5zgDxAAvyVbTqQbzJy/QjiqdjetoiucUR5p5Qa3PBJNsNbWp0OaPN4LeN1DW6qaw/EfVXMbze5N8nLBol2Ksyi2VQHlsrnWTR9VMj2SyMddAn0Sbuf4rGVr55vSY3VrRI3NIGjiV1cPAGRjRc7CND5Gm70XWvKF5K74z7SYwVS8BtgclYZFW+3AubuApO22nCAGFoPJYpgM5HU/kmw5kptnQjRJM1wdvxP5Lv8fdcc/Gq14YV7R//wAY/VaKfK95a9zCw5QOB04rJAaxlh5AyDUjxWrtAXFvanQXdLVnTlym6yvxzsO98YaC8yWeVaKv2u65oyRXdPHxTvw7JRK/P9KHdw7XosuJjd2cLB3i1p0HmrqbW5TwwQm8Qz+IIh+sb4hPEwiZhyVrvarg+sH8QT/Qku66FnojWrpFn4VDia2XJoZjxCYXl2UDqpdpx0QGpKDfJHijMKpBNlQHb6a+KC4aUQizY1QRZUgk8VIIJ4KTlGmiBbdWhCi3b2noAbUiwOVoFBdxKLdwJUkgboBHAgeKCLcPtFGZ3Eoadb0rwU5hyQAs/aUWR9opszTdVaiwBdaoDXg4+iO+L7xQ2nbeiY6aWUCjPWpUjMToVLjW23VTYrmgUh/AqLf1TWCKpRpwBQQA8pgHcyir1pH5IAlyO/zKCOWyjXlpzKBu/wDEjvcXFQHWaRmogAoC3XRcUW8fbKDfBK6uJQNbvjU5jXvJCL1q0DoKQWWedqLI5qNwUoFbFBYRQ3KNa3VfHmmDncCAmk3D97mgZuarzuqr/FGYg6uKG4s73MoFkbkJSTl978FGp2FhFPfG0earFjSkd/WiEDhx5qQ4n/ulAJ2IPkoIde58UD26v7qbdzVRDr3UnNprv1QWW5Rb1WWm9HFSAR9o+qDPjye5fVY1qxoIyX1WVAIQhAJ4/rAkTxtc54a3c7KXprC6ylWu3TxzyRtytIq71AKrkjlY6nEWkp/MJj0vyXeVrV8rl/c/lCqkkdI8uebJVVP5hFP5hVhtwWJZhnFzhIT+66gehFK6L2k1kddm8UHANa+m68wuZT+YRT+YQbvlozh2Q6Q9nv03VuFxMZjySimshc33qzWeC5lP5hFP5hBvOOaGlkcZawR5G2bI1uyjE475RG6zMHO3Hadz0WCn8win8wg2w4ljMOI3xlxY/O3XTzWg+0c74wxrrEma5ZLGvDoFyqfzCKfzCDrTyYeGGJrL+sLyGSgkacwsmNxDcTI1zWkU2rcbLvFZKfzCKfzCB0JKfzCKfzCB0JKfzCKfzCB0JKfzCKfzCB0JKfzCKfzCB0JKfzCKfzCB0JKfzCKfzCB0JKfzCKfzCB0JKfzCKfzCB0JKfzCKfzCB0knu+aKfzChwdxKBFKhSghboR/0gPHXX1WFbIr+TN101/VPuM36aL7zTQ2onyWv2ZFmuQu0Ao67lYQPozxdYFAdP7LqYVohwrW0Lc66tcDGeVrpmuflBoDqrWyitD5rmyzuEtZdXVuU75Q1rY6AJNAWjq2PeCPezDoVY0g7LAH5Wnud5Uye03QgVoeIKaV2RegpRlokZa/VcjC+285yPbrwK68JLmZnblXTKXDKAWi+NKtzS5wG/HXgrttVRiXiFmZLCBoNUe9wJTiMEWNL5Ljj20I5S0tJF6rdh/aMUwpvdPNNaVeBqQdf0QZMp1HcG55KuSRwcTdjiXcPBOxwINmyeFKaFwa1xDhW2hSvPZizr05JYyYgc7g5pOmlUrS8bEgclRRIJHEOZlLK1BGqtgvLRQaIIqweqmMZdBt1T7PomMiMsJoWRsvPuhy3qQ69ivTrne0MJmHaRjUbgBayjnY5N1G0Ai+ihrnOaQH0K1tOxoBpxymlbLBcWYyA6bLEZc+KXsGOkGpzUrMLOH9wDjaqbH2kT2g1raswcQY0OvvE7L1yNtagiwQjU3wUcb4rLDHJdgOFAEhV5LflOhV0pbkde9pInOo5Tr1SNfSnO5nEjopExH2QrJm55CXKBGwfZvxWc9StQpxDiNBShjiZBZVha34QUrQO0FCknaZdFIzMA5G7TwyFx732Rpoka4vIZWl7q6NvfrbXgrr2i17gR7tHktEH2/EKjENDCAOS0Qe69b1qMJiLmiTI+nFx7vFICWgcK3QAK3oqMoaa0u+Gq8+U8pUs72t62nzEu7hOX4q2V5DHCsmVta3uleGw2WtzDjeyzrd0aS6MlpcZGitRYon0TBzBEXU6xpV6ErM2eO3HKCHXuaSuniFAbcdd11/Fn6OS2RziQCKB1pZj75TdtHmsUEmdhcadqVvH48pDl4U2bOXc6KbkYGueGgONCkNDMwIddEWrZQ0jD3tmKt3jqNTzLSyPMY1B9ErJS9riwajoFGNd3hpuEYQA5wDoQtY5XbH+nZ2ySZbcKN6AikzjKGtc0gg8KGih2u/xJ/wDaYut8aTHzVbDLICbA7ubbdJhyTNKSngOhH7iXCi3y0uFtynl2s14XtbfhxXOe7M9xvjot8jnMjcRoaXNO1LnFTHZktW8WquEEuJ5BW/aaFRdDE57jkbemqkRW06dQU+Gz24MrvBWtvPRNg6acVdIyRki2tOrtNlpwccBke+auzY0gdSq7bBiHhw22IV/s7CuxXd2jBt55orr+y4uywTSRTn946J8a0GAGvtN/NaGtDWBo2AoKjGAiDiac06eKs7ZvRMbhoTFWRjbvWq4Lz0kZY6uC7mMkbM5obI5ov4VzMQxrHFubMPCqKmq1jnIyIpWZB8QQIw51BwJ5Kca6c8faulLW/ad7qsMWV1OIHNQ/YDYbgWrqs3OfVK53d2rUaJQddeKtjgfLYjFndWR4KfKXht1wHirWIpc5gAygg6WrG4WWRtsYSAN1tw+GilZ2Mzcji3uu5FacOBkdhXOMckbidPtAk1XRRXGMLuza6iDmLTelGrVkMHbB1ENDW5iSteKAZiJBK0GmNkNHch1fkVbD2L7+jDG7yEnS/hVRyMbhnwRxOfXfBIry/qtEkVQh2vDj1Te25mSiERuzBpdrWnBWyUcGPEfmtS3HpcfNDIY3D3neqiXCtDSRfmVSXPjd0VonuMk8lj8mft14xyXyFpcBWpWc7qx+9qtb+S23y4yNWAlySi9l2C8OC8/GaeCulG9zWgjULhlHbCtL9is7jO1p1blVrJGu3TuDSw68FmNqIe1LWjthXIBGKcY9yXE6eoV+HYzK3cmkY+Ds5BLJThVCMcOq7YWcvLOXSyN4+WMzEd2JoPjqtM0pJDWua1jtz+iwSvPykubh3UWjQAFI/FuNtMBH/ELpcd6scp43tvY6ONryBnc2Q5B1pYppDFPG/dzAT55bSDGUSWxuGY3WQKnFmSRmcMe0XuRXD+y1MEt/phjBzjRWYf61v8QUCKU/ZcfVNCD2rRt3gpfGGh0qvfRADeBBUmM/9lDmHSibXEDhppl8woAAPeojwUgOJ1BI8FDmECg3RBOh2quKhwYBo4KWsOW6P9UUQNW15oFAGbSlJa4ckXrQU5tao+qCGgZhxPRTTb1B81BcKot1Ul5HMjzQFNvbTqoLWjYDxTBwO9t80ZaGhJQGRhFki0CNvn4oDQdbq0p0uthyQMW1u20pH7uiLJ0JNIok+/8AggKbtYvogchXmmLTV56roFDbcdX3fMUgkADl5FBYN+CksobUQmZWxKCnK0/ZTd1o4BOWgD//AJS91uriPRBGg1AsJg48G6JqBbmabHgla0XZIHiEEOvgaShtnVxpWtab38whzmjhrzQIQODigN4A7eakua46ByYitcp9EFe25vyUlvE7pjRHuE0jWuI6WgUa80ZQNTmPRSKAI1KUUdr9aQS0C9WuCk90VRI6qQP8KCDxqxyKCO6RY38Ujm/SNBaDomFXRoeSgNaJhqCKu1rFm/SQxhPugBUYlkgBMUYygakbhaRQO7SkxQaYjb8oPEKbq6ZsD9JnDgDW1q9zA2RgqrOqxRPcC0RENPEkjVamydqWHTMHUeS1jbtMl5AvUlMY9i06IykDQC+gCNa2F8dFhoOsN3FpcwrdSTrX4KS4ZaNBBGY1Z26KHGj06qQ4ADauYU5iB7unQIEJroa2pAsig1OCSdO75I7Qjcm0Cljt6UEEbNu+adz+IGqgP4UL8UGTHXUd76/osa2+0CD2dVx2WJAIQhAK7Cf6hnn+SpV2F/1DfP8AJZy/WtY/tF+L+tHgoZAHRh75GsaTQvipxX1vkpf/AKOL+Jynx/rF+T9qOxi/aGehVc0ZikLCQeo4pFdjPr/+I/JbYUoVscGfDvlBNtcAG1vaaLCSOxDIpGujL9i5qChCsfBLG8MdG8OOwLTqrI8I8ve2UOjLWF/ebvSDOhWx4aWWJ8rGktZvoldDKxge6N4adiW6FAiFY7DzsaHOhkAOxLSokikirtI3MvbMKQIhCEAhCEAhCEAhCEAhCEAhCEAhCEAhCEAhCEAhCvhZHKzs/dl3aSdD0QUJJPd81fN2baZHqRu7mVRJ7vmgrUqFKCFuidlwgFb3+qwrXGSIG20lpB15G0ncS9xcKuhRN7BaZJRG1gaS3TiVnpzBQuxoOGtqzGMYIIwfeI1G64GHZmPBcXOOcjaxabtAXWfeJ9FjwMly5CaBC1Zg2QjWrKtjovDtwS4u58lyccA6TTWl1GF7zVWwKjFYdsjtu8rPAw4DCmeetgBwXqISGtFa2uf7PwwhgGllx1XQa69Br1CW7NLSL1WTHMD4y2rcdlpa/WjuEjxbyAPVQjyMsbmTODgQQeKswvaCUZHGtyun7Qwgzuc0cPVVQ4YROBmdRC3y8Gm2JzZYe8LLRbqNKxrqFtsNq8p/RUNcGECFp7xuwN1Y9mSiNOKwrWxwseG1qMRTWZqKrhdVB1Wdlok1jcDy3UFOFna7TMK5FXOeWv0N3tS5jGkGy0WNM1q+TM50broDiEHTa4OFhBVWHBa0gq12y1vcZ+2XEYKGfvZQHjYhcqeCWI04DoCV3eqrxETZYnAijVgqRLHmcL9qwN1oAAOwVGG0Lx+8rydNF6JWKCbF7UoJ0o1qqpJQI3ka0qJJriaBeoWvGk87VuOaR2o3TxtHxi/BZidbtWNc4/aK5y6bXFhf7xLQrG2AAXX1tZwXcyjcgElN3ezS8Ag2a/BTu6+7+Gqoo81IHNXmcVwAbrkb6qC4B+YN16FIRyGqsA00CX5LSYQ3aGU0Wa+KsExYXhrbGxVLHZZNQE4kLJH0Gm63W8ct4236Yyx1dRezO6Izhgyt5pGyE2ctm+Kj5Q4sdHkYA4VYJVMUbw63ErG5vpODd8tLmhri3TYknRI+VxjL+64XrTllcH59zRVjpQIHMyjfdawkuU8LxX4WUhrXa0dataqGIjJLh2jTsdlgwzyIGVGXacFfmyt7wq/BZ+TGcqxKjKWyandVEuZrwJUOma3Qjvc1QXvc4Xq0nTos+ouvBC4Oc8nQaFOS12XNZrUKtrAC4E241fqgOkfiW291EXvous8YzwvtbIYnUXgoY+GOwMwJ5hM8SBpJDXEeaQukPvRtJ5kLpMfUY3jYfMwjvFxHgh7oyG957a20SvmmDA2wN9E0T5XGs7jsrltqa1sg7MAhsjj0paPZVHEE/vBUV2hLzZ1o6/2Wj2QO/wD81yza33t08bghPES0APO7ieC8zMAHkDWuK9b7Qd2fs6V2bKctAryD91zbNBeY8qVgFygDVLCCGk1oVbG7LOwitCg1QR5MQxkoq6N8gt/tCKPDNY6MauNG/wA1hZii1lBozXYdypLPO6d+Z9E77rUm+mdoxkjJHsLNw2ieC1+zsYzDxOa5jibuwucRZGo9UwsCgR6pxpuO2/2uwNGVjjzvkmw3tNspqTS9BQ/NcIhw7pP4oBLSC134pxq7j0srh28WvP8AJZ8TPg5C6KV4sDVcp2InlYwOce7sQszhWptWyxJZW12Hg96LEtAq+8dVmgBdjAAdS7e+qotMwkPBBIPAhZWusME9+KLZZS4AW6iduS3R4XDxxhnZMPiN1x8LO/DyucCX2O8HHdbpca0w6ENf0Oiuk215I4mkxsa0gaUFn9nOJwbL31PjqVj7eR1OztNbFV4eSRsIDX0Aqrq4hrTE95aMzWmjWoVGJj7BwxLLdk95p1041+axumkcx30hIogpZJJyHB784OwRFbnun7Sz35XtAvgDen5LpQYZscQa/vnc5jYvjuuPhXZMQHZmty373otr8S8d4ygjoUi0ntyssAFUM2g8kpeewrw/NZsfP2wYLJy3urn/AFVDp+aX6/yuPazESNLVnY7uHqtrvZ00kbXMyusc1W32VjDplaBzLguWnTk47wkIXWZ7M7WDEuDvpInUBwNBctzS07Lrn+znENq1uw7tKWCuRV+GeGE5jQXOxrG6bXMG40QM2U97SlDJWvIa0FxK6GGww7z3jRrTp1WNeXXc0TB1DAJXjUju2qZc87XyPsNAOqulaJBhw8kR1RrwWTGFgPZxX/MV04zflnd+lrprbUZI4eSRzr71Wdilkw7oZmtYS4FtlMWlpIIWcpqrvaMh3vdXwTEPZYvK4FUtcdlMep5UVMbq+Uy8x6HTg0EHovKzxdniYjmBzhrqG4Xfjhc6EPM8gFc1x8SwBuCdZcXaa+S7eNduPn0ehWpdfI6IBaLsHxVhFN+rHqlFnQRkDosKQuZ+8kcRdtJHkrHEbFjj0BUtdrrEQOe6CvtCB7zrU5huSfxVrg06ntK5IZ3vdLh0JKCoOB3P4FSAb0cB4tVzmnLvZ8Sq3DYAm/FBNDYkeQUigdXaeCUGt858Cma6xQiP/LVBIAJ0DaUObW2UeSkXqCAOmqh+Y1pdcigTY736qHBzjob8VaA870PEoObnpxrVBS5jrsn80zQ5nusGvRW6Bu7vMKASDx80FdPJ21PROGkiqFhN2pGhHo5V5yXGtPNA5DxQ0HgFI/eOnmq8xGmp/wCSkO0ogjzQWHJXPyVZcL5eSZ113XBDWEa270QLmHAj8Uw727h6Ic1zqAvzao7KjZJ8LQTlyjSz5JDe5JCcaCr06lBcyheUlAuaxufG1IJ0ok+NKczRoIzXUWoJaTbWlA2Uu3P6JCzXfUdVa1jSLIcPAIDWakPdfVBWRxJ8lALCTqPMK2m6WCfBKcrdgR5EoEztaauh4KczSRTlaQPh08aSUAKJrzQIdDslD/pgdduKbLf+7Xile36Ud4HTUhaiX6Wbm9+Wqw4iUSTBgBcBuBzVuJlyfRxkl5SRYScDO0taeu6yrHdusbLTgxqNPtfosr7BLSdjS24QNbHETrbjfotY9s5NpFcG+ihxNjLlUucDoBXmooAmw7TlqstJYHN3A8SFB30cD5Jg3Ti7xUAAGxQQI12oNs9VNOGgcPVSXxg8/RHc34ckC5C7Z6bQDe+GikubXumkoeB7gd6IJrYXvwpGUAaao7Sx71HxUNAJsPafJBkx4AyUK3/RY1t9oA/R2Qd9vJYkAhCEArsL/qG+f5KlPG8seHDcKZTcsXG6srTivrfJDJWdkGSMLgCSKNKmSYyOstpJn6KYzUkXK7ytas+H+6d/Okmk7WQuAoUAAqM3RGbotMt2FlibA9kriAXtOm9Ba/lULXQDtGdx5Jy5jQrquNm6IzdEHWixUUBja6XtSHOOYXTbCh2Kbq1z4iBG4DJm3PiuVm6IzdEG3CyAYeeIyZC4Ai74LV8ow8cDg17XA5ab3i40dbvRcjN0RnPJB2XvLYppRPYdI1wsHu68Vlx745MjmvaZDebITl/HZY34iWQAPe9wHAuJSZuiB0JM3RGbogdCTN0Rm6IHQkzdEZuiB0JM3RGbogdCTN0Rm6IHQkzdEZuiB0JM3RGbogdCTN0Rm6IHQkzdEZuiB0JM3RGbogdLJ7qjP0UOdfBAqlQpQQtcYd2DXDQUR0OqyLUyzCxoIqifz/orO4l7jVDCXyRg6u4061d7WoPNi9hfJWYHDS9o173DK3iNLSe1nAsJG4PJcGsXPwYBn2qtVpc8ZiNCCeSxwzOMozV5cVokflJOup9Va01RvdmHfNneyrWhpGY7njzXMEh/eF7onnyNBBNnTwUkHUilc4gigzxWpj2n3TdcV5xmNkaQcxrit0GPbLoTRtb4JydcPrnXNWx666UVyH4x7ZAxxzFw8gt8MuVtUdruliytfScSzNoN/C1lZHej+68bDTVbHybuHEbKiUAim68dVIK87o3Bzg5rc3PZVW3M43eutbE80wla0EucWgHcC1W8xijVjgRwVF8ctSWQKW57u4SNiFxnSuBAoUeIOqZ+Jc6LJmojiOKgI5Xxh7nc9bKeDEsaadm7x0K55INguJPA3steGzSt7FxIB2J1Cuh2sK8viBKvOoWbCtcyMBwpaQUxrNI3TjookcOzd4FJJJklAOxTy/VOrkpO1eVZN2RkNWMytbiI3tu8oPA7qhu8l/EnFECqB8F7JjNOF7Ej4aLRZFangs7nsoANBodVoIeA4CjYVGWYHa/IK3WtEisub93+KZjm39XXmnJIFE68gAVBeQNQAfDVY/g1o2Znwj1RnZ8IQHuPEeiMzr3/AAU/guqnO3g0eqkOZew9UZzz/BSHFTeC6qRIzkB5qTIz/CgO5i1Y1xI9z1Km8P7XVVdo3PsPVS97Q55oEjqle5wko1qknkLJz4Lrjx41zs/kmOUE6tA81YyYH3qHms/bG9HEeQU9sb+sP8qz/BeNaGzAvo5a5pJZGdodAdN7VYkJ/wBw/wAqlz+TrPgt4cdw41ZnDYWECteaj5U57gCPO0pcRh2a8SkDn5r0I6hZz47u2MYtMrWnuixe97qWtc8teCQOV6Kvt3ODqbttQ0CtjkdlY0bUbWbJrcWzRGNDZH0/Ndaq9keWIuvfRQ8DJY6aJe1pg0OUdQt4zljNG9b2ac1E7wVbqDfRNK8FpDmuFjmFUbcDV0ADwXpw1J5c5KYhpeQTQ1JPkrGOIBsn3QAqCSTd7+CGYjITZPLZYz1d+W59JY89sxgOmbVdXA4WTDPBcxxaTYNLjxuj7UOGe75Ls+zsY4xsjeRlzaG9l587NtebKj27inEsw4sNPecCPRcF5slem9uQMMBmzU7aua8y7dYbXR/VjxUt+tCkDKxo5BDBmlaOqC8Du3W26QaA8FccO9see+7V7rIt/TP2sLg51gUKUZyCTzHBDdkh3WVOXcrC1CODsy7KSRycsS0CRoYW8SQt4+JNJTOysNdm8V1UVFVHNfipkkmvI58tO0ok0UroJdXBjsvOlMrbExmqkOjbtm/ApP8Ac81BY4cPxUEG640sxqxoB7xVhdE7eisRDuRtFO5FL/RJ7bLZRyN23Ss7sYBaSDx5qiKTIT3btaxI5sJksdG1Sm7F0Sg1pygC+qlwL2kZXa8kgxT8t63fM6pX4t5YaOUlN1NKmxl0rmgbXdq44aVwAA0B5qljgXOL82YjQg1r1/FPNK8HK178mmhPRFLjYTFkJ+0FpBbkaC19EiyGnmsDnuflaSTR0XQEwZB7xDtNK6hdcMeTO9V1flQYWsbFKGVX1Z/om+U0fcm843LnuxpP+470/smGOLgCZDf8P9lqfFVtvpd7NdTcS5wIDpTViuCo9o+z4py6aN+WQ7jgVbh87/Z8rmmnZi4EhZ4pC54/FYz/AGpHLOCna7vR2Oi1wYNwAIgB53RXUfI5kGeNt6Ub3VGFxTheenN8aIXPW2pdIiLW6BjW+ApawKw7jzCO0wuJaae2+PAonljbE4Bw2WeNlb5bYcRKDHhwBoAfyWGNubNI91DWuqtmkaWRW5unPwWdpDiWggDiV01dxNyeHSw1CRrgNCHVfHVLiL7SyFpjMUk0YicHBrDdcNlM8dgplElc8jkmbqT1TCjZGynJrYXGujp4R9wUfsjZcjGfU4Hz/RboHCNpzmgBZWHGfVYH/OS3jfDGUM0uaaBu+inM5rjbQetJRGSKyjzCGRv1DT4qsLM9kGxfigvdejgEhjferT+AUsYcxPebSCzMS2+PNI6R/EAjqaTBt2eWxS5C4knKPDdBGaTi0dACleZQdQQnERNEuzAeqYhtal1oKm5jwCKdVGnHorQTXE30SuaTqK8kEtLqqqHKyVJDTrrp1SFrviA8UZSBeh8AgABR7zR5IF1YfY6NSkULv8EM1Op/BA1Hg4joWoAcf9w9dEzsjRdFOOyyi83kgqNHiXeSsIYW0W+oQTGD3S+zzCA8WNz1pBDslANHoFIkaAL/AACHZS001x8gq2x67hviEDiVo11o81DXxmzr6puyjIvMT1oBBbH0A52gjtBuTp4pe0F/arxTZRu0mlLWjgb80CU0us3RQWN4E+StArW/Gioc1m528bQVOZdd0nx1UCMl10NE5A+zXhSVwyHR1/ggcA62B60gMcddlAkFAk/ioMmuw8aQMco+1TvNI4A65iT4ozFx4eICA02NRXUIGAFd5hcprkK6aqKkB7tVzUkvOmhPNBNuaLoHzWXEzFhsNAJFCirblfbYxZui6tAobG5kobZJokk7rUS/SvDxCMh5aXPOuY8FqzOI6eKWnXWXN1Ulpa1xIIAF7rKuVimj5Q+trV2DJ7orTNp6LM4l7ubiV0A10fYsqiCtY9s5LiQDmLVBka73rKYkuFGgodqBTwK5BZaDTZ2FeKimgVkF890BpJ1Pqny6+6TXG0CVfBoTjMNO6pDAdT+ZQ0sA1JpBOSx/RJlIHG04mFd1pvmlzkbsPkUAyM61z4jVMQ1tktF+Choa4+6R4lBY1vW+qDF7RIIiptb/AKLEtntAaRnXW+N8ljQCEIQCZnvBKmb7wQM7dKmdur4sOJcOXNP0magOaDMhbfkrGyQsPeLgc1HjyVY7MTBj4KvSsxQZkLUY4nYksDC1jCcxu7AQIWNxDwQXMDS5utWOCDKhaHsY+ESRNLSHZS27TTwxxZHNGYDuvF8UGVC0zNiDWCOKnPAN5iaUYqFkYaYzY913iEGdCEIBCEIBCEIBCEIBCEIBCEIBCEIBCEIBCEIBCEIBCEIBBQg7IFUqFKCF2MBC13s2WQgGmuGvRcddrAvy+x5G8835J9wk3Y65IDKC5GLaHFzTqSLW8PoEkHzXPleHOPClxnTf25ZjJc0DQ9Va8OIo6EK2YAvzAUqpCA0dBturvYhnu0dxwpVT27Q7jkmDrO26STQ9FZ2lVOAGyZra7wdRCK5qLI2XRlsjnc4AHUn8FugxFtDRwGmi5URy6k1el0tEUlAgeVHbxWK1Hahc/sJC6geqzSyNDqa4FpFdFRNO8QNZepGtclma9zCM2Y+SxppdI+m6floEMmNUXCuBSPlbRNG/FVRHM7TRB0WOa4ih5rFMaLtS1x34q8mhf4hYZn9tJoUgRzxdNAIO54rZgA5pBF7+KztDc9OBBOhC6OFAbGcpu+KtHUiNDfRXtdfFYw8tja+wGuGo4qyPENc9rWmzWo4rMSrJog94cb0UvcOydqNimfqFTiaGHJdwHBPseZYA7tB1UWYzqoaaDyOaATxcF7JfDj91JkF1+KA4E6lTlad1BYzqD0V8p4OH1sUZi7cNd4pQxw2ePNDmy75gSmwwDcpBG/JNkir3PO1TUreBPgpEhGjrFfgm59w8/SwRx8z5lQ1gJNEpHyFzuCjP8Tr6BSzFZclpjNHK7XqoDJK95qUPaBwCbM0gUavqpxxOWRezc54JPGtkSxkzE93TSima9o1J/HdP2rb0P4rU1JYlt3tl7F2Y1lr+IKTC4C+76haw+9iguF6u26qccU5ZMRYeIRkoigtnaUBXHmpzab69FcZNxZlWbVsDNOJ3VXa3ILJDRwWwBr2NLxddVTLAGusC2H8FjOebTCjtI+xzgDMTqOaRjiDGBsVfHDERq0eqqeAHxUOak6ayNC4vvNWhATy/6A+KrgPcd/EFY83gPNRL/wDauQ1KNb0VrSG2b99tKvERFrWycz+ieJgfETY0NKX9XWdpy3penJVSQhxJBpX5TG7ukGx6IJjbGSQM5OgtY3eLepvyzjDlh0cCeFhWYZ+WQsOyrL3c1GH1n15Kzf2znrXho9o4h5jZEXEtGu65p1W3HhoIOuY/ksS0zWhhJYHHdAPfCAbY2tgFA95EWh1G9FOYfCFWha3YzpZnA4BQS3l+CRCcqaWNyncBMCANWBU2maHE90Eq8sp1V1GlznVbGGuPetPhpnOlaHvAAGxCy9oRsronigezzOB1Kzcre1kk6dMi9TRXOcP+vAr7QVvyh7tWRu04ALM5zjiLIOa9jopKVvDGGV9sB0HDxUOw7CdiPBUte8G3OyCqu7WqEOmH0Zz1uR+qSikwuA7pryUPbKG1mzAcFr7J7DTy1viQoIYDRe0+RVHPcCRTqVRY3/AumSzkfRK7IRo31CqOcQANBt0TOfYAyDQVrS10L90eimhyCDmyMLZIyW0CdF181YFreRH5rnYxobJDQG/DyW3NeCb5fmn1P8mP7Nl6JsPKGSFjjo7bxVYOisgLSTTLeOJXKdut6WMjD2ytdsXarlx1nBG17hdA2YZwSNb/ACXNgBHc5Lte3KOpEWtiIOauNgrmvwh+WOAHdAsA+K0CV/aAizyCaKV7cXb4y05TfE78FIqmKGGOQAtAcBbgQDmS4kxa0xgvoEsrpmPOJyuFe686qiTO6Mvd7z+8NKXK5NRRLC0io2arpx+zm4fBvc+zIW3o4jyVOGhqKWUPoZay7rp4l3/SvAs9xdcbbJdpkUYWLKPf2+8d/VUz4eMD7WvN7v6rY0gsFHgs89uB0028Fd1I5DW/SOacwrmT/VD8sQGbPrtTitcsBEJlGwdRVLml1EuuuixctNWW9EEfaGhm14FxUYiNrWYEi+9vZJ5LRGQ06KjEm4sD0P8ARJlbDWp5XOhbWkjR4oZGwf7gJ6IpjdS0EodkOgYEZQ9xBrSuaW2VZc2/xT5XEaNFJcrj9kDqgGEG9deYRq/ifRS1sjTQNeAtRkBdT3gnqgYggaNcfElDXgCvwpN2bDrbdOiUgHRsg1/eQTnY37JB/wA6ocHFl3R5WEoYAaLi78UwpxIBOm/JBAaWi3EeqbQ7OvxTANB0LBaV0X7+h5IGynfMKCiQNLSbHmkZHR0ZXiN03fvKQK5FBWHAGtCOpVhaHDulqjIQeGqbsyRTAB4IEGji1w9AnaI6431FJXDLo4gHwKhpcRvQ50UD9mLvblraV7GtsucfRDcznVbvEKwx5hpnJ8EFQDSCACR5oLWnbj0ThobqS5p57J+1bVHN42go7o01d5JszXaEeRVjXgnutNDjlSlzq7wHRAoJ2yDXqponR1eibNelN8wmAI3aT5aIK7cNi2uWYKWvfrncyvFMd9i3ranKS2msaa/eQKHAjR4PQ2q8zQ/WQjzTZaItoB6FBPeILRfVAZ2HYk89FDZKNX+CGNDj7jB1Coxj5IwzKajvvFu6C907WGi5o6XX6pXOfIzVuRp3HErNFh434gyR2YAdL3K3lsdfWOaeF6IEbJ2bcuWqGmirdIe2BLDtsFaYmH7Zd5Kvsx24aCSMvIrUS/Se0J2aW9VVi5CIHU4a6bLU6HNoXV5KqaEZHMdVEcN1lXMwrM2Kbro3XVb5CDJHbhV8OC57HhpE1ahwFcwunI0GWHKNDqPRax7ZyMbzANe6ugtQQ7N3XE/8VeRQ1G/IFLmAsF1Xz/ustKml2t5tEabHtPNPla4gjvcKQ4tbplryQKxwBo5hytMJWix+ICkBxrujXalBBujd87QKcp0a4u8dFDIgX661wCtPdp2vqpzOJ3HqgUt17rHaeiYMBb9X+CAdNcrvNRQJuqrjaDB7SFGPQDfbyWFb/abg7s64X+iwIBCEIBM33glTN94IGdunEpEIYLBDs1gpHbpUGiPEBpitpOS713tIXxBzXRscKNm3X+iqQg0DElrpXMBa953vYJhi7IMrS85S0m6JBWVCDSMQxhaGR0xpzUTZJSuxUj43slJeDtZ2KoQgvE4D43Zfq20NeKHYl8kTmSkvvUEnYqhCAQhCAQhCAQhCAQhCAQhCAQhCAQhCAQhCAQhCAQhCAVkcroryhpvm0FVoQXOxD3NLSGUeTAFSdkIOyBVKhSghdDDmUYPuGmUbXPW6KUtwbYwDrZJtPuLO46mGt2Hom9dysGIt0pAcQBxvZboAI8I0OOuhNrnYzVwAr1XJpMpYWDLQA30WJ9nXhwVomadHEDqqpQQ6+HNWBBd6FWZQ8VeqrHMlS19PsK1Cva4a7hF8hwWgENO2Zp3CGyRg6QWeGq0hOxlOuQgcBxVsEbxZIoVras+VOAsMAPMlUyzOds8u8lLohpJHF5G16UojJAOb8Up0a0781MzxoAK5hYbQDb6u04trdqddqgO5AEoc8njqrpNr+2N0UmS32wnVJWcF4s+KZjqOxI4oL2wlzhYNFa8K12tDujQ6rKzM+QFvDotplbGwCwHO0scFlWkd52UOAA0paRC3M14FPHFYMNZd3BmI3XTidmGraI4KBnk1YF0suPkYIcruPBai4NBNrl+03udQaR4p9kcZoGV97WlyjcEqWnK15PNR2gXr8OH3TjMG6USoPa8h5KA+ynGvPyV7CZnjUtNeCZkgJo6ItzTuEOyvNmvzQWGVrdyEhlDjeX1QQwiqR2cZ4EJbU8GD75HyTNybhrfQKkxkHQ0OpUgOAppHmmzRyIzrl1KKYdx+Kr7N53cmEP75vwTYfJGfsj1U9nHvk/EqoxEDum0Z5ACMvmSoaOWNBsEgcgVIyjYAearySOOrtOiOycNmj1QWVHsaHmjI1uov1S1Jxb+IUB4Jo6dEl1Q7S5rAMpO+ymy9mUxuKXzTtJBB4cVuZS/SdKmmRumQpXNfbHZTpwpants2ka242rNskvhrzdKmAMY7uuGoOqYTMqiDSZzCdlWYzyXO5evDUxn2cyRclMLmOlDWitENwbngFr268Cokw0mFLXmjrwWeV9tTGNBaKJIOizvy8j6q5mJbK0gmnVrayyvbmNFYlyvbdxxnSHFnI+qnDZO0sA6aalZy4K/A1mIPFbc7IjHuJlAJsAaLKtONH01cgAs5FKrVsTrYQeCZvvhJERTgd1azSVpHNENl/dRlPJXueXbgeNJVpFWU8kZTyVtKWi+SCoMJOis7CTp6qcqC2uIKBcruisZA6RuaxpySqfzU0u0GIt0NqvaUBXiR42e71VDiTNZ3QXteQ73WnyTCQNBDWAXvTiq70pQrpNtLcUdnRtI5DRP8ojI9xwPK9FkUpoau0aBZsKxrQ9tte0rE0i9bPmmJp2mnnaDWYZB9m75apC1wNEIZi3sAB71cytMU0j94SG87QcvG32kNjj/RaGvvBgciPzCPa7rfhtK1PDwVLSOzc26Ng/krrc/5JdZOkCpbKYX5qsHQhUtaPid6p+zBHvO9Vy8e3bz6WuJcJAzRpJ3Gi5jHuDsrgLGmi2MmfA14DM4J4nZYrY5z3XlOxaV0t8ucmo24b6TQONjetUOc84gvcHuDRVgUlwTQG2wnXdy0veQw2TqeKluoSbrnyzPa4ZRJlBvLeiqDRiJA2OJwPQLTIcxKnAgjEEt0ICxNem7FtOjwvYxwvJI1sUrMYJ/khoaVrehCd+cnUn1Vcsh7CRpd9nmus+o5tMcf0LQ4C61VbhZp24GprQpjKI4xZ4eKzNxbXskAcC/7N8VFasofgXtZTiWnbiVyGGxS2sxrYniN4oAa1wKwDQ0sZNYrLoqiV3dwfQ/0VhKz3bsMOTv6KY9Lk6WhPukadSkd4O81Y1rq0aPMpXZiND+Gi05oa5x0sUpDAToGX1CqIcXe9+imnZdZNEDhuR1uA8ANFIeN8nnSrAcBo8AeKglt0XAnogtLydm6qc5GpbXkqcrT9u74bo913H/PNBcZXPFiwfDRAc4E5mX1BSNkc3Zh/wCSk9q7XtA3oCglzidmkjiCQo7QDfS+qgxuAsusnilLnUA2z+KC4EOAIDgEr3FuzbrxSsD37u/BPkLNHahACfTvMynxVgkHxX4KkxjiK8FGXLrRPiEFkkguix5vwSWCKDXE+SjQm6PqUxzcGnzcUEDu7DfgmB01aG+IVcgfxG/MqWRvI98A+KALmg8K6AFRbP376ClbkkGpINcAguOzjryGiCtjIxuD5hOXU2mNFeAU5jlog11UZnAaX+FIBh177PRBdRu3UoOZx1dV8KSjKCNR6IHDWHUPvytRnDjlDT45UrgKsFo8P7Jczr0bfkglso+wH3fVWGSzq51HodPwWfDySRgOaDfThqtQx0psk5q3BaFuyS6YltIZGAEau/40kL2OFFunItv9FefaDS3XB5hzJpWxOwuIbmMb4iOdKeF8+2TtGNAAAro3+yBMOA8tf6Ld2eFBoygXzSDDYO7biGg9HUng8+2TO1zuPhRS52NnB1quS1vgj3Zi476uWaeN7ZrbJG+xRym1cdM3fszp2H3XPrpaQSM4mTyKrLHtN1XiFDnzluSMsHXcq8f6Xd9//DnyYd+Z+X3b0srol7SMPqe6KPoqXYPFuZkHu68N7/7BXw4SbLG0xaR/vVfqrJryltqwSM+Jw8rQ6Vo0bfjSvbFODQiAH8YSuhmIPdHhYH6rHhrz7U9sficRypAkH74/zwVzcNKRQrzf/dWiEtqyxv8AzATwefbKZWHftUdpECCTJ5lay1g/3466utY8UG5BUjXHMNh1SSW6S2z7O9hcLqx4oAcWbGuNJjLl07Q+iQyEOJErtegWWzmPu33r4BI8C6LaH6pXyE6OeT5IDya1H5IMntJuURczf6LCt3tJ+YRcav8ARYUAhCEApaCXADdQni+sCl6WTdMWvBqwop/MK1/vJ2QB0Ye+RrGk0L4pLuGU1dM9P5hFP5hauxi/aGehVc0ZikLCQeo4qopp/MIp/MJ0IEp/MIp/MJ0IEp/MIp/MJ0IEp/MIp/MJ0IEp/MIp/MJ0IEp/MIp/MJ0IEp/MIp/MJ0IEp/MIp/MJ0IEp/MIp/MJ0IEp/MIp/MJ0IEp/MIp/MJ0IEp/MIp/MJ0IEp/MIp/MJ0IEp/MIp/MJ0IEp/MKHZq1KsSSe75oK1KhSgha4/9O2hrR1vqsi34dzRhaO5aa/FWdwncdSbN2WWNuoApcp7HPsyFwI4clvk1jGZ2UcuayyAlpI0B8+K4tOfI2uGp4Ia6m0eA0JT00yOPADdVO1cPVaEuoiwqxug79EZldIdjyBSfMSKBVNqQ7kmlWFpO5U0AUhekc4uU0baDKAwNG6pc+yo4qaTQGmna7J3ZdxarsUjMNldDRCe4RW/NOIiC0t1sBZxJQ34UpM1hmUVSmjbS+cQsIZVndVst4sPpw1pUkEMB3WiHKAGuNHnumh0cBdB1m735rrt2s6Lk4ZxYSGkjmDX4LpRPzNFFYqmlBrQjzC5OLlL30W0W8QKXRlfbnCiRx1XMmIfIRRbQ33SK5sfuvvXVSWtO7VDCGh980ZweK9fjTh91DmADuk2FBY8DT80+YHxRfUKeBX2clbX5qDmGhBHirrU3wKaNqQ7qrAbF2EZWk+76KQ1vFoQLmaNkB7TomyRnh+Kjs2De08ngB/C07TfJJ2cYO58EFjWmwdOpTyeDktG+iXtmDYpMrTqSD4uU5G6d7L4KbNH7WzQvyU5x181WYiTYdY6qDG8HQAjxTyaiwnTQpasaqvNRpwpWBwNBDQtzeqtaQ4KvoVDSWPrhwSDRG+yBxITwj6IKotAe1zTVaK6H6oLeU8IakZVNIXLTe3awsccmFiL2NcQOItV+0cOx2FJaxtt1ulkgx8kUYZlaQE8ntIyRuY6IU4Vuo05T4mnhRVLoG8rWspCBahtjMQHBEX0cgPBaHNSlgIQLjWgBrxqXFZXh16gBX4hxLGNPDVQ6F4YXnUAWqjOOI5rQwVIwKMICHk0NqVr2Bk7K2KCxFdVKhbZSRR0NoUIUVNoNKFKAQilIbZ5IIVR+uHirsum49VUdJR4pRdlbWrvwQA29HfgosXsFOh1VQ15aOUEc1II3LKCTwQbHBBJBJNBKpGbgCmonigUDW60Ttlew91xbXC1DWvadHu8tEwaC8EgWdyVFU4uV8r4Q/Wjoa8Emb6WhsaH5LR7RzZsMDZbehvfZY3HvHyVxu5/ySfy/4ddivGyyQSZ2ArQ1y4PQga5/Fc3FMDJrrRy6LfteKzYtuZh5havbMm414EZMLGNATqoxD1Tgszx2ztABlA/NErrKZVMYQnRRFMISXc0OKRsAleC66HAGlMe1y6Wy417qMYB8VkkdI9jtTpuQdk8rTG3utIrcVos736EtNXoQNNF0nbmkSuBFuJrZbIZAWAMoP8FieRe1qzusisHvckDlxe+3Gy48FLyM1g5uqpiJc9pLiADvyUsdbNd1nJqLLVA1fhwPiH6Ky1UzWSAfvD80nS5OpTwNK9P7qQHAU7K700UEMBI3A32SiiO6z0CrmhjmB9OJrwCsBaTsa40CEjhWzD5ttN2gOlV4hA5p2oB/BVl4JoNJPQaqWvbyJHRikvI91u/SkFdAnVjvNWCyzRjgPGkBzyNWDwu/1Skk7N/BBGYAkE+WhT6bh7R/xSd9xrK0Hw1TAFuml+I/ogkyGqzE+DSEneJvKXeFqSzulxFk9UNjAN94AoGsNAzEi1U54ruE+ZtXVHm98adUHIPhPX/AgrZK8gHu+dJ87zuwD/kFIrLuAeYKV0j3aC/NBIJBBytB/iQ8k1bWn/kFBzsAzDQ+KkPYTRBvzQDWgnYjxIUGPW85HRSaG7Wm9lDTR1ZQ8EDdjpeY+SKI0GY+qinufQ06/wCFPeXQuBPVAgiBcBR8dErogHVYPmE5cPiDRzR3Cb7Rp8NUCNa3YAnpmUtADtWkDkUznMHA+QVZF0RGR5ILS1t20AeaGtaTba8lXnLNcjfRR2hdwdrzCAdhmE7OH/Iqvs4g6i0//sKvyF27XV0KXs6d3WEHqVrll7TUK2GI3bT/ADlQYWb5SB/EVdlcHavAKmRriO8D5Gk55ezjPTMIYzsXepKsbhmOANPHif7pwO6O6SPFQGu3s1yypzy9nGeiHDNadRp/Ef6qDBFeuYf80xbWuZzfEUmbqRq4kcaTnl7OM9MzomZtHbcM+qgMiO5kB8VrMlbuef8Aiq3zPyk9mR4pzy9nGemXsjmoONcDmWluHjcNMx594qsM7QnOC3xFBXseGMq70omynPL2cZ6KcNG3Rwd/OoEEJYSbvo8q0FrhWZxHipMURoNItOeXs4z0ziFlbnpqUNgjJ95w6WVeGGM6RuI6aqRmuwwDxCc8vZxnpQ/DNAu3V0JSCFh4k9C5ayZSfcYPBqjLJfey3w1Tnl7OM9EyR5e8T6JmMjO73O6Wm0HvkjooJsgDKfByyoLWg6tJSl0Y/wBs0rAx7Rfu/wDK1LWtO+/NBzPaTmu7PK3Lv+iwro+1hXZag+9sfBc5AIQhAJ4vrAkTxfWBS9Lj3Fz/AHla/wD0cX8TlU/3lYyWPshHKwuDSSKdSmPS5/tVKvxn1/8AxH5Iz4b7l/8AOknk7WUuAyigALWmURwyy32Ub31vlbal+HmjZnfE9rbqy0gK2GYR4KZgeWvc5pAHELVJjI3S4kmTM1zW5Qb1ohBibhJ3Fg7J4zmmktNFBwk4lfGInuczemkroTY5mfOySIsc9poB2YV+CVkkDcRK8zsc4vDgXF1ZfLigwwYaWeQNax5F04ht0h+Fla+QMY97GEguDdNF0HYmGSS24gRhkxedD3h5KYMRhmymTtWjvuLs2a6O1AaIOc/CTsbG4xuPaDugApHxSMfkfG5r/hI1W8SwyNwxkmoMBaW2RrrR04KZ5onPgczERtfENwHEXfXVBiGFkDi2Vr4yGlwth1SnDztZndDIG/EWml0JJsOHl3aNzuicHZCS2ztVpe1iighazENe1pDnt1tx5eAQYJIZYgDJG9gOxcKtWYfDOxEcrmWXMAIaBd6rZipmTtLBPAGPfmun2PG1XAIoo5oxi4wZGinDNW/ggxOikZeZjm0aNjYqx2EnZB2zo3Bt1qDa6MM0U2IfG4mSJsYLn8y3iqW4tskOd8gDmzZyw33hyCDE7DzMy5ontze7bTqokikiNSMcwng4UulNjO+DHNBRkzA08kdTay+0HROcwxuaXEd4MJLR4WgyIQhAIQhAIQhAIQhAIQhAK+FkczOz92W7a4nQ9FQhBZN2baZH3iN38yqJPd806ST3fNBWpUKUELSx1QsF0KP5rMtMTcwYCaAYT+JVncJ3HSmJAGmlcVlkc006/wBFtxLG75XeS52VhN6ijrouLao6NIGYA8+KpNak7nZWPq6aP1UOAsF7jm4rUFPGlBbSYizQ1UE81pkim1JGlqAEE3olUlRxQM0hBNqOKlQKprRSBqpaNVRAT5VA6JyNaCinZtxulojjaTW1jQ9VQwnJQ3G6uj9zQAEa1us1W2I5o72LfJbIJBnGhF+i5+HN5qI11C3REuygiiOIWap5+zEhJ04krjyPInL2HbfRdLFPyyO71mlydGuc4EG9wkFIbmY8XxSdkeBBTNPcd4pc1cV6a4/YLXjh6IBU5ncPxKgkuOqgsBFe8CjML3NdUrQG/wB1JDCdW+i1tDZhWmyXOLUBrOR9UFrB8SimDtdk9aaG1Qa+yT5lAe4CqTZpcRm5g81GRvI2q+0dxJR2juRTZpYGgcPwUj93RU57OqYSJtNLDfT11UEH/ulDrR02QSeRH4Ja07pvomLiN1F2ooa+wmfq2+IVb9KI80zD3TeuiirWd78Fph+qas8R0BHDRXQn6Nq62/xY+1totLaLXNpKFFpSVFSSkKm0rjpSilslRdIKUqCKBkBcLCuf343N5ilRfNWMdYVAyNsWo5JXd6dgTk2CEuG/10P8SC8Q2NDZ5AJXRPZu0+i7N6oLFdppxcpG4Ugu5kea6MmFc49xja5pW+zg3V8g030TZpgIs2U8cQf7uY+S6rYowO6bB5NUsZWaog3lZ39FNrpghzNsNtw5ELRGx5+w0Xy0Ws+73aB8EtG+84mxsNAptdMUmALiSw0eSwvw5bjWQucLLgDQ2XapoIOWyNidT6rl4iT/APtI9tHBNml7fZzbBL3FvHu0fxV7MHABTmh1bG9VMkpblIadbttWVjEhErS8EZtBlIP+BZ5Ubvk8X3bK4U2j6oMEI73ZiwoZMOwLwbAGpJ1KoEz3vcWgB21NbfkSpyFtsLQ1oDL2vy/qqnQSg+414WV7gXtBBFaZnbjXX+troxSNdGMutCrGqsoyjCyOOtNCfsWi80raGhuhX+aqzFPd2dMABBsuJqlkdIC15yCgdyf85/mlyppR7QcHyQG9eQBHn/nJY5DUh8ldiHh0kQBGh2Aris8o+lPkuuH6z/KS6y/4b8I/Qt81sDtFzIXZHA+S3McueU8uuN3FrD73ile3O4N5qGmr8VYDkbZ3KmXazpL3BjAxuwFBZHO1TSvtU5lA5KgTBriywDV67JLVJDzI54bYHTRax7Zy6WTAndxI34LLmJ0TyTOfodByCmCMuDiRoBYW52wdzXOcCTYA01tRK8gUR/ZbBFI1j3FrTmbuP7rnyXnp2nilGzDNDWa0bGvFZInaEK4Ssa0d8m+AA0WRrg2UgGwVL0s7aCVWw/SQ8e8EWoi1liB+IfmpOlrq5GnXKD0tWspo90g8LKBlY3Qa86CXOQ2tb8AqwntCCQcvoVAk72zj4NUak6A+YKqy9/vOo+iC8HMbDTpzFKdODSD0KpdyMvo5Q1rHEW4lBeGt3cSPF/8AdKQA6zJHl6lDYhRqyoGH4h3igHODR3Wk3yaoL5L1Y6vD+ysLAGau9B/RVkHayglwAohhvq1R3zYdp5AKHMzbgnxUbnKSTXJyBrc4glwHiLTBvETgDqoFt3F+AtRbWGySL/dQBANgzMI8QFAhYTYcCOhtT2jHe6zN4hGdpGjAPEIHDGMGoI60pBtp7r/ySF7WjQH8VBe53utBHmgsyv3GYDxUt1Gx9UgztF5QByBUklwFZr5oJyAjW/DUo7OrqMnw/wC6MklUSSOoUdnsA4i+lIADu2Yx4VqrA01oAAq8ruD5CBzJQ6mkW93mbQMaGtknqFAmIPebX/Gkr5aFZr8lXnY51uBvwtBfne/UAkcqSntgfd05FQCx2jQ6ugUta5h92/FBJkmumgN9FJdIAM5Z/wAt0hDS63MN890poH3f0CCwu0JOXVKXkN/z+idt3rHQ6OKh7gTQ7ngEFYEhAINDpSsGaveLuel/qoMjRoS5w8ENdvlafMIA5asgk+BRTRVaHkQSpNgasGqShy25BAz35TTifDZVSP7Sh2YI8TascRQOQE9aCjtHDURgDxQVs7MuyjMwjraupp2N9MpKpbkL7e0HwAVgkbloFzTw71IAhxNAEjqP+6doaLzNs9SlBGud8nqUGUbNs+qBjlAvN6Uoy5u8L8Bp+qiMF11mvxBQ6LPuSSOdoEIIdqKPnaZlkV3gRyKksA3JPmpYQDRBI5A2gcucR9GNRxKX6Ue88+iWQgOvL6uITCQ0MjWnxcgkvBFOOvPZIMpsCj4aKxxLhboyUoNAkk15oOb7RaG9nQIOu/ksS3+1KPZEcb/RYEAhCEAmYSHAgWUqtw317fP8lL0s7S57r1YQlzH4StGI+s8kscMkgtjC4DiAk6L2pzH4SjMfhK0/JJ/unKpzXMcWuBBHAqorzH4SjMfhKdCBMx+EozH4SnQgTMfhKMx+Ep0IEzH4SjMfhKdCBMx+EozH4SnQgTMfhKMx+Ep0IIbNI1rmtzBrtwDoUuY/CU6ECZj8JRmPwlOhAmY/CUZj8JToQJmPwlGY/CU6ECZj8JRmPwlOhAmY/CUZj8JToQJmPwlGY/CU6ECZj8JRmPwlOhAmY/CVDnE7ilYkk91BWpUKUELdhG3E53KM6+qwrZh/lHYUzDvew3RANKzsdHEPbR126rmgF5JcQ0XWuiuJxfDCyDjsVU6LFO0+Sv8A5CscDlfRCwEjLoOGqqdpdg2OB4LV2OLoAYSTT9wqOwxev/SSa79wq8TlfTGLDjwKgjTZXOEjbDoqre2pc1/YHoro3fSoqBsr2te4W2Kx0CnJIP8AZP8AKmjd9M3FAWns5Puf/qjJJ9z/APVNf2m76Zxup8lfkkv6n/6oySfcn+VNf2u76UN3NqWgk6K7JJ9yf5VIbKNoT/Kmv7N30prUkbKWgE7q4NkH+wfRQGyD/ZP8qmjd9Ea4tNAaO0WkOLbs1p+Kr+loAwnT91SHSAEdgaPRS4ryvppbN9EDWvRdHDguaDdrjNlma0jsXHyV0eNnjFCB3qVOBy/o3tCXtJLvbRYe0NG9TzVskkr3E9iRfRJ3/uvwVmJyvpX/ALTvFVgq4CVt0w69FOaX4f8A6rr4v2x5U5ipBoUrM0vw/wD1Rnl5fgnj2nn0rtTmT55eX4IzycvwTU9nn0rsqdOSfPLy/BGeXl+Cans8+iUOSBXNPnk5fgo7ZwNaeiusfZ/L0kGuSLQJnuIAok8AE5GIBoxuH/FPHs/l6JpxCKZxCesRV9m6ueVFz/Af5U/j7P5elRr7JPqjNrq30VwbiTtC8/8AFP2GNqxhpa/gKans/l6UXroQfBCctxAIuJwJ27qkMxR2ief+Cans/l6IBmBBSRi7BWjs8WNTA/8AkKRpnJ0YT4NU1j7P5ekssClbE6mNCrrE/dP/AJVIGIr6iQ+RVtmvFJL9r7UWqS6VuhgeEdpKf9lyxtrS61Fqu5yL+TvPkUVOdBh5L8CoHJS2gsxIFnCyADoUjDNIDkge6jRoEoqTqkKsMWJP/ppf5So7DE/s0v8AKVBWpaaKb5Pif2eX+Uo+T4n9ml/lKoDsmw/+sh0+0oMWIA1w8g/4lETJxKyRuHkdkOwBQd9lk0APFPI/sy1oFudsuazH4lo/0En4/wBEp9pzibMcI8Gqqz/RQdUx5r7RxI4AaKQ1rRTQAOQC5B9uG9cP/wDf+yPnw/s//wB/7IrsUoXHPtok38n/APv/AGU/PZ/Zv/v/AGQdYpSKXK+ez+z/AP3/ALI+ej+zf/f+ymqrqO1HHyXExLrxLCXZhfiRrxVr/bBc0gYer/f/ALLDJPneHZarhaSeUrsW1sDmNcbGtEA/4Fzr7x1NVolGPcGluQHSgSbIHoqjiCXE5Rr1tJKOgw5JQ0kuB3N1V/nunkmLaBYzI7iNFzBia+yDzs7p3YwmPIGAADSjtzU4jaHhjXTZWl4NtrYDpy/7IilZ3nOJLYzYIFX4/iueJXO0a0nztWR4iTIW9mXt4pxNt0wM2GbTm2STV2Rzv1WKSYmxWh4WlEst2Y3HSv7pHGRxsxkHoFqY1NxBdmlYb4hEpGY+SipLBLHaG9kxGY2YHX4rpj0xe9mbRC1QvsLI227Qu9Uwke3aFylx23jnr6bmuGfXxSyS5isvbSfdO/zyUdo/7p3+eSlw3Vnyf0te5V5kpe4/7LvVRmd9y71U4H5P6PmWmI/RDqsdu+5d6pxNIAAInaf5yVmOkue/os7Mr7oCvxSvxEr2051gDkFL3OkNuhefNLX/AOB3qtSeWeX9LxK44XINcx1om1keS92Y3XBXte9ooQmvBJlP3Lk0vL+lY6qgnv2Fryn7lyTsh9w71KnFOX9Ea+wnhP0sfRwU9nX+w71KkNc17XCJwym65px1GuW3TzndrSP+KXtJBwN88qo+VPu/k7r8f7IOLeTrhlNU2vz3YNg+SjKXHYDqVT8qdxwxPmUfKnDbCn1KaptoyBnva+SlpHIDyKoGMdX+lPr/AGUfLHfsrvX+yaptfnffcq+iA2Qmy3XqFQ7GykU2AtHT/sl+VzVXYmk1TbWY6NlpQMmxHqVk+VSkV2H4Ibint17B1+P9k1Tbb2Tb7pGvNQWta73fRZjjpKoYc+ev6Jfls9fVEeFpqm233tmvP8QCbK0DV1DldLB8tmr6px6nX9EfLJvuneWn6Jqm214jq6zeCVuUbNcB1On5rL8rdxw8n839lHyo/sp/zyTVNtgc0O0PqU/atbpqeoWE4xw1+TEAdf7KxuOmc0FuFcRwIP8AZTQ1NLHbON9aUgch5itVk+Vz/skh8z/RT8rn44N/qf6INDi8C7PmFGrm2QfGyqBi5RqME++f+BBxkxFfI3/j/RBfldWXNp46pCwD7VnwVPynEfsjvxTfKZjvgXn/ADwQWhgAstJ8AU22waPFZvlE9UMG8Dp/2UjEzDT5E/8AzyQae0ds2UeACgte4XnN+Co+UzEUcC8+Fj9EfKZqoYOWvE/0QXBtcCT4FPZHvEtWQYicCjhJCOv/AGU9vJ+wO/H+iDWMpNh2YjnQU5n3pqOhWUYqYDTAv/zySnEz/sbvT+yDUc9/1QS/iTpy1/RZHYnEkEfJpPO/6JW4jEg/6V3oUGyy4UcxPUhDab9hw6rGcRiCf9K70/sgT4gf+lf+KDY954sd6Jc7naVXiqPlMx97ByH/ADwUOxEpOmCePX+iC7MAaIab31KYkEgZmfzf2WXtsR+yP9P7Ju3nqjg5Px/og0hlO1YD/wAh/RO1zmcHBYTNNxwkn4/0U/KJ+GGlHmf6INnaS5rsEdQpD3a58vmFjZip274RzvG/6KTjJ7sYRw8yg0OAOtl1dFAeANQf+JWY4mcnXCvPQ/8AZR8omv8A0ZHl/ZBqc83o/L0KaN53sk9CsfbzVQwslf50QMROD/ppPU/0Qa3SG6zuHi0Ju0rSi7qdVhM+IJv5O/8AFBxGIO+HkPj/ANkC+03Zuy0I34VyWBacZJJJk7SNzKurvVZkAhCEArcP9e3z/JVK3D/Xt8/yUvSztfiPrPJM8kYOKjXeclxH1nknb2cmHax0gYWuJ1B1THovajMeZ9VdjPr/APiPyR2MX7Qz0KXFPa+YlhsAAX5KoqQtmEcI8HNJ2cbnBzQC9oNbrVMInvxMboo2sjDXAtbRFkXr5oOSASaAsoIIJBBBHArty9lFI2sOQGvbkf2QDfW9UjInuxc73wt98DKIQ4kc9dh1QchrS9wa0WSaCHsMb3McKc00V2Gw9lLWGgY/6ch9tzFo4eCaGAPlfnYHtfI8Gowa8XcEHFLSACQQDtpuoXXLHTNwYEbMoae92d6i9P7KJ8NmxGGe2GgaMgLA3jWoQclN2b+y7TL3Lq+q6b5WiKR4ggtk2QfRjZWNghE+XsmEfKCKI4ZdkHGQurHK10cDjBBckpYfoxsrIo4I4u7A6UZ3B+WMOI12u9EHGUuaWkhwII4FaI8POyRswgf2YNgubpS3yxNxONnhlY2N1h7H5asDdBx0LrxjtIxJh8LG4OmLT9GDTdE0ceHYw9lCZgZHB2WMPNcBvog4yFL6zuyght6A7qEAhCEAhCEAhCEAhCEArWQGSIuYczm7s41zVSlj3RuDmEgjiEDyxdkGhzu+d28lRJ7vmnJJNk2Skk93zQVoQhAL1Hsa/muGi37W/wDEV5deo9jC/ZcPcB97/wDkUG7vcmlFH4GoofAih8JVBX/4x+CP/wDH+SihycoNf/kUHExpImlHaBup0I21WLOb+tjP/H+y6ONa7tpKbGR+9vw3WIsff1UHl/3RFmG1iNkHvfZ05K3gq4AWxkOAab2bsrOCioQpQghSEIQCEmTO9rbItxFjwVvyMfev/Bb4yd1mW0qE3yMfev8AwU/I/wD8r/QJxx9r5IoKf5EfvnegUfIj9870CcZ7PJFCvGCjrWaQHwCn5DGdsQ/zATjj7PLMUpWo+zh9nFeoCzyYV7CR2pPWk4z2eVZSlS6N7f8AcclAdmH0jt1NY+zdQUqkEm711UFTKcbYsQhCpnLgKA7vNZVL5wHUBYTslY7Y6rOxpee62/EpxBrbjXQKo0LK8W8+K0jRZybcb5pBMI7OVjv3gV1nyGU5i2uG65Y1ewV9oLqtjOS9PVBWRalraKsAYBbnfjSkTws2F+Av80F0HELqRj6Bo6LlwuzOcV04DcQVHJxIp7OhKsg94JcWa/nAUw+8FYL5dYngb5SuMIpM3ukFdsi2lYO8HabdVKIizNjcLs8LVTZZCPe81fbhyQwDNTmN9FA7idNeCgDuusN8aUPka19HTrwTOLWN1OhCABaWgflomjYGzNNklUhjeDtPRaIgHPaQdkVplFxOHMFc72R7sv8A8n6LpkWFzfZA7s3/AMn6K0dXSuCQk37oTI3WdqU0RsR5rPjS5sbcriNeC1cFlx/1bfFVGMgu1c4k8ytWEFRO8VmC14b6p3j+ikFgWCfWR3jut4WCYfSvre1aRxn++fFQFLvePioColShCCEKUIFQpUIIQpUIIUKUKi/BjVytw3uv/iS4Qd1x6psN7r/4l0w7jOfS9CELq4hCEIoQhCAQhCAQhCAQhCIEIQgEIQgEIQgEIQgEIQgEIUoIQhCKEIQgEIQgEIQgEIQgEIUoK5vqn+C2YH/SR+CyTfVP8FqwR/6SPwXPPtvHppQltMCsqKRlU2pUA0JqUAotFQTShSdVFKom0FyVQga0WltFoGtBSWi0ElAFlLalpooLmMFaqS0IbIKQXBBWdCoJQdSlKBg5GZKi1QxKghQi0AVCCVCAQotRagZFpbUWga0WltFoMXtT/a8/0XPW/wBp/wC35/osCxe2oEIQoBPC4Mla47BIrcM0Pna1wsKXxA80rHvsHRJnbzV+KjYyWmtABHJU0OQUxu5uLUZ280Z281NDkEUOQWkRnHNT2g+IoocgihyCA7QVWY0OCntjd5ze26ihyCKHIIASVdOOu6BLV046oocgihyCA7XSsxrekGWzZcbRQ5BFDkEB2g5o7T94oocgihyCA7Qc0CSrpx13RQ5BFDkEB2ulZjStixbog+qJc3LmNkgdFVQ5BFDkEFnyo/JxCCA0OLrF2qxIBs4hFDkEUOQQRnbzRnbzU0OQRQ5BBGdvNGdvNTQ5BFDkEEZ280Z281NDkEUOQQRnbzRnbzU0OQRQ5BBGdvNGdvNTQ5BFDkEEZ280Z281NDkEUOQQRnbzSvcCKCehyCV4AGgQVoQhAL1PsavmuH3vtbfxFeWXqfY3/lcPer3v/wCRQbdP3kac3Kf+SP8AmgjT4neiix8bvRNf74UX++FRyMc253kRh98SavZYezIP+mA8Hrb7RaDiXHs3PJHvDbZc/KM3+mkHmVEaIBljIy9nrtdqzhvaqw1CI00s72zt1bw3tRUIQhAIUoQKz66M/vn8lHtUERxuHOkzPrI+jz+Sf2i3NhfBwK6Zds49OW172iw4+RKuZPL94/8AmKVsbeR9VayIVssqsjmm+8ctDJJDu/8AAKuNg5K9rAgkOfzHopzP5NKkN0U5UC5zxA9UpmaOBTluipkZ3XDmEVOJFsCxcQt7u/A09AsB0d5qJelLePiUFDePiUFX5P3qzpCqxABjvkrVXP8AVFYVMYDWiuScJWjujwTBBKz8SBva0BVBpz2Gn0VECw5mnELpNzW63Hw4LAdJIyR9oLpx5nB2YkghEpGszk3Wg5ojaBK0b6jZM0E5gNqTQxBoa8i7KC2IESOBXUw31Q8VzdsQ7zXQwpth8VRz8azU9H2oi94J8bo6Xy/NJFuEg1LnF7s1A8V0VidDqdR6JQAnceikON7DyUCJ3MKBE7NuKUUk8Od4IcNtlZlDmNDjsolhc4g6aDilMD8osA+CIs7NnxKyCLJLdrMyN+cZdr4rYwHtW1sitI4LneyB3Jf/AJF0uC5/ssU2UfvK1G7vdFOvIeqVpINHXrSnNrSy0YXrY/FZfaGkTfFamOBuuCy+0fqm+KqMo2WrC/Uu/i/RZQdFqwusLv4v0UgtC585+kfztdELDN3ZHGjurSOG73j4oCl3vHxQFVSFKAFNIFQpUIiFClCBUKVCohQpQg14QfRk8yjC+6/+JNhvqQowuz/4l0x7jOfS5CELq5BCEIBCEIBCEIBCFKCEKUIiFKEIoQhCAQhCAQhCIEIQgEIQihCEIBCEIBCEIBCEIBCEIBCEIEm+pf4LTgv9JH4LNN9S/wAFowbv+lj8Fzz7bx6XqQUuZFrKntMCq7UgqCy0WktFoHtTuq7UhyByo0UFyi0AQjKi0ZlQZUZVOZTaBcqkMU2mBQQGJg1FqbUBXRVuaVZaglBVlUZSnJUEqhaKKKm0WgKSkKS5RaBSFFJrRaBaKiintCCsgoTqEHP9pf7fn+iwrf7TH1fn+iwLF7WBCEKKFdhP9Szz/JUq7Cf6hnn+Szl+tGjF/XeSZrzDhWOYG5nONki0uL+u8kwjfLhIxG0uIcbrhsp8f6wpflcv7n8oUYwATmgBYB08EfJJ/unKcbpiKO4aPyWxQhasNDC7DyTTdocjgAGEDdXy4LD3LHEZA+OjbiKNn+6DnIXVOBwscrWl9ua8AtMjTm8twqxhoJMVN3HiNr8t52tAPmg5yF02YWHDTMMpkcTNlbloVXEqRg4555e0zNLpHBrs7QPTcoOWhdGTDwObhWsjfmc0l1ECxrxSTYSGOeAZ3COXfvA1rW40QYULpj2TTWZnEPDvpBybrr+Ch2HieyN73PMTIi6hV70Bsg5qF2HNwz4gXMeWtw9tsixr+arfFBO3Dxu7QSGG2kEUKtBy0IQgEIQgEIQgEIQgEIQgEIQgEIQgE3Zv7PtK7t1aVWQzOhJ0Dmn3mnYoFdG5rGuIoO26qqT3fNWySOleXOOv5KqT3fNBWhCEAvVexf8AyqH/AJf/AMivKr1XsX/yuHT4v/5FBuQo8kf8UDKFH/FK9wbXdFk0EHH9raY3jZYdvBcoEZhq5df2ppi2W8stvujjuuYH94f9S868iiNGC+pdv73HwVxVOFOaN/eL9dzwV3DalFQhCEApUIQK0/SM/jP5Fa8S3Nh3jpaxj66P+M/kt0n+nef3T+S3l2zj05bR0VzFWxaGBRTtAG6tbSQDROAFQ4U+agBFIA+KrerCFW8aFAsHehLeRIWN/wBYfFa8No57fArNO3LMR1WS9MrePiUFDePiUFX5P3qzpBVU/wBWVYVXP9WsKdvujwTBKPdCYIGClQpQJJ78en2l1GOPZghjRptr/VcuT34v4l1ohcQVFbJNT9G0X4q9hJi91u+2qoYKfqtUY+iKlEWe3LaFnin+USYcU1t3wQzXEtPMJcSKm/5KhZHGYW4UXbhKzdNJbQ48mkpI9gqjYNlycS6p5NLpx0XWGyxyiPtHW0E3rolGWJ+oygg8lrGj3ciLS9wVTRXgnBs8QoKDmrW9Fc2+yNHWt1XJMWSFjqIUicgi2+iBGkB36lWwkmZpznXqrM7asAEIila94046IrZwWHADL238S3cFiwpqbEN5OVqNjQHPrX0QQBJR30Q12R1kXomLmudm19FFREPerVZsfkMYzuyi96taRl4WdeKpxRAjFkjVBgzRDaRx/wCP91rwhaYXZSfe4iuCqztr3yr8OQYzRvX9FILAsM47zyBqt4WGc09+l6q1Y4Z94qQh3vHxUtVDAIUgIIRSlQmKUoygqFKFQqgplCCFClCDdCKhb4JML7r/AOJWxio2jkFVhdn/AMS649xnPpchShdHFClQpQQpQhAIQhAIQhAIQhAIQoJQt0lCjXmPRGvT0Q2lCg2Bdj0VsMXbRZ2vAPIhS2Tsm79K0KNb3GiNenoqJQo16eigElxBQ2ZCEIBCEIBCEIBCEIoQhCAQhCAQhCBJvqn+Ctwn+mZ4Kqb6l/grsIf+mZ4Lnn23j0tU6qRSbRZUlprRQRkvZAWi0dmUZSgm0ZlFKcqAtTaA1NQQJaLTUFFIItFqdEEIDMpsqAFNIJDlOZQGqcqAzqC5BaFFBAWotTQUIC0pJTaKFQtotSQoRBai1IFqSwoItGqYMThoQVaqcpVgbxU0AEVy/agrsvP9Fz10faxsxef6LnLnl2sCEIUUK7CkDEMJND+ypTRtzvDeamXVN68teLIM2h4KkEjY0ofEGuqylyDqpjNYwl35WZjzPqoSZB1RkHVaFzZXtidGD3XEEjwTuxUrnSEu1kADtOSzZB1RkHVBqfjJngZi3MCDmyDMa6pvl8we530duNkZBV8/FY8g6oyDqg2Nx+Ia5xzNJc7N3mg0eY5IZj8Qy6c27JBLQSL3pY8g6oyDqg1txszGsaC3uXRLRfh4Ikxs0gyktArKAGgUOiyZB1RkHVBrONxDnPcZNXtyO04JWYuZhYQ4dxuUAgEVyKzZB1RkHVBs+XT9oHksNNy5coquVJPlUoe14cLa3KNNgs2QdUZB1QOhJkHVGQdUDoSZB1RkHVA6EmQdUZB1QOhJkHVGQdUDoSZB1RkHVA6EmQdUZB1QOhJkHVGQdUDoSZB1RkHVA6STZGQdVDm0LCBEIQgF6n2N/wCVw7/a/wD5FeWXo/ZQv2dFqOP5lB1P5kfzKllNvvegUuea3JQq3ycqpfs6HdVmRwOhJHJMNTRa7Tqqm3P9pnLPHrlBGxF2uX2hsXON/hXV9q92SGjl4d7X0XHdI4H6xm/w/wBlBrwrswkBdmojhVK3htSz4Rxc6QFwNVstBrgpVQhQi0EoUWhAo+sZ/EfyXQrNARzBXPb9dH1J/IroxG4wt5ds49OawK9gVQFOI5GlcxRVo2TcEg2TAilQ4UlIHIzIHSPU5glcQQoCMAPPMhZsYKkaeauaamZfGwoxrfoweTghenMHHxUFA4+Kgp8n71Z0Cqp/q/NWKuf3PNYVYNgmCQbJggZSlTIFf9ZF/EF2MP8AVkdVxn/WR/xBdyBlA6iiqM7RT9+K2RDQhZXaSO8VrhaQLIKlC3U0fgjFaPvraHtyyR+KjGd4muioJKcK+LRURODgCDor3auZXBc/AuebDvdG3qVYjrM90LNOD2xrzWlnuhZMQ8tnI6JQoY6yna1wadNbUMfmNEKJJC0U2m81BMkDXyBzzXRS1kQPBUMDXuD8xJIVmlUOCKeSQRENy2COanDObI8gMy1rdpJ4zJE1wFkDZTgmPY4lzaBoIjoDZYYB/wBZif4h+a3DZYcNrjcT4/qrRvbHnGYHQo7I2NduidvuhQPfKikczIN7WXHH6IfxLc4AkArDjvqh/Egx8Fqw5y4d55H9Fl4LVhmh0Dm8zX4KQXRPEjczdtljmNSPPGytzWgCgKXPxL6dJXC1aRxj7x8UzUl2VYzdVqLQNEpCtaNEjgotVlKUxSqsoUKVCqIQhCCFFWpUs1e3xQdFvujwWfC7P/iWlZsLs/8AiXWdxnPpehCF0cQhCEAhCEAhCEAhCEAhCEAoO4UqHAkJEvR3MLWF5ygD94JQQa6ixelpOyHYiIuJaDajsqylrtW81ztzb8GMzY3/AEkZc26cLohO+COUfQOIaHVTzq1VzRCV5cc/eOtv262SuthYYG4bsI52GQ6lwcCfwXO22/ydNY68MuIghijaWya7UswIOxWjH4B7WNJlc7nZIoLPLb5GZTlYwUABx8FqZWdRnLGSGZG6R4YwW47BV0WyOBFEJ43yMiDQ4hwNhxN15bJGlxe4uNu4ldcbftzuvBkIQqBCEIBCEIBCEIBCEIBCEIoQhCBJvqX+Ctwg/wCmZ4Kqb6l/grsJ/pmeC55dtY9LhalRakLLSU7dCoACfQIHGoQWhQHKC5QQWqQ1LnTAqiCKSWnKigghTltSGpgAgUNUloUqQUFWXVBsK00EhcL2QKCpLlOYckd0oEzItPQUZAgRMEwYmDaQVkJToriFBaCqKuCiirsoUFqIWNmtlWackAIIpRUopACkDVAqR18FbQSHQoOV7VBHZX1/Rc9dP2x/s/8AL9FzFi9rAhCFFCsh+taq1ZD9aFMuqzl1V0vvqxjImQNkka5xcSKBqqVcvvqx/wDo4v4nKYfrEw/WDPhvuX/zpcTG2OYtZeWgRfgqlfjPr/8AiPyWm1CFfh8KZ2Of2kcbWkAl5PFWS+z5Iw/6SN7mVma06i9kGRC3D2Y8PaHSx+8GvAJtt+SQ4IHEvibPGMpoFxOv4IMiFthwDu1HbPjY0SZKcfePGlBwXazytifGCHENYSbNIMaFrlwTWMgImZcgs2dvwUfJDFiYGyFr2SEUWnQi0GVC2T4Bwkd2L43jtMmVp90nYJmez3NlZZjlaXZSGuIo14IMKFrZ7Pe8NPaRNc4FzWOJsj0VkmBD4ojE+NrzHmLCTbuaDAhacVhWwRwubI1xe2yAVmQCEIQCEIQCEIQCEIQCEIQCEIQCEK+GVmTsphcZ1BG7SgoSSe75q+aUPprRljb7o/VUSe75oK0IQgF6f2PXzZDbmj3t/wCIrzC0wzFsQbnIrhaD1WZo/wB1vqEZ4+MzfULzHbE7ucfAoz39mU+B/sibelzQ/fN9QmEsTf8Aeb6heZ0P+1Mf88FBH/4H+ZVHT9sSMkMJjka4tOuo0XHex2Z2rN+YTkUfqR5v/ulk993cj35qDRhLEkmo1HBXk+Ky4V30jvd2+ytBKlVNotLaLUDWhLalBANSxn95dGD3CORXNPvs/iK6MB94ea6Zds49MUxDMQ8E/atM145rRNg45ZTI4uBPJDcJGOLvVRVYeOakEK0YaPr6puwZ19U2aU2FIIVvYsHA+qkRMHD8U2KbCLCu7NnJHZx8h6ptWRxp7XcnBX4oXC7y/NMYoj9kKZWgwPHREvTh3qfFRaqnztdmBNElJG4l2pJV+Sfzqzpeq5vdHimtJLsPFYVYmCS1IKgsClJmHNAeEEu+sj/iC6IGi528sXIuC7Xyc8HDzVRUFa2Z44gqOxePsk+CCxwAtp9EU4kMjhmrQqzFbX0VTGu5K3Eat04BAugYHDiqImhgLRwJTRSCQBou27qGe8/+M/mrEa4/cCz4trc4J3paIvcCqxW4SillA2BqnAa86gEFVsCsZuKUUwa1nABDyGtsVZUEW40ibRjdL1QIJXEnUKWyOzijqqWsde2itYx3wkKDoN90LDhh/wBdiP8AOK3N90LHAKx0/gFqo3B5GlfgjOb938FUSeBUWs7XS+yTsFkxt9lowu72wFq9mzln9oj6FtfEqMDnlu8bx4tWzBODoiRfvfoqe0fWjj6rTh3l8du4O/RSC7gudid5TXNdHgubiSAZfNWkcY7pmGikUqq1skFKHm1SCps2ml2ClUlQqyFClKgFBUqCghSz32+IUKWe+3xCDpLLh3BrJCfiWpZIGNkY8OF95dfO/DOXS9r2vbmG3VSHNIsELE89m8tabCeOXvDRt7WQp+S/bPH01oUAg3XBSusu2AhCEQIQgEHYooQhCIEKUIIS1qCdymI5EgqDuEnaXoyEIRVOIGZrW042dmqBDLC5ruxeGN4uatUDss7TdLrNmPZtLu8DxHBcM75dccdxw2vc6R2YN55gN061Y9kbZGujAGYWaWVdMP1YymqEjazu5p1X9px5Lf0z9rEIQgEIQgEIQghShCCEKUIIQpUIBCEIEm+pf4K7CH/pY/BUzfUv8FbhP9MzwXPLtvHpepCVTqstLAUEpLKLKBwVJ1VdlFlAycHRVZipzIiy0Wq7Ugoqy1NqvVCCy0Wq7RmQWFypkJtobVnmmtK499nifyWse0qsveDXdTMdI5tjLSGkdqfP9FbQA0PHZaysn0zJtTJLLGLIabNK1pkIBtuvRV4kaMH7wVqW/wAZSd0MkouDnNsHwTCVvFw9Vmk9yT+IfotDY2Nj01rQWplJPJLUmVvxD1SumYNM2p5aqiYNDQGa078UzwA8eX5pMZS2rBK3r6FMJWuNC78KSa599K1HNR/uDwU8VryuD6UlwIVVqLWdKvDwAgPVFqHOyi00baA4EaJCdVSHu4N/FTmd8P4q6TlGL2v/ALXn+i5q3+1HF3ZWK3/RYFzvbU6CEIUUKyH61qrUgkGxoVL5iWbmmmX31Mc8kbcrSKu9QCqLe7XMin8wmM1Exmppq+Vy/ufyhVSSOkeXPNkqqn8win8wq00snyYaSLLedwN3tSudjrkmeGUZAANdqr+iwU/mEU/mEHRl9odoQ/6bNmDi0yWzTkEzMfEySQtZK0PcH919G+V1suZT+YRT+YQdI4+N780sLjlkMjKdVdDomi9ptYSTG+8xdTX0DfPmuXT+YRT+YQdCPHRtELjG4vjBbYdwN/jqmkx8T3xOMUjjF7pdJZ3vXRc2n8win8wg3MxpjzlrO86USCztXBWH2gO2ZIBMadmLXy2PLRc2n8win8wg7GGliLGTTZGuYwtBEgutfs72srcaGyxPyH6OPJV77/1WGn8win8wg1TzslgiblcJIxlu9CFQkp/MIp/MIHQkp/MIp/MIHQkp/MIp/MIHQkp/MIp/MIHQkp/MIp/MIHQkp/MIp/MIHQkp/MIp/MIHQkp/MIp/MIHSSe75op/MKHB3EoEQhCAW7C4F+IgEjA2tiTzWFdr2ZK5mDAaa1JVls6ZqtvsiQ7lg8lY32P8AFI3yatJlkO7iqySd3H1WuWXs4wo9l4dvvyH1UHBYFu7r80EKp4Tll7OMPNgcN8mdLA3OW9Vz3ROs1hxXNdb2f3o5Yztv6/8AZc58jmvLSNjSlzy9nGKoWntCHMDR0Vxa3/CqhIczttUweSUueXs4w+Vv+FGQEXR9VFqyJ1Wpzy9nHEuRv+FTkb19VEr2sJIGyI5A8WE55ezjiV/dLS0EkHTVWieYbMo+KWQWAD8QTdk3m71K63LH7iY4+EPxk7Tqa8SpGOmG+vmseMbTwG2dPFDMLI4d92UKc8PS6rb84S/CPVQfaMnJvqs/yStnEqt2CNaO16pzw9Gmr5xk5N/mUjHzOOjGnzXNlifF7w05q2FoyA62U54ejTf8txH3bU3y6f4GrNE6nOBuldSlzx/2mjfLsR8ISvxmIe0tI0PC1FKKTnj/ALTiqLbjyuAJu1U6G3WNFpLVGUrnld3bUZ+z6pHxF1a7LUWJHAtUVnLSOCAVfQIVMhAPdFkIhghoBuhvxVZkeRW3gmLXNY0k6HdNLs/+7Fr9oLuskbVdp6rhFuWZg4ZhS3Te74IjpBlGyCfNWWwinN9Qufgpn5XDNdHQFbGzBzgC3roirBHG73TlKXJ3wDqrBlcod3XoImiDG5xR4Wd1mrK49Ta2S0/D90rK/wB/yVRfD7qrxWgGlp4PdKTFVlaTwSjO15Dqyp3SZXUBqkaWg7pi0F2a91FM2R5I2pWE6KoVp3jorRRCBJHFpoUkZO8O4HoVY7ITZ5JWsizgBuvig3N91YTII8dMMrnEtHuhXdu/5SYGNbo27KzjtPnGX3c2QXyW+Ptna44g6/RS+g/qo+UcoZPQf1THtr2Z+Kgmb9xY8NbM3EaH6GXbkP6qrHz5om/RSDXiB/VXM7fXRm3VVY/teybnyVfBXxpNsYl0+rf6LRhp6jP0Uh73ADl4qgF1cFrhbMyMAZCCbSaNn+UafUy+g/qufiZQRJcbxvwXR+mr7H4rnYzMWyB1DnSt0m3IvomB6FTTObkwDOblfC7QHdCpzdCmGXmVIy9U8GyZuhUZuhVhDRuSFPZgi9aTwbU30Ki+hVpYBzSkNG+ZPBsl9FF9E3c5uR9Hzcr4NktWQazNHVKez5uVuHa0yNc0nQ8U0bbVmwuz/wCJaSs2F91/8S3O0z6Wua2iSAaWVhBzEXV2rpJywe5rtqliJMjy8BriNuamWrdMzcWxFuWgQSnVbWZK7vorVvHetVnJClCg6CytMg7HWllaS2TR9jmrJZ8oIDTm4WqGEvk7rCSeA1XHPKfTpjGxjszbIpMqoXkktdw5q1dMbuM2aoQhC0yFDtwpUO3Cs7S9JQhCir8KO8dLvSluhZqWEgtBuljwT8swbV5iug1oEztaBXm+T9nfHpk9oRBjWOF6mtVhW/2j3WsZmuiSFgXb4/1c8+wkb77k6RvvuXT6c72ca3SFPClCjQQhCIEIQgEIQgEIQgEIQgFClCCub6l/grcIP+mZ4Kqb6l/grcJ/pmeC55dt49LqKYNJSk0EwkI+y5TVXZshQWlHa7AtIUlymrF8FpFItCIghARam1RKhFotAkshY2wL0TRSZtyNgdOHRTod1IobBE1dn0S0FCFFTlSOHfZ4n8k1pXe+zx/RaxSoaPpTrz/RQJ4mPNk2dAC0obfaHQmr28kr9JGPJOSya1Otf90yMUOeHhmvezCxVUri4NALyGg8TosznRuxTS28/FW02STMATvZvZW/rCd0riDHIQQRmGoWtpFAcKWQMyxPbqacFezK4Nq9NRrXJXPqf99Jj2rcdW6bPRIe9fAV+asc2pIhQJMnrqVRKMzqzZTQvobTH6L9rSae08CD+FI/3B4KXAgRlzh9r9FBNygDXT1WY1TKLTOaWb/naRQTaR57vmEyV/u+YVnaXpLbyqQTTvD9Uo2TCqOhN8vFQnTne0TZj81iWz2hWZldVjXO9twIQhRQpUKUqVYzZXsgDow98jWNJoXxVDNlpf8A6OL+Jyk6J0Oxi/aGehVc0ZikLCQeo4pFdjPr/wDiPyVVShPHDLLfZxvfW+UWpfBMxuZ8T2turLSEFaFa3CzuLB2TxnNNJaaKk4WcSujET3ObvTSUFKFbBhpZ3hrWPIunENulL8NK18gYx72MJBcG6IKUK5+EmY2Nxjce0HdABSOikY8MdG4PP2SNUCIVjsPMzLmieM2gtp1SiKR20bzrl0HHkgVCu+SYm67CXa/cKpOhooBCviwssj4w5j2MeQA8t0Sy4aWJ+V0b9TTbadUFSFY6CZrwwxPDiLy5TaDh5mvDDDIHEWBlNoK0KwwTNkEZieHnZuU2U7MK89qJA5jo2ZqI3QUITvhljAMkb2g7Fwq0iAQhCAQhCAQhCAQhXwsjlZ2fuy7tJOh6IKEknu+avm7NtMj1I3dzKok93zQVoQhALrYD/St8SuSutgP9K3xKsS/TSoRaFVKUjwrCkdsgs9nvyzlvxD8lhxkeTFyg8XE+qvjf2c7H8jqm9rsyztfwcFmjntHecnGirB7zk1pQ1poXZieSpc8Ac08DsxOlBQXVbnIqneSZo7xSTvEbcxVEuO38QVtrKZWuawg7lXtfmFjZXL6ZiwAXsnAtVtVzVlowYpLWtFmgEzVL2B7aKorDWSssUQseIwxi7zB3fyXQiiEeg25JntDhRG6DjsPfctUXuLMWmOd7TwK1YcgsIPNL2EnJGQDiVbQ5JMQwHK4cCrFAtKCFJPDc9EFrqstcB1CBSs05WkrJMggC20le0BpTD3Ujz1RVJdQV8uuEjPGlmeDoFc8kQsb0RBGSTHfMLpSbLlRe83+JdZ+yUWxxNYwPbfeFkFW4c/TDwISNJMLegH6og+vb4qK3lo7HqAqwSWg2rQfo3acCqIT3B4qhjE5hzA93kqHOty2OOaHyWAaSvHKvyVRqgOhUYpuaPXmiDimmFs81RlDANyncwOHHRTVclNWKvVZUjWgDQlO3RtUUoa4HV46aKXsDwKJ0QS7LxRG1uYkXakRADU6KQGg6aoFZ/wCaP/gCG/8Amk3/AMYRH/5m/wDgCG/+aS/wBdcvr/DGLQ8d5RlKt+jsEnVNYug3XwXHTpsjPtd2hSp9oNLoW1zV73Py6AeZVZlZQbLGT1rQIac4NcBqPxWzDEmLU3Tv0VjY8NKO4dTw2KDEIWgA6E3qkQx2XMxgsSgdV0Q4OFtIPgVz8UHO7QNFk3StHFTN10VzMJIT36YOuq0xQsY4ZAbG7itCqLCudq/QclcI2gaCv1V2o29UjnNG5Q2QtFbJHtvy5K0m0hFlNG1Bu9qHVK5l7K8t01Vbh8O6aPClwrTLaRwaNwQr6pQWgqIzlndsLRhG0Slf7mytw4olbx2mS8rLA8MY/MSO9uAtRWbDuDWuvi5a+zLpTMQ99jM48DwUNLmka6q2STKTQFHoqQ9xcCSueRG6PNltxslOssJLpb13WpdsLuOeU1Qs08ma2UQVpJAFlZpZczSGtJ/VM74MVLiSG5iBXG/0Qy43tex+vMIDC7UNHqoGkjQaIXGuixhe9+Yklx581oiz6l5HksoDu0IArXmhz3WWtIA8d1cbIlm25CzQTHNlcfO1pXbHKVzs0FDtwpUO3C1O2b0lShCKswjn/KPoxZbva6OZ4kFxCyLrMuXhZOzneT0WvsnTRNc4uDt1w+SeXXDrtVjJxNLlDaLNDraoTTV2lcglXXHpzvYSN99ydI333Lf0zezIUoUVCEIQCEIQCEIQCEIQCEIQCEIQJN9S/wAFbhHD5MzUbKqb6l/glw7bgaS6rXLO6rpj01yOAaCSBqNSl7Zn3g9FncR2jACTR2IWkRtneWtDWODbAGl/5STKaTV2UzMsfSA6q7MOYWSeHs4rLgbU9n3j3wEyymoSXbVmB2IUZhzCyiM2630L0PNQAM2UOBWeUa1WsuHiizy/FZS2rDXBx5JGnMLbwJB12W8dVi78ttniFKytbxz/AIKjvDEkOfpe6nhZt0kWsmQV9b+ChrLe8dpqDy6BZ5RrVbLUZ2g7j1WOUZALf7xoJYx2l61XNOUNVuzt+JvqlLg57cpBIWItHahuYXZH4JpI7YQHeisyn0mU8NQc9spAGpsEeiljXjvMikDiaos47c+qzRl0JB7Vxd8QKvb7SxWUNc4UNCa1K3ljldajEuM7qtzXQgOewgk57cNUsWKGYN1p5uhwT4jEGYtLnWBwKysprswd4aJl4xmyebdNAkjBddBxI4cFtiyztc5gB0sWz8PwXOLGUS15NaAHirzibaxtU1jMoDTx5plLlPH/AHpZZL5aXgQnD24EBwN7CsxKpLS6bMLtrQR/MAqe1GRtgmjzVz8SC642uaDRPE6H+yslmi2eWgP+haQ7Z23okjy9r3vh0HPZUmZzmZAaaNLdVk/5SHzjtKBGRrabV8tVylbq85nuJa0kdAo7N/wO9CrsBioWB4c8NNrQ/wBo4Zld/NfIKcl0xdlIfsO9FXMxzIy5zSAOi2/OkNmw6uBGqpxuOhxGGdGy7NGz4haxy/lGcp4rGJQBw9Va1r3MzAtAOm6yMxEsDw0uqFwzaNBOymLGyyua0ZSCCTTNqS5GM8KfaDHRlgc4Osk6G62WJbPaLiZAHDUXqBVrGsXtqBCEKKFKhSgdmy0MlZ2QZIwuAJIo0swdWlIz9EiRqz4f7p386SaTtZC4ChQACozdEZuiK2QzCPBysDy1znNIriFpfjGOlxBLy5rmtyg3rVLlZuiM3RB2Jcc3Pna+PI54NDNmFfglZLC3ESvMzHOLw4El1V5cVyc3RGbog67sTFJJbZxGGTF537wUwYjDtlMnaNHfcXZs10dqA0XHzdEZuiDqCaJ4w5fLowEFtka60dOCmWaF0uHcZmDst8ocRvwtcrN0Rm6IOm3FsBeXvLvpw8XyVjJoYXD6Zrrmz6A6DVcjN0Rm6IOi3F/RRgyusTZjqdkkrIpJZJRiIxbiQ0g3+Sw5uiM3RB1HTRuxceI+UDJmb3NbCiPEROaRNI4gzZtztquZm6IzdEHYOKia6H6RlsD7LM1CxpuqoMWxsMeaQ52teL1sXsuZm6IzdEHVw+MjZHEHvt2RzSTelnS6UOxTe+HPjvssrSwOrfquXm6IzdEHRx0scsTXGRrpb1yXRHMg7FYUmbojN0QOhJm6IzdEDoSZuiM3RA6EmbojN0QOhJm6IzdEDpZPdUZ+ihzr4IFQhCAXVwP+lb4lcpdTAn/pW+JViX6aUKLRaqgpTsVNpUFT9lqx7e19nRv4tAPqszlqjPa+zHs4t/7qdo5LG6u52mrmfRO2J2dw6/omMTq12S403Gd8eatUQMLHOs7q7Jooqlnrwq6Pc+CTFNzR0mj3UygkabqoxllMj5grZExxaKCVjLLLH2gF0oyI2gADMtZfRGTI5u4IVjVofO5hGcGjrqFViA2ICRtlrjoFnSmanCzNldWkZ9U4nf8AdO9VeNZ5RpCKWft3/dO9UHEOG8Th5q8acow43TFOPOvyTQPoFLN9LK4lunLyUBgArKfVLjTlGgyCtlGcHQbqnK0fY/FMCAbDNlONOUaoW9k3OdXE0OiucZBEZTqy68VlEj3MNMJ1sG1eyeXsjEYXEK8acoy4suaGvjbYfw5LA/tHHvBdGZ7i1rMhGVUU4n3bU41eUYXZglFnitz4jI2gw2qThZAa2TjVmU9qKNhWSscGtc7log4Z41LlZJHK/cjZWYW9Jc5O2dppzehXQdM4gdwbfEsXZuY9uYcV1WRh7G1XI6J4x/aG99K2YpzYg3sxfPMhmKc1wPZ7H4lrZG1sZblBvjS5cmOc2UtbG0AHknLH0aydMe0jRHYf/f8AsqmY4tBHZcb99LgJ3YkO7Ro041utnZtrYK8sfRq+1Xzkezy9hw+P+yznGHMT2Q1/eXUGXsqyjbkuVKAMRVcFZcfRrL2sjx7mH6m/+aZ/tEltdh/90kdA2pnkf2Lg0gHmQpM8fS8MvZ24kvFiN58NVBxYv3XWsDHOLiMxoFPIdEtxl6Ym7O2w46O7y/iFLcdHexroVxpHaqIyS4AcVJZb01q+3oYJmzEtykcQStAbtoFkwA1Z/At9BMpJfBjb9skf/mb/AOBABHtKQ1uwUVVNOzDY975Ly5QNEhxjX4kyREOGTY7rWX1/gxdVmUNoKSVg+Who2Utxgf8Aaorjptre7RVF2miQvJG6Qlp8U4mzvDHDUeirIvTO6tqJ0U2EpPLRa1DdQ1jYzbG/ilcXirbmvekZq3q0ZvFVCFl616oy62ShzrUZigktN6bc0jm/FSlzhY1SuIo6EnlaCugNNaRoRdhSXtb9kgnhuhzbFUCE2K3EVobVZVgYBoBQQW0ERVoeqCE5yncKsua0afggWTRith2KpkNsvWrV0Gx1tbxSrFkhslzRWp4rWsMRqa+qZXS1LxROYXz1VYbqC3mtOJIb7o7x08FmoDQn0WMpqpLuLYyRRGhWxpsb2VkicxpNrRFsQAK6LXx3ymSxVSvjYLcN+StddGhawvYWyCxV810zy0xjNpMgd9WBW/e3S5SNQ7yTARgnNrpp4oyEDOXCzsAuN3XSFIthJdRHDmkrjoCh3dJBN8VApwu68llVjCLFtGnFaYXx8DRPNYwdOCsYBmBNq45aqWbb0r2k1RqkNII0TL0yuSvK/wCIeiMj/jHorEK7TUNhMM+aV5LsrG1ZpXz4d8MWcy0To1tLNEXRSl7TfQ7KyeeWcgvI05BS72s1Iz5X2e9r4IyP+P8ABOAbslSrtNK8j/jHopY0tJJN2nQmwIQhFCUPaTVi1Ejso2sLOzI2TNdC9isZZaWTbWoUMeHixsmWkQhQ73TaWF2aMaJvzo14M5waLJpRG8SNseaHNzHRxFcAqIniKR7XuFLNuqsm40oUNcHC2mwmW0QhSoRCTfUv8FVFG10TTeU0rZvqX+CrgrsW+C4fNdOuCOwog9pt0T5Sf93/AOqbTmjRcp8ljVxlKWkjKZrHLKpLBmcRJVnlsm0RQS/Jb2TGQnZ3p2xHkoMIuxLXDZPpzRpzU5rpAjp+dj/KkurSdB40rNOaK6pzv0lxlQ19JSWF2YtFpiQDzUjKpbSa+i9p4KcwO4TU1T3VnbRNNO6NFOYfCp0RpyTYi/3fxRdjVqnTki+istnQNOSggclPkozeHqtc8/aaxRTeSKaDo1NvwRXRTnl7OMLY+FSJC02BVbaIo8gij0U3aqTIXXY3JKQvaTsm15BRR5BN0KMvVT2gGmT8FNHiApBNbBOVTQE4bqGNHkqy5l3lOqtzdEWE2qsyM17qjtGclYVBvkkuvMTRM7DuE4m7xPMV5IGu6Mumq1zqcYz4x+fJud1lWrGCsnmsq1LuGtBCEKgTM94JUzfeCBnbpUzt0+RvybP9rPX4IKkLTh4GyROLiQ52jPFPhsO2SEHsi9xfRp1UgxoWwQNDJS2MyZX0LNaKl7G/JxIBRLyN+CClC1CJvycObEZLHecHe6fBZkEIQhAIQhAIQhAIQhAIQhAIQhAIQhAIQhAKVCZo1QAaSjKU6ECZSjKU4BJAANnZXYiDsMrXOBkOrmj7PIeKDKoTvHFIgEFCDsgVCEIBdPBf6Zvn+a5i34YkQNq+O3itYzd0zl9NfmigsozOc4nPumyn9/1XT8f9ru+mhQSs+U/v+qZsT3+62Qp+P+zd9GcrMI+hPH8TCR4pBg5D7zZB+KBhxE8OLngjp/dJhq9pbfSNO2kBe4UeA6JgWNN9916USqsuaaSs+4/JNkJ+NL8c9nlIjBFjRQYTwR2bv/yKBGS6iXjTms5fH3dktiWMc06hOG62Uhjri71SgFshAcariViSe1O45Nf3gtHbRgh2bgL8Qsrvs8e8Fsa9jW+7pxWrpMelmKxUM8bRYscVnxkrDh42teM2e1eJo2jux2s+IGanEC8wUmtrVIleNpG+icTP4yt9FbG1jiBQvwVhhawgOZoTuFLonSkTDjKFGeM7vtauxYCdqU9m2xoPRTwrFG0PkkLdRY/JWdgeS05QDbdANwn01Fb/AIJfIw/Jnc0zcMDrmut1szHQiuSjbNzUFLIA3QXz3VjgWtbV0eqY1rSNbGulKhDHG42TfVKQ1hJa228lZ2dPsHTiFDnhpAy62gUUdQBsldG1+44UgxOL8zTqdaTkOaAXaZjVoMUsL2bC1jlD+1Ohrou46Kh7wVUkbAxx4jZX60zZu7ciW87L+JdDDSAjQgrHihpF/EswjLTYcQtcbekxup5egCQwxE3lba40c8jSA2c+q3Mhxj2hwn0KlwsbmUra1oZsKT3bVz3RYtvvTjzKwPxbw/K4k0dVnS7d4SgNILgPErmzSNE2a7FJxBK9mkTdeJcbWd+EeZGwkjMdd1rHGm54S7GNb7uqzyYh8uh0C0j2VL8TU0uCMMDnljdBvmKzMC5s4kaxxs8UkmIzbBVS/WO8Ulq5ds49RLjavwMeeRx+EWsxK6nsyOsJNIeOgUnauhgPeZ/At65+BPeZ/AtpeBxXTPtnFhmjZLj3tkALcgOq4cbXGR2R1VsuvipKxMhH2mALlYbRzky+v8LitGIljP0jbO2ZXwzQPdmLqPAOSscHMF8UroI37aHoudm41HQbNYHJOH2uQHYjDuAY7MDwVrMc3aRmU8wiXy6PaWSBenNB1CzNmY9v0Tmk8BsozyNaRmGa9b2AVGg1VEApfApIpTJfdNDimJ81PCoBNa6o38lFmtaBSncWbIVEku10S3rvqgmkjyeHFA+bmoc4HiVWczReh6JS7yULuHLzx0SF3VISUhcqizXjSjMByBVRc7NVV1QW93meagaV4LOatgrKa5rHZByuO50WvD6Nd4reKVcueKznxXQXOq3knYFTNqtUjHzNBaRlrYqp0Do2FxAQJiysp32QZZCQM5adE5SzyxqojjJYXZTpsrYy6+6AEj5SabmNDQkcVZDlc7kRyUklq23S/wB0alZpYi9opu+pJK1qHVlObbiu9nhylYKDXZQbHNOaboAdSntmamEeaifM4ZgRl6cFyuLpKpkiGUOHPXop7OhrmqrUHMRxpNmJAb0WGhGA7RqsdHlbenqiBkZF7EdU5aQ4AkEcQta8JvyeB2YURRVqzE3IAwi1pYKaA7U810wv0xlAixV8EO0aTYCzxy0zUZqPBauWqkmzukqRo0roVY1wdssD3F0hyigr45LpgoH7SxM/LVx8NKFDjlrxpSujAQhCoEKAbJHJD3ZQps0pmmb7nPS1mLgHkBv4p3yF9Atbvuqi6nmxxK5XK2eG5PLaIi2Jr224O3ynZN2Q5u9VZgb7IseHUdLA5q+TCFmZzBpytXDK/a54zuMEgaARn0ribS4RwdYBNBRIx3fLg3XZUxuynu8VMstWWs4zxY1yRF5JzkdAsZFSUTdFamyBkYtxc88FRKzI4bW7XopnqzcWdtULGtaCL15qxYhK4xhoJAHFWwS6d4k8KWsc50lxrQhCF1YVzfUv8FVCB2TfBXT/AFL/AAVUB+hbpwXn+b6dcDZRzRQTX0RY5LzuiKCKHJNYRYTcCkDkjKE1hFik3AuUIAATWEaJuCQWCNwykvOx5JVNjkiwrctsySI4bKfIIvgi1NtC0WpsWi02ItGqLQNk2C6RGGdjnLm2L7t6lBIS5GfCFvDKTtnKbNmRaVTtwWNtGtFpdUaqbNmtQ46KEcE2Ak2jggKEE2i1FhFoGzKLUHoo4oJtTaW7UWUFOMN5PNZloxOuXzWddcekoQhC0gTN94JUzfeCBnbq2OWMQ9nIxzhmuw6lU7dKg0/K3sDWwksY3he6DiInAh0TqzFwp1fosyEGk4lkgeJIyQ52buuqlAlh7Ps3RvLQ6xTv7LOhBoimiiOdsb84uu9p+SoUIQCEIQCEIQCEIQCEIQCEIQCEIQCEIQCEIQCZpopUINEP1zO7m7w0HFafaLdWPIewuv6N9WPRc8EhTmPNBqhxckLMoDSR7hI1YeioJJNk2SkzHmos80EuKaOV0V5Q03zaCq0ILnYh7mlpDKPJgCpOyEHZAqEIQC6ODa50DQ0E77eK5y7Hs7E9jhA3JZJJ3VjN+hBh5XPkGWqdrfgFqbg2j6xxJ5BUxYt4MvcGr71PQKHzyvOproCtWG2zLho98vmqpMUW92Formsmtk0ps8vxU1Tawyyu955rkFAAOvFKL5fipaXfD+KapssY+lkPUfkraroFVG6pJL5j8lZnPFTLtU0efBLY7UX8KLJ3S/7g8FcUq2mlVPaBM41swfmUyQ5jK7+AfmpjPJlfCkuc4AiMHvc1cBOf9kfzKtrsrWj98Lax9rplZPpnGeGf/qG6iEeqqe+RxAezKL5rqM1VONhDWsNUc36FZl/pbNRka7UEGqW2KQSAXuFjMRADgmY4A2CR+i53tqdNnO9L4o4gclEL841oUmzMDtXXpwVVG4vqiu8hr2Anj4lM2ZrbptoIDXFugU9k7XTRAmkOzf0QS870EDZDpZCjK1ru87ThSU9XlLTepQWZo6Iu0sha5lBnolzAbAKC8lAwe8AACq2tK4E+8/0UElQgaxxJPiUjsvAKaKKA3KDmYz3Yv4iucXus94+q6WN9yH+Irlncq1nFbCLNncELtxEuhDSdOS4UXvDxC7kPuBan6pf2WBjQKAXBxIrFSDk4rv8ABcLGisXJ/EsVuPQwm4mnoseLkdHjGOY3M6tAtGEN4aM/uhUYl2XHxGiegW8U+zS4oyR07Nh5OuxXLkxD3Ete4m+q7L3skblfBI4dWrmYvChn0kbZA0bhw2U41WWX6x3ikpNMaldfNJm5KWXaTpZGWB3eArqukzGQtwWQOo7UuQAXAqQrJdq6TMdkiDgCa7qqlx80tiwB0Wcf6f8A5JLKufaYtXaOdEHOdqdLWNpN6FXn/Tt8VTHuVcvr/Bidsr2ncq9mJbYzaKoAIMbT08Fza03NcCbFHTdDmMeO80Fc8GSP3duivjxYOjtCrtFjsM3TsyWnmEjhioq72cBWseHSBwcMtK4G00M0ePLe69tfgtEeJY8amiofEyQd5oWSbDdnqxx8FNa8xbXRBB4quQHQto66rn5podwR1CtjxvxC0Z1dtRGqUgpHTtc3uanqozGNtyOzA7BXamKRwB0IT6OFg6KCDzQJWVK4X4q2rCSiLCBD6pSoJaSSSlsHQBXxAxjBbm4rTCKYs2VobuStEQAzAWBfEq4GX0sWAjetddlvWAEAnWtVM1AZbdqP5JXb8zWlKwG6s0KVkWrmMAAvis4zfbNvpX3MoLRrWvUpo3EOBF+StnBhmMThwvZZg40aO6Wa6JfqtjZwbBGo4KJZnMAIGvLdUMIdoBrzUyFpyi75ALcztiXGKS7O4lwolX9wMF34hVtjJIphKfK4XbS1Z8ruJjiEpNkhoO1quRhEjuA4JiMg0dRpDzrd2m/GjXlMABcdCQrxG4PNAdSqoAQHtq81aWtLB2YAJslax/tKRrLNlve4FXJQTZ01SxPL3PvgVuajN8lxOUR2fS6WVjy2iDoFpxWUtAJ1WNprjp+a5/J21j0mQknMd+KeGMufpoDukHvG9eqta9jJAW6tA8ysy+fLS/EGmtbR3VoNhY5pS8C20tMLgGC3C11mW8nOzwsQhC6sqA76Y0RXratce4SBaxSSfTGthpotbTUJOmy5Y3dsasYm6u81sEIYwSMAcXcb2WIOt46nVX4c5cUzvUM21rnvw39uzh2h/fDgBlF3spnc5r45CQWkilXFIOyyMaXd43Y3R7SZI6GPJpTjd+CqsXtDDtzZ426SWaB03WA0Hd2wOS34kmQMjDh7vvN2KwOaGHW8v5plPG2Z3Vgka1pphLjpYVcgc0AyXrzUAkHQ+ARI5znnOCSPwWd+F0Vu2mqth0eCDXkljtpBqgmDg3Q/hxUVrjLnDXb806pgfYFu8ldwXowu45ZTVJP9S/wVUI+hb4K2f6l/gq4L7FvguPz/AE38Z/JHkp1RZted0FHko47JqPNHFAu/BGVMhAp8EWOSbRAq0C3ohPQUaBAt9EeSbRSCL2QKNEXR2U6ckFAVpojQovqp0QGnFQMqKFoIAHggi20jMNUEA1+KgNFVxQSCFAcPJGUeCktCA02Ci21YRlAUZaQTbariosVVoIHogjmgDlOxRxUEIrbREBQir4KK1tAKCdVNbII4IM+J+z5qhX4n7PmqF1x6QIQhaAmY0ucA3cpVbh/r2+f5JEyupalzJGGiQlp/MK/EfWeSI4i8XYAV15Zmc4y1RT+YRT+YWn5OfiCqe0scWlLLFxzxy8Sq6fzCKfzCdCjRKfzCKfzCdCBKfzCKfzCdCBKfzCKfzCdCBKfzCKfzCdCBKfzCKfzCdCBKfzCKfzCdCBKfzCKfzCdCBKfzCKfzCdCBKfzCKfzCdCBKfzCKfzCdCBKfzCKfzCdCBKfzCKfzCdCBKfzCKfzCdCBKfzCh2atSrEknu+aCtCEIBdDCxtdh2lwur/Nc9dPBf6Zp8VYl+kRwtJfY+1z6BWdiw/Z/FTHQMhv7X6BMXWdFq27CCKM/Z/FSIoTw/FSbO6FnlQvZx/B+KOyZWrfxTqRqnKhWMDfdFWnpOGE8FY2IcrUFOU6abqRC4zNB0ttrUxoYOBPNVk/9SP4D+a1ilO2JjOp6qmUXM8NH+2PzKvJVN/8AVH+AfmVJVs3NMD4n0BlIIdzVzO3adY8w53qrJfrP+bfyV61lWcZSsmkA+qd6pcRMXhmZhYA7c+CttDqIoiwsyrZaz56Fdoykpo/7jFf2bPhb6KcjPhb6K8ocWZoy7St9U4cPvGK7Iz4W+iMjPhb6Jyhx/tUJK2fGm7Yj/cjT5WfC30UVGPst9E5Q4/2TtnfeMR2zvvGJj2fwN9EhfEN8n4Jyhx/sdqfvGI7Q/eMVMmMwzNCWnoAssntFn+3CD1Kbhx/tv7X/APIxHbf/AJGLkux8pOjWD/iqXzySe870TcOP9u07Ehg1kjCod7RZfv34BchSm4cf7dI+0x8JKrfjy/i4eCw6qQ1x4JuHH+1vaGSa7NXoCqHblWxNIkAPMK12FYLJkpS+VnhVh9ZK6LswnuBcZuWOduV2Yc1pfjXREsa3Y7lWfqzf2dUOXE9oaYx/kofjZ3j3q8FQ4lxsmz1WW3Zgx8MWGjDnWQ2iAqJcc10rJw0007c1zQrT/px4rWKNb/aszvcDW/isz8RLKe/I4qlS3dSNGmH0rvFKnm+td4pEvaY9JaSEAKKTKKsH+n/5JaTj6j/klW8+2cVhH0DQqY9CVeT9A1VVqrl9f4MU2i0pUWubSzMoIa7cJAi9UEjMw21yuZiy3R481RmUXaDpRzNeLBtO4Bzmk7jZckWDbTRV7MXI3R4sc1dppuLRqqpMLG8bZTzCWPFRnfS+a0sp2oIKvim9OXKwwyFl2rYWSuPeByVx5pMabxDq4BdGFlwi96WdCiGQ2WZKaPwVrm8tUwaDZ6qHOORzASORHBZmW7qNXGybI6mauIHRVhwcdARXPipIAG3XUqt0rGnUrTJJB9I7ySho4HyKV0oc80N1LpA82mXZD7N1WiLd/iPyWPNpQOnJaoTo4np+S38c8f8Af6TJaq8JgJsU18kIacrqomk66H/h76mbTTOrbq7Ws8fsTEOcXPMcfTdWxez5om5THmIddgjVdtCztLHGnwMszQ0Q0RsSQsvzLiuDWj/kvRKVL5JHmX+y8WzTsrv4Tazv9n4wCzBJQ40vWOeG7oa8O2U0ryjcPK/IAxxrQgbrRiMGYI2vLwday8VucGDETSOeGZZNCdlj9oSMknbkkDxk4eK6/wCqMT9XOuwa11Q0HgCb2S0S8i6Frt+xsO0xmVzST9mwudnltzoYJnSV2byT0VrI5o3u7SN4F7VsvTDZSkuks283KHdmcrXEnkCqcM2UOoxuAOmxXqkK3K27JHn5cJLLEcsTjrpoufIxzHVIwt8V7BVT4aHEtqaMOra+CZXZJp5HLR0I04qNjY3C6vtP2XFhoDLG51XWUrlgEM23XNRmvV2t7IBOl34Kctty6a7FLWtaqjfCbYNUzhYIWJj3N1BobLSyQm7AaK0JXbDPfhzyxY8oa92XXVasznM7g0A3JWVwzO0o8+qsjJJIJOi5y+W7FI+sFAK0A59NdUha0Sd02LT2cx14peidu5Hhh2YDjdG9NFPtHBh8LXMJGWzd9E+HkD8MyRo0y+a0SfSEQkdx7DZSrHnnOYwi70FGlQ+3NP7uoJ5LsP8AZUfypsed1OFnTkr2exsM1xLszvEq5XbOPdeeDaINbIA77jITqb816NvsjCtug/8AmVg9mYTXNEHEm7csNPKbkhWtuMNdlNn3bXpnezcIf9lo8Ep9l4UsYwhxDLrXmqOBBIA3vanwWq82tUp9p4OPBuZ2N04GwSq4a7Md7Na6YZedVnKePAmNQv8A4SqoD9C1XTNJgkofZJVEP1TfBY+cwW2jglGynivO6ptF6eCgbEKCiGuggGhqk1rbVS2yNfBA1ikWituSNSeVoC9OSk7VSkgWb2QdRugXWvNQTp/RMB3ddUUMut8kEblFbeCmudqNdNygnjyCj81Bu6Q0a0gKrip0rfVRWh4qOiBrFKQRSUCjag0PJA+iBpWqUDXxRw1QNqorfXyUGxsUcdOCCRxQjbwUFAUoUgo8UEHdQFNaKDpqgAjfdFc1B30QUYkVl81nWjFfY81nXXHpKEIQtIFbh/rm+f5KpW4f65vn+Ss7Zy/Wrp/rPJWREtisC9dVXP8AWeSmObI2qtXeq5XG345pZZlOmjPzVU/1pT/KB8P4qqR2d5dVJbNHx45TLzPCY4pJSRFG55G+UWp+TzW4dlJ3d+6dFpwbg/DSQiTs3FwcHUaPTRX4+cR/KIxIc5e3QcRWqy7ueYJmsDzE8MOzi00VHZSWR2b7aaIynQroyYmL6aXtswkaA2KjbTopfNAHTSCdru1e1waAbAB4oOc+CaNodJE9oOxLSFY7ByMwrppGuZRAAc2rtahjI807nvLwZmuaDxAKJnxPhlYcW13ayBwsO7o130QYoMNLiA8xtJyCzoo7CYgERSUeOUrXhhHAZGDFM+kYQCLAB66J24qMTQNMvcbEWHegTaDHBhZpzTGHUEg0aNJ3YKXsGSMY9+a8wDfdorXFNDCYIxO05WPa5zboE7JGYlkbsI0zWI3HOQTW+6DnIUyEGRxGxJUIBCEIBCEIBCEIBCEIBCEIBCEIBCEIBXwsjmZ2fuy3bXE6HoqEILJuzbTI+8Ru/mVRJ7vmnSSe75oK0IQgFvw1mBoDiN9B4rAtLHFsbKNafqVZdJfpeLa5wJdvwTZur/REUwdo7QrQ0ZhY1C3+SjPfV/opBJOhk9Fsaxo3OY8grWto7Btq/kGJrHHcyDyThtcZb8FssDbVFlT8gyFxO75T5Izv+OX0WpQXBPyUZczvjl9FLJMkoLu0d3TuFeXDmkLx2jdeB/RJnvwlgOIHwv8A5UrHZ5y4NcBlA1HUp+0CjtOQXPbRJPf/AObVesc0lOskDvBScXEN5W+quX0zi12FBcAsD/aELdnF3gqH+0z9iP1WWnVLwozriPx87tnBvgq3YmZwoyOKDuPna33ngeazye0IW/aLvBcYknc2hB0z7UZwjdfUql/tKV3uANWLdMI3nZpVDvxE0nvSOKq33VrcO876KxuFA951oMyFsEDB9m0wY0bAIMYjcdgnEDuYC1UoNBBQIOZTCNo4KXP5Ij1BPNAUAoKYpSgQfWjxCR0riTYBTt+t8wqDuVqWyeE1urGSHO3QbpZCXSOJ5oj+sb4hD/ed4pcre015QoKkWTVoNcFlpLRorSKgF81TfAq3/wBOPFaxPRFIQFKkVM31rvFIrZR9I7xSUl7THqI4KeCKQoq1v1H/ACSph9R/ySLefbOK0/UNVQ3Vp+oaquKuX1/gxSRaWkyKXNoqik6goFQhQgFKhSgjLy0UskfEbaUbKLQWRXPiRmN2dV1joBXBcrC/XE8l0C+rNrURMkgbZOgP4LNLM1oB57KjEYjMSG7c1nJvis6k6W3aySZz9NhyVdopCILUtPeSlA3VyDlbMP8AV+n5LGtsIppHh+S3h0lWLpf+Hv8ATzf/ACfouYV0/wDw9/p5v/k/RTJXWQhCwBSoQggsB3CGtDdlKEHPxGBllMoGUte7NruFmHsiQNcGlgLq1JXZQtcrvbPGOUz2JGKLpST4LpMibGxrWig0UE6FGggI2UA2oJtFoUUglFoQgSaJs0ZjkFtO6y/NWEsdw6dVtQgyfNuE1+iH9FPzfhK+paVqQgxj2ZhQbyfimd7OwjquELUhBl+bsIf9hqPm7CX9Q1akIMkvs3CyNrsw01QcOCz/ADLH9670C6aFZbEslc9nszs25WYh4HIBP83v0/6qTTotqFeVTjGaDCGKXtHTOkNUL4LShClu1k0EIQooQhCDJjcC3GOYXPLcoIoDdUD2PGG02Rw6gLpIQc3EYNmH9nzkOLj2Z1K5EA+havQe0f8Ay/EfwFedh+qaOizn5ixcbtG3VKSd+SOK5KkoNbqK0U9UAgH1RppSDXDyQAOqkaFQUXoglpKnglU33RXJAApr3SanZSoHvRRdb+SUHXohAxPPVKdggWgO1QA4HgpI00SkgkA81I36IBoJsHxU13bUOO9I01QGh9VNcVHgjgqIO2h3RqB1RelKTqDwQRfBHBRVUpJ4IIOleqL9FN6WopBF6Iu0IOyAPBRWqlH5oM+J+x5rOtGK+z5rOuuPSUIQhaQJmOLHhw4JUHZWTd0l6XPlL3ZsqXMfhKIvd80xcBuVcsbMtE1IXMfhKMx+Eqc7eakGxYUss7VMeImivsnPZe+VxCUyOcSXAknclMhQJmPwlGY/CU6ECZj8JRmPwlOhAmY/CUZj8JToQJmPwlGY/CU6ECZj8JRmPwlOhAmY/CUZj8JToQJmPwlGY/CU6ECZj8JRmPwlOhAmY/CUZj8JToQJmPwlGY/CU6ECZj8JRmPwlOhAmY/CUZj8JToQJmPwlGY/CU6ECZj8JUOcTuKViST3UFaEIQCvaWGNuY6gc+qoWhjW9k0kC1ZZPNSzY+jH2j6q6KSJorOfVVZWnZrfRGVvwt9Fr8mK8MvTSJ4R9s/zKflMXxn+ZZxGD9lvop7Jg3DfRPyYnDL0u+UxfEf5kfKY/jP8yp7Jp2aPRDo2Na45WkgcknyY26iXGyb0tOIjP2z/ADKO3j+8P8y0D2fG6NjmUcwB29fyVMmGiae7lI8FblImrfpWZ4vicfNL27N+9/MrH4eMGhl9EHDMDqAB0vZPyReN9KjiAdiR5qsyE/7jvIrRPBHHI1oAILbulX2bPhHolzk7JjcuozzG2sAJdW9lU5TyW7s2/CPRHZt+Fvoudzxv21MMp9MOU8kZTyW8RN+EeinsW/CPRTlj7OOXpz8p5KQwrd2TPhHoo7Nvwt9E5Y+zjl6ZBGOLla2KEbuB81bkb8LfRGVnwj0Tlj7OOXoN7JuxaE2dg+0EuRvBrfRQWAfYb6Jyx9nHL0fOz4gjOz4glaxh3aPRWCGM7ZfRTlj7NZei52fEFGdnxBWfJ2ch6KDA0fZb6Jzx9msvSoyN4EKp0nIK98bRXdGprZUTOEbgMgWpZ7Sy+ijUEk6lWgtDQMwVHbD4Gp2uD2O7oBA4LWtpunLhzCUkc16LB+z8JJg4XvgaXOYCTrrokxvs6BsQMOFs3qWnZZV51mklnmguF/VMXSOFjq+zIDQS/SyOQ8dfwRiMPFDJlhiMlN1J1AKsy0mnND6NiJiWrNlv4rcxsb3uzNY1oO1EHZXtwrJzkZCGEgd7gOOqvP8ApdacroG/ior938V1pcCC0PawNs04N1rkndBh4JRBJE15cLDxw8U5/wBDjUPh/FWtdUeXKN+JXc+S4Q4Av7FufXXoL/oskeFjMPeYGOItpdseCsz19F8udY+BvqpzD4G+q1sw4Dm3GHXdtPClGIiiYe61ozAUeATnPScVDyC8mmHzS2OTPVaQ3DW5v2h9o7bjh4K7sYC1/Zxtkc0kAc9dCpynomMjBpyYjTkz1XQGHia92aEZY2EuJB1cN6WRxjlYQyMMddkiynKejUVOI7Ou6NeCRT9kU0EkprAJDmDZTK7qyejtLHRBpcAQoyM+9CV5aBbWtpM0NIvKKpa/JJ3E436HZs+9CMjPvQlzMLtA1RYonKFfyT0avs3Zs+9COzZ96ENewkWxoRbSDTAn5J6NX2Oyj+9Cjso/vQocadWUDohlFwBA9E/JPRq+09lH96EdlH96EOBD8uUAcyEzWjJ3mtBOxKfkno1kXso/vQo7GP70KXNLXUWj0TZGhgJq72T8k9HHJDI2MdYlCd5DxXbKoloHuirpBIbRLQQn5J6TjR2Mf3o9EdjH96FB0Ow9ExoHugHyT8k9LrJHYx/ehHYx/ej0UuLMgIAvklv90eifkno1fYMLPvWo7Bn3rVZHkLHOcwaaKHNAbmpqn5J6OOXsvZN+9ar2ua0G3t15LOXd7Rra4BPGwvcRlGgslPyf0nGru0Z8QXQ9iYqCCCUSysYS+wCei5DgWSFrmN0SuIA1AsrNu2vL1nzjg/2iP1R844P9pj9V5APJNBo9FIca90eig9d844P9pj9UfOOD/aY/VeSLhY7oAIUZjmIyjTog9d844P8AaY/VHzjg/wBpj9V5SPW7YNt6VkLGuaMwCD0/zjg/2mP1R844P9pj9V5wQNvRlirKbERxRvyNaDW5KD0Pzjg/2mP1R844P9pj9V5+DDRzaNLc/AE1aaLDNcH0xpLSBlduedIO9844P9pj9UfOOD/aY/VcXBYaGSTvsBGU2D4rFiWNbiXsaAAHUE2PT/OOD/aY/VHzjg/2mP1Xn48Mx0UjsujQKPMpG4Zuuc5eNVqg9H844P8AaY/VHzjg/wBpj9V5uLsWSU5gkHDgtXyHO5obEACeGuh5oO1844P9pj9UfOOD/aY/Vcxvs1re1D42GqorU7A4IROd2LLAsaoNPzjg/wBpj9UfOOD/AGmP1XEfFA1zqiHGr4Kfk8fZtBjYCN+qmx2vnHB/tMfqj5xwf7TH6rhjDRlwAYOvQKxkGHjc0vja4HgU2Ox844P9pj9UfOGD/aY/VZHYPAOFshbXIcU8eBwZ3wzdNDuqNHzjg/2mP1R844P9oj9VHzXgv2dv4o+a8F+zt/FBPzjg/wBpj9UfOOD/AGmP1UfNeC/Z2/ij5rwX7O38UE/OOD/aY/VHzjg/2iP1UfNeC/Z2/ij5rwX7O38UE/OOD/aY/VHzjg/2mP1UfNeC/Z2/ij5rwX7O38UB844TT/qI/VT844P9pj9VHzXgv2dv4o+a8F+zt/FBPzjg/wBpj9UfOOD/AGmP1UfNeC/Z2/is3tH2fhIcBNJHA1rmt0PJA2Ox2FkwMzGTxlxYQADuuHFI0RtBcBorYYI3RMJYCSE/yeL4As3yqoyRk+8PVHas+Iequ+Tw/dhQYIuEYUmG0uWu1QlZ8QU9rHXvhWdhF92FBhiH+031V/HtOcV9qy/fCntY698eqfsI/um+qOwj+6b6q/iXnCdpH8Y9UdrGBo8eqcwxj/aZ6o7GL7tnqn4jnCCWPfOFPbM4Pam7GL7tnqjsYvu2eqfiOcJ2rL98KTNGfthN2MX3bPVHYxfds9U/Ec4UyxDZ49UCaMfbHqp7GL7tnqjsYvu2eqfiOcR2sfxtUdrHfvhSYI+DGDzR2TLBEbNOB4p+I5wvasJ99vqpEsYo5xy3SHChzC+2t12tDoGsdWjvBPw1OcWGWO9HjpqgSxj7Y9VUYmuumhtpTC1orfqn4jnF5mjvR4HmoEsfF4vxVYiaLLmg2KFcFZ2cWWzGNE/FTnEiWP42+qjtY9s49U7I4RRdEw2Nr2UTYaNpoZK6O6K/hpziO2YT77dFAljB94V4pXRsDhTG0OHNVvibmNDTYAKfhOcXdrHXvD1QZY6HfHqqGQ3/AHCh0QvQH0T8NOcX9sz4gjtI694eqp7MEe7+Cnsxk938NVfw05xb2rPjCgyMu8w9UMwoLgQWkb04rYyDDis0MZs75tlfwVPyRzMQ4Oy0QatUrd7SjiZ2fZMa27ujd7LCpx4+Fl35CEIRQg7IQdlrH9oLIvd80sgJea5Jovd81D2uzWF2xuvkqfRAABbtuXNWR+4kLXuNkKxgIaAVflu8eyLooJJg4xtsMFuN1SrW7CvI9n4huVhtzdXC91qnga2C3wBzmSNAqMMDug5rzK5DWlxpoJPQKF3GtLMSx7YmND2PAY6INcNNuqrhZE3DsLsM55dm7QNiBIPK70QcdC34mMvjgiggBJjDiWt7xRFEcPhJnTQNz5mgdo3YG0GBC6ksbhiY2Nw7Pk2ZtPDBr5pmCOZ5DoYgGThoysA010PNByULfiS2TCPf2cbSyXKMja0WBAIQhAIQhAIQhAIQhAIQhAIQhAIQhAIQhAK1kBkiLmHM5u7ONc1UpY90bg5hII4hA8sXZBoc7vndvJUSe75pySTZNkpJPd80FaEIQC0MFxt8/wA1nWqL6lql6XH9okNPE0mGUbKM3M2ozHYaLk7mJ5mkWOGqTZTaaDWTuh3uP8FADipcKjf4LXx/vGfk/WuhgJM0WXiw/gf7j8VTNHkeR1VcGIZh5Mx1BFFaZ3MeRbgDx1V85Ys2zGsp1cnae8CeVJgxmpMrQmIisZX6dSpMci54+1E+srP4UoCbEEdqC0WAK0S2tfJLdJ8eWOr5Fc0aBRV8VIbfEeq58b6dOePsWik+Q/Ez+YKOzJ+2wf8AJON9Jzx9kUUXbBW9mBu5p80GuYTjfRzx9kDAOpQWAm6rwTWAd7SlxKnHL0vPH2XLR3tCiieiMtb6q8MvRzx9ppQW8lI8FKnDL0c8faA9zU4kHFLvuFBAuuKlxs7hLL1TPIOT+JYsZrPQ4BaXgjLXNZCc+J15rpj9VjIPw0jBdWOiIhTX+H6reHAqmYDvkAbBb+LO22VMsdPS4D/QYf8A+Nv5JMdNKwNELbrVzuXBGHJHsuEgWezZ+izW7JICSHOvUcTfAKsGfHPIXOjexhYQWkjXYb/5xRhvooaJB1Iab94LI45dHyOcJHakmsv+aqcRO2CZjGw2Kytadt9/yUDY3s3uotLXkVt1H91bBRiykOaXfEOKyGU4h7nOa7s8xGh2IG61hxhjY00W2SSeVoMZMpcxszz3jl0NbKJIWl+fO8lzqzEbcytLcQ904aGRuGahZ18R5qJI5Wy9vTqaKLAdhqglkDnYJwc0PeLAeTuaP9kr5434NsYcy8l5T9knl4forDMG4Yx4d1gNsHfgVRAIjCZyDbARt03QDHvkgsA1l0P2jX/dI6LtcQ7MaDR3iTY2CsZ2FPJbZH2j4f3VZla1j3SE5Q3KQOJ8fJFUkh8kl5NybA0P+Ur5WOw0cbmi3E1tuobcXs8yNGZzzv8A181e+VvZQCYWas67EIinEvlbAyHK4vcGgjmeP+dEkb/k0JZbRKX07MNKV7mnEwNxGUtcLLR0WY6v7eRuY0aaOGlf3RWH7N/vKB7tuF+KgnujhqUEnQHglWdHGV1AAaqQaOXcKtg7+9aK1mTvZjrwKiq+ztxLRQIT/R5KeXZk0gax4azvDQ2kly5R3jdbEJ5RJjjyaElwI81AdqSdAkjs69KV0IY0Oz0TwBQVOPe1Q008G6rihxtxoZeiA3MQOZRDue47u0TRuDmEOBJBvVRJH3aHDhah4fmstcL01CvG+l3F5zTN0ADTxKomIscQEBzwwtcFMeVgDjZJN0E421eWoRwDRlIs81LXggAi1dM5s2V9EcFS8NY3Kwkk79Es12zMvRppA9zqrWkjCcxA80jW0b3pWRtIaTmADghtDmjs8xIsn0St21TONAgjbilBUXwsYKFa6pXm8wrZPGXPd723NMYi4ucXDXkrx+zf0zxjvtJojktETgQ4HZ3BQ1gykEjU6khI+hox10K2SkPI9rwXC8ypFZreLCG5msdvRVsYc9lDYmwodkeG6uYMuqhzSA2j4q40aaW8LISzC220jyRbFZt7gGnbQXwQxrhI4OF0NVLXFtNIG9kkJnyBxJOl8BxQQwjPR5Glbh6LQC0+KrsF4IZl0K0YNriyw0uA1oK/TF7a4shAa/3OJrZMI4DCbhJNgh3FDGZoWt0zXZJ3TxNe8HJsN9VRimja12aKw3qVX202cOzG27GlslhexwsNIbRoFXxQMe9zhCS14Bs7hNCn2e/PJKa1IWHEi8ZJQslxXZjgbAXOjdma4DyXJkc18r3GrJKyEiflbldryWuRzMVHbyGPDbGUVfClj0rrwUsfl3AIO6u0TDE0yFsgI5HquzBJE6MiEjNWmbSlxi6iCKvirGPFjLx/NNjdGXkkyEk3W+itkDbiaHNHNVsgc1mcg0TQ1SSNDCC4nXXb8EUuKDM5y2QNk7aMbdRlAo6bKHnu95uh2KrJa3Y6oJsNe066pxGZpBlAvU0T+CrhcHO7zRfBaYYXt+kLTWb8EgZxe1g7ha0+gWnBg5ib9QtDW52guAojalYBWyoEFCLpBF96lKW6cBsE1oBSlJ0sqUEoQhAIQhALH7W/8sn/AIf1WxY/a3/lk/8AD+qDz8OIaI2tNaClcJmHmqY8MHRNdW4QcKRspo20h7Ts71Q3UFZexkaNCVLxIHabKyeKzf2jZSV27fFZRLK3dScQ41mB0Ux7bjXwQs7cUANR+CcYlh30WRL2h0wBFik3ZR/CEnaNMwN/ZVuZvxBatqF7KP4Qjso/hCdCm6vhU2KPXujdN2MfwhS3Y+KZayyu+0k8K+xj+EI7GP4QnQs8r7XUJ2UfwhR2MfwhaGxOc3NRI6IfGWta+qaVd5a3tPChmFzXlZm6LK+F0kr+zZQGtWtrpXQwPe3dYu1e/M5rqo3vunK+0VOsuAyhpA2C1YWGOUFzrDGjvdegWcOzWXkkkrZDKRBEKBaL06pyppc6KMgBkTWAcNz5lI6ONusrABzA3VoMhYHiOhx4pJS50VuGlq8sjUZHRRtGhBPUqt0TS4AWCXUb2AUPzaNIIra1EkzhE1r2miNNeI/7rO8vYOydG4mSq2aLviqy0yEZXZdNdV0MIBkc5wsNA3G51WfECNz8wAFHYCj0tauV9kRh4RJK1jSbPPwTywuecjI++3V4B3PTyVTi6Jwe2wSPRBdIKlDnNJ0Ov+dEmd0WGbCIy0v97UVuD/n6KIBFLM1hDgL1N76qAbkzl9OJuytgk7FgYxrTet1qSnOmmqOBjcSxuRoBjvQacE7oWNfF3Rq6v/qVRgpnvxn0hBAjNEcNQtso+kh/jP8A/ErvjltjTle22NZ2OVoF5tvJcpdf27vAP4v0XIXHLtudBCEKKEITxAOkAOy1jvc0luoGENbqU2dvNPI1odoAlocgrnvldmN3Nozt5ozt5qaHIIocgsKjOOaky2KLiQEUOQRQ5BBPakkEvNjYqO137x136oocgihyCA7SvtFBkvdxKKHIIocggO00AzGgjtB8RRQ5BFDkEBnHNRnbzU0OQRQ5BBGdvNGdvNTQ5BFDkEEZ280Z281NDkEUOQQRnbzRnbzU0OQRQ5BBGdvNGdvNTQ5BFDkEEZ280Z281NDkEUOQQRnbzRnbzU0OQRQ5BBGdvNGdvNTQ5BFDkEEZ280Z281NDkEUOQQRnbzRnbzU0OQRQ5BBGdvNK9wIoJ6HIJXgAaBBWhCEAtMf1TfNZlrhbcTfNS9Lj+0RXmpop6QSFy27lDbU0AozFQgnNyRuCDxFIsBS3M401up5Ky6u4WbmqpkA1slaI3NAsszVpsmfg3GF8jjqGk6eCvxEbYi0Rt3y3XHvBdvju5pw+TH+0Ma5wIEDTfEodhXP1MTWjkCE+aBoGdhFji46pHdiT3dP+RU3u/8Af/8ASSSQ0eDaJWl7KjA4m9VubhcOGgmIG+ixNgjIt0oa0/vkqtsTnyZY5C7l3yEu79tTU8On8nw5NdkwHwUjDQg5TEz+Vc58boXNDnHM141DieK6LZds3kVzuX9taWCDDnQQx/yp/kuHr6lnoqWTDgLTCR96mleVY4h8GHH+yz0WTFRwhgqJg7zeHULaNQbVc8QfF3W2QQQOYBBWsbdzys0ydlC7/bYFXJFheTfJajE0/wDp3eoVb8K4nuxuHjScb7XbE6GE+6K8lX2MbdwSVqkjnYcvZOAGxWcCWSxlNpqz/wDpq0GFpZeUKBHE3VxaOhTsYW3mBJrnoqn4ezbWm+qbq8DSvhDWdlq7jbVU4t7c8NEro3tPeFIkH058Eu+N2zxkzn/fRpDQB6rHh9ZwStDhoAToSljYyOTMCVmT+K5dry0cFTJs/wAArgAdWqqUUJPAK/FjZb/gyvh34rOAwrQab2YvxoUsuZ0cbXREv3OxPH/urWd7CQM49i2tdNv+6WRrwWRsLmOBqxZ865KuYkxJjvtBnNkmta4rPhMPHi2ukdnADqonXZWysexkbnuGcCi34t/7JZHtwrezdI/UHQDXr+asm0t01PeyN7YqBL7/ALrA1kjQ+RpLmRusMvqD+ipbK0NErnuLm+5/dWuxbhJmjHfI2IWuFTktZiWxy9oYHA0A1nEbkqY8W/tHZMO8tJ111ulQZ3dv2zGanjWqkY2StCBmN0BunDI5f0tNtJkBAjL6riTy8FLnBswaNM7aArQcbPW1n7RhbremriNdVY+bPE90mo1LXVx6KXGybqzLd0R0Tc0b2usu0NGqKbEk4gMZVB9E1zG6cBjgZg11HumvzUwf9O2ScAPa1tNdfvXrssqiZpDh2eV0cLaIJ43/AGVMrmGXK85gdR4JZc04AEYb2neI5mzqmy5sxyhrmN0dvy09CitL5eyY1kZDmsoEjjp/2SumZHHG2iZH092l3xpZHOAiFnvXoNtP8v0R9IXMyHK5m3W9ggxH3bobndDW943QritWEhZLE7tL95aRgYzqbBUtXFz5I20HMP2RYSADsidtVpliax5YBoFAi7pAYtY43tm54mfh2xwte1wvT81keHOeMy1dm+9b4b9E5zA6sB8lqz6TlGVjSRQoUVJi71lw01WjPlN5WgjoqsxlBDWE0OGmimtTyTLd8KpWGOQh26GCpG87C0DDvPfIa7jq5VSAscC+OjuDe6w6ZRe4BzY3AGyKvySSgluXtLJcNCqu3cKpo02UdtbgSwWF03HLyhjs5N+i04WJjmlzjsDSzlrgLawDnSsilfGwjJYKWzXbXlc5lgNjdYN6hLIwN3qyNFR2wyhuWgOql04c68puq3Utc+N9eyxHW+OydwAiBriqmPDHZqspxMMtFt+aw61Y5oJHdbZ11VcjacAGgaaqztxI3J2d+CR9l3uuGitZk6EZ0dpSkO7vTNqkDuzdsfRD5A82efJXc0uvO1oey5H5Q3QAA8EmYOkboLqjQpIZAXl2981EbmtfZ2Wotq8soO0qhazte9tU6gtDp43kb34bql5aRV1XRZpKd0zdHVZIo6qqQ1WUmjrSdjIa70hvwS5Gh1tkafELK27FaZ3HXlzQGueCSCB4JmsBNue1XubG5oAkAvfXZEVNc2i3JR11Wv2acoBvc1l5rNkGcm2nTn0XV9nwh3spr8gOp181qM7+04toBzsFG6LeSo7V8Uhc4jM4ZSteJaW5XB27eH+dFVIx7uzc2NpIN8wVaJEcmKw7n8ARlJ3V+HGJgjETnN190kbKmC4gNHU40Rey6AyyM45fs6XXVFVd+n5zs4cF599BzuZK7czpOzlzkmrA0rSlwibBJ3WPsQNW3yUlwABF2N1WXEA9UvaECuB1pUXAjXNwTxm3NDtGE7rPmJN3vurBRF2NAiO9DGwhjGy58zrKbFwGhQDqJOnALk4TEOZMwjWjsSu/IA+JzttLFFVXOLDTiCcrTXgs9NsgWSTuteGawQudIS5wtyyPzF5ytAI3H9FKGDaIAFHgutBGXYdge6x0O650Ye6Yu7o4lp4LqYV4fEK4aKwXAUKCEKUEItCCOSBX8DxtS3QKHU5vFBNUBqT+CAGp3ulN60paA0UEIJQhCAQhCAWP2t/5ZP8Aw/qtaye1v/LJ/wCH9UHkxiZYzTXkAKxvtCYb0fELM4jMdFHd6oNw9pn7UYKtOMijOV7Te+i5mnNW4r6zyC1OqzZ/KN3y2A/ZKky4d1UeOui5SZuzvBMe2pHVywO2kb6qThmkaOB81yLPNSHuGxKyOkcKRKADwtT8nlbs4rA2eQOBzm/FWjHzj7VpZDy05Zm8bUiSZu4tUt9pSfaa0+SsHtFh96NTUPJxiHN3aSrIsSxxIkBbypVfKoPtA66pZp203sDod9Nlcp5SdNmaLLmMgF9E8M0BcQw53AX0XNbEZdXzMHnZV8WGbGba8HzTStkmLto7NoYBzStldV3mvmbWLFOkc5g0Dc3BamimgKXf2eFuVk8ZY5rmkkajW1m+Shzy0ODGk6AjVWvcWwPLTRsUVkc8Okziy81fDVRHR+S4SPDZfedVuPHwUQ4PsYQ5rg8A3lO4VtMngI+jbODmyg6Kt74YMxL3OLeIbYtaFkWLijuN4OU7dFRjntfGTGx2UcVnmxMc0nbiwCcpB5802HzukDcxo8RqCltNM8IkcHMMbncRpsqJnZyG8RsOS6uKxc5phDa8NVleWTkRloZI073us6gswsr3wCIgkAaIMEYP0lghwv8ANM2KfD/WNptWKOnqs75HOBBB3uylE5GMIF3wFqJj3HRjc8UlOAzAqx7WiIkWTWt81lWQhxADt2rS3vNaAQCeaqJcAao6b+Klrm9mS73uF/54qgbK5kltNaa9V0YcVbYMzTTSbJPGiuWSQ8AkEkLQ2TNG0uqs3HwW92deiTaPas4n7IgVV2eey56142qZXGz+SyKS7mwIQhUCsh+tCrVkP1oWsP2jOXVXS+8niAy7JJfeTRgOj816MP8A1a5ZfpDOIHCyeCqk0eVa1tak2eaql98rXzy8N1Pj/bUKhasNFCcPLNN2hDCAAwgbq5+CgjbI5zpDRaGVXEXqvG9DnoXSm9nwMBY2WpWkDV7TmvfTcJ2Rwsimih7QFsrGuLiNdeCDlIW/EwQRZpJjI9z3uAykCqPHRXNihz4cRB7HOhJJ010PRBykLf8AI4a7K5O27PtM2mXa6UnCYejGDL2nZdpZIra6Qc9C2YrDQx4dskOd4NW/MCPTcKvCQxSMmfMXhsbb7lWdUGdC6UmGw0kkLWh7G9lndVWR/VOIIcTDh2tL2RND3HMRenXZBykLqNw2EYJTZeOyJoPa4tN8wsmJhhhhiLS8yPaHG6oBBmQhCAQhCAQhCAQhCAQhCAQhCATdm/s+0ru3VpVZDM6EnQOafeadigV0bmsa4ig7bqqpPd81bJI6V5c46/kqpPd80FaEIQC1xGoW+ayK9v1Tf84qXpcf2iwuUWSlsIslc3dNo1OiljS5wa0WSulhsKyOnGnPv0Q2zYfBOf3nnKPxK0hjYoyYxVKt+M+kc13co1opfO17SA/fgpLNxjK2Y0TyVGWOf77aIpZ3PMl2bIo79VXMWuNg94E2qr1W8fksq34ccse2olx5HxVfZ3I52Vp5aJWOJOvDVXwuHyhw6X+C6z5f4266cL8Nxyk5KjEfhb+KljC3YNHHRXYg9y1RFqfxWcPn5fTWfwXGW8l+eV24B1B2PBWGaTNfZi+trVhjn0rQBWZ80hA1rS1z/Lhf9Jwz/wBzG3FzN/2x+Kk4uc/YH4rboavVMNHAtK3zx/2pxz/3MTcbOLHZj8VIx04/2x+K30RqN+KZu2pV54/7U45/7nP+XT6/RDXxQMfP90PQrpOOxCkbforyx9Jxz9ub84Yj7oehVTp5C4uEIaTyBXZUhXlj6NZz/U89mmDryj0KgPkAqgu7ioi+Ox7w/Jc6gwOLyN1zyyxn+l0kzs/b/wCGMvkIrK2lW+F7iXto0NlsaKaXGgkogCt1m/JNak03jhZd5XbmuF7oDC7iaXSfhWzC9pPzWTK4HK4VXBOVka8VWGV7pISyCg/UnQK5zg3QKhxsP8At/FbbWc54diIZ4IhloCJpu9+6nxLsRkY9nd3DiBsOpSRtrAREtLiYwBW2ymN8r2OLGuLftAu1PCh5I5JFOY57nb3w0u+awdu/EYwvy3V5bPQLc975ml+VzI67ra3P+arCI34jFMZ2ZY5xOo0Faf0W8U+2jCxGacyPAEcdaVoSRstWOkcIRM1oLmuA03o8PUq3EOw2Bw2WQ0NSG3q4rj4vFvnyAMysiN6Hje5Uk2u17vaM0YyuiaCOBcbWqVjDh7cwNcO8KPEciuRLi+0kLyBmOmy6Q/6lsPZU7TQMHunqPNSY0tirMGQydmC7OzV1af5qkw5jMLY3NJfWhHBXuw0pha7si1xJJ04f4PwVeFwkk0DQG90aZrogrU/Ws3uEiEjcSxtVRAsE6q+Y9oXQsbYBGZ1UGjgrn4OUCxJG01V0qmQCOcVIZS4ZTwr/AAWsNCDLHbmhpczevhCodEJ53AggSe4+uC1xYeUYV4DQxzyNzqRQVYwGJEYHbN30NnQKjM6J4dkcwmtARrY/ylLI3fLA1rXRsYQTn2sDT8VthwksRe50wBf72UcUPwsTvec8nxUHKwkgYx+Z4bZNacVoGJbnJMwq9BS5w93zKFeO0mWmmeVjpXOabBQMSeLneSzIW/rTGvO2r5QDuXHxUfKKbTXOWZCGlrpA6yTqUkUr4icuxFEc0qFLNrj/ABaflTMgb2RoaVaolldJQIoNFAKEKcY3zpKPJRR5J1KcU2dsoDSCzdR2go/R+CVDQXEAK634JdJziiDGEF7dajUljgdvxRkf8P4p+Opzip2rrDaUUeStyP5figtI3FJcLDlCsdk4G1YZwSTlO+muyUItZ4tTLSXSsI1jJ6lLnisnIptHknE2R7mFpDWUeCrV+nIKKHIK6TapvvC9leZIy0Ak78uCkRg8t62Wr5snIsRpcKTNjJjc0DMBe+ins4TqJPIq5+CkYafHR8FUY23WVX8eXZzhXxtaDldZ5KpdKFoMZGUaBZXxtLzdqcfNi7+1UR7x8Cur7LwxmweftZW06g1hXObE1tkOOxXa9hlo9muLtg8lWbxYvmn+a3kZu3kutsyod7OcNHTOofvLoYjEOaAWWW9FzX4pxJsp+TL21MJSnC17sz9OqgwytH1sldHKp0pvQp2TuBF7J+TL21fjiw4YGEuM8hOti1zrbR3W6SUE6bLnytp5/wAtOeXtm4QWK0F+aSTuyEAJsnEuA805a3ti57gKNjqtW24+WJqXwqbRNZU4aTsKNp4mZHdpmBTvY+3FrrAO5CzMV5eiMbRzOJoLvYicfIg/KQXNoa7LhiOUuaL94q+RrgGt7V+2x2WuE9nKr8PIGSbEjiEkpLpHuBrzVcETpXV2jh15K12Hja6u3ceqzxk+1/l6aMOwCRhNEHhzXVYWhoNZb4LhHDgUWzOcOY4JuwkbWeWUDgbV1j7PLtPnYw0b8gl+VRcz6LkmLJKAZHPHdNk3eq6WEgidhYyY2klu9K3GSbSXKrPlUXM+iPlUXM+ib5NB90z0WebDQHFQtMTaIdYrwUkxX+S35VFzPoobioquzfgg4HDV9Sz0VRgwbCGmFpNclP4nla7GRDnXOkMxkR4nxpc/FCC8sUDdt6WTs471aE/iusnd+Vxcz6I+Vxcz6LjYZ0DJQ2SJjmuPEbLpnDYcMa75KCTwAT+KeVpxkLRZcfRQ7GwjifRR8iw5bpAy1mnw8DLDomVwcAn8Ty0jGMJGpA5UqPamJjd7PmaCbI00WfBxsEslMaRmoNPgm9qta3AvqENOneCaxTy8w73ilTO94pVlsK/FfW+QVCvxX1vkFqdVm/tFKZuzvBKpbs7wTHtuIQhCyhmiyBzUgbpoJHRyNc3dp0UXZceaVqaKhSBagKIZ4LnNAFmkdlJ8BVjPrmeCqD3fEfVby1tiW/Ruyf8AAUdnJ8JS53fEfVGd3xO9Vnwv8l0LJBK2watdbgFysI5xnAJPquql6JbvyWavksl7aLnNNPa7gF0Zf9M/xCwmPukjh1WNqeV7Y2gNu3DUq+AdrCCWB/IE0szCyWNweRnGoW5k+EghsnOX/ZbwFcfNbkvYwGIw4miKJ1A3WjM4PYY3NzbUzSkPdgpSCJXsIPFtq9jsK6NwOIbqbbelK8aipoMzhnzEncrNJhpWyPdCHPYNb6LYZ4cM36N7X2dw6059owPDe45hvUNPdKnGm1GHnmxQbG3KC3S6UPOVgY67rWymMkUbM7Sztc3Dlrqq34hs7TnPe30Cll9EEkbmNbM5py8b4qYgDcjnAguAyqnte6WmTTgFGcRtY5rrJF5Rw1Kcb6F2Kj7Lul9uLgRyogH9Skliy5bcCSL0Vcs5ldmebNUljqQd57WACtTr6K2X0BwFgt1oaq4ghoc6svAKsZO1rdtbpn5S48ANMqS+f+FiiU2RWgVa0YnKGx5QBvt5LOpOgIQhUCshNSttVpmi3ALWO+U0lm/C+X3kqUxjmVGQdVfk3yuyY8Zo9oSZB1RkHVYVsw2L+T4eVgaC95BFtBGniq34mWRrw9153ZjpxWfIOqMg6oNT8XLIzK4tJ072UZjXVM/HzvbRLdwSQ0AkjiVjyDqjIOqDWMbMA4EtcHEu7zQaJ4hQ3GTNYxoLe4CAcoujwWXIOqMg6oNQxs4i7PMKrLeUXXK1HyqXPmzC8mTbgs2QdUZB1QbPl0waGgRgDU1GNfHmlfi5Xtc3uAOFHKwC/RZcg6oyDqg1DGTAR0QDHo12UXXJS7HTlzHBzW5LoNaANd9FkyDqjIOqDWMZK2TOBGO7lLQwAEeCqllfLlzkd0UKHBU5B1RkHVA6EmQdUZB1QOhJkHVGQdUDoSZB1RkHVA6EmQdUZB1QOhJkHVGQdUDoSZB1RkHVA6EmQdUZB1QOkk2RkHVQ5tCwgRCEIBXt+qb5/mqFoZ9W3z/NS9Lj+0FBPGwvcG80vGhqVriZ2Yykd46n+i52u6xjGxghoHiVDpSwjK7KpkNEM0GbcngqpaLdroahZyylZk8+Vo7LEB3asqhRdey5zXBswq8tq1jyTTBQ/JPGGsFCh1KTLiXHfgjIS45nO0PJWtjiv3SdOaZhva6V0DA4kbabqXPf0avsRQRuYPoSeoKrZh3HEPyiuFclpEnZaUq452tmkfepdYvjuumF3LNOeW9y7Uyg1leKcNCqowASOKux8we0OvU70FjErcwIJJTD4spY6Z/JMsbHZw+jXFundIUBpgDW3dj1WOCaQk5HDbiFbM+eQNDnN02oLnw19wmW/pf2vHgnik4nWuCxVNQ7zdNtFdFHiLBbk9FrHDf3Et19OiH5jqdOSlo10NLLhJHyB+era7LYC15ddDryW7LLqsS7m4YN71hOBRr1VYfR2VjSCrCp46KRaUXm1TogXNxkbI5tG7i10gsePFZH+SmU3GsbqsWUuNuquSg5GmuJ5JiHEXuo7O9Toue9Nb2W3HUJZ43SxONXJViuKt0ogaKA4NOieV6cqrNnVI/Z/gFtx0Qa4SMHdf8AgVhds/wC7fH3f8Jld4uvhzWGw+pPdqm6cL/VWySSOPZtGZooF3E1ei04IgYLD90aRjh0V1iqyj0VcmGOOTs5CGuYHC6J0ArWvMfinEbI8XhGsFDK/wDRaJXfRv8A4SqHO/6zDVrTX/otYp9uV7WmE+OeL7kfduvX8VSHFzZInOqzmB4kC9FWXls7xMwlznHPe6iQMc7MCGgi6Ks8zR9hkIe94LhQFglbYpHYLFte/TNTX8ONf0KwsLTxbXhWoUySl4ovzlxzG/8AOgSTRa9NKzQnMargsvs7/T+aw/O7o2RRBocGNyvvcrd7NIOEB4EqT9al7jWaPDySimjQAXyUoWWkEpS5SVW87oBzhxKqc4Anqoe4g2qHnQoOSPd8yi+qZkedngStOFjiZmDwMx91xFgJy0THbJY5qLHNddwhynvx8Kpo5LnzRMfK50bcrTsFOS3FRY5p+zd8JU9hWq2iMaLeN3HLLxWLsn/Cjsncl0pB3cttI6cFV2YWsfPbOVsvhj7J9bKDG4Aml0202Mag3YqlS6MFrvBSfe1t1rTnZhzUg3sr/kwV2HDYS64w4OG/JZl26zGMmV3wn0QzR2vIromSMsykPVD2tklc8NDbFUFqf4MpJO2RxGc6rTP2cmHbk3aNEhhBc48F1vZMLBG+2g68QuXz56u1w6cK6GuhTZgI231/Ndr2nh2MeJhG0g6HRc5haGe43c7p8fycsdxmzzGTO3mjMFszsA0iYqSwOeTQHQLXKrpTmHNGYc1sGWiOzabFJmlgv6JvNLdUk3GHMOaA4XutwyUQYm1dpm9n9yxORxZ8Ixj8Wxrj3S/VelAhoZSPVcPBsa2Z5ygktJA6qpkM4b3myjXqrnfKY9N+Maw4p1tDhQormyNc2nEd07K03E1ocTmPMq+JueJravRZy+S4Tc/r/wC3TD48c55/tla4A61sCkk1ldW1qZ4yHaDcf1ShriC4VWi9Fm/Lj1NAbHwK6XsmQM9nGiQ7Pe9Lmhr8rjXdAOq6/sRjHezn5xYzFc8ok7UzSPLy1luJFkFY2RvfIdNBuui5oheXkcKbe9LLO5hObt8pI90Lm7Ys72kP6IheS6sppPFlDaL83ipzgbaLLaZwGtsbLJM05Q4g0QVpkeTHprRVEkhyEEDbdanbGSp4LpQG6nKPyRI4jEWdWtN1wUv98HagFMjCZHd7KCaXS9X/AC5Y/Sxmaa25u7yqqtbZnxRYTs2tAdQtYcGw9vrwI05rVi2sAcQS48r21Un03j3TskZLD2dAupUd4yN3AF0iINaWvzG+SaN4kmBsgAGrCs7pnFsOkbyN7Kpc2UszG9Uw7RkbiAQL3UyFvZttxzZeazl+1ax6PgzdXtmG63SF0wLXuLGcANVhwbZH5ZNcrXarfI6hluydbrisW6ZrJNcczGjjW/itkM0rMPGBI33dG5dVhncXYlpO+nkhrnBoqycoql2t/hHP45vKt7MVOXU97G/8VZI2f5VD9IwktdRy+C5H0ocCeexK6jJPpsKDuGOv8FiV0uMiJcViIsR2ZLCARrXNPiCGwh9d4BY8Y7/rHWdbb+i1y0/D5HDvVut5akjOLmy4hqzGS1L8PIGkkgEFV5HNHeK5OozkuFbruTYh7Xsa1zgaGhGhXDZFJK76NpNbldBuIyhtv1YKsiyUtYyXHFvaO64kUbDik7cuDRL3iOfBZpsQHVprVKhsjnSUALrZZ3WWuCSnyustF8+iXHTGTCuBdazteA597XqEsz2mJ4abFK+do5hBc+gLJUvjLPeq+Vq58jWsaGNp9bqoNAbned9uqu21auxX1vkFU45jsArcV9b5BbnVZv7RSmbs7wSpmbO8Ex7bQhCFlEgkahFo4IVokE7KS0jdKN1Y8EbqKZn1zPBVAK5g+lZ4KquC1kxj2hShTSw2vwlfKB4LqLl4X69q9BhcEZRnksN4Dmrf1Y/1MMoJwzwN7CwyhwAAB1Gui9LJHHEA1jQFllnDVnTTl+zIgBNLJbQ0AbJi6A4ltZsl6WFVi8U5j5WNJIkIN8uiungc1kTq0c0H8FqiPaGG+TzaCmu/BZaaW2H6jhS7WKjbiMIwm6bp1XLZBGHyNd8F6/okx3Tlo7oLMfZURJtZryVdEOdmDRRIJvir4Oz7MB0V0dQQVlnYztSWxuHQLX4mOUbY3xDDutxdIe6NLCTDxuEgYAH9oKNOrRZWOY06scRy5K4yscbERHgnCw5RTMCx765kEJoh9DZ1r3ddlL+ycSezIHgoaIw0NDCbUuFOUUPGRp5kcDuojGd7BvZ1pQ924I2OiIj2dOIN2pxsrS10Ra4UfNKXFwOu3FT2gcfdNVWqaO23TLcDxUm536WKZG1R3viq1dO1zfebVklUpOgIQhUCZnvhKmZ74W/j/eLO1p3UgKDupGy9GMl+a7m2v9QoKCp8VB3V+fGcNyaMp4CFfBhTNG9/aRxtYQCXk8U5wEoEhc+NoYQNTve1LxsMqFrk9nyxsJzMc4EBzGnUWrW4FjIZM7o5JA9raa493XUFBz0LXJgiC9znxxNzFrQ5xN1y0VgwLGuhpzJM8ZcW5iOB6IMCFq+Qydnmzsz5c/Z33qUnAPDL7SIuyZ8gJuvRBkQtGIwjsO0F8jC413QTYVccLpInyNohlWOOqCtC1/N7wTnliYAQLcTueGyf5C4wsYGgTdq5riToAAgwoWo4CTQskje0tJBaTrW48VMOBLxb5WsJjL2tqyQgyIWgYUOwjZhIC4vyZa2TT4F8LHu7SN5YaeGk2EGVCEIBCEIBCEIBCEIBCEIBCFfDKzJ2UwuM6gjdpQUJJPd81fNKH01oyxt90fqqJPd80FaEIQCvafom+f5qhXt+rb/nFS9LO40YSOznI0Gy1uOVt7lKwdnGGg6AUa5pXHLGQ48DS42u7M+UySk3QGiolmcHnKTl4K9lGQN3BaOCmWCaM20BzT01C6XHDG6yrjzyvUZ2PcBfNWRDtn040EjpXDQAXypWRONEncEJccbLZWuWX3G2SJ8MejdRx5qtsjm6Pd6JcTiKIaXEirVDJCNH8ToVy0122l2aNxdoKVcbi0jIMoBqkhkAbV3fBBcwOGY9VK1I1TtOJhLAdQsTmtw1B7bI2W7DyRsBF2LvVPjIWy4YuDQ6tlJfpKxQvALiBWaifQKwPtUxRPddCtgemyeQGJ2WwfBPkm8mvjv8YuBBbqVdC/LQ4LCXHKRequjcbGlXss6s8xvxfFa8Gc3bf/J/RbGkB1DmufhHhvaDm79AtYOtg2RrS9Wd8vJhPDRlD3ZuCsaqY3DL57K7YKRaMxz1WnBMEt7FSHAmwVUMTSwY1+YgDgtkh7q5s80RLqcORVst8RZr7DdBSV2mv5qtkrXbGzWyZ1u0FVxXOzj21N1GfU0q3O0JTHI3TVxQAx2lUVm1uYyEd9JE9h1JFt8VzDs/wXTBLZGCzodCsOKZ2c07RsDp4Wuvw/aZ9O7g3VgoP/jH5KwyaWsmFbeEiu6yDj0WgDTRVyEmsbidwCqHu7PFYZxsjK7T0VsrmsjI1JINDdUBrhjYC91ktd4DbZbxZ+2b2i0T43K6MBxaM3MLmNIFgiieQXR9qytw+PuPV7mDN0/zRctzzTW1XG1mNGbloAitSb6LoYHBYfHYdzc7mSg2eNhYnyMky5WCPJet2un7FjynPTiXM0PAa1+itqLG+xoorJmc7oW7q32YW/J8nFpulqee67XgsOE7uGEoGrCSeo4/18lZ+tZvcb1BKgODgHNNtIsFCy0CkcE9KKQUSNPBUvjNUthCQxk6Ug5OBiD43Xejlq+Tt6qv2UAYpL+Jb8o6ptGT5O3r6o+Tt5H1WrIOqMnQpsZvk7OI/FHydnI+q05PFTk8fRNmmT5Ozl+JR8mZXu/iVqydCjIeSbNMvyaP4fxKDho/h/ErV2Z5J+w+iL+RohNmmH5NH8P4o+TRfB+K1ZVFIMksDGx21oBsIMEYZmawclqcwOFOFhVviYG6N4hbxy+mcpWaOKMyZXDSv1W7CzxxPLIYyATqs8DG9q81tVK/tGQuDn+QG5K5/wDiJyb+O6jZioe2w+UtBrWiuRDAxzTbQacfzWp/tgtjcTDR2AJ1Kpwji6MuIokkrn8GOWONlMu4j5PGPsN9EfJ4/gb6LRSF1Rn7CP4B6KOwj+ALRSEGf5PH8AUdgz4QtChUUiJo1GngVOV3xv8A5iraSkK8svaaikRB81OJNDitMLSI3uZpQICzlxjlJDS7TmrIsVkY8OjOo0ohTPHLJcM8cftjcHZzmPAKsGzGD7ti/BXuOZ91QNfmmEbGPuswNcV2v66Yxv2sxE2WIwxuaWObei0expBF7Nc47ZiqcQML8nd2bSJK6rPhZjHgg0C+8SFx1qOknPPwsxGKc8ZT7o20WctFWAAeNrdhoC8B5cAXDks0wzaFpvmsO/GT7ZxTVBfqlex4NaqGsN7Eow14dmdjnl23BZ5q71Xa1RMdG0Oc3caAJpGB0TyQLDSrO1vx5WbYnNt4vkFayB88xZG2ytMcQfGKaS6uS3ezwyOGwACSbPmt3q/5efGb0wHBywFrnuaHuvY2s2JBaCJfePJdrEhhEZ0Pe4LHjsOx0ZdZUncdJ3XMY7NIGNJvgtsZ7GQZwAXAik8EDGU4N4WSVXiHfTNLaOiu/wCV1/a5SfYzWzIL1JtZX5g+sxrktIHdOtG0mZ2bVtnmplLupvGTtpwc2VmUGq3Vzw54sDvbAk7LGwZWk3qVow+IykB50XKyzzosx1vZZr7dtmzpasDbha9mj8ta8VXNkM7Sw2NNVvw743YWNhyuoahd75+OOXxftdON2meQCzmtdBsgE8LBeZrTZI32RPgwx3aMFhED8+KjsXTXb+S5yO2U2pmePlJcdTYK2OlGcaaLDi/o8S7W9iFQ/EZ3b0V1uO5NuUNO6yTpYOh1VAc+R+UalPnIAd+BVcxzEFhy3vS52artPOO9unhssGFfne3MdhfFZXuDRZ3581ja2iru0oagEdVeLnUtzFpO9dFAawncg8U2cEamhyHBVtLbtwLv1WLNAtz5HbV1TSNIie5x1I0CVrwC4tAaSfRTIc0bnaXW6v2lVtZlizDLr6rJKHB/eFK9hLgRdFo0vZM2FhdmkdmWN6vlpkV2J+t8goe4xEhraB4kKcV9b5BdZ1Wb+0UpmbO8EqZmx8Fce2yqUIWQcEI3RRWtVEovqoQsq1Q12jS7g1H0d/YSs3/4qknU+K3l4cpN1f3Dtk/FMMh+D8VmCZp1Wdtcf7boIwcSwNIt2lBeqADGAXoAvOeyo8+OY4iwxuZdLF4zKCC4BS1cZ9lxWIuUi1jmeHBZ5MSyybsqg4g2LIIP4JyXSqfR5FcbXb9lzicPifROhH5LhuJfLa1YaSTDYuM0ct07wS9jrYduWSaA8BY6rmykteQRuyl0cfJ8ndFiWCyTlIWH2mzszGR9qMfot4ds3tvgayGeJ3CZgadNLpZcdE0SSCsp68VuoYnAMcz3mih4hU4rPNg2T13iKcPwS91JPDiSRlhGtg8iroYXOaSGvq90Nhhc+i118MpWsSOw0GjHBgF3opNaMt/Sn5PJekZHQpvk0vvFm3HkkOPYR3ZntPgqTPK57SJ3OaTR1WpMXOzNczA9oHSPe1oDuJ6f3UYrDwRuZUubMdaGyxySPEjgHHcpW28izuV11jvoky9rZnFrg08KGnknERLbdmsnW02JgY2UZby6E3ysIaNiSaB0Xnys8Wf3/wDp2ks7V4kUIwNqP5rOtOMIzNoc+KzLGPShCELQEzPfCVMxpc8Bu5WsbrKVZ2tO6LUPZIx1EhLT+YWss7zuU8F7PZQkp/MIp/MLNzyy8Wm634WSFuCnbNZtzaaHUTuomxvase0My25pGuwAqlhp/MIp/MLKOjN7QMneBmD7BI7S2adEOx0VPLIXNdI8PdbrFg8NFzqfzCKfzCDfJi4p2uE0TjTnOZldVXwOilmNjaIj2bi+NhZ72hGv9Vz6fzCKfzCDoDHMy5zEe3ydnmzaVVXXNL8tHal+Q/VdnV9KtYafzCKfzCDoOxkLsO2F0crmg33ng14aJ8FNBHic7BkjDTnEjwc3QLmU/mEU/mEG5mMY4ObiI3PBf2gyuo2n+ciXZjGPfc4i9wRVLnU/mEU/mEG/5Y2MwiCMtZG4upzrJJ3UjHMOKkmfE6nNyta11ZRVclz6fzCKfzCDazExMw3ZCN95w+8w/ookxYf8p7ldsQd9tVjp/MIp/MIHQkp/MIp/MIHQkp/MIp/MIHQkp/MIp/MIHQkp/MIp/MIHQkp/MIp/MIHQkp/MIp/MIHSSe75op/MKHB3EoEQhCAWzCtzdmPErGt2CIBaT8J/NS9Lj3GprdKB35qXtJBAGifO1rddSq3nuhzrA6Lg7snZl04DTwrTxXTIDo7YLA31XOdWY5XEHoQrgLYcr5QTvqN12+XC55bjjjcdaqqUxF2YEZlVGAS8b2R+qtODYdakBO56qlo7EkE3btPxSYccb5+jc8Q82GtmZm6WMCaLKeC0slGxaXWLFLP8ASQyk1TDsCuUmVjpcpKeMxsiymr5lVEDvG7G6WepHAgAeakM+jIqjl3vqtzC/bNzn1TROFktddcwtUcksjHMErcp4FuywNtji0ilZHNlfq3QmtFvOccdyJjOX2ku7DEECUhwoXXRTmB7xlBv91WOjY53aObZ/ErQIz2VCgTupfkxv0xrLGa2xWPvB6KwSOZREjXAGqIVzmBhLpCL4Kpz6i0GmYaea6YXDKdM3LPckqyOXLZB1Oq0wTXZLqpZGuPBXwGpDyIFrlcpnLdOvHLDjLWoYguJy6j8VpE7XAZnDQqlsbZNWaOA4JS01qKXCZWN2Sr3TNfGRZvhRVcDyxxrQDUnmqWMIJVhGYigaG61N5XdTxPDRLLmZY3XLkjBaHFvezHXzW4NN2dhwWSV1RNbxLnfmu27xrHVVxgZxQo62tDwezAbqszQA4UbVxkc1vA8FjLzI6Ygk6BopQTmcBy4pbe86kBqKGUtbtzXNsrnAuGXXKs3tHXESmq7rfyC1NbmkbGOB3WX2i7NiZ/3aafKgu/w91jPp1MGP+li/gH5KzPZLI9XcTwCqwpc/CQtZ3QGDM7y4LRGxsbAxoNBVyIWBsb6JJrUncpHf6vDfwu/RXSD6N3gVRI4R4mB7vdax5PoFvFn7c32m0n2s5uUU7KLPDRZsTGe2azOT3d3aUtAdi5XSTOYC51UXaUOirhkLYXNLWmSYZGk7AXr/AN1lplrhud75r0eCaIvZ8IBPu5vXX9V5+TDvZI2ItOZ1ZRztelZGI4I47vI0NtAr2hwcSeCz4CxADemuivkaMprlyWXBGRsAyNLlqfrWL3GuJwa8xm9dW+HJW0sjjM6j2QsGxqtmawNFlpCitVKEEI3U0ppByPZRIiko/bW+zzXP9l/VyfxLdazUhrPMqLPMqLQipvqhQi0EqVCFAK/DnMx7OY0VCsgdllaetIKkKzEAMmcPNVLaBJJ7vmPzT6c0svujxH5qztL0qg+sk8lXjWuc6IgaNsqyD6yTyVrm25p5J8l1a1h51HLw7DiMX9LuNTa34Yd138RTsjaHufXeO6TDe67+IqY+cUy8VcoU2hBY2B72gtAo9VBw7xwHqojldG6xtyWmKdj7zDKfHdRWR7HMNOFJF1HZXAWLvmFmlwwLjk0PLgkppkUJnsew95pCRaZBSOaDumQVRV2TRwTUApUIK5fqneBR7Nj7SNoI01Uy/VO8Cp9kkdkeYB/E/wBlL0Y3WTeaAdk2qkskDZIxweBoU+jYx1KUSWO8KXN2m2T5LIbBbtxKugw0bG5njMTt4q5gzO1dsmc4U53Bo7vii3Jl9oEBjS0jNdeKxHSJ5O5aUTOc/EHWw0aJXe47joVZ274fo6OHlY3CED361VEL3PIZmytB1KjD4Iy/SlxDcq14RrRCLaLs6jdby6v+Xjx+izEdwNBy3ukxN9g4k6afmrJwA5tO47LJi3gQvHElZnca+6hkug4ClSyNsuMAdeUNtJDKGvOYWK2WjBsbP7RAf7rWk0u2Pi5M5/tABAGd5tuzFdLDYbBzQh4gF8d1VBh4Pk75JdAHGyeGqsY18sYax3YNOra3IWcssuV8njS44DCHeBvqVgxHssRP7SO3R3qL1C1tgnjJczEF5r3XDQqJMaWQB2Qdps5hOyzcsvZI5UArL4/qr2k5GUQKVGHdmy+P6rSMGZ4mOa8t01riunyMfH+2S1uKZG3vu18UrJovlEbm2AQ4n8FSzAta7vku8VnkaTiWsYaAvZcp27UYh4fiCc1ghUPeRIQKAvknYwud+H4qYMM/FYzsW6a6nkF3t1i4Sbvk2HixGJcGxgEnouhD7GmIuWVregba60EEeHjDIxQHHmpfIG1ZAvTVc+da4xzfmUftH/0H9Vmm9j4lp+iex4vlRXctRZU5U4x5X6SKUxz9zxarhC6rzgjh3V3sTho8VGWvAvg6tQuS+OSF7oXjRosOHEKZZVLjGOOMPaTQ3USxlsTjtQVmGHcKsxVHCvNrOX76Pphjc1jXc6URvLjYbfJVtIAILt+CASaF6cgsaaPiGlzbuzxArRV4ofS+QVvZAjYrRHg3YvEBjeWp5BdMP1qX9o5lFO3Z3guxJ7Pw0bi05yW7m1T8nw4A0drodVce23LQulNhYW3kcfAqkYa1EZGqRutXybvgdE4wlrpMpIaZCBRCUilt+SdVBww4uCxbuilh73/FUnc+K2ZGNOp4Uo7OAnUlatnW2ZMp50yJwwnQBdeL2dkaHsaHZheotM+MxinFrfALOv7OX9K/ZpMJlkOlMAWTESGV5Ljpa2F4+Sy5TeoXPJFi+Kxl23j0rfpqbSNtxtTM63VSlujU+lSwXJfJXmWQm8xVEZ3WiGJ8zgyNuZx4K5djqR3jvZeX7bfzCymT5ThpGnV0TCPxFK/2bHNh5JGy0GuG3IrMYn4aeUaZJI731/y10w7c72v9h4ipZcM4++SW+K0wuDMRPhH6BxzsB43uuW1nyXFNeCcwp4XS9pmuxx0Q9wgnqCpe6TpzpSYcU6MuLSDrXEIfIMpySd796qWj2w0EQ4hjhTtPEbhct8rw8jNxT6PtZcp3ETr5UpGZrWtLA3vA0PzVLZSJGucLrkrjMHytIaRsFJS9KXj6R98ykvvgXQ5ppTT3+JSFpB20XXPLzqJjPDXO+yBZ2AP4KCR2ZbWt3ap1b73e4qx7wIxTQLbfjrS568T/AJbit+w1scEiYkEDmlWIBCEKgVuG+vb5/kqlbhvr2+f5K49xrHuL8T9Z5IZAHRh75GsaTQvijEfWeSZ/+ji/icrn+1XP9qOxi/aGehVc0ZikLCQeo4pFfjPr/wDiPyWWFCE8cMs19lG99b5W2gQynNUTzl37p0QIhO6CVjA90b2tOxLdCr2YGTsXSSB8YBaBbDraDKhXHDSl7xHG94YaJDCn+RStLO0Dmh7S4ENJQZkJ+wl7LtOzf2fxZdFJw8wjzmF4Z8WU0grQnfDKxge+N7WnYlpAKiON8rssbHPdyaLQKhamYNxY0vLmOMmQtyEkaclV8mmLS9sUhYPtZTSCpCEIBCEIBCEIBCEIBCEIBCEIBCEIBCFfCyOZnZ+7LdtcToeiChJJ7vmr5uzbTI+8Ru/mVRJ7vmgrQhCAWzC7s6grGtMLiwRu5HX1UvSzuOlGzMCdyq3hz366Abjmr4yA4nSlErMpttEFcbHbflgxDYwbaDdow82R/wC4dCEYkZngBpA/JDMP2g7pI8VPGvKuqzSA0LFWL4rlTgguIA1Wv2fiQ5joHkW26SYloLSbCzrSRRAcz2m9Kv8AJXY5jZcM5w3bqFlhlET3ZvdaPzRLMXMr3QVvKXeN/wC9s8p5UR2ANgeqvi1L+8CMt2OCzS5mkHcHirY21C93MLbnUg/9Q8HXRWsaH6VY3VTWgzPJJuv6KxktChounzfrNNfF02CgAOSHStjbmdr0WYz0w5RbuSpD5JCQWV4leWY/darTLMyTWrP5Khz7aRyePzSukIppy78EpOj/AOML0/F4jllP5RrjAsUrmnLI7pSwiQsog8VsZT3mhd1R5LlLdXfr/wC47/JJvHX/AHwtZK5jrBorUzEsfTSAHEbLA+J7HkhwLTrfJJ8lneQ5jgRzXKK6T5eybeW0RYpko0BB5FY5JHwMyy08aVSymYZ8zS4aUB0W5bpnjHZL28wueXZrFaAmj5qr5WC2iVDpIjtY81uZSyzJLhfpfWrOBKteAwC9TySQMaAH63W5KkuoHI0nqmVnjTWMsSdsz9uSrecwrZqWiDZBN81JrKsNaXYNga8yuHdYMy5c7i/tHONk6krp4h3Y4IMHvSm/JcuT3H+S7/F4csvLt4I3hYujB+SvtYcMXMw8TmUe4Mw56LSzERv414owaYnsnZeS52MmeGss0Q12v8q6MusbsvIrmSRPZNFmrUHfbgt49s9UoeXQFosEAhoOpN7KnFQtD8jHWxjfeO3l52tbS2KVpBNtF0DYUMbDJE8PY3U6G9vxU1TlFfsrDCZ/bSOcRFWW9rXVc9rTusnashiEMQAA6qY2iWnSaUdiU1SXbUZLafBUezyfk3mrSWBpAI25qv2d/p/Nan61L3GrVACAgLDSVKhSEAhHBCDjey/q5P4luWH2Z9XJ/EttqVEoKi0KCQptKhFNaLSoQNakOogjcJEINOLAc1kg4hZaK2AdpgaG7dVktWJUG1XJYHmFbaSTVvmFqdpb4VQO+lf5K57wxhdewulRHQkfZA2VTmGaRzRVF1OcT7opaznm7MVsGJbOX1prsjD+67+IrO2JsOUNyu73vg60tOGIyu/iKkmsfC5XyuClRahRE2osoQhtayd7A0XYBuk5xQzEhpFrMhNG2g4oFpaY7HUrO4gnuih4qFCuk2FClQghQpUKhJfqneBTexwDG7nX6lLL9U7wKn2T3WBx912hUyMe2+U0OfRM4xu0dZHKkMMTXlxLb5KwztDQA4Enck7LM8R0vlUL7MAtAdewVOLfkYGVp9paC9jWZmuDieIXMxslua29+Kw3JvwpY0a6ki+Kl4qNw6FTdDfTqodTo3EOB7pVnb12ammuLECPDBmatFmOMmhbljII4hwWd+Z0mUA0Bv5JXZ+3BDTQK65TxXzpemwY0yNBeyyNbGiSeRksZylwoXqOqlrBmDidOSlzGNiLmjQ8fNc53Fl3aqdC4xDIQS7Vx28lqwDMmNYeLozfqsskhjYKGhGhWrAm8Yz/AOM/muuP+oy/aNUZDoI4z7r5XX4DVapHZos8bgC2yK18lnhFYUSAWY3uIHmmAaZmEOOSTvVzcs5d0h5oJJQHtlLHaUBskdAwuYw5u8KOuppa9iqGSCTEkgU2Mb8CSsq5ELA1zQNs36rowvDcNGByXOZuK3s/mr2hxhaaO1aHZdfmuo5/Hf5ZLJHfSEcgssAHyprndVdBETmBvzVTpRHiG92stjdccfLtb4EkXZ4gho7uh9Suh7HgaBLMR3i4jyXMlmMmIzE1YXR9kTuBfFltpcTmXfLxi5Tt1Cq5m5mEAkHhXFWKHDRcW2TCuc1zoy/Mb06dFp95tHRUTMt7ZGe83mFZHKJBmqtaq1QzLGjlRjou0hJA7zVpVc5qF/gUS9OFhMvZm74KMYQIXBvJJhaOgTYttQu1ugs5fun05eUkqyMOB0CsYzQHXbQpw03uptUxgkjMQKXZ9kaOlPRcYNNrpezZDHJJqdWhanVZ/wBUZMZMTiZKJrMs2Y8yiZ1zPNk2Sq7tbx7ah817lXwutmUi1kulfESdt1iquBHbN7tCuase6KAtaw573I5rMbEg8FZIQJI3mjepWbenTDzLFr2McM3eVOQNOiaWXI7KWCiLFKvtGndhHgU2zwyJiQS0cNVU3V7WgWbV87mviLACOqoja9sgyG38AFq9klmLsYGR7brNdahZp4p3PNg+a2Qudgnte9jqLaN/1WyOeCV5kp3hVptmxxRFIyF4cKBVOQAWu7iw2TDva4NjFaa62vPTzUMrdeCzZutRQ7vSHknaMzgFWzck7rZg4yM2IuhGLH8XJBnrK8jZdH2ZjWYZxzbHc0ue42bO5WyCJ/ZCaMtcGmnMdoCPFXcNbdLFYvDyG4nguG/gsmPPaRMka8DI3KdbtI2WOJ84MYyPIF71otOELcRhZIgG5qIBpbwykYzx1WDES9tGwm+6KvJSvhxrjhRC7vBumjL0KbAFssL8PI0Zh01TYACCcte0FpOQkj8Vq5z0zq+2bti/CnCuJcG7dzULA6EFxOfjyK9K+OOHEh5Y2n9w6bdVix2GEcxIAp3TYpc8ZOjV9uMIRfv/AIFWtAa4HNt+6VryCtgoyDks/kx9LxvtjeA4nU6m9lY4tcBlBu9qWgsHw/ggMHKlOeO96XTI2Nxppab8OqYxEF1A0dgVfR7UeCk7jxTltYxOaW7igUq0Ys3k81nWZ0BCEKgVuG+vb5/kqk8biyQOAsjgrO1l1WnEfWeSlksfZCOVhcGkkU6lTJI5z7LCDySZj8JTK7q5Xd21Z8N9y/8AnSTydrKXAZRQAFqjMfhKMx+EqMujghmwOIHaiLvN7xvryVmIxkbo5RHISS9vMZgBqVzBK8NLRmDTuL0KXMfhKDsYjGsdme10TmPLSW07Np+CHTxASu+Uh/aSNc0a2Ba4+Y/CUZj8JQdSeaPEMLWYgRZZHO1vvA7HRMzER/8ATvdMKbGWFpuwaK5OY/CUZj8JQdYYiLL2pm7vY5Oxo3dV4VxSnFMMx+l7nyfJWtXWy5eY/CUZj8JQdWd0WIgb2mIjEtjvNzVVcRSrh7KFksQxLLlbQe0GhR2Oi52Y/CUZj8JQdTDzRRCNrpg4tmzF2u1bq5sjI2YWZ04a1occmtu1K4uY/CUxle4AHMQ3YE7IGcbcTzKhJmPwlGY/CUDoSZj8JRmPwlA6EmY/CUZj8JQOhJmPwlGY/CUDoSZj8JRmPwlA6EmY/CUZj8JQOhJmPwlGY/CUDoSZj8JRmPwlA6ST3fNGY/CVDnE7ikCIQhAK8aRs81Qra+jZ4H80+idx0sDKJYw0nvM0Wl7LuifGlxYpnYeYPb4Ec12oQyeMSMdv+CxxldOVjHOS1wJFhNJOIsOezb33ceS0vYBoSqXwsIOteAWNY7XdcYF0brs3zW6LFdozI6teKcYHtQ7UAcCpb7OjYdHOcmWWNMZYzTR5A8g5rH6qkyUTYtbpIAO60OOmt+Szuw+WwQAepW5/KRjKfyuyNka9pZl05K8gCLsxYsXSqEJDi5pHLdK9ju0Be9tjmU4XbNsWhp7Y6UCFYI2VWoVXaAzCjYqtCoOIzEDquueWtTWzDHK/ej5Q07n0QdeJ9FZO4d0niksE6aBcvyz/AGus+LO/6lfZNB0v0UPGUPBG700jRRPEAlExc1xOSwuszlm+nLLDPHL2QMLnB1XyC24WweGm6yNltvuq0TZRoNDoVxskl8ut3lZ4dEEPIBIDddFp0DdCKHFcvsjI10rTbQ26CtjDqDQ6w7Wl5+u3TW1skbpdAKZ1VE2GbG2yfQK1uJLdGiwOKzyF8j7NnouvieIxqs3Y5nfktEOFa05jrSdkbbIOhWgZQ2tFN1YkDuXQJ4BKcwbuB5JgBoM2yQkZqNkooskWQiBgL+9owauKeJjpnBo23J5KvF4hgY6CGi0+87mrJ9pbrwoxMvbyl2w2A5BZZtGv8ArhqVVPs/yXb4/2rGXTr4U3hIujB+SsfEx/vgXVXxS4T/SQ/wAA/JXhVzZzCWRnK40AdLWfGtf2DHSMDsp9dtFvLRRGwKonje+Isa4nxWsbqs2OPBEZJWsDLN2eGi1yYfsmk/JmO5G9lZHhJs1kN06q/sJSNOzH+eC6cr7TV9OezAzNcyRwblsWLF6rccG37gfzJvk022aPfgP7LRkePtuKlzs+1k/pl+SM+4H8yvwjOza5tVTtgnyE7PKZjMg3JJOqzc7ZqmvPRkIpACw0kIQhAKVCOKDi+zfq5P4lsWT2Y/LHJ3Qe/wAVu7X9xnopUKgJu2/db6I7Y8Gt9EEEqLU9q7k30R2junooItSjtD09Edo7p6IBCM55pHyPzNa0jUE6qybVuwTtXMOxCyPaWuIPAqcM+YTCnN101U4xkrZbJbqL0C1J/ZVahwLm1dLM5rnPkLnbVsTyUiGxec+pXTjrztzt+juiFd6j4hZ34ZtnhfIBWGAj7Tj5lWMwLniy4gdSUucx7ySS3qVS3Ct0128P6K9jMgoIdgHNHdeT5lV9geLiPMqTPHOeMiyzuLrU2qOwPxH1KRzMh3Ngjirxns21Wi0mqLWNKa1FqLQgm0WoUKiSoUIQChChAsv1bvAp/ZrBJgsrm22ztuFXJ9W7wKpw2MGGgDSDZs6KZLj22PwhP1L3EDhm1RFhHvY/tHONDTMVkPtM/Zj360iKSbFWS4saOpNrnp3x83Uag8RsbHdnokcBeZwshVtc2PmTzpK+QHiVHpxxk81L3B2wB6KjR5LWuDSdKOihz9a1vxUtiaSHONlWRz+T5PqLmwyuGYPGWtbTNgc83noXxCaKSxVkKyIjIbFgLpllZK8VxsqrsnNN9o0jb3VVKHuabcKHJu61uAoBmg66rLOazC+PBZmd3GsJ2aNjiA0yUDucuoV0AMeJEmYEBtbdSqY2k0bTuc9hzBtiq/FbmVts2uc1ZXUwLx2B/iP5phh8ji+B5Zm1LTqCuRFLPG7MwHfUWKWr5ZiS2jCfIhMsfN8pyjWQ97D2sndO4GhpBkZEGsYKZW6xdtiNahdrrwVZknBBMbvDRc7jlr6/905xTGXFwo73+au+mbC0mQBvhsqWMc0i96281Znf2TQQ2qpd8/M3EwkttL2sw1bIKPFVvD5JW2WuceKszuogtbXEKvsiZGEODQbpc5vf068cVjIHOhMz6Dtm14rV7INYuQG9brqpcXOjDMreFkFYZHvY24iQ/tNCtW/x8pqS+HqLRaw4DHNxUVnuvbo4dVqY7M0ErmFkY4ElnHgqwLADWZDdnVX2CUE9dEXaOSz441hnaq9zgAuVj8QJpPk7DoO851qpXOwZp500V2Jr5O8AeOqME1uQk802MYBh3lpNcimc/ntn6ZWVkb4c01dVEbfo2kVsnrVc1Lp4q+N5jzOuuCqy66bIl0jsjjut49Vn/VGRzrc7jZUDioOpQNj4LWPbcFrTCAG32gBI6rISpt+gaSsVrHX22Ny9qDJICANatE0gdKCPcG18lnbDO832bjpe3BTqGkEgEcCpl9OmNnlZK/Ob1JVdn4fxVmEiM1gkaHitMuFZEQCQb6UmtM8/TICM7c4OXjSshlbC5zmkg3oeIVkcLJZQxza6gqZ/ZzmMuO3m+HJXKeUxz3NJb7UY9jmYlrnXxCzSYkMfcEri08CNQq2QCSxnp90BStn9mYqAW6O2826olVnESSuDZJSAd1TIG5jTrAO6kt013CXTYhEOwZiGt1JOi3YjLBCzDNIturyOaq9nMawvxLhpGO7/ABcEpc03JK1zgTwNaqNRb9E5rmtNnKa7qbCzQxxvbMC4O2HC1XEIu0bkjkaXbW7gqXPDGGxZuk0vL7aTLGJXh2rHAaeQVmAljixQDX91xXOL6aKUxvyzNceBBViZWV08UDgvaQk/25Nf6rQ6DtJHODyA7UKPaLPlHs4SDV0eqbAvL8HGTvVLVc2uVnbYcWe8Ks9UszO2gGYAuG9p4tb16qWkNcQ4gNI3QYjhm8Gj1UfJw3iAriSTodEDJXArOlUuhY6u9SR+HaDbST4LWBG47AhQ6Gj3D5JoYThycQGhw90n8QpdhiCwF2pNfgVaXluJGbTuH8wmMjXSRXp3v0K3IRzfaEfZ5BYO+3ksS6Xtj3otuP6LmrIEIQgFdhf9Q3z/ACVKuw317fP8kgvxX1vkq2sc/wB1pKfE/W+Suw7g2EWas0r9jP2MnwFIQWmiKK2veS7JHvxPJZ8T9cfJLBUhCFAIQnjhkkaXMbYBAOvE7IEQpe0seWuFOBohMyGR7gGsJJFjqECIQhAIQnhhkncWxtzECzrVBAiEbKWtLjTQSeQQQhCEAhCEAhCEAhCEAhCEAhCEAhCEAhCtZD2kRcw5nN3bxrmgqSSe6r5YuyDQ53fO7eSok93zQVoQhAK7/bZ4H81SrfsM8D+afRO4V40V2BxZw0oBPccdenVUqtwIKy3XpC9rqyixvazuD3O4ALm4TGGHuPt0f5LpAiRocwgtPJTim2OUzxnTbor4scwe+S13XZWloICV0DXDYUpccY1LamTGRAWMrjSyyvbPK0mtQd1piwzWnMwAXoeqyy4ZrXF0bjYOy5ukD4y0d0JDhy7V+mm6tGIawatLjxFbLPPPLO6mNocgpJVtQx7BKGka3VDgqsufvAU3giOF7ZWlwI14q1re6Aut8RnCcsrtZI8OYwDgmY20scWunFXkNazLevFcbfqO+M0omb3XnkFf3MtELJK7M3u6ABWueA6iRYXSy8J/lxyu81cjQ2Q5WkAj8Uou1a+cNoNaCVDfdOiz515VMTnDugkNK2QO72UaWKtZA06aaFa4oyyPO/TgFi+at8RIY4NputqOutqyFwojiNQnIB1cFrqsd+VQ2viiwaNbcFJYBrdhRWY5W2SeS3KzYC+rpWQROmBJ7rRu47BOIWQMz4l1cmcSsuJxjpu6O5GNmhasiS1bisWMnYwaM+07i5YRuglPGyxZUrSWigqJ9n+AWkhZp9pPJb+L9qmXTt4O/kcP8A/JXDmdFRgz/wBLCCD7g/JXPzZCW78FpySoApDCcve3UkbIIroi6IFJvFSECZgNVOYJtbUEXwQKSPsndK50jTsCE+UcQpyiuZQV9trqPJBmA2CbK060UwABGmiBRIMoJcFAkO34qREwk66HgjsW2KcQOSCDI4XoFAmPIFWBjGiqtBYwnbZBxfZ31b/4lr15LH7PcWxvo13lr7Q/F+KvG1jaaPIqQ08il7V3xn1R2r/jPqnGnKHyu+E+inI/4T6KvtH/ABn1R2jvjPqnGm1nZv8AgPop7KT4Sq+0d8Z9UZz8R9U405LOyk+FK6F/bMFcDx8Emf8Ae/FIT9K3Xgf0WscfKytPZvBvSx1WjGuY+Npa4FwWCxzU2FniclOuaXy/JONgksZ5fL8kwOgXSzw57/k3NlZl0cAKUtcHC2kELDpShkhYczdK3HNeD5Ph1Xt+PLlHQtZ5gMyrbjBVuFKqJ4e979dTxU+DDKZHya4rFTLuf4mq6xzVMpGv8QX0MY8a1QixzRY5qaAhRpzR5poCFF9UeaaEqEeai00bCEWotNBZPq3eBXNf7sfgfzXSkP0bvArC2F8/ZtaNANTy1UyXHtGFh7aUNO25XQ7gAY0UAlAbh4wxnmeJWaaWtQaXN6sMuC50gunLPLKLpptVOkL28uqmFlnoOKmly+W3xFsYIG1WnrSyh76Ow2VMkuY0NlpyO1xDtFqZIdWhw0Oyqw0Pd7V5HRvNMWZjem61lcbjWMu4uEgNcfNV4hocw0NQd6S3UoZlB46K/smuaQDX6LnLhNbZ1ZfCiPQEO5aFXslaCMx7tbKGwguIL3ijxpOcOwD33n0H6LVy+K3flrlkiN8YBLrJJJqtArTiIwTWwGmihkGg+leL4af0UCBx1dJIQN9gs2/Hbv8A7/8ApnykYhgFAO0GiDOw8TrvpsldE5uud9dCL/JQ6CR1HM+vEf0T/wDH/wB//hrJW52aTu3RCgNuJpVwhIJdmcSBuVGWYNDc3d2q103jcdS6TG2b2o41l0HJQ/3421rRKtMUhccpFjfW0krHska55A3Ckxm+41yOHvY2gTqqmukDiOzLhd7JySNe0Z5FRno0HN16rUx1NJb52aCRwOZsRscqC1fLJ6ytjNcyQsjXZRo9vqgP0oPZXipwn0m62txst0YXEDqFPy6Q90wPPmFi7Qge+wqC/wDfZ6q8DlV8+JxEzXNbGW8tQsTIXiiGEaa6q4yfvso9UdoeMjPVXiW1GGa9rXWKAITYk/8ASvCVjnvL6NglLiS4wuuqpTKed2rvxoQxNdCzcEjcq0YQZh3jXHRJDMxsMYLCSArhiwdMmi5eGztwrRs78FixhyxBo4lam4qnAODQPNYcY4OcAOC3Oqzf2jIpB0PgoKBx8Fce24hdX2RGMkjy2ydFybXTwL5GRANIAOuqwjXI9sOMYMtBzargFT7VjBia9rKINEgJ+8+UCRwNt2CeVs5AAc2uitI5+Dtua7FkUrsa6zlOqHxEPIcXcNcqqma4soZi7nSWWpMpu7XYMgOFcK3W25HOOlDmCuZGcrafHYrUlOZGFlMtp6PKuXipj5bnYfU1lB55QpaZYG5myudWuUnQrndtIR9aTWycNlc27sAcSsbab2Y7CSkieFgdsSWpZfZOEmGaF+Qnhuua6J7yQdOlbpoRPG/uOfXLgo1tZi8M/DQsjaCW2SXDa1lGHe8ksc11akArqw4p7AGyR23iQiWPByWQ8RlwokIqiKFromyYjEZHtNNCySYWWQuLY3FmbQgKybCxtBySteFZh8VLDGGZWmtjmV8nhzJGua6iCK5pbXXDWSue7EOD2nZoOyomw2EI+je9p9Qqzps9kS9pCY3aiqIKbCNMEsmH4AkhZMBlw82kttd0WzFlsM7Z799X6Z0Z2KMMwbk4891M04Lj+Sox3eAkYNRTgeYVEb+3bmdbGDc8ygcySSu7gKsZC4+/KBaqMxy00ZW9EOY4PLXCi0ZjaitjcPJ/tzhxGwUtkliOWZpHVY2CQEFjqPitkftA5ezmjD27XeqmxD8r8SNPsH8wqJ25XNG4J/Qq2aMwYhro3dowsJBHiFEpEnZ1qM36FdZ2RzMbu3fisq2e0G5XM5G1jWAIQhAK3DfXt8/yVSshcGStcdgg0Yn63yTwyMEWV58lRNK177B0VeYc1d+RuZJCxtNcFnmcHyktNhU5hzRmHNNjoYIO+TTOjhbJIHNq2ZqCumEUTJiIo7ztBtt5bGtLmsxBZE6NpoOIJPHRV5xzUHZxLYA0sMLhHbcrxGAAP4r1TPDhHKx0LGR9o0NptZhf4ri59Ks1yR2n7x0QdWVhax3yaBjyZHB/cBrl4J77X5NniYWdkdcvGjouP2lX3jrujtNKzGuSDrCNpiy9izsOyzdpl1zVz8VByFxh7KPL2Gaw0Xdb2uVn0qzXJGfqg6mJhdLhmmKDJRAyGOjtwPFJhRLhocQJIgLjsZ276rndqaAzHTZBkvdxQdcwtGDdniDsrWuDhGGg+fFWt7uJhkbE2NriW5HRhrhp+K4faaVmNckGQmrcdNuiDr4cMERc7D5pDIc7WxB1DlXBUTtBw8UcEAt5drl72hXP7TUnMbPFGfqUG/DxOgjnfNALDLaJG9U8rXBsQigYYS1pL8gOvHVc0yXu4o7TSrNckHVlyPOIZ2UbRHI0NytA4pcSWPZim9lG0ROGQtbR3XMz9UZ+qCUJcw5ozDmgZCXMOaMw5oGQlzDmjMOaBkJcw5ozDmgZMx7mODmEgjiFXmHNGYc0Dk2bOpKST3fNGYc1DnAjRAiOKEcUArf9tngfzVSt/wBtnh+qfRO4ilDhYU0mAWXTTPSugnkgdbD5cEPbeoVSJ060GNilIDu4781p1FEagrgK+HFSw+66xyKlx21MnZjOhF68krWFjXZtR0WaLHxu+saWnmFsa8ObbHB1rFxrW1D4WF2ZoJJ4IMLWx2Whv5q5xeBRHgqi0uILiVlqKHnOBdaKgNLSdDXgtpaDoAgtLDR1B3BWsbjJqwsy3vG6Zg8C6zDTkqpbfxIHQFbDhmPssJBQGRg5HNPiVZfjn0zZnfthbD3SBm200K0ujizV2YLuJKuEOU2x2qfK6qLWlMs5ZqJMdXdu1QYxw7oHosrzkflvTmtr2v20ASmKPLVZrXNtQyQGhe3FaJ5y+IMHBUDD70D6LVHgpSLqq56JMfO4XWvKlji3K4fitjbc0EbEcEroMPH9bML+Fuqj5ayJobBGNPtOXW4yuUtXsgAGaQ5G8yqZcbHEC3Dts/G4LLLPJMe+8lUEqeJ0ut9nkkc9xc9xJPFVoQ1pe6gimjYZHdFqDNFMLA0AALQIu7tqoMjmrHiNn+S6LxXRYMUKMnkunxd1nLp2MFfyaHlkbXotGlUqMHfyOD+AfkrgtOYA1sqVBNAlS3UIDxUj8FG6m0EbopSNEIDyRw0QdtN0WgKpHGkICArkjXiUHxRSBX2GjKL5oa532mgJtlBNoOFgQCx9j7S1UOQ9FlwPuP8A4lpXSW6cr2mm8h6Ioch6KFKbpoUPhCVoFbDcplDdvMqy3SaTTfhCjK3kFKE3V1BlbyCUtb2jdBsf0TJXfWN8D+ist2skNlbyCMreQQhZ3faaioNGeShtX5KxrBQ0CQe/L5fkrY2lwAC1llZN7SY7yRlbyCGYd124DL1WhsYbubKal4fl/wDEfWNez4vi15qr5PGd1Bhja2hqfBX0eAUtiedmlccfm+SXcrrlhhZ5ZDGBu0BUytGun2guq3DPduB5rLPhB2rwXVTmfiV7vi+XLLt48/jk6UZRyCMo5BdRuBhb7zyfNMI8LHs1v5rX5KzwcnKOSkRE7MJ8l1i+EbRg/wDFHb17sYTnknGOY3CSO2jPonHs+Y/YHqt5xLvhHqoM8h2IHknPJdYsQ9mzHdrR5px7Ledy0K90kh+2UhdIftu9U5Ze0/j6QPZQ4vHomHsyIbvKW3/G71UEOPE+qby9nj0TG4KGHCSPaTmA5rnYN1YYDqVtxbawz/BcuJxbA08NVLvXlcf2WzHRZXhjqAu+KaZ5yeKpjF6lw/VZdbTmOxoU7NsravqqzebQ9URgucHXWqibXtjklYSATlNWq442tdbjZHALY0gsMTaa3p/VK4RscLfQBqsqm0UtykkNbZ4lxsq9kduzaN6qDlaO4HFhuzSvjORgOXMDvZVt/jU+4jIW2QC6tP8AsrY2hoaHE2eA1Th9so1bRqKUNHabu8KXIMaBvICkvbl+SC8Ma4EEAcW6qoHOLBNHXUKaFxYTqBdcLpNZjILdTxCqht1HQC+KucWMbmOpHGkkRBdmIzEDWqHBSBdgEk3taGtF6NGbfZKCW34qb0LaZ2ZGwtLK2ne9QqhShxIrSxxKGvaXa3z14KqqkY6jk0HC0rWOGuhPGwrrIkJYcp52aSCWRtmUVwBB3V0CONpJDu8DwIUljWNa5zdAmL3mIGNwc7kf6qsh7qJdqfskaBPpASC0mhodQAoytqw4DoQoMThROnKilkcBF3gXHYgcEVcwAjYalR2TQe9z0pVB7pCKaB0VjwcncJB5BNKkQtaW1rXNSaoktrxCO1DhleACBuFW55By6kHcq7qaPsHNy03os2Lb/wBOSTsOBV7zpWbTjXBZ5gHYV5LroclfsUxsIYwkbhWNu+7qtmGYw4OP4soKhsTXu7wocwtb8taYiO9VXapxPvLrDDMAzsb42VndgvlERIcN9QtzqsX9o45UA6O8Fuf7MI+2FnOHLLBBTGzbagFbIJWtABJoKkRgcFZQAHFSo2RytdMC34dRasGJfeVrR0C5497yTCzsrRuYcspc6g7mTopkni2Pe5rBmOxJTtykDPZWdqmVwc69geCqITvayweHJLkBOlq5dpOjGQtoCj5Jg+bYEhUututGkZzwKirTJNsXH1Sl771cVDbsAkjmtDWRkU4WeoVGbOT9tGvxLWYIiO63XxVRw7zZDdBzUFIB5lBbpxVogk1NAealkZvUgeKgqisOcEpac1DitXydvFwvmECAbZgVRmY0g3ey6WKeJcLG0AVWYarOcOAdT5rS6HNh2MDhY2PRIlVQnt8M5r3U6M15JZiwnJHWRul808MQGLeAbBbRPM80r4jmawkNs7ngrRIgD8I95B5eCdpdLG1xOuXK7xH+BLgLJnw7zuM3imwzsshiPjrzCaFTXUTYo1opG4ujqnEVFwLgDtqqi0tNa3wWFWxzGOZubUFpFdLCeUBkjCw2wuvwNFZXD6YDcBqvjOscbtQXX+BXTG+f+Bm9p/7fn+iwLd7SaWOY08L/AEWFECEIQCZotwSpm+8EEuAB2UJnbqyOFros7pAwXQsEoKULR8mDQ/tJAzK7LsTaV2Hc0SWR3K242gpQtBwkgxDYty7UHhSjsA0W+TKMxbdXsgoQtTsK0SBgmBcRfu8KtVOhIMYBvONEFSFodAxjczpdMxaKbd0oMLGxhz5aLhbRlu0FCFKhAIQhAIQhAIQhAIQhAIQhAIQhAIQhAIQhAIQhAIQhAKCpQdkCo4oRxQCuAtjPA/mqVe0XG3Wv+6urej7g0CCUZeoRk/eWeGXpvlCkqMmZWCMcwmDeoV45ejcZy2kUtGUVuFBiHAqccvRuKQEzXOb7pI8E3Z9QpydQrxy9HKLG4ucadofBWjGvrvta4eiz5RzRl6hThl6OUbWY+Pd0ZHgnGKw7t8w8lzwzqmDRzThfS8nQEuHuxKR5KwS4eiDMPRcsjqlIvin476Obp9phBf0pN8gp+UYQD33nyXMDeqmuqfj/AKOf9t5xWGB0je7xVZxrRrHC1p5nVZK13U11CcL6OUaHY6e7Dg3oAldPNL78jiOKqAHNNY5qXHI5RNotLfVF9VOGXo5QE0ltTV8UzQAnDL0vKIDCd9lewAaAJGuAcL1HJMXs1oVpprxThkcoubp4hbIpmsYcwskLD2zaNN8NVPbt1oeFlPx5JyiyQgg+Nlc7Em+08lrMouq08VkxFFrnaagaBb+PGy7qZZTTs4MVg4qO7BforxqFRhP9HD/APyV4RhLmgto8UkPubp3E8ErNAUDKbUWjdADbdHihH5IDqhCEBd9EAngi0Wgk7KB42oJ0RaCeKgqCdEWEHEwXuP8A4loWbBe4/wDiWi1uOdMpS2i1UMobsfEotQ06eav0JQi1FhQMErvrG+B/RTagn6Rvgf0VnaxKFojw4cAXysaOV6rXG3CRN95hPMm1i3SyOXHE+R8uRpO35LTGxzWgdnJ10V3ykxzSOhEZa+t3VWlJXYud33QHRymWNzmrPCy8buU4LAO9HL/KmbPA3/akPkqO3k4iM+L0dvJyi/mWZ8OM+i/Jnftq+WtHuwv9Ehx0nCJw8lR28nKL+dHbycov51vhPTO77WnGSn7Lh4NWaQmR7i7N7zN/FWdvJyi/nVdvlmIOQDukkO5Fbk0nn7rWGBTSjO34h6ozt+Ieq5r4TSKUZ2/EPVRnb8Q9UPBqQlzt+IeqjO34ggfRQlzt5j1UF7fiHqgZQSlztP2gjM34ghtTjD/0snguTDE6SNgBOXj6rqYxwOHeARssmAIEAtpocQVbeKTz0z/JJLsuGmyBg6INm725raIb73aZx1SvEjHmgS27BWfyf01q+2UYZxeLN1y3THDams2XgtsZBJIy2VE7RHDbSQLGyfkno1fbLlkFAF2n+claWggB5kc7yVzRnw4c0iyoosoFub97kpc5Po1faojQgGS+pH9FY3uRgPJFnkmAs2FLSRegPjwWMvk3NaSd7DGteHZXGq35pjTQMpGp0vdSQQcuw6KoMAdbrJGuiw32nK9rroWmBc5hAcb4pRbSXVvzTWSAQCDzHFSeEM2MOaQXElqg5S6g6iCDvamw5joxQdxKjIBGBeo1BrVVVcsjmPFDvO57UrA4kcLG9bIPZgAm7PLgkL2jRrtTxSoZz3Bh7IA2bPNVmXIe/mHQc0NLGEtdsddToodT3tZVtJ0VAZI5KDztyNlWOhYac0ajUaKtjGgmNlEA95zhunfmG5AaDpRSqZjHMtpAvcVxT5XhpokuP2a/VKZCzKX0QdnUmLjmAJq+WyLVTxIQAALG2tKInujfTz49FLiDJ7pY4DcndOAd7Y7reyRCujawdxxGtg77qHPDXEAA3oSFEpy1YP6KDRALXFvggbJT82xqyFJADXEnSlUc2cta8uOwcU5e4XRBOyqnAJadRkP4KnEtEeFkFEFw4hWMkGgquaXGkHDyc8qSptZgnMGGjod7LvyVxePtk0OCpwTHOw0fLKFd8naBRcdUu2kichvddv0VEbxlI6rS3DxAAkEkJMK0OjcA3jutz9azf2ip4O9AKh8TTlJGpK6ndqtB4i7VcuVpY5rQ6na1/RTHHVaY/kzBuyweICYYRj22IqWlmKq80b/IIONAFBj2jjotTGmmCbBVO0CqLb1Kl2DDQLa6+Y2WmR8czw5zZARoKUh0Zb3nT1yH/Za1sYjh2AhoFOO3VQMGX7EXxC15Yjd9sFDo4C22/KPVOIxPw9N31BohGVrxqDoFb3Bduk32VeRtEBz9d1csbvwzOiaMBArVVGgfdHorhEyzq+uCHQt4OdV2dFnhkbZ9AdlJmeNirHwt0yl3gVWcOTsCVeFNpD3kWHIErw7c6bq6OFoHezhEkLTq1z9OB4qcKpGy2dbB6FMHuA1dolEOhPe5I7FpFku8E/HTZ+1CYEEaGlUYqNtLgRujLR3dafjou758Fog7hF3T9KKyBwy1cl2p0DQWvfas+Om2kRPgYXHQF1BWTgOiEjdSNQqWOD4SHulvcJY3NLS0vk6Ba/HU2O0Gdk40kae8PiC0YiK8Q0june/zWAsGbQvFHRaXtD4dXylw16WpPjy1o2tmhL5NNr7xSCHU6jNx1SEtdFbXy5uqpGjLL32Vm/Fku1pg/wCoytN90m/RWOAY+Om2Q7fyOioZIWuJbmOlC9VZ2xJZmbRBsk+BThlPpqWKva5B7Ktd/wBFzVt9oyCQRVwv9FiUm9eWQhCFQJm+8EqZvvBAzt1dHOI8NlAaXZ7pwutFS7dKg1MxOWJxdlc8vBIcLRJIwian5s5BFrKhBsdiz29Nd9GXA2q5pGuioGz2hPks6EGvtWfK2vzd0NAvyUQTMbE7P77LLPNZUINbHtdhQztWsOY2HC/0RC5rWVJMx0etsIJPlosiEEqEIQCEIQCEIQCEIQCEIQCEIQCEIQCEIQCEIQCEIQCsjMYvtGudyo0q0ILnOgLTljeDwJdf6Kk7IQdkCo4oRxQCcOAABe4eCROWBzAeisukpiaF53pRICLzPSt0aGniSkPddfqtXKw0s7UfE9QZur/VVuHEeSghOV0aWdt1d6o7bq71VSFOVNLe26u9Udt1d6qpCcqaW9t1d6o7bq71VSE5U0t7bq71R23V/qqkJyppb23V3qjturvVVITlTS7turvVHa9XeqqUpyppZ2v7zvVHa/vO9VXSkJyppZ2h+J3qjtD8TvVIhOVNH7Q/E71Txh0jsoc71VQC1YQRCRpc45uACvKmg7DyN3efVQIXk1nPquhMzRVBotOVNK4fZ8szw0TAE8yVdP7GxEMLpO2Dg0XQJWnDnK9p5FdhzRJGWu1DhRTlTTxpzAXmd6pM5+J3qtU8Rjc5hGrXELM5iXKwhe0PxO9UZydCXeqghQN0mW7pWmF00jabK9oGg7xWn5NiasYhxB/eKpw4yxhao5XM03HJZ5f0ulBhxI/33/zFRkxH37/5iugHxv414qTEDtSuxzxFiT/vv/mKkw4kC/lDv5itxYG7kLPiJBQa3ikvnpKyAzkX27/5imqevr3/AMxUM91WaVurf21onRmYfEuaHDEO1/eKqlbiIyQZnmuTit+ENxkcilmjt9nYnKVfHnwztyziZBvNL/MUDESkWJpP5ioxUJikLXCiCkb7qk1fpp1IcJLLEx/yqQZhdWVMmCmYAW4iZ2taf91qwTmjCRWPsjgrZZA2NxaASNdrXC2ukxjJ83SftUv+eaSXBSRMLvlE7ujd/wA10u0sXX4KnFu/6d3dB/42s8qvGONJCYnlrTKOpFBS2EmvpXIxD7cCGgWB9lM000+CtyyWYY3uOgPYt/8Aq314JvmT/wB2/wBP7roxaxNN8BxVg23/ABWeeXtzuMcr5j/91J6f3R8x/wDupPT+663mpvwV55e04xxz7ErbFP8AT+6lvsTM2/lT/T+66WIeGRXfGkYV2eG7vVSZ5b7XhNbc75i/93J6f3UfMf8A7qT0/uuwoKtzy9s6jkfMf/un+n90fMf/ALp/p/ddZCz+TL2vGOT8x/8Aun+n90fMf/un+n911lKfky9nGOO/2KGCzipPT+6Qeyoz/wCrkHl/ddogEUdlklgyEFp0JT8mTWOON7YZPY7WwukGLecouq/uqWey5XQGU4jK0CzZXTmJGHeL+yUgP/8AVyfw/oF3wz3ju+2M8NXUcz5vd+0O9Cj5A79od6FejSyPDGFx2AWPy/0kwebkwgjHexJ9CqS1oP17/QrZi53TSk2aWR18VZ8rp+GIaxpNGd48irxgiRYxDq8Cs2c3qu57LlMmFDSbLdEvyaT8Ucz5Ef2h3oUfIj+0O9Cu+UpWfzf0fijjQezxMyxiX2NCK2Tn2UR/6h/otWC3l8f6q92ynyZ5TKyVrDDG4y2PLOme01md6qO3fzd6pZPeSLtty1F3bPIPed6oZK4WGkjwKrGoPghu6Lp6LD+xu1gjlGLkGdodtzHirPmI/tknp/da/ZDzJ7Mgc7eiPQkfotiDy+PwLsFOxolc4EXm2pGNwpw7oQMQ9/aC9eC6Ht/eD/lr6LP7WH/VQAbNaPxP9lE+04b2YZ9PlUgAH+cVo+Yz+2y+n91d7K92+i6KpHI+Yv8A3knp/dZcf7NODja8YmR1muXAr0S5Xt8H5JHXGQBRXmziZb1e/wDmKj5RJd5nXzzKt2jihBZ279O87Tqp+Uy7Z3/zFUlCC35RJd5nXzzKRiJD9t38ypUtQW9s/wCJ3qgTPGznDzVaED9s/bM71UiZ4unO131VaEFnbyDZ7v5lIxEg2e/+YqpCC3t5D9t/8ynt5PvH/wAxVSlBZ20nxv8A5kdrIftu9VWpUU/aP+N3qozu+J3qlUoG7WSq7R9fxI7WT43eqVCB2ue6++6xtqrAC+O+0fruCkjaCx5JqqTAFzC1x15c1US176qOaSgOZFJ2iV/+9IeWqryuBYBe3qro67bS9AgU52yZXzyA18SgB1PqZ9tF1e4UzUx9NrUapI9ya0IrwQPE18ljtpAQNrSHtAPrH34q1mZhIIvTUqbGcVR5a0VNmlQbJ9uV7deakseASZX0Bz3VtHM4u3IFDdQ2MEOa4Acyrs0SNj5CPpXjzTtgc4H6d5PiqiHNaaeWhxApWBz6NMs1lFaouogRuJIEzzQJ3SEPDMxkf6q1wAblquBvcKHD3WOPeG3JE0qLXDUyP2/FSI3HTtHX4qDYkNjvcSn92QkA2BoFd01FQDrIMjgboap+zIcAZXDqoGoOY6cuKbKHEAmgBuONJumoWu7faPvklp2b33Ftb3unN1odhxUsBstI2GoKbpqKjmbu9w8Sh5cHkNe4jnactzOzuGnGyojDnQgVq036/wDZN1NRDg5rQe0ddXVoGrbzv2ugg5i+j7x1WljGOcDtlABGuv8An6pLTUZw09mXmU9BeqMrvtSEaXutWIydmWjQtNiyqKLSW23UaC9VbaaiA2yfpXBo3JUPaA8hsriAatOGgODbJJB1IvzUCiXANu+N6f5opurqFDXZb7R3knZC5ziDI4V1Ux6mnOvrWlJoSXAucRe3+fgrNpqIlw5Y0OErzprZ2VIa9zcwc8jxV2czkhzR5clGJeGNAyC6vTgrs1FLA9zy0vdQcASDaYMfmpz3Ab/orImUC13vOqwN9dkSuMjraNtN+Cnns1FDi5oJ7Q71urMhy2JH3xBUxxds/LVAHckbqQ858gBIbdANVhqKZm1lOYuBHHgqloxJtsbtdb14LOpe1CEIUApBo6KE8X1gUvhrGcrIkk8WFRf7hVr900cMkgtjC4DiAku4uePHKxRf7hRf7hWr5JP905VOa5ji1wII4FVhVf7hRf7hViEFd/uFF/uFWIQV3+4UX+4VYhBXf7hRf7hViEFd/uFF/uFWIQV3+4UX+4VYhBXf7hRf7hViEFd/uFF/uFWIQV3+4UX+4VYhBXf7hRf7hViEFd/uFF/uFWIQV3+4UX+4VYhBXf7hRf7hViEFd/uFF/uFWIQV3+4VDj+7StSSe6grRxQjigE2cty2O6lVuXNEFQsrbaCEgOduu4TM0aGu4k0kcC11jdMu1pRy4IKY8xsUUk6QhA5qE3g1FE8FAqFOUqEAhCEAhCkAnYFBClWDDzO1ETz/AMVcz2fiX7R+pAQZkLez2RinHVrW+Lv6LVH7BcR35wD+6LTQ46YbLuM9gsvvTuI/hr9Ve32HhBu+S/4h/RUedpAC9Qz2TgWDvNLv4nJ24DAMNiJnmSVB5dg7w7hd0C3xmQNGTCH+Vd4NwrNmRjyCn5RA3YtHgg58kZdGO7ryVQw024icfJdQ42EfatKcfGNldmqzQ4WQ7sLfFdIU1vgsTvaA4NtUTYySQV7oU2vGsXtBodiXuaNHGx1WNzVtnIe4AahraWdzVckjK5iQtorUW9FU5uh0Ux7hVzNAFYFUw6aqwKNHCa0oU2gklZJH5pugV0r8rSVkb748VZ2zeljDorFWzZOFq/uTppwjqlrgQtYYHh7TxKwRHK9puqK6ER1dXNan2z6Y8VDniII+kj0PUc1y8uUEdV6CeMuGdvvt26rk4tgPfa3KftDkpJ5ajqYNrThIiT9kcVa9jTG4ZmiwftLLhZG/JIwM9hvBhKh2NfG0gtkvgar8157fLtOmpo+jBDmkVuDarxWuHeNNlXB7RJjAfZdxuRqJMUJGloGpHB7T+SlVzJsvcykOOUXQ2Ut1bSDFncc2a+WUn8lDDol6ax7ejwZzYWM3u3mtFdfxWL2bJeDYLOmi1h3j6Lm52eTV1/FBGm/4pdOf4KdP8CJpm9omsN/yCf2cbw3/ACKo9qEDCj+MJ/ZTrw5HJyRq/o3KChQUtcohChCjaVKW0Wga1TKdW+KsJVUmr2ouMU4j6l/8JVJka32c5pOrm6egWjED6CT+ErBM6sLVA2w78NAvR8U/j59s/Jvfh1o5mSEhpNjmKS4nWF2qy4KhO/wCtxklMy81yykl8LhLa5zmNGwWeVtggbq+TUGlTRG5WY9LJlJdVars+x2lsT75rn5ATa6+AZkwrdNTqrbti46jSUpUqCssMeC3l8f6rQ7ZZ8FvL4/1Wh2y38v71Pj/AFjyUm6RPJukXocTs3rmobuhhpwUBB6r/wAPPL/Z1HZryB4aH9V1Fw//AAy4mOdvAFp/P+i7iDj/APiF2UQdc36LHjJHPZh5XbvYw/8A8lr/APEbMzYHcG5h61/RZ8VlkwGFLa7jCPTKP1URv9lnRo8l0ly/Ze/mV1FSJXN9u6YDN8LgV0lg9ti/Zc3QD8wivIOFPIKE0pzSF3PVKggoUlQgFLVCkIJQhQoBSoUoBCEIJClQFKAUqFKihShCAQhCCQSNAashXRjO4uIsg1pyVFXtvYWkOLHDYD/OCqDs8rnd8WBsb081BOQWTrem6hxaDnBJPOv0UDOdboO00KC97e0b3Wi9wFQB3dLu+VrU3vxMAOahx01VLyQO67Y8DolAxzgC9o0G4doncM3fYTXEcQqC/NW5rj1TB3dtpLSTWigazuDR2ukdoaF969T1UB7wTZquOUKe2OWi8jXfLw8kUPaXM0cGDjm38grIg1jqY2m8CdbVMfvlwu60JKscQGZya0q6VFch751pxNEclLXAQ05pcSPeTOa0RB32jxcq3OzNBaaAAQO0h7jmskcUPNubk36qsHK27uxZ4lQ8FrrFUkQc3MNa7KBnaDV+CNBdWdLy2pheHXenEILM7iC/NlFfCLTNOYEnVxOmlKs0RZ38FY05mtb1QJRc88AT5KXOcS7IKs/2TRgdq7S21vapeHNLzuAgZmhy/aI34nz4K/UBrb1PHh/miWM1GHAEGvRDbkZ3Ltmt2rIL4wwg0L63aolaA4EggO30VmUOPvAAHRVyA5Y8u+W6vqraDDtDszifd01VQJDM+XS9QVEV3kumk9+xuLVhDnOLbAA969L4qBIR9Y5wGoNHirg/MxwFNFehpV6hgFgcVY/KxuVzLkJugb4a/irBXA3OxznE8xzRM0do0d05Gk2NiU4aRE1waQWaW3r0WcOAJD7Naixz0KUWyvLQzvEACgeN0rcsQiY+M94N1G/l6BQ6LtIxdZiSCNyOX5Jy3ICcwNgNBy/5p/VXWxS1+Q5gBRIPhure1Y957veadCBRPVIQJGuJ2FjXqrhlZkjA75BrS9gpLrwMeJeXtYbFGzXXS1QrJQW00gijsq1AIQhAJ4/fCRPH74UvTfx/vP8AK126ueSMHFRrvOVLt1e3s5MO1jpAwtcTqDqpj0183/qVRmPM+quxn1//ABH5I7GL9oZ6FLintfMSw2AAL8lpyII3mN0gHdaaJ5KRE8xGUDuA0TfFa8DHE+BxlArtWAk8ArsYJBgJBJC2KpRlyty2NfVBy0IQgEIQgEIQgEIQgEIQgEIQgEIQgEIQgEIQgEIQgEIQgExbTQlRegCl23jcZLsK1kBkiLmHM5u7ONc1UpY90bg5hII4hVg8sXZBoc7vndvJUSe75pySTZNkpJPd80FaOKEcUAna8tLQfdISK9kQexpItUVyt005pQc7eoWkRiqrZAiF+6PRMu2tMgFWmDSdgVsEahjBr4qTpNMYjkPRMIXncraGBTkCi8WMYfjmTCBp31WvKOSVw7zQDV3srPK8WcYZnIlO3Dt+BXZD9478P6Iy/wD5H/h/RXU+6mithaPsj0VzMreSXLQ+sd+CQAULe78P6LUmPdqefTU2Vo5Jxia2r1WIgfG78P6KP+bvw/on8Pa6vp0PljuBCPlj/iC5xv43fh/RRZ+N34f0T+Ps8+nSOLkP+4EpxDzvJ+KwE/vu/D+iWz8Z/D+imsPa7vp0DMTvJ+KXtBxcsOY/G78P6KbNe+fQf0TWHs5X029o34go7Ucx6rCXOBrOfQKQSQO+fw/onHD2by9N3aDmPVGcfEFlaL3e78P6KSwV9Y78P6K8cPbPPL0vZKHYgRlwAP2loniibC+n5nVvawYZna4pkbnuAJ4Vf5LpTezWNic5ssug41/RXjhPtnllWGKsgsjZS7LzCWOHN9t3lX9EzsNpo9/4f0SzD2ktI7LzVUgGQm76K4wH43fh/RKYj8bvQf0UnCXe18qcw6+iGzEHUHxpW9mfjPoP6JHxku947cgtTHC9G8kiZvX0Kkztrj6LO+MtI1OqQhYvGL5PJI6Q6ggIboRofRK1pJVwaQpvH0aqGCwrBsgDXdNW6b3lsSAteGc4R6NJHiszdtQtOF0Lm+au9ZVmzw0Bz/uz6hYPaLLa5xZlNLotWP2l9U7+H9V0l7IjBYSF0MbjCHFw1K3Ow0cVBrGg/wANpfZj2/I4g6gQBurZxG6QcbHIn8l5rHeVUHGN1Cr6aJnuDh3qPmCkc0Ru7v5V+aZ0j6AP/wDIFY005owsbzbxxP8Atud+RWOsri0cDypdOfCxujcZALzaZo3fnYXKLcjy3TTkdEJ27fsoXhBfxHgVtpo/7LB7LIOEG1hxW5pP+ELle1qb5AeqkE/4UWTxPooIHQojL7Vs4I76OCPYpuGQcnKfaA/6OTQaDmq/YZ+jlHUK/Rf1dVKVKUqOciLQoQo0lChCqhVu+ub4FPaQ/Wg/uosLiPqJP4SuTiXfQ7n3f0XVxH1En8JXIlrsyD8OnovT8X6/8uefbb7OP0rrOtKzH2CHcKVfs4ASyVsFqxMfaREceC5ZzWX/ALN4Xzv/AC5ZdZVYfe+6k6FUuhlY4F2gOoWY726Wg6rq4SZrog3iFy4oidTstkbaAA0CzUvmN6glUslrQqzOHbKbc9M2C3l8f6rQ7ZZsHvL4/wBVodsV0+X96z8f6x5OTfySJ3+95JF6HFI3Un3z4qAmd7wPMIO//wCF/dxP/H9V3V5//wAMPAfiI+JAPpf9V6BBzPb4/wCiZ/8AIPyKwwhvzawPOgDtasi83/8Aqur7Xbm9nSaWbFeoXLjYR7KOaqY86dMpH5lRDYCacTxsw8YdCSLe8a1pfFd5cb2UbDfELsqwSsXtgX7Ln8B+YW1Y/av/AJbP/CivHONkeFKFLhqoQBUKSoQCkKFIQSoQpDb4qCEKSKUIJUWhKqHBU2q1KgstSkAU0eaaDKVXZCM6aFiFXnU51NC+Fhc6wASKW0ZHM74ot28VnwLS/OQaIAIV2QsyEO30PILcgV8duYSD3ueuvJZxIc7hVHa+S1xhwme7S+qpNvdmJom+ApL4ENtztCL4gFNLE1sVh1nj0V0MfccGd51b8Qo7NrgdTldpqkngZALbV+SaMUNRQB0WlrMriBmDCKLjtfRII9xRJB1oWs6FQsXtys7BQTThWgJrr4qySQsOWtCKGm6Vzm2NbezfakElwcxpbR0IoKGND3947akdUS0w20Ai70GxUCQM1NAjUaKhp5CxprwApKyMFgyg7blUSvMhAbqN/NamAFoJDu6OOqyVUA7Rg0B3VlDQN1II1KDTmgNbQ3rggt7ugpwWp5ugjmGMusWCNNFABZyLjRChpDpK1JKl7hpdZunBXSnAzyBtg2dCNUzqjdTfd28UjD36Nu4c6Q4GqL+uinEWREZQM1HYEqiR7jdb3RFfimbnMrWg1RUSAFwzGnHlwV4osDXdmHNcA4anqE8b7aHCm6b1YKqeDC9ou6cdeuitDRnJA98cOifrVSHNLHEAMvblamMB1hx2GW1Gd0XdaO7VHXdI05nNa11tJJsjVRCuZI15DdeWqtdC53Zh1nNV1xSEsa8G3mjpvSYzNY45gQerdvwW/wAdZ5Gyg5w2soG4HNZtQ4FxBfRsXXTzV4mDe9lcM1a6qqRge68j+QGv9FeF0cv6WNke0ENGtatv1/BUxgZxmtpII8f8/RSCyImg4OG9k/0Q8xuyijoP84JcLTl/S2JhMpZlGQC/7/iqgTJI6PMRmNg1srGyNbRaHVtsfTbr+Cr+iBunX4n+icacv6MwElzDsHAkgXW/+eSujILgCHGjVkGxx/okbK0ZnNstcdb2vj/nVaMM1tkH7JFGq0skFZynGNS7Y8ZecW2r1WZa8c8PcxwAHQcFkWQIQhAJmHK4EpVbh2h87WuFhS9NY75TSXPaTuozt5q7ExsbLTWgCuSqocgpjdzwvyW3K7RnbzRnbzU0OQRQ5BaYRnFbqTJe7iUUOQRQ5BBGdvNGdvNTQ5BFDkEEZ280Z281NDkEUOQQRnbzRnbzU0OQRQ5BBGdvNGdvNTQ5BFDkEEZ280Z281NDkEUOQQRnbzRnbzU0OQRQ5BBGdvNGdvNTQ5BFDkEEZ280Z281NDkEUOQQRnbzRnbzU0OQRQ5BBGdvNGdvNTQ5BFDkEEZ280Z281NDkEUOQQRnbzRnbzU0OQRQ5BBGdvNGdvNTQ5BFDkEEZ280r3AignocgleABoEFaOKEDdALZBXYtWSih2agATSo3WMx8FNjmsbJHtAsWrg9p4pl23tbm1SsdWbTikzjmoa4C9eKTo2tz9EZiq845ozjmsrtZmPNUzuIogkacCmzjmFXKb210ViWkglcC4ucSK4+K1ZtFia0hr9Nx+oVkTyBTr6FW9RnGrw4nPqdCEuvxFKHgNfruQkLtT7x8Ct/X/sS9rNfiKiz8RVRd+671UW74T6rOza2z8RUWfiKrGY8PUqxkYu3vHgEhsWeZUa8yrKiHC/NAyAaGumYpue//g8lyv8A3kwjdzPqgkWaJ/mKXQuGprxTfldGcw694qANB3ir2xYctOaUA/xLO9oa6musdCpyltWTUi2iG2HOPgoGc75wOqIjH9skf8ih+RrtHkjo4qcuizflbg2E4yMZ3CyNQu8xrh8ojMjnho0Lq5LzzXRghwcQRxDytOHxLGyP7WSRwdWvbOH5Fbtm6xJ4WQiiQD/lq5wJ6Us7Rhc5y4g1XF7h+qknDffH/wDa7+ql0kWOHmqyAUt4bbtjX/yO/qlJw/3p/wD2O/qp4U5CrI7xQ4wcJT/+w/1SMlZQzO1ocVvCRKmRvuD95SYWncIkmjdkp2zr/BT20XxBYsul2XsgDoFIapMsXBzUdrH8YWVLl3TZe6egUdpF8YQZY8p74tWdodo0VkOkjTproqWyx19YB5qe2j3ztNdUvZ9OkN1j9pfVP/h/VWtxcBAJkaOlrPj54pI3BkjXHLwK6Y1I6Hs2J4wcThqC0HRXPha93faPMLJg8ThmYOFr5mtcGixe34rUPaGF4zxnzXHTcoMDGkFoAPMIkZnADnOI6/2Q7H4StJ2eZCrOOwv37PIqWLtk9oQs7J7WgWKOtj8SaXIlJMmtXXBwd+I0XbdisNnJbKGuP2mkfquTjntkxRc12Yc1luOj7HeeyeNdHLo77n1BXF9mTRxl4ke1oPMldIYzDD/eaPAhc7Ltq2L9L0A9U9mtyPJZTjcOf99h80fLMKB9c0HxU1U3Bj6OEl1B7qz+w3ayDwKsxGLhkge0TMNjmsXsrFR4Zz3SmgW6AKzG2aLZp31BWH52w3N34I+dcNzd+Cv48vTnyjYhYfnTDc3fgj50w3Nyfjy9NcsfbchYfnTD83fgj50w/N34J+PL0csfbbaU+/fRZPnTD83fgo+c8Pe5T8eXo54+2nEfUSfwlcmcHsyRuGj8ltkx2HkgeBIAaIorBPMx0JaHC8o4rrhLMdf2l1b5dXBsaIWuA7zhqVfwJOywYTFwtgDXytBviVdLjcP2ZDZmHzXDze2/Euo5uIP0hrmtkdSQMLgCarVc+SRhPvBa8PiIW4cNMjQepWtV0tiyqT7BU/KIdzI31UOxMX3jfVSS1LYdzk0UlOWYzxn7Y9UCeMH32+qzcabjVgt5fH+q0O2WHCYmFmfNI0WeavOLw/3rfVdPll51zws4x5t/veSRWPa4u0CXI7kV3cUJnbAqMjuRTFrqGiDp/wDh14Z7RLTu9haPz/ReoXj/AGVIMP7Qikfo0GiTwsV+q9P844P9oj9UFuJa1+HkDhYylcqYNZ7Jnaxr20QTm33H9Fvdj8G5pHyiPUVusbcVhZIJmPmYM4I1PREV+yCMrR+8u0vO+y8RFE89pIGjNepXZ+ccH+0R+qDUs3tFufATN5tUfOOD/aI/VV4jH4R2HkaJ2ElpoWivIu3Sp3NPJRlPJFQUqctPJRkdyRCqQpyO5FGV3JBA3ThLldyTd/koApExz8lGV17FBBSp8ruSjI7kVRAaSpLcp1TtaQNlD2kkUFANUlDWuHBXg1slujTKUqse0lxoaIYw5hmGiorQtBiYTpY81UWG9AaUlGnCOoHugk0NVqLHvJc625dhsVjhaMvf0ArxWwSsO72kHexVrQHgtYXAk2B5Ia0kF2f3TqC7dLJI1zCA5oN80GRoN2K6Hit71JqsSS27XFrA2zYva3EJHtyUS6gdu8fxQMQ2y29OZKdr8M6w54B4EhLnZ9tcJ6Ve6ATmdrXvIjbmfT5CxvxclLnRtccpZm8bCVwiezL2jQdOgWOeXs4T00SwBpaWPzxn7bXWsk8oZLkF3x1K2MjwsQDvlbTzAC5s7GiVxYQQDpXFOWXs44+mmWw4NaXC9bsmkrI5XvAa9xJNZf6Je1F1oBlHqrs5gBMUre8NS12qcsvZxx9EkjkjLmSkg2Nzeim8rTRBG2yqfK5zLe4vd1KDPmiILcp20O6ud3pJNbBJu2HTY8lYDTfK1mzlrjlZpsLPDyTte4h2cjUUKWcPFMp4QJCZQ0NbXgmzvcS6mijVnmlGRpvKSb3zafkmZI1xIc0NHBOVXjDROdlJcQL0VrMrtOP5LPJIXU2tuO6uw4Y23PlF8k3V44+kZmiQatA6pXPc09dRsdEhDHkhx2OjkoaxpoucfBXlWeMWveHRsc496rTs7jQTeVmo6HyVDnBsbA0WQNbTQS5S6wW+e6Z/tuLh0eZ5ewlrjbiPe14a/iphDg0O56NvTXiq5sro+66idco2UxOpjQXAAbirU2q+FjS95fKIm0TmI132Cl4gALmzl7nECuzLQFncWPBF0b05ELXG3DiDM+dpdV5B+SuV80x6jKXd4RB1m70HHmpY6sS2IHQ0L5H/ALqQyF7szpdeRVLSBi2vuwHblZ7XpvxOE0D7sXrX+dFnhbAATIZXNOpDGgD1v9Fvfi4Dh6DxmOnUKqsM+IHt2sJHunXVBnxTIyyPspHSMddlx1aeqpc7M0g1dbV0TUxrNXg2b04JHUXBwcLvW+PVQQ3MMzXDYgK1rHtBYdHhvvG9eNen5KrNmJcaBNX1TukAYzLqbJd029V0v6xJ9lxTQ0MN2XWSOKzqyZ/aP0bQHRJRWRCFNFCD/9k=' style=\"width: 100%; max-width: 1474px;\"/>\n",
       "</div>\n",
       "\n",
       "<script type=\"text/javascript\">\n",
       "   (function() {\n",
       "     var container = document.getElementById(\"focontainer-327b588e-c021-4775-bd35-aa80e87b7a88\");\n",
       "     var overlay = document.getElementById(\"fooverlay-327b588e-c021-4775-bd35-aa80e87b7a88\");\n",
       "     fetch(`http://localhost:5152/fiftyone`)\n",
       "     .then(() => {\n",
       "        overlay.addEventListener(\"click\", () => {\n",
       "          fetch(`http://localhost:5152/event`, {\n",
       "            method: \"POST\",\n",
       "            body: JSON.stringify({\n",
       "              event: \"reactivate_notebook_cell\",\n",
       "              data: { subscription: \"327b588e-c021-4775-bd35-aa80e87b7a88\" },\n",
       "              subscription: \"327b588e-c021-4775-bd35-aa80e87b7a88\"\n",
       "            })\n",
       "          })\n",
       "        });\n",
       "        container.addEventListener(\"mouseenter\", () => overlay.style.display = \"block\");\n",
       "        container.addEventListener(\"mouseleave\", () => overlay.style.display = \"none\");\n",
       "     });\n",
       "   })();\n",
       "</script>"
      ],
      "text/plain": [
       "<IPython.core.display.HTML object>"
      ]
     },
     "metadata": {},
     "output_type": "display_data"
    }
   ],
   "source": [
    "session = fo.launch_app(coco_dataset, port=5152)"
   ]
  },
  {
   "cell_type": "markdown",
   "id": "9ee6a09d",
   "metadata": {},
   "source": [
    "## 4️⃣ Evaluate models\n",
    "Ablation Studies, Comparison Models, and Benchmarks (Magic)"
   ]
  },
  {
   "cell_type": "code",
   "execution_count": 17,
   "id": "77f4b569",
   "metadata": {},
   "outputs": [
    {
     "name": "stdout",
     "output_type": "stream",
     "text": [
      "Downloading voxel51/fiftyone-plugins...\n",
      "  329.3Mb [9.9s elapsed, ? remaining, 25.9Mb/s]    \n",
      "Skipping existing plugin '@voxel51/evaluation'\n",
      "Collecting ipywidgets\n",
      "  Downloading ipywidgets-8.1.7-py3-none-any.whl.metadata (2.4 kB)\n",
      "Collecting anywidget\n",
      "  Downloading anywidget-0.9.18-py3-none-any.whl.metadata (8.9 kB)\n",
      "Requirement already satisfied: comm>=0.1.3 in ./env/lib/python3.9/site-packages (from ipywidgets) (0.2.2)\n",
      "Requirement already satisfied: ipython>=6.1.0 in ./env/lib/python3.9/site-packages (from ipywidgets) (8.18.1)\n",
      "Requirement already satisfied: traitlets>=4.3.1 in ./env/lib/python3.9/site-packages (from ipywidgets) (5.14.3)\n",
      "Collecting widgetsnbextension~=4.0.14 (from ipywidgets)\n",
      "  Using cached widgetsnbextension-4.0.14-py3-none-any.whl.metadata (1.6 kB)\n",
      "Collecting jupyterlab_widgets~=3.0.15 (from ipywidgets)\n",
      "  Downloading jupyterlab_widgets-3.0.15-py3-none-any.whl.metadata (20 kB)\n",
      "Collecting psygnal>=0.8.1 (from anywidget)\n",
      "  Downloading psygnal-0.14.0-cp39-cp39-macosx_11_0_arm64.whl.metadata (6.0 kB)\n",
      "Requirement already satisfied: typing-extensions>=4.2.0 in ./env/lib/python3.9/site-packages (from anywidget) (4.14.1)\n",
      "Requirement already satisfied: decorator in ./env/lib/python3.9/site-packages (from ipython>=6.1.0->ipywidgets) (5.2.1)\n",
      "Requirement already satisfied: jedi>=0.16 in ./env/lib/python3.9/site-packages (from ipython>=6.1.0->ipywidgets) (0.19.2)\n",
      "Requirement already satisfied: matplotlib-inline in ./env/lib/python3.9/site-packages (from ipython>=6.1.0->ipywidgets) (0.1.7)\n",
      "Requirement already satisfied: prompt-toolkit<3.1.0,>=3.0.41 in ./env/lib/python3.9/site-packages (from ipython>=6.1.0->ipywidgets) (3.0.51)\n",
      "Requirement already satisfied: pygments>=2.4.0 in ./env/lib/python3.9/site-packages (from ipython>=6.1.0->ipywidgets) (2.19.2)\n",
      "Requirement already satisfied: stack-data in ./env/lib/python3.9/site-packages (from ipython>=6.1.0->ipywidgets) (0.6.3)\n",
      "Requirement already satisfied: exceptiongroup in ./env/lib/python3.9/site-packages (from ipython>=6.1.0->ipywidgets) (1.3.0)\n",
      "Requirement already satisfied: pexpect>4.3 in ./env/lib/python3.9/site-packages (from ipython>=6.1.0->ipywidgets) (4.9.0)\n",
      "Requirement already satisfied: wcwidth in ./env/lib/python3.9/site-packages (from prompt-toolkit<3.1.0,>=3.0.41->ipython>=6.1.0->ipywidgets) (0.2.13)\n",
      "Requirement already satisfied: parso<0.9.0,>=0.8.4 in ./env/lib/python3.9/site-packages (from jedi>=0.16->ipython>=6.1.0->ipywidgets) (0.8.4)\n",
      "Requirement already satisfied: ptyprocess>=0.5 in ./env/lib/python3.9/site-packages (from pexpect>4.3->ipython>=6.1.0->ipywidgets) (0.7.0)\n",
      "Requirement already satisfied: executing>=1.2.0 in ./env/lib/python3.9/site-packages (from stack-data->ipython>=6.1.0->ipywidgets) (2.2.0)\n",
      "Requirement already satisfied: asttokens>=2.1.0 in ./env/lib/python3.9/site-packages (from stack-data->ipython>=6.1.0->ipywidgets) (3.0.0)\n",
      "Requirement already satisfied: pure-eval in ./env/lib/python3.9/site-packages (from stack-data->ipython>=6.1.0->ipywidgets) (0.2.3)\n",
      "Downloading ipywidgets-8.1.7-py3-none-any.whl (139 kB)\n",
      "Downloading jupyterlab_widgets-3.0.15-py3-none-any.whl (216 kB)\n",
      "Using cached widgetsnbextension-4.0.14-py3-none-any.whl (2.2 MB)\n",
      "Downloading anywidget-0.9.18-py3-none-any.whl (220 kB)\n",
      "Downloading psygnal-0.14.0-cp39-cp39-macosx_11_0_arm64.whl (480 kB)\n",
      "Installing collected packages: widgetsnbextension, psygnal, jupyterlab_widgets, ipywidgets, anywidget\n",
      "\u001b[2K   \u001b[90m━━━━━━━━━━━━━━━━━━━━━━━━━━━━━━━━━━━━━━━━\u001b[0m \u001b[32m5/5\u001b[0m [anywidget]\n",
      "\u001b[1A\u001b[2KSuccessfully installed anywidget-0.9.18 ipywidgets-8.1.7 jupyterlab_widgets-3.0.15 psygnal-0.14.0 widgetsnbextension-4.0.14\n"
     ]
    }
   ],
   "source": [
    "!fiftyone plugins download https://github.com/voxel51/fiftyone-plugins --plugin-names @voxel51/evaluation\n",
    "!pip install ipywidgets anywidget"
   ]
  },
  {
   "cell_type": "markdown",
   "id": "dd326de2",
   "metadata": {},
   "source": [
    "#### Running evaluation\n",
    "Evaluate the predictions in the `faster_rcnn` field of our `high_conf_view` with respect to the objects in the `ground_truth` field"
   ]
  },
  {
   "cell_type": "code",
   "execution_count": 15,
   "id": "12bed568",
   "metadata": {},
   "outputs": [
    {
     "name": "stdout",
     "output_type": "stream",
     "text": [
      "Evaluating detections...\n",
      " 100% |███████████████████| 50/50 [1.4s elapsed, 0s remaining, 35.9 samples/s]         \n",
      "Performing IoU sweep...\n",
      " 100% |███████████████████| 50/50 [818.2ms elapsed, 0s remaining, 61.1 samples/s]      \n"
     ]
    }
   ],
   "source": [
    "results = coco_dataset.evaluate_detections(\n",
    "    \"faster_rcnn\",\n",
    "    gt_field=\"ground_truth\",\n",
    "    eval_key=\"eval\",\n",
    "    compute_mAP=True,\n",
    ")"
   ]
  },
  {
   "cell_type": "markdown",
   "id": "bc6d30ab",
   "metadata": {},
   "source": [
    "#### Aggregate results\n",
    "The results object returned by the evaluation routine provides a number of convenient methods for analyzing our predictions.\n"
   ]
  },
  {
   "cell_type": "code",
   "execution_count": 17,
   "id": "d18a7f94",
   "metadata": {},
   "outputs": [
    {
     "name": "stdout",
     "output_type": "stream",
     "text": [
      "              precision    recall  f1-score   support\n",
      "\n",
      "      person       0.85      0.85      0.85       179\n",
      "        book       0.67      0.74      0.71        78\n",
      "       chair       0.64      0.78      0.71        37\n",
      "      bottle       0.68      0.79      0.73        38\n",
      "         tie       0.91      0.45      0.61        22\n",
      "         cup       0.76      0.87      0.81        15\n",
      "dining table       0.43      0.71      0.54        14\n",
      "      carrot       0.33      0.70      0.45        10\n",
      "potted plant       0.42      0.62      0.50         8\n",
      "      laptop       1.00      0.88      0.93         8\n",
      "\n",
      "   micro avg       0.72      0.78      0.75       409\n",
      "   macro avg       0.67      0.74      0.68       409\n",
      "weighted avg       0.75      0.78      0.76       409\n",
      "\n",
      "Mean average-precision (mAP):  0.42486425328396155\n"
     ]
    }
   ],
   "source": [
    "# Get the 10 most common classes in the dataset\n",
    "counts = coco_dataset.count_values(\"ground_truth.detections.label\")\n",
    "classes_top10 = sorted(counts, key=counts.get, reverse=True)[:10]\n",
    "\n",
    "# Print a classification report for the top-10 classes\n",
    "results.print_report(classes=classes_top10)\n",
    "print(\"Mean average-precision (mAP): \",results.mAP())\n"
   ]
  },
  {
   "cell_type": "markdown",
   "id": "096eb0b0",
   "metadata": {},
   "source": [
    "We can also view some precision-recall (PR) curves for specific classes of our model:\n"
   ]
  },
  {
   "cell_type": "markdown",
   "id": "69a84741",
   "metadata": {},
   "source": [
    "#### 🔬 Model Comparison: Ablation Study\n",
    " In this section, we compare the performance of multiple object detection models on our dataset.\n",
    "\n",
    "We evaluate each model using mean Average Precision (mAP) and per-class Average Precision (AP) for the top-10 most common classes.\n",
    "\n",
    "The results are summarized in a LaTeX-formatted table suitable for inclusion in a paper.\n"
   ]
  },
  {
   "cell_type": "code",
   "execution_count": 18,
   "id": "4008c545",
   "metadata": {},
   "outputs": [
    {
     "name": "stdout",
     "output_type": "stream",
     "text": [
      "Classes: ['airplane', 'apple', 'backpack', 'baseball bat', 'baseball glove', 'bear', 'bed', 'bicycle', 'bird', 'boat', 'book', 'bottle', 'bowl', 'broccoli', 'bus', 'car', 'carrot', 'cat', 'cell phone', 'chair', 'clock', 'couch', 'cup', 'dining table', 'dog', 'fork', 'frisbee', 'handbag', 'horse', 'keyboard', 'knife', 'laptop', 'microwave', 'motorcycle', 'mouse', 'person', 'pizza', 'potted plant', 'refrigerator', 'remote', 'skateboard', 'skis', 'spoon', 'stop sign', 'surfboard', 'teddy bear', 'tennis racket', 'tie', 'truck', 'tv', 'umbrella', 'vase', 'wine glass', 'zebra']\n",
      "\n",
      "Evaluating 'Faster R-CNN'...\n",
      "Evaluating detections...\n",
      " 100% |███████████████████| 50/50 [1.8s elapsed, 0s remaining, 21.7 samples/s]         \n",
      "Performing IoU sweep...\n",
      " 100% |███████████████████| 50/50 [818.6ms elapsed, 0s remaining, 61.1 samples/s]      \n",
      "\n",
      "Metrics for 'Faster R-CNN':\n",
      "  accuracy: 0.5469973890339426\n",
      "  precision: 0.6747181964573269\n",
      "  recall: 0.7429078014184397\n",
      "  fscore: 0.7071729957805907\n",
      "  support: 564\n",
      "\n",
      "Evaluating 'RT-DETR'...\n",
      "Evaluating detections...\n",
      " 100% |███████████████████| 50/50 [3.2s elapsed, 0s remaining, 11.0 samples/s]         \n",
      "Performing IoU sweep...\n",
      " 100% |███████████████████| 50/50 [908.7ms elapsed, 0s remaining, 55.0 samples/s]      \n",
      "\n",
      "Metrics for 'RT-DETR':\n",
      "  accuracy: 0.5389408099688473\n",
      "  precision: 0.591116173120729\n",
      "  recall: 0.859271523178808\n",
      "  fscore: 0.7004048582995951\n",
      "  support: 604\n",
      "\n",
      "Evaluating 'YOLOv11n'...\n",
      "Evaluating detections...\n",
      " 100% |███████████████████| 50/50 [867.0ms elapsed, 0s remaining, 57.7 samples/s]       \n",
      "Performing IoU sweep...\n",
      " 100% |███████████████████| 50/50 [601.5ms elapsed, 0s remaining, 83.1 samples/s]       \n",
      "\n",
      "Metrics for 'YOLOv11n':\n",
      "  accuracy: 0.4408014571948998\n",
      "  precision: 0.7586206896551724\n",
      "  recall: 0.5127118644067796\n",
      "  fscore: 0.6118836915297092\n",
      "  support: 472\n",
      "\n",
      "LaTeX Table:\n",
      "\n",
      "\n",
      "    \\begin{table}[ht]\n",
      "    \\centering\n",
      "    \\caption{Ablation Study: Classification-style Evaluation Metrics}\n",
      "    \\label{tab:classification_metrics}\n",
      "    \\begin{tabular}{lcccc}\n",
      "\\toprule\n",
      " & Accuracy & Precision & Recall & F1-Score \\\\\n",
      "Model &  &  &  &  \\\\\n",
      "\\midrule\n",
      "Faster R-CNN & 0.547 & 0.675 & 0.743 & 0.707 \\\\\n",
      "RT-DETR & 0.539 & 0.591 & 0.859 & 0.700 \\\\\n",
      "YOLOv11n & 0.441 & 0.759 & 0.513 & 0.612 \\\\\n",
      "\\bottomrule\n",
      "\\end{tabular}\n",
      "\n",
      "    \\end{table}\n",
      "\n"
     ]
    }
   ],
   "source": [
    "import pandas as pd\n",
    "\n",
    "# Dictionary mapping model prediction fields to display names\n",
    "model_name_map = {\n",
    "    \"faster_rcnn\": \"Faster R-CNN\",\n",
    "    \"predictions_rtdetr\": \"RT-DETR\",\n",
    "    \"predictions_yolov11n\": \"YOLOv11n\"\n",
    "}\n",
    "\n",
    "# List of model prediction fields to evaluate\n",
    "model_names = list(model_name_map.keys())\n",
    "\n",
    "# Dynamically get all unique classes\n",
    "classes = sorted(coco_dataset.distinct(\"ground_truth.detections.label\"))\n",
    "print(\"Classes:\", classes)\n",
    "\n",
    "# Evaluate and collect metrics\n",
    "rows = []\n",
    "\n",
    "for model_name in model_names:\n",
    "    display_name = model_name_map.get(model_name, model_name)\n",
    "    print(f\"\\nEvaluating '{display_name}'...\")\n",
    "    results = coco_dataset.evaluate_detections(\n",
    "        model_name,\n",
    "        gt_field=\"ground_truth\",\n",
    "        eval_key=f\"eval_{model_name}\",\n",
    "        method=\"coco\",\n",
    "        classes=classes,\n",
    "        compute_mAP=True,\n",
    "        compute_per_class_ap=True,\n",
    "    )\n",
    "\n",
    "    metrics = results.metrics()\n",
    "\n",
    "    print(f\"\\nMetrics for '{display_name}':\")\n",
    "    for k, v in metrics.items():\n",
    "        print(f\"  {k}: {v}\")\n",
    "\n",
    "    row = {\n",
    "        \"Model\": display_name,\n",
    "        \"Accuracy\": metrics.get(\"accuracy\", float(\"nan\")),\n",
    "        \"Precision\": metrics.get(\"precision\", float(\"nan\")),\n",
    "        \"Recall\": metrics.get(\"recall\", float(\"nan\")),\n",
    "        \"F1-Score\": metrics.get(\"fscore\", float(\"nan\")),\n",
    "    }\n",
    "\n",
    "    rows.append(row)\n",
    "\n",
    "df = pd.DataFrame(rows).set_index(\"Model\")\n",
    "\n",
    "# Generate the tabular LaTeX code only\n",
    "latex_body = df.to_latex(\n",
    "    float_format=\"%.3f\",\n",
    "    index=True,\n",
    "    header=True,\n",
    "    column_format=\"lcccc\",\n",
    "    escape=False,\n",
    ")\n",
    "\n",
    "# Wrap it in a full table environment with centering and labels\n",
    "latex_table = f\"\"\"\n",
    "    \\\\begin{{table}}[ht]\n",
    "    \\\\centering\n",
    "    \\\\caption{{Ablation Study: Classification-style Evaluation Metrics}}\n",
    "    \\\\label{{tab:classification_metrics}}\n",
    "    {latex_body}\n",
    "    \\\\end{{table}}\n",
    "\"\"\"\n",
    "\n",
    "print(\"\\nLaTeX Table:\\n\")\n",
    "print(latex_table)\n"
   ]
  },
  {
   "cell_type": "markdown",
   "metadata": {},
   "source": [
    "# 5️⃣ Plugin Integrations"
   ]
  },
  {
   "cell_type": "markdown",
   "metadata": {},
   "source": [
    "- **Sparse Concepts (Find Bias)** *(by Adonai)*\n",
    "- **Validate VLM Efficiency** *(by Adonai)*\n",
    "- **Janus Pro VQA Plugin** *(by Harpreet)*\n",
    "\n"
   ]
  },
  {
   "cell_type": "markdown",
   "id": "5cf57e0d",
   "metadata": {},
   "source": [
    "### 🧬 FiftyOne SpLiCE Panel & Operator\n",
    "#### Step 1: Download and install the plugin\n"
   ]
  },
  {
   "cell_type": "code",
   "execution_count": 19,
   "id": "9e75a5d5",
   "metadata": {},
   "outputs": [
    {
     "name": "stdout",
     "output_type": "stream",
     "text": [
      "Downloading AdonaiVera/fiftyone-sparse-concepts...\n",
      "   93.3Mb [1.2s elapsed, ? remaining, 103.1Mb/s]    \n",
      "Copying plugin '@adonaivera/fiftyone-sparse-concepts' to '/Users/adonaivera/fiftyone/__plugins__/@adonaivera/fiftyone-sparse-concepts'\n"
     ]
    }
   ],
   "source": [
    "!fiftyone plugins download https://github.com/AdonaiVera/fiftyone-sparse-concepts"
   ]
  },
  {
   "cell_type": "markdown",
   "id": "f6ad1c88",
   "metadata": {},
   "source": [
    "#### Step 2: Install additional dependencies"
   ]
  },
  {
   "cell_type": "code",
   "execution_count": 1,
   "id": "53dd8f08",
   "metadata": {},
   "outputs": [
    {
     "name": "stdout",
     "output_type": "stream",
     "text": [
      "Collecting open_clip_torch\n",
      "  Using cached open_clip_torch-2.32.0-py3-none-any.whl.metadata (31 kB)\n",
      "Requirement already satisfied: torch>=1.9.0 in ./env/lib/python3.9/site-packages (from open_clip_torch) (2.7.1)\n",
      "Requirement already satisfied: torchvision in ./env/lib/python3.9/site-packages (from open_clip_torch) (0.22.1)\n",
      "Requirement already satisfied: regex in ./env/lib/python3.9/site-packages (from open_clip_torch) (2024.11.6)\n",
      "Requirement already satisfied: ftfy in ./env/lib/python3.9/site-packages (from open_clip_torch) (6.3.1)\n",
      "Requirement already satisfied: tqdm in ./env/lib/python3.9/site-packages (from open_clip_torch) (4.67.1)\n",
      "Requirement already satisfied: huggingface-hub in ./env/lib/python3.9/site-packages (from open_clip_torch) (0.33.2)\n",
      "Collecting safetensors (from open_clip_torch)\n",
      "  Using cached safetensors-0.5.3-cp38-abi3-macosx_11_0_arm64.whl.metadata (3.8 kB)\n",
      "Collecting timm (from open_clip_torch)\n",
      "  Downloading timm-1.0.16-py3-none-any.whl.metadata (57 kB)\n",
      "Requirement already satisfied: filelock in ./env/lib/python3.9/site-packages (from torch>=1.9.0->open_clip_torch) (3.18.0)\n",
      "Requirement already satisfied: typing-extensions>=4.10.0 in ./env/lib/python3.9/site-packages (from torch>=1.9.0->open_clip_torch) (4.14.1)\n",
      "Requirement already satisfied: sympy>=1.13.3 in ./env/lib/python3.9/site-packages (from torch>=1.9.0->open_clip_torch) (1.14.0)\n",
      "Requirement already satisfied: networkx in ./env/lib/python3.9/site-packages (from torch>=1.9.0->open_clip_torch) (3.2.1)\n",
      "Requirement already satisfied: jinja2 in ./env/lib/python3.9/site-packages (from torch>=1.9.0->open_clip_torch) (3.1.6)\n",
      "Requirement already satisfied: fsspec in ./env/lib/python3.9/site-packages (from torch>=1.9.0->open_clip_torch) (2025.5.1)\n",
      "Requirement already satisfied: mpmath<1.4,>=1.1.0 in ./env/lib/python3.9/site-packages (from sympy>=1.13.3->torch>=1.9.0->open_clip_torch) (1.3.0)\n",
      "Requirement already satisfied: wcwidth in ./env/lib/python3.9/site-packages (from ftfy->open_clip_torch) (0.2.13)\n",
      "Requirement already satisfied: packaging>=20.9 in ./env/lib/python3.9/site-packages (from huggingface-hub->open_clip_torch) (25.0)\n",
      "Requirement already satisfied: pyyaml>=5.1 in ./env/lib/python3.9/site-packages (from huggingface-hub->open_clip_torch) (6.0.2)\n",
      "Requirement already satisfied: requests in ./env/lib/python3.9/site-packages (from huggingface-hub->open_clip_torch) (2.32.4)\n",
      "Requirement already satisfied: hf-xet<2.0.0,>=1.1.2 in ./env/lib/python3.9/site-packages (from huggingface-hub->open_clip_torch) (1.1.5)\n",
      "Requirement already satisfied: MarkupSafe>=2.0 in ./env/lib/python3.9/site-packages (from jinja2->torch>=1.9.0->open_clip_torch) (3.0.2)\n",
      "Requirement already satisfied: charset_normalizer<4,>=2 in ./env/lib/python3.9/site-packages (from requests->huggingface-hub->open_clip_torch) (3.4.2)\n",
      "Requirement already satisfied: idna<4,>=2.5 in ./env/lib/python3.9/site-packages (from requests->huggingface-hub->open_clip_torch) (3.10)\n",
      "Requirement already satisfied: urllib3<3,>=1.21.1 in ./env/lib/python3.9/site-packages (from requests->huggingface-hub->open_clip_torch) (1.26.20)\n",
      "Requirement already satisfied: certifi>=2017.4.17 in ./env/lib/python3.9/site-packages (from requests->huggingface-hub->open_clip_torch) (2025.6.15)\n",
      "Requirement already satisfied: numpy in ./env/lib/python3.9/site-packages (from torchvision->open_clip_torch) (2.0.2)\n",
      "Requirement already satisfied: pillow!=8.3.*,>=5.3.0 in ./env/lib/python3.9/site-packages (from torchvision->open_clip_torch) (11.3.0)\n",
      "Using cached open_clip_torch-2.32.0-py3-none-any.whl (1.5 MB)\n",
      "Using cached safetensors-0.5.3-cp38-abi3-macosx_11_0_arm64.whl (418 kB)\n",
      "Downloading timm-1.0.16-py3-none-any.whl (2.5 MB)\n",
      "\u001b[2K   \u001b[90m━━━━━━━━━━━━━━━━━━━━━━━━━━━━━━━━━━━━━━━━\u001b[0m \u001b[32m2.5/2.5 MB\u001b[0m \u001b[31m4.0 MB/s\u001b[0m eta \u001b[36m0:00:00\u001b[0ma \u001b[36m0:00:01\u001b[0m\n",
      "\u001b[?25hInstalling collected packages: safetensors, timm, open_clip_torch\n",
      "\u001b[2K   \u001b[90m━━━━━━━━━━━━━━━━━━━━━━━━━━━━━━━━━━━━━━━━\u001b[0m \u001b[32m3/3\u001b[0m [open_clip_torch] [timm]\n",
      "\u001b[1A\u001b[2KSuccessfully installed open_clip_torch-2.32.0 safetensors-0.5.3 timm-1.0.16\n"
     ]
    }
   ],
   "source": [
    "!pip install open_clip_torch"
   ]
  },
  {
   "cell_type": "markdown",
   "id": "a19cda87",
   "metadata": {},
   "source": [
    "#### Step 3: Run the SpLiCE decomposition operator\n"
   ]
  },
  {
   "cell_type": "code",
   "execution_count": 3,
   "id": "dac0d666",
   "metadata": {},
   "outputs": [
    {
     "name": "stdout",
     "output_type": "stream",
     "text": [
      "Dataset already downloaded\n",
      "Loading 'quickstart'\n",
      " 100% |█████████████████| 100/100 [1.3s elapsed, 0s remaining, 75.4 samples/s]          \n",
      "Dataset 'decompose_results' created\n"
     ]
    },
    {
     "data": {
      "text/plain": [
       "<Task pending name='Task-7' coro=<execute_or_delegate_operator() running at /Users/adonaivera/Documents/fiftyone-researcher-playground/env/lib/python3.9/site-packages/fiftyone/operators/decorators.py:22>>"
      ]
     },
     "execution_count": 3,
     "metadata": {},
     "output_type": "execute_result"
    }
   ],
   "source": [
    "# Load your dataset\n",
    "dataset = foz.load_zoo_dataset(\"quickstart\", dataset_name=\"decompose_results\", max_samples=100)\n",
    "\n",
    "# Run the SpLiCE decomposition\n",
    "foo.execute_operator(\n",
    "    \"@adonaivera/fiftyone-sparse-concepts/decompose_core_concepts\",\n",
    "    dataset=dataset,\n",
    "    view=dataset.view(),\n",
    "    params={\n",
    "        \"model\": \"open_clip:ViT-B-32\",\n",
    "        \"vocabulary\": \"laion\",\n",
    "        \"vocab_size\": 10000,\n",
    "        \"l1_penalty\": 0.25,\n",
    "        \"top_k\": 10,\n",
    "        \"batch_size\": 32,\n",
    "        \"return_cosine\": True,     \n",
    "        \"save_l0_norm\": True,       \n",
    "        \"label_field\": \"concepts\",  \n",
    "    },\n",
    ")\n"
   ]
  },
  {
   "cell_type": "markdown",
   "id": "0b65c087",
   "metadata": {},
   "source": [
    "#### **Tips for exploration:**\n",
    "- Use the panel navigation to switch between dataset, class, and image-level views.\n",
    "- Filter your dataset to analyze specific subsets or classes.\n",
    "- Use the spurious correlation discovery page to identify potential dataset biases.\n",
    "\n",
    "For more details and advanced usage, see the [fiftyone-sparse-concepts](https://github.com/AdonaiVera/fiftyone-sparse-concepts)."
   ]
  },
  {
   "cell_type": "markdown",
   "id": "406c347f",
   "metadata": {},
   "source": [
    "### 🌍 FiftyOne VLM Efficient\n",
    "#### Step 1: Download and install the plugin"
   ]
  },
  {
   "cell_type": "code",
   "execution_count": 41,
   "id": "1267cc1e",
   "metadata": {},
   "outputs": [
    {
     "name": "stdout",
     "output_type": "stream",
     "text": [
      "Downloading AdonaiVera/fiftyone-vlm-efficient...\n",
      "   92.4Kb [697.2us elapsed, ? remaining, 167.7Mb/s] \n",
      "Skipping existing plugin '@adonaivera/fiftyone-vlm-efficient'\n"
     ]
    }
   ],
   "source": [
    "!fiftyone plugins download https://github.com/AdonaiVera/fiftyone-vlm-efficient"
   ]
  },
  {
   "cell_type": "markdown",
   "id": "599d0934",
   "metadata": {},
   "source": [
    "#### Step 2: Install additional dependencies"
   ]
  },
  {
   "cell_type": "code",
   "execution_count": 50,
   "id": "b8cf76e0",
   "metadata": {},
   "outputs": [
    {
     "name": "stdout",
     "output_type": "stream",
     "text": [
      "Requirement already satisfied: sentence-transformers in ./env/lib/python3.9/site-packages (5.0.0)\n",
      "Requirement already satisfied: transformers<5.0.0,>=4.41.0 in ./env/lib/python3.9/site-packages (from sentence-transformers) (4.53.1)\n",
      "Requirement already satisfied: tqdm in ./env/lib/python3.9/site-packages (from sentence-transformers) (4.67.1)\n",
      "Requirement already satisfied: torch>=1.11.0 in ./env/lib/python3.9/site-packages (from sentence-transformers) (2.7.1)\n",
      "Requirement already satisfied: scikit-learn in ./env/lib/python3.9/site-packages (from sentence-transformers) (1.6.1)\n",
      "Requirement already satisfied: scipy in ./env/lib/python3.9/site-packages (from sentence-transformers) (1.13.1)\n",
      "Requirement already satisfied: huggingface-hub>=0.20.0 in ./env/lib/python3.9/site-packages (from sentence-transformers) (0.33.2)\n",
      "Requirement already satisfied: Pillow in ./env/lib/python3.9/site-packages (from sentence-transformers) (11.3.0)\n",
      "Requirement already satisfied: typing_extensions>=4.5.0 in ./env/lib/python3.9/site-packages (from sentence-transformers) (4.14.1)\n",
      "Requirement already satisfied: filelock in ./env/lib/python3.9/site-packages (from transformers<5.0.0,>=4.41.0->sentence-transformers) (3.18.0)\n",
      "Requirement already satisfied: numpy>=1.17 in ./env/lib/python3.9/site-packages (from transformers<5.0.0,>=4.41.0->sentence-transformers) (2.0.2)\n",
      "Requirement already satisfied: packaging>=20.0 in ./env/lib/python3.9/site-packages (from transformers<5.0.0,>=4.41.0->sentence-transformers) (25.0)\n",
      "Requirement already satisfied: pyyaml>=5.1 in ./env/lib/python3.9/site-packages (from transformers<5.0.0,>=4.41.0->sentence-transformers) (6.0.2)\n",
      "Requirement already satisfied: regex!=2019.12.17 in ./env/lib/python3.9/site-packages (from transformers<5.0.0,>=4.41.0->sentence-transformers) (2024.11.6)\n",
      "Requirement already satisfied: requests in ./env/lib/python3.9/site-packages (from transformers<5.0.0,>=4.41.0->sentence-transformers) (2.32.4)\n",
      "Requirement already satisfied: tokenizers<0.22,>=0.21 in ./env/lib/python3.9/site-packages (from transformers<5.0.0,>=4.41.0->sentence-transformers) (0.21.2)\n",
      "Requirement already satisfied: safetensors>=0.4.3 in ./env/lib/python3.9/site-packages (from transformers<5.0.0,>=4.41.0->sentence-transformers) (0.5.3)\n",
      "Requirement already satisfied: fsspec>=2023.5.0 in ./env/lib/python3.9/site-packages (from huggingface-hub>=0.20.0->sentence-transformers) (2025.5.1)\n",
      "Requirement already satisfied: hf-xet<2.0.0,>=1.1.2 in ./env/lib/python3.9/site-packages (from huggingface-hub>=0.20.0->sentence-transformers) (1.1.5)\n",
      "Requirement already satisfied: sympy>=1.13.3 in ./env/lib/python3.9/site-packages (from torch>=1.11.0->sentence-transformers) (1.14.0)\n",
      "Requirement already satisfied: networkx in ./env/lib/python3.9/site-packages (from torch>=1.11.0->sentence-transformers) (3.2.1)\n",
      "Requirement already satisfied: jinja2 in ./env/lib/python3.9/site-packages (from torch>=1.11.0->sentence-transformers) (3.1.6)\n",
      "Requirement already satisfied: mpmath<1.4,>=1.1.0 in ./env/lib/python3.9/site-packages (from sympy>=1.13.3->torch>=1.11.0->sentence-transformers) (1.3.0)\n",
      "Requirement already satisfied: MarkupSafe>=2.0 in ./env/lib/python3.9/site-packages (from jinja2->torch>=1.11.0->sentence-transformers) (3.0.2)\n",
      "Requirement already satisfied: charset_normalizer<4,>=2 in ./env/lib/python3.9/site-packages (from requests->transformers<5.0.0,>=4.41.0->sentence-transformers) (3.4.2)\n",
      "Requirement already satisfied: idna<4,>=2.5 in ./env/lib/python3.9/site-packages (from requests->transformers<5.0.0,>=4.41.0->sentence-transformers) (3.10)\n",
      "Requirement already satisfied: urllib3<3,>=1.21.1 in ./env/lib/python3.9/site-packages (from requests->transformers<5.0.0,>=4.41.0->sentence-transformers) (1.26.20)\n",
      "Requirement already satisfied: certifi>=2017.4.17 in ./env/lib/python3.9/site-packages (from requests->transformers<5.0.0,>=4.41.0->sentence-transformers) (2025.6.15)\n",
      "Requirement already satisfied: joblib>=1.2.0 in ./env/lib/python3.9/site-packages (from scikit-learn->sentence-transformers) (1.5.1)\n",
      "Requirement already satisfied: threadpoolctl>=3.1.0 in ./env/lib/python3.9/site-packages (from scikit-learn->sentence-transformers) (3.6.0)\n",
      "Collecting git+https://github.com/openai/CLIP.git\n",
      "  Cloning https://github.com/openai/CLIP.git to /private/var/folders/fq/c261v2r128j591b9scl172q40000gn/T/pip-req-build-2qvpnllp\n",
      "  Running command git clone --filter=blob:none --quiet https://github.com/openai/CLIP.git /private/var/folders/fq/c261v2r128j591b9scl172q40000gn/T/pip-req-build-2qvpnllp\n",
      "  Resolved https://github.com/openai/CLIP.git to commit dcba3cb2e2827b402d2701e7e1c7d9fed8a20ef1\n",
      "  Preparing metadata (setup.py) ... \u001b[?25ldone\n",
      "\u001b[?25hRequirement already satisfied: ftfy in ./env/lib/python3.9/site-packages (from clip==1.0) (6.3.1)\n",
      "Requirement already satisfied: packaging in ./env/lib/python3.9/site-packages (from clip==1.0) (25.0)\n",
      "Requirement already satisfied: regex in ./env/lib/python3.9/site-packages (from clip==1.0) (2024.11.6)\n",
      "Requirement already satisfied: tqdm in ./env/lib/python3.9/site-packages (from clip==1.0) (4.67.1)\n",
      "Requirement already satisfied: torch in ./env/lib/python3.9/site-packages (from clip==1.0) (2.7.1)\n",
      "Requirement already satisfied: torchvision in ./env/lib/python3.9/site-packages (from clip==1.0) (0.22.1)\n",
      "Requirement already satisfied: wcwidth in ./env/lib/python3.9/site-packages (from ftfy->clip==1.0) (0.2.13)\n",
      "Requirement already satisfied: filelock in ./env/lib/python3.9/site-packages (from torch->clip==1.0) (3.18.0)\n",
      "Requirement already satisfied: typing-extensions>=4.10.0 in ./env/lib/python3.9/site-packages (from torch->clip==1.0) (4.14.1)\n",
      "Requirement already satisfied: sympy>=1.13.3 in ./env/lib/python3.9/site-packages (from torch->clip==1.0) (1.14.0)\n",
      "Requirement already satisfied: networkx in ./env/lib/python3.9/site-packages (from torch->clip==1.0) (3.2.1)\n",
      "Requirement already satisfied: jinja2 in ./env/lib/python3.9/site-packages (from torch->clip==1.0) (3.1.6)\n",
      "Requirement already satisfied: fsspec in ./env/lib/python3.9/site-packages (from torch->clip==1.0) (2025.5.1)\n",
      "Requirement already satisfied: mpmath<1.4,>=1.1.0 in ./env/lib/python3.9/site-packages (from sympy>=1.13.3->torch->clip==1.0) (1.3.0)\n",
      "Requirement already satisfied: MarkupSafe>=2.0 in ./env/lib/python3.9/site-packages (from jinja2->torch->clip==1.0) (3.0.2)\n",
      "Requirement already satisfied: numpy in ./env/lib/python3.9/site-packages (from torchvision->clip==1.0) (2.0.2)\n",
      "Requirement already satisfied: pillow!=8.3.*,>=5.3.0 in ./env/lib/python3.9/site-packages (from torchvision->clip==1.0) (11.3.0)\n",
      "Building wheels for collected packages: clip\n",
      "\u001b[33m  DEPRECATION: Building 'clip' using the legacy setup.py bdist_wheel mechanism, which will be removed in a future version. pip 25.3 will enforce this behaviour change. A possible replacement is to use the standardized build interface by setting the `--use-pep517` option, (possibly combined with `--no-build-isolation`), or adding a `pyproject.toml` file to the source tree of 'clip'. Discussion can be found at https://github.com/pypa/pip/issues/6334\u001b[0m\u001b[33m\n",
      "\u001b[0m  Building wheel for clip (setup.py) ... \u001b[?25ldone\n",
      "\u001b[?25h  Created wheel for clip: filename=clip-1.0-py3-none-any.whl size=1369549 sha256=cc631e6cc0bb813859ab1484036612cca2cfac74436cc9b47a1a96b1c1062c73\n",
      "  Stored in directory: /private/var/folders/fq/c261v2r128j591b9scl172q40000gn/T/pip-ephem-wheel-cache-lo_6kiaa/wheels/c8/e4/e1/11374c111387672fc2068dfbe0d4b424cb9cdd1b2e184a71b5\n",
      "Successfully built clip\n",
      "Installing collected packages: clip\n",
      "Successfully installed clip-1.0\n"
     ]
    }
   ],
   "source": [
    "!pip install sentence-transformers\n",
    "!pip install git+https://github.com/openai/CLIP.git"
   ]
  },
  {
   "cell_type": "markdown",
   "id": "2f12abea",
   "metadata": {},
   "source": [
    "#### Step 3: Run the VLM efficient\n"
   ]
  },
  {
   "cell_type": "code",
   "execution_count": null,
   "id": "e576532d",
   "metadata": {},
   "outputs": [
    {
     "name": "stdout",
     "output_type": "stream",
     "text": [
      "Loading parquet files dataset\n",
      "Downloading 10 images from laion/220k-GPT4Vision-captions-from-LIVIS (train, default)...\n",
      " 100% |███████████████████| 10/10 [1.3s elapsed, 0s remaining, 7.6 samples/s] \n"
     ]
    },
    {
     "data": {
      "text/html": [
       "\n",
       "        <iframe\n",
       "            width=\"100%\"\n",
       "            height=\"800\"\n",
       "            src=\"http://localhost:5152/?notebook=True&subscription=dda62c6c-9447-41e5-8024-a1236fd93e96\"\n",
       "            frameborder=\"0\"\n",
       "            allowfullscreen\n",
       "            \n",
       "        ></iframe>\n",
       "        "
      ],
      "text/plain": [
       "<IPython.lib.display.IFrame at 0x337fac2b0>"
      ]
     },
     "metadata": {},
     "output_type": "display_data"
    },
    {
     "name": "stdout",
     "output_type": "stream",
     "text": [
      "\n",
      "Could not connect session, trying again in 10 seconds\n",
      "\n",
      "\n",
      "Could not connect session, trying again in 10 seconds\n",
      "\n",
      "\n",
      "Could not connect session, trying again in 10 seconds\n",
      "\n",
      "\n",
      "Could not connect session, trying again in 10 seconds\n",
      "\n",
      "   0% ||------------------|  0/10 [26.6ms elapsed, ? remaining, ? samples/s] "
     ]
    },
    {
     "name": "stderr",
     "output_type": "stream",
     "text": [
      "Subprocess ['/Users/adonaivera/Documents/fiftyone-researcher-playground/env/bin/python', 'main.py', '--port', '5152', '--address', 'localhost'] exited with error -9:\n",
      "new behaviour, set `legacy=False`. This should only be set if you understand what it means, and thoroughly read the reason why this was added as explained in https://github.com/huggingface/transformers/pull/24565 - if you loaded a llama tokenizer from a GGUF file you can ignore this message.\n",
      "[2025-07-13 21:01:35 -0400] [55864] [INFO] Running on http://127.0.0.1:5152 (CTRL + C to quit)\n",
      "/Users/adonaivera/Documents/fiftyone-researcher-playground/env/lib/python3.9/site-packages/transformers/models/auto/image_processing_auto.py:625: FutureWarning: The image_processor_class argument is deprecated and will be removed in v4.42. Please use `slow_image_processor_class`, or `fast_image_processor_class` instead\n",
      "  warnings.warn(\n",
      "Using a slow image processor as `use_fast` is unset and a slow processor was saved with this model. `use_fast=True` will be the default behavior in v4.52, even if the model was saved with a slow processor. This will result in minor differences in outputs. You'll still be able to use a slow processor with `use_fast=False`.\n",
      "You are using the default legacy behaviour of the <class 'transformers.models.llama.tokenization_llama_fast.LlamaTokenizerFast'>. This is expected, and simply means that the `legacy` (previous) behavior will be used so nothing changes for you. If you want to use the "
     ]
    },
    {
     "name": "stdout",
     "output_type": "stream",
     "text": [
      "\n",
      "Could not connect session, trying again in 10 seconds\n",
      "\n",
      "\n",
      "Could not connect session, trying again in 10 seconds\n",
      "\n",
      "\n",
      "Could not connect session, trying again in 10 seconds\n",
      "\n",
      "\n",
      "Could not connect session, trying again in 10 seconds\n",
      "\n",
      "\n",
      "Could not connect session, trying again in 10 seconds\n",
      "\n"
     ]
    }
   ],
   "source": [
    "from fiftyone.utils.huggingface import load_from_hub\n",
    "\n",
    "# Load the dataset from the Hugging Face Hub\n",
    "dataset_gpt4 = load_from_hub(\n",
    "    \"laion/220k-GPT4Vision-captions-from-LIVIS\",\n",
    "    format=\"parquet\",\n",
    "    filepath=\"url\",\n",
    "    max_samples=10, \n",
    "    overwrite=True,\n",
    ")\n",
    "\n",
    "# Launch the FiftyOne app for visualization\n",
    "session = fo.launch_app(dataset_gpt4, port=5152)"
   ]
  },
  {
   "cell_type": "markdown",
   "id": "975b2c2e",
   "metadata": {},
   "source": [
    "#### **Tips for exploration:**\n",
    "\n",
    "* Use the **concept-based panel** to inspect visual-language model predictions interactively.\n",
    "* Filter samples by **similarity score thresholds** to focus on highly confident matches.\n",
    "* Switch between **image-level and dataset-level views** to explore patterns across the collection.\n",
    "* Leverage the **token-based comparison view** to analyze how concepts align with model outputs.\n",
    "* Use the **embedding visualization** to discover clusters and outliers in your dataset.\n",
    "\n",
    "For more details and advanced usage, see the [fiftyone-vlm-efficient](https://github.com/AdonaiVera/fiftyone-vlm-efficient) repository.\n"
   ]
  },
  {
   "cell_type": "markdown",
   "id": "9e617129",
   "metadata": {},
   "source": [
    "### 🐋 Janus Pro VQA Plugin\n",
    "\n",
    "#### Step 1: Download and install the plugin"
   ]
  },
  {
   "cell_type": "code",
   "execution_count": 51,
   "id": "56dfd37e",
   "metadata": {},
   "outputs": [
    {
     "name": "stdout",
     "output_type": "stream",
     "text": [
      "Downloading harpreetsahota204/janus-vqa-fiftyone...\n",
      "    6.6Mb [209.0ms elapsed, ? remaining, 31.6Mb/s]  \n",
      "Copying plugin '@harpreetsahota/janus_vqa' to '/Users/adonaivera/fiftyone/__plugins__/@harpreetsahota/janus_vqa'\n"
     ]
    }
   ],
   "source": [
    "!fiftyone plugins download https://github.com/harpreetsahota204/janus-vqa-fiftyone"
   ]
  },
  {
   "cell_type": "markdown",
   "id": "caa18148",
   "metadata": {},
   "source": [
    "#### Step 2: Install additional dependencies"
   ]
  },
  {
   "cell_type": "code",
   "execution_count": 54,
   "id": "869f87d1",
   "metadata": {},
   "outputs": [
    {
     "name": "stdout",
     "output_type": "stream",
     "text": [
      "Collecting git+https://github.com/deepseek-ai/Janus.git\n",
      "  Cloning https://github.com/deepseek-ai/Janus.git to /private/var/folders/fq/c261v2r128j591b9scl172q40000gn/T/pip-req-build-o9x1yo_0\n",
      "  Running command git clone --filter=blob:none --quiet https://github.com/deepseek-ai/Janus.git /private/var/folders/fq/c261v2r128j591b9scl172q40000gn/T/pip-req-build-o9x1yo_0\n",
      "  Resolved https://github.com/deepseek-ai/Janus.git to commit 1daa72fa409002d40931bd7b36a9280362469ead\n",
      "  Installing build dependencies ... \u001b[?25ldone\n",
      "\u001b[?25h  Getting requirements to build wheel ... \u001b[?25ldone\n",
      "\u001b[?25h  Preparing metadata (pyproject.toml) ... \u001b[?25ldone\n",
      "\u001b[?25hRequirement already satisfied: torch>=2.0.1 in ./env/lib/python3.9/site-packages (from janus==1.0.0) (2.7.1)\n",
      "Requirement already satisfied: transformers>=4.38.2 in ./env/lib/python3.9/site-packages (from janus==1.0.0) (4.53.1)\n",
      "Requirement already satisfied: timm>=0.9.16 in ./env/lib/python3.9/site-packages (from janus==1.0.0) (1.0.16)\n",
      "Collecting accelerate (from janus==1.0.0)\n",
      "  Downloading accelerate-1.8.1-py3-none-any.whl.metadata (19 kB)\n",
      "Collecting sentencepiece (from janus==1.0.0)\n",
      "  Using cached sentencepiece-0.2.0-cp39-cp39-macosx_11_0_arm64.whl.metadata (7.7 kB)\n",
      "Collecting attrdict (from janus==1.0.0)\n",
      "  Downloading attrdict-2.0.1-py2.py3-none-any.whl.metadata (6.7 kB)\n",
      "Requirement already satisfied: einops in ./env/lib/python3.9/site-packages (from janus==1.0.0) (0.3.2)\n",
      "Requirement already satisfied: torchvision in ./env/lib/python3.9/site-packages (from timm>=0.9.16->janus==1.0.0) (0.22.1)\n",
      "Requirement already satisfied: pyyaml in ./env/lib/python3.9/site-packages (from timm>=0.9.16->janus==1.0.0) (6.0.2)\n",
      "Requirement already satisfied: huggingface_hub in ./env/lib/python3.9/site-packages (from timm>=0.9.16->janus==1.0.0) (0.33.2)\n",
      "Requirement already satisfied: safetensors in ./env/lib/python3.9/site-packages (from timm>=0.9.16->janus==1.0.0) (0.5.3)\n",
      "Requirement already satisfied: filelock in ./env/lib/python3.9/site-packages (from torch>=2.0.1->janus==1.0.0) (3.18.0)\n",
      "Requirement already satisfied: typing-extensions>=4.10.0 in ./env/lib/python3.9/site-packages (from torch>=2.0.1->janus==1.0.0) (4.14.1)\n",
      "Requirement already satisfied: sympy>=1.13.3 in ./env/lib/python3.9/site-packages (from torch>=2.0.1->janus==1.0.0) (1.14.0)\n",
      "Requirement already satisfied: networkx in ./env/lib/python3.9/site-packages (from torch>=2.0.1->janus==1.0.0) (3.2.1)\n",
      "Requirement already satisfied: jinja2 in ./env/lib/python3.9/site-packages (from torch>=2.0.1->janus==1.0.0) (3.1.6)\n",
      "Requirement already satisfied: fsspec in ./env/lib/python3.9/site-packages (from torch>=2.0.1->janus==1.0.0) (2025.5.1)\n",
      "Requirement already satisfied: mpmath<1.4,>=1.1.0 in ./env/lib/python3.9/site-packages (from sympy>=1.13.3->torch>=2.0.1->janus==1.0.0) (1.3.0)\n",
      "Requirement already satisfied: numpy>=1.17 in ./env/lib/python3.9/site-packages (from transformers>=4.38.2->janus==1.0.0) (2.0.2)\n",
      "Requirement already satisfied: packaging>=20.0 in ./env/lib/python3.9/site-packages (from transformers>=4.38.2->janus==1.0.0) (25.0)\n",
      "Requirement already satisfied: regex!=2019.12.17 in ./env/lib/python3.9/site-packages (from transformers>=4.38.2->janus==1.0.0) (2024.11.6)\n",
      "Requirement already satisfied: requests in ./env/lib/python3.9/site-packages (from transformers>=4.38.2->janus==1.0.0) (2.32.4)\n",
      "Requirement already satisfied: tokenizers<0.22,>=0.21 in ./env/lib/python3.9/site-packages (from transformers>=4.38.2->janus==1.0.0) (0.21.2)\n",
      "Requirement already satisfied: tqdm>=4.27 in ./env/lib/python3.9/site-packages (from transformers>=4.38.2->janus==1.0.0) (4.67.1)\n",
      "Requirement already satisfied: hf-xet<2.0.0,>=1.1.2 in ./env/lib/python3.9/site-packages (from huggingface_hub->timm>=0.9.16->janus==1.0.0) (1.1.5)\n",
      "Requirement already satisfied: psutil in ./env/lib/python3.9/site-packages (from accelerate->janus==1.0.0) (7.0.0)\n",
      "Requirement already satisfied: six in ./env/lib/python3.9/site-packages (from attrdict->janus==1.0.0) (1.17.0)\n",
      "Requirement already satisfied: MarkupSafe>=2.0 in ./env/lib/python3.9/site-packages (from jinja2->torch>=2.0.1->janus==1.0.0) (3.0.2)\n",
      "Requirement already satisfied: charset_normalizer<4,>=2 in ./env/lib/python3.9/site-packages (from requests->transformers>=4.38.2->janus==1.0.0) (3.4.2)\n",
      "Requirement already satisfied: idna<4,>=2.5 in ./env/lib/python3.9/site-packages (from requests->transformers>=4.38.2->janus==1.0.0) (3.10)\n",
      "Requirement already satisfied: urllib3<3,>=1.21.1 in ./env/lib/python3.9/site-packages (from requests->transformers>=4.38.2->janus==1.0.0) (1.26.20)\n",
      "Requirement already satisfied: certifi>=2017.4.17 in ./env/lib/python3.9/site-packages (from requests->transformers>=4.38.2->janus==1.0.0) (2025.6.15)\n",
      "Requirement already satisfied: pillow!=8.3.*,>=5.3.0 in ./env/lib/python3.9/site-packages (from torchvision->timm>=0.9.16->janus==1.0.0) (11.3.0)\n",
      "Downloading accelerate-1.8.1-py3-none-any.whl (365 kB)\n",
      "Downloading attrdict-2.0.1-py2.py3-none-any.whl (9.9 kB)\n",
      "Using cached sentencepiece-0.2.0-cp39-cp39-macosx_11_0_arm64.whl (1.2 MB)\n",
      "Building wheels for collected packages: janus\n",
      "  Building wheel for janus (pyproject.toml) ... \u001b[?25ldone\n",
      "\u001b[?25h  Created wheel for janus: filename=janus-1.0.0-py3-none-any.whl size=85559 sha256=b1194a34a60e701e0e16350030d86b8e2d51788d6b75432c3d0d8f16b68c9172\n",
      "  Stored in directory: /private/var/folders/fq/c261v2r128j591b9scl172q40000gn/T/pip-ephem-wheel-cache-gl1csjdf/wheels/9e/45/ed/e2501741f236af7f13a5856adbea69e7d349982ed447a6012c\n",
      "Successfully built janus\n",
      "Installing collected packages: sentencepiece, attrdict, accelerate, janus\n",
      "\u001b[2K   \u001b[90m━━━━━━━━━━━━━━━━━━━━━━━━━━━━━━━━━━━━━━━━\u001b[0m \u001b[32m4/4\u001b[0m [janus]32m3/4\u001b[0m [janus]\n",
      "\u001b[1A\u001b[2KSuccessfully installed accelerate-1.8.1 attrdict-2.0.1 janus-1.0.0 sentencepiece-0.2.0\n"
     ]
    }
   ],
   "source": [
    "!pip install git+https://github.com/deepseek-ai/Janus.git"
   ]
  },
  {
   "cell_type": "markdown",
   "id": "5e628238",
   "metadata": {},
   "source": [
    "#### ⚠️ Note: Running this step on macOS may take longer than on Linux. For best performance, we recommend using a Linux environment.\n"
   ]
  },
  {
   "cell_type": "code",
   "execution_count": null,
   "id": "09a55c6f",
   "metadata": {},
   "outputs": [],
   "source": [
    "janus_vqa = foo.get_operator(\"@harpreetsahota/janus_vqa/janus_vqa\")\n",
    "\n",
    "await janus_vqa(\n",
    "    dataset_gpt4,\n",
    "    model_path=\"deepseek-ai/Janus-Pro-1B\",\n",
    "    question=\"Write a funny song about this image\",\n",
    "    question_field=\"song_task\",\n",
    "    answer_field=\"song_answer_gpt4\",\n",
    "    delegate=False\n",
    ")"
   ]
  },
  {
   "cell_type": "markdown",
   "id": "68ec4644",
   "metadata": {},
   "source": [
    "#### **Tips for exploration:**\n",
    "\n",
    "* Use the **question-answer panel** to review visual question answering results alongside ground truth answers.\n",
    "* Filter samples by **answer confidence** to focus on high-certainty predictions or investigate low-confidence cases.\n",
    "* Switch between **image-level and dataset-level views** to spot trends or recurring failure modes.\n",
    "* Leverage the **error analysis tools** to compare predicted answers against true labels and quickly surface mismatches.\n",
    "* Use **question-type filtering** to analyze model performance on different categories (e.g., counting, object identification, spatial relations).\n",
    "\n",
    "For more details and advanced usage, see the [janus-vqa-fiftyone](https://github.com/harpreetsahota204/janus-vqa-fiftyone) repository.\n"
   ]
  },
  {
   "cell_type": "markdown",
   "metadata": {},
   "source": [
    "## ✅ Conclusion\n",
    "\n",
    "You now have a comprehensive workflow that demonstrates:\n",
    "\n",
    "### 📊 **Dataset Loading & Management**\n",
    "- **MVTec AD Anomaly Dataset**: Successfully loaded 5,354 samples with persistent storage\n",
    "- **COCO-2017 Validation**: Loaded 50 samples for object detection evaluation\n",
    "- **Video & Point Cloud Data**: Demonstrated multi-modal dataset capabilities\n",
    "- **Hugging Face Integration**: Loaded GPT4Vision captions dataset with 10 samples\n",
    "\n",
    "### 🎯 **Model Performance & Evaluation**\n",
    "- **Faster R-CNN**: Achieved 67.5% precision, 74.3% recall, 70.7% F1-score\n",
    "- **RT-DETR**: Achieved 59.1% precision, 85.9% recall, 70.0% F1-score  \n",
    "- **YOLOv11n**: Achieved 75.9% precision, 51.3% recall, 61.2% F1-score\n",
    "- **Mean Average Precision (mAP)**: 0.425 for Faster R-CNN on COCO validation\n",
    "- **Per-Class Analysis**: Detailed evaluation across 80 COCO classes\n",
    "\n",
    "### 🔍 **Advanced Visualization & Analysis**\n",
    "- **UMAP Embeddings**: Generated 2D visualizations using CLIP ViT-B-32 model\n",
    "- **Interactive Web Interface**: Launched on port 5152 for real-time exploration\n",
    "- **Dimensionality Reduction**: Processed 5,354 samples with 500 UMAP epochs\n",
    "\n",
    "### 🧩 **Plugin Integration & Research Tools**\n",
    "- **SpLiCE Decomposition**: Applied sparse concept analysis with OpenCLIP ViT-B-32\n",
    "- **VLM Efficiency**: Integrated visual-language model validation tools\n",
    "- **Janus Pro VQA**: Set up visual question answering with DeepSeek Janus-Pro-1B\n",
    "- **Evaluation Plugin**: Comprehensive model comparison and ablation studies\n",
    "\n",
    "### 📈 **Research-Ready Outputs**\n",
    "- **LaTeX Table Generation**: Automated formatting for publication-ready results\n",
    "- **Statistical Metrics**: Precision-recall curves and classification reports\n",
    "- **Model Comparison**: Systematic ablation study across multiple architectures\n",
    "- **Reproducible Workflows**: Version-controlled datasets and model configurations\n",
    "\n",
    "🎓 *Built for researchers who want transparency, reproducibility, and flexibility.*"
   ]
  },
  {
   "cell_type": "markdown",
   "id": "31788c5e",
   "metadata": {},
   "source": []
  }
 ],
 "metadata": {
  "kernelspec": {
   "display_name": "env",
   "language": "python",
   "name": "python3"
  },
  "language_info": {
   "codemirror_mode": {
    "name": "ipython",
    "version": 3
   },
   "file_extension": ".py",
   "mimetype": "text/x-python",
   "name": "python",
   "nbconvert_exporter": "python",
   "pygments_lexer": "ipython3",
   "version": "3.9.20"
  }
 },
 "nbformat": 4,
 "nbformat_minor": 5
}
